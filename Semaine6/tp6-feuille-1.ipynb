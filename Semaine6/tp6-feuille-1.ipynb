{
 "cells": [
  {
   "cell_type": "markdown",
   "metadata": {
    "deletable": false,
    "editable": false,
    "nbgrader": {
     "checksum": "6e5dbc477447644f93416cba679263ec",
     "grade": false,
     "grade_id": "cell-bf82401e988f816e",
     "locked": true,
     "schema_version": 1,
     "solution": false
    }
   },
   "source": [
    "Avant de terminer cette feuille, assurez-vous que tout fonctionne comme voulu. Tout d'abord, **redémarrez le noyau** (dans le menu, sélectionner `Kernel -> Restart`) puis **exécutez toutes les cellules** (dans le menu, sélectionner `Cell -> Run All`).\n",
    "\n",
    "Vérifiez que vous avez édité la cellule ci-dessous, ainsi que toutes les cellules marquées avec `VOTRE CODE ICI` ou `VOTRE RÉPONSE ICI`."
   ]
  },
  {
   "cell_type": "markdown",
   "metadata": {},
   "source": [
    "- Nom: \n",
    "- Prénom: \n",
    "- Groupe: "
   ]
  },
  {
   "cell_type": "markdown",
   "metadata": {
    "deletable": false,
    "editable": false,
    "nbgrader": {
     "checksum": "7d4574911b525c2cdf71c587fa14ecc4",
     "grade": false,
     "grade_id": "cell-8debedfea96381b5",
     "locked": true,
     "schema_version": 1,
     "solution": false
    }
   },
   "source": [
    "# Jeu de Yams"
   ]
  },
  {
   "cell_type": "markdown",
   "metadata": {
    "deletable": false,
    "editable": false,
    "nbgrader": {
     "checksum": "4574e560114a49de27f5914a06e18608",
     "grade": false,
     "grade_id": "cell-6c2c32f5e76ffb43",
     "locked": true,
     "schema_version": 1,
     "solution": false
    }
   },
   "source": [
    "### Rappels d'utilisation des tableaux:"
   ]
  },
  {
   "cell_type": "markdown",
   "metadata": {
    "deletable": false,
    "editable": false,
    "nbgrader": {
     "checksum": "4e60aaf056f0ae5c4f76d6cc20cf1b9c",
     "grade": false,
     "grade_id": "cell-48383f81da895a3a",
     "locked": true,
     "schema_version": 1,
     "solution": false
    }
   },
   "source": [
    "- **Déclarer** un tableau d'entiers tab : \n",
    "```c++\n",
    "vector<int> tab;\n",
    "```\n",
    "- **Allouer** 5 cases au tableau tab : \n",
    "```c++\n",
    "tab = vector<int>(5);\n",
    "```\n",
    "- **Initialiser** ses cases :\n",
    "```c++\n",
    "tab[0] = 42; tab[1] = 3; ... ; tab[4] = 36;\n",
    "```\n",
    "\n",
    "- **Déclarer**, **allouer** et **initialiser** en une seule instruction :\n",
    "```c++\n",
    "vector<int> tab = {1,2,3,4};\n",
    "```\n",
    "\n",
    "- Il est également possible de construire un tableau sans lui donner de nom pour le passer à une fonction de la manière suivante :\n",
    "```c++\n",
    "maFonction({1,2,3,42});\n",
    "```"
   ]
  },
  {
   "cell_type": "code",
   "execution_count": null,
   "metadata": {
    "deletable": false,
    "editable": false,
    "nbgrader": {
     "checksum": "9d76f14e87b28586e4e151eb009aea7e",
     "grade": false,
     "grade_id": "cell-214aa5a1f7ccaa00",
     "locked": true,
     "schema_version": 1,
     "solution": false
    }
   },
   "outputs": [],
   "source": [
    "#include <iostream>\n",
    "#include <vector>\n",
    "#include <cstdlib>\n",
    "using namespace std;\n",
    "\n",
    "typedef vector<int> tableau;\n",
    "\n",
    "// Initialisation de la fonction rand (pour les nombres aléatoires) :\n",
    "srand(time(0));"
   ]
  },
  {
   "cell_type": "markdown",
   "metadata": {
    "deletable": false,
    "editable": false,
    "nbgrader": {
     "checksum": "d341f4214708cbeb0b56ca647da44d60",
     "grade": false,
     "grade_id": "cell-e8fa588409cbc545",
     "locked": true,
     "schema_version": 1,
     "solution": false
    }
   },
   "source": [
    "<span style=\"color:red\">Nous vous conseillons fortement de systématiquement relancer le kernel avec les commandes **Kernel > Restart** (and clear all si vous voulez faire le ménage) puis **Cell > Run all above** lorsque vous en avez besoin, car toutes les fonctions définies dans cette feuille seront utilisées à la fin.</span>\n",
    "#   \n",
    "## I. Reconnaitre les yams"
   ]
  },
  {
   "cell_type": "markdown",
   "metadata": {
    "deletable": false,
    "editable": false,
    "nbgrader": {
     "checksum": "09a50eac55004a1d3caa7c64a69e41be",
     "grade": false,
     "grade_id": "cell-b61f9d53913e9c53",
     "locked": true,
     "schema_version": 1,
     "solution": false
    }
   },
   "source": [
    "### `pointsFigureYams`\n",
    "Complétez la documentation de la fonction `pointsFigureYams` puis implémentez-la dans la case suivante. Pour rappel, la fonction `pointsFigureYams` doit vérifier si les cinq valeurs de dés fournies forment un Yams ou non. Si un Yams est trouvé on renvoie le score correspondant (somme des dés + 60) sinon 0.\n",
    "\n",
    "<span style=\"color:red\">Attention, pour éviter un bug de l'interpréteur C++ cling, ne pas d'utiliser d'apostrophes (') dans vos commentaires / documentations !</span>"
   ]
  },
  {
   "cell_type": "code",
   "execution_count": null,
   "metadata": {},
   "outputs": [],
   "source": [
    "/** Fonction pointsFigureYams\n",
    " * @param \n",
    " * @return \n",
    " **/"
   ]
  },
  {
   "cell_type": "code",
   "execution_count": null,
   "metadata": {
    "deletable": false,
    "nbgrader": {
     "checksum": "ef4d843348b29ce92dc055893497c537",
     "grade": false,
     "grade_id": "cell-e5c12aeafec7d057",
     "locked": false,
     "schema_version": 1,
     "solution": true
    }
   },
   "outputs": [],
   "source": [
    "// VOTRE CODE ICI"
   ]
  },
  {
   "cell_type": "markdown",
   "metadata": {
    "deletable": false,
    "editable": false,
    "nbgrader": {
     "checksum": "21c08a8e587647c2d8092ef04f70bcdd",
     "grade": false,
     "grade_id": "cell-d707ce6b51bc390f",
     "locked": true,
     "schema_version": 1,
     "solution": false
    }
   },
   "source": [
    "Complétez la cellule suivant avec aux moins 2 tests supplémentaires puis exécutez-là pour vérifier que votre fonction `pointsFigureYams` a bien le comportement attendu."
   ]
  },
  {
   "cell_type": "code",
   "execution_count": null,
   "metadata": {},
   "outputs": [],
   "source": [
    "ASSERT(pointsFigureYams({1,1,1,1,1}) == 65);\n",
    "ASSERT(pointsFigureYams({2,1,1,1,1}) == 0);\n",
    "\n"
   ]
  },
  {
   "cell_type": "markdown",
   "metadata": {
    "deletable": false,
    "editable": false,
    "nbgrader": {
     "checksum": "c969052c4313ca873ff7852c74059aa2",
     "grade": false,
     "grade_id": "cell-a6a573fb11d8cc17",
     "locked": true,
     "schema_version": 1,
     "solution": false
    }
   },
   "source": [
    "## I bis. Compilation et test en dehors de Jupyter\n",
    "\n",
    "- Ouvrez le fichier `yams.cpp` fourni dans l'archive Semaine6 avec un éditeur de texte tel que Gedit.\n",
    "- Copiez-collez votre fonction `pointsFigureYams` à un endroit adapté.\n",
    "- **Enregistrez** votre fichier `yams.cpp`\n",
    "- **Compilez**-le à l'aide de la commande\n",
    "\n",
    "      g++ --std=c++11 yams.cpp -o yams\n",
    "    \n",
    "  Attention, pour qu'il n'y ait pas de message d'erreur il faut être allé dans le bon repertoire avec la commande cd.\n",
    "- **Exécutez** le programme ainsi généré à l'aide de la commande `./yams`. Votre terminal doit afficher 65."
   ]
  },
  {
   "cell_type": "markdown",
   "metadata": {
    "deletable": false,
    "editable": false,
    "nbgrader": {
     "checksum": "13c1d58bf08a1387a499b10fe3d400ff",
     "grade": false,
     "grade_id": "cell-d46bda39ffdb9b6b",
     "locked": true,
     "schema_version": 1,
     "solution": false
    }
   },
   "source": [
    "## II. Quelques utilitaires"
   ]
  },
  {
   "cell_type": "markdown",
   "metadata": {
    "deletable": false,
    "editable": false,
    "nbgrader": {
     "checksum": "662cce25f672800231d0c04702d744d9",
     "grade": false,
     "grade_id": "cell-d87cf79a3fac5aff",
     "locked": true,
     "schema_version": 1,
     "solution": false
    }
   },
   "source": [
    "### `aleaint`\n",
    "La fonction `aleaint(int a, int b)` proposée ci-dessous permet de tirer au hasard un nombre entier compris entre `a` et `b` :"
   ]
  },
  {
   "cell_type": "code",
   "execution_count": null,
   "metadata": {
    "deletable": false,
    "editable": false,
    "nbgrader": {
     "checksum": "110f43aa2280b574d3c66e4f16f77893",
     "grade": false,
     "grade_id": "cell-ef2774917880c42d",
     "locked": true,
     "schema_version": 1,
     "solution": false
    }
   },
   "outputs": [],
   "source": [
    "/** Fonction aleaInt\n",
    " * @param a un entier représentant le minimum du nombre aléatoire généré\n",
    " * @param b un entier représentant le maximum du nombre aléatoire généré\n",
    " * @return un entier aléatoire n tel que a <= n <= b\n",
    " **/\n",
    "int aleaint(int a, int b) {\n",
    "  return (rand() % (b - a + 1) + a);\n",
    "}"
   ]
  },
  {
   "cell_type": "markdown",
   "metadata": {
    "deletable": false,
    "editable": false,
    "nbgrader": {
     "checksum": "8ade143345f9f934aee370d5220f8de8",
     "grade": false,
     "grade_id": "cell-04090934b5186301",
     "locked": true,
     "schema_version": 1,
     "solution": false
    }
   },
   "source": [
    "### `lanceDes`\n",
    "Complétez la documentation de la fonction `lanceDes` puis implémentez-la dans la case suivante en utilisant `aleaint`. Pour rappel, la fonction `lanceDes` doit renvoyer un tableau contenant 5 valeurs tirées aléatoirement entre 1 et 6. *(Comme la semaine dernière, pour contourner un bug dans cling on va mettre le type tableau à la place de `vector<int>`.)*"
   ]
  },
  {
   "cell_type": "code",
   "execution_count": null,
   "metadata": {},
   "outputs": [],
   "source": [
    "/** Fonction lanceDes\n",
    " * @return \n",
    " **/"
   ]
  },
  {
   "cell_type": "code",
   "execution_count": null,
   "metadata": {
    "deletable": false,
    "nbgrader": {
     "checksum": "22feb21a20b744ce3862a5531e0d99c0",
     "grade": false,
     "grade_id": "cell-2400cc6d2f03939a",
     "locked": false,
     "schema_version": 1,
     "solution": true
    }
   },
   "outputs": [],
   "source": [
    "tableau lanceDes() {\n",
    "    \n",
    "// VOTRE CODE ICI\n",
    "}"
   ]
  },
  {
   "cell_type": "markdown",
   "metadata": {
    "deletable": false,
    "editable": false,
    "nbgrader": {
     "checksum": "51b97cb1e9891a839d84c2b947cf4821",
     "grade": false,
     "grade_id": "cell-eb7b5f0550c1d0c2",
     "locked": true,
     "schema_version": 1,
     "solution": false
    }
   },
   "source": [
    "### `afficheDes`\n",
    "\n",
    "Complétez la documentation de la fonction `afficheDes` puis implémentez-la dans la case suivante. Pour rappel, cette fonction doit afficher les valeurs des dés qui lui sont donnés en entrée."
   ]
  },
  {
   "cell_type": "code",
   "execution_count": null,
   "metadata": {},
   "outputs": [],
   "source": [
    "/** Fonction afficheDes\n",
    " * @param \n",
    " * @return \n",
    " **/"
   ]
  },
  {
   "cell_type": "code",
   "execution_count": null,
   "metadata": {
    "deletable": false,
    "nbgrader": {
     "checksum": "49b185115a18ebce66863cdceb2fa0da",
     "grade": false,
     "grade_id": "cell-c71cd541b0d5a957",
     "locked": false,
     "schema_version": 1,
     "solution": true
    }
   },
   "outputs": [],
   "source": [
    "// VOTRE CODE ICI"
   ]
  },
  {
   "cell_type": "markdown",
   "metadata": {
    "deletable": false,
    "editable": false,
    "nbgrader": {
     "checksum": "98231f7c92d4a8ad31ac38908880e190",
     "grade": false,
     "grade_id": "cell-cd2e170bbcd59ae7",
     "locked": true,
     "schema_version": 1,
     "solution": false
    }
   },
   "source": [
    "Testez vos fonctions `lanceDes` et `afficheDes` en exécutant **à plusieurs reprises** la cellule suivante :"
   ]
  },
  {
   "cell_type": "code",
   "execution_count": null,
   "metadata": {},
   "outputs": [],
   "source": [
    "afficheDes(lanceDes());"
   ]
  },
  {
   "cell_type": "markdown",
   "metadata": {
    "deletable": false,
    "editable": false,
    "nbgrader": {
     "checksum": "72468df95433e6b1c06842a9a0d3bccb",
     "grade": false,
     "grade_id": "cell-d32e8ca14d28aec7",
     "locked": true,
     "schema_version": 1,
     "solution": false
    }
   },
   "source": [
    "### compteDes\n",
    "Après avoir complété sa spécification, implémentez la fonction `compteDes` vue en TD."
   ]
  },
  {
   "cell_type": "code",
   "execution_count": null,
   "metadata": {},
   "outputs": [],
   "source": [
    "/** Fonction compteDes\n",
    " * @param \n",
    " * @return \n",
    " **/"
   ]
  },
  {
   "cell_type": "code",
   "execution_count": null,
   "metadata": {
    "deletable": false,
    "nbgrader": {
     "checksum": "4736be3a6b583091f3e059089decc87c",
     "grade": false,
     "grade_id": "cell-cb4ed8a6d66b01c6",
     "locked": false,
     "schema_version": 1,
     "solution": true
    }
   },
   "outputs": [],
   "source": [
    "tableau compteDes(vector<int> des) {\n",
    "\n",
    "// VOTRE CODE ICI\n",
    "}"
   ]
  },
  {
   "cell_type": "markdown",
   "metadata": {
    "deletable": false,
    "editable": false,
    "nbgrader": {
     "checksum": "28fc0dc7ea3f1759f2cf69ab26bd88c0",
     "grade": false,
     "grade_id": "cell-e86e97430fbdc657",
     "locked": true,
     "schema_version": 1,
     "solution": false
    }
   },
   "source": [
    "Vérifiez la correction de votre fonction `compteDes` en exécutant les tests suivants vus en TD :"
   ]
  },
  {
   "cell_type": "code",
   "execution_count": null,
   "metadata": {
    "deletable": false,
    "editable": false,
    "nbgrader": {
     "checksum": "8cdc69de14ee08c54373ba78bf3a8494",
     "grade": false,
     "grade_id": "cell-fb46c8bc8918289e",
     "locked": true,
     "schema_version": 1,
     "solution": false
    }
   },
   "outputs": [],
   "source": [
    "ASSERT( compteDes({1,1,1,1,1}) == vector<int>({5, 0, 0, 0, 0, 0}) );\n",
    "ASSERT( compteDes({2,2,2,2,2}) == vector<int>({0, 5, 0, 0, 0, 0}) );\n",
    "ASSERT( compteDes({3,3,3,3,3}) == vector<int>({0, 0, 5, 0, 0, 0}) );\n",
    "ASSERT( compteDes({4,4,4,4,4}) == vector<int>({0, 0, 0, 5, 0, 0}) );\n",
    "ASSERT( compteDes({5,5,5,5,5}) == vector<int>({0, 0, 0, 0, 5, 0}) );\n",
    "ASSERT( compteDes({6,6,6,6,6}) == vector<int>({0, 0, 0, 0, 0, 5}) );\n",
    "ASSERT( compteDes({1,2,3,4,5}) == vector<int>({1, 1, 1, 1, 1, 0}) );\n",
    "ASSERT( compteDes({2,2,6,2,2}) == vector<int>({0, 4, 0, 0, 0, 1}) );\n",
    "ASSERT( compteDes({4,1,4,1,1}) == vector<int>({3, 0, 0, 2, 0, 0}) );"
   ]
  },
  {
   "cell_type": "markdown",
   "metadata": {
    "deletable": false,
    "editable": false,
    "nbgrader": {
     "checksum": "533537f9e801f0ac914f896c406298fb",
     "grade": false,
     "grade_id": "cell-374ed3ce37f10dd5",
     "locked": true,
     "schema_version": 1,
     "solution": false
    }
   },
   "source": [
    "### chercheDansTab\n",
    "\n",
    "Au tour maintenant de `chercheDansTab` qui étant donné un tableau et un entier cherche si cet entier est présent ou non dans le tableau, renvoie son indice s'il est présent, et -1 sinon."
   ]
  },
  {
   "cell_type": "code",
   "execution_count": null,
   "metadata": {},
   "outputs": [],
   "source": [
    "/** Fonction chercheDansTab\n",
    " * @param \n",
    " * @param \n",
    " * @return \n",
    " **/"
   ]
  },
  {
   "cell_type": "code",
   "execution_count": null,
   "metadata": {
    "deletable": false,
    "nbgrader": {
     "checksum": "1ebaa2665377a4b0cb5eed9d8fa46c52",
     "grade": false,
     "grade_id": "cell-ba94d696690fcdcd",
     "locked": false,
     "schema_version": 1,
     "solution": true
    }
   },
   "outputs": [],
   "source": [
    "// VOTRE CODE ICI"
   ]
  },
  {
   "cell_type": "markdown",
   "metadata": {
    "deletable": false,
    "editable": false,
    "nbgrader": {
     "checksum": "7cd10109507ace1b940f7e56ebaa004d",
     "grade": false,
     "grade_id": "cell-089973920882695d",
     "locked": true,
     "schema_version": 1,
     "solution": false
    }
   },
   "source": [
    "Complétez les tests de la cellule suivante et exécutez-les pour vérifier la correction de votre fonction `chercheDansTab`."
   ]
  },
  {
   "cell_type": "code",
   "execution_count": null,
   "metadata": {
    "deletable": false,
    "editable": false,
    "nbgrader": {
     "checksum": "d07f3b213888c67c469ace59d44901ca",
     "grade": true,
     "grade_id": "cell-91db74d6de43eef4",
     "locked": true,
     "points": 0,
     "schema_version": 1,
     "solution": false
    }
   },
   "outputs": [],
   "source": [
    "ASSERT( chercheDansTab(3, {42,5,3,6,7}) == 2);\n",
    "ASSERT( chercheDansTab(56, {42,3,5,6,7}) == -1);"
   ]
  },
  {
   "cell_type": "code",
   "execution_count": null,
   "metadata": {
    "deletable": false,
    "nbgrader": {
     "checksum": "a9b89b824a5b24d1b8c13cdb809ad600",
     "grade": false,
     "grade_id": "cell-91db74d6de43eef5",
     "locked": false,
     "schema_version": 1,
     "solution": true
    }
   },
   "outputs": [],
   "source": [
    "// VOTRE CODE ICI"
   ]
  },
  {
   "cell_type": "markdown",
   "metadata": {
    "deletable": false,
    "editable": false,
    "nbgrader": {
     "checksum": "62d86b765f15f67e0e58dbc883d2f267",
     "grade": false,
     "grade_id": "cell-76cb66dd2a5989a3",
     "locked": true,
     "schema_version": 1,
     "solution": false
    }
   },
   "source": [
    "### Main\n",
    "Écrivez dans la case suivante les instructions pour :\n",
    "- Tirer 5 dés aléatoirement et stocker le résultat dans la variable tirage.\n",
    "- Afficher le résultat du tirage.\n",
    "- Afficher le nombre de points obtenus en cherchant un Yams dans ce tirage.\n",
    "\n",
    "Testez votre chance en exécutant plusieurs fois la cellule !"
   ]
  },
  {
   "cell_type": "code",
   "execution_count": null,
   "metadata": {},
   "outputs": [],
   "source": [
    "vector<int> tirage;"
   ]
  },
  {
   "cell_type": "code",
   "execution_count": null,
   "metadata": {
    "deletable": false,
    "nbgrader": {
     "checksum": "21dc93eca449542f4c2e27b7239812fc",
     "grade": false,
     "grade_id": "cell-6d6243145c1a53a7",
     "locked": false,
     "schema_version": 1,
     "solution": true
    }
   },
   "outputs": [],
   "source": [
    "// VOTRE CODE ICI"
   ]
  },
  {
   "cell_type": "markdown",
   "metadata": {
    "deletable": false,
    "editable": false,
    "nbgrader": {
     "checksum": "17985dc8b9feb596e8cd397aa0130036",
     "grade": false,
     "grade_id": "cell-6258bcc27bfdbca7",
     "locked": true,
     "schema_version": 1,
     "solution": false
    }
   },
   "source": [
    "## II bis. Compilation et test en dehors de Jupyter\n",
    "\n",
    "- Ouvrez votre fichier `yams.cpp`.\n",
    "- Copiez-collez les fonctions `lanceDes`, `compteDes` et `chercheDansTab` à un endroit adapté.\n",
    "- Remplacez le contenu de la fonction `main` par le code des deux cellules précedentes.\n",
    "- **Enregistrez** votre fichier `yams.cpp`\n",
    "- **Compilez**-le à l'aide de la commande **`g++ --std=c++11 yams.cpp -o yams`**\n",
    "- **Exécutez** le programme ainsi généré : `./yams`. Le résultat est-il bien celui attendu ?"
   ]
  },
  {
   "cell_type": "markdown",
   "metadata": {
    "deletable": false,
    "editable": false,
    "nbgrader": {
     "checksum": "7da4edbacc4872e1f0bf1ea717f37ceb",
     "grade": false,
     "grade_id": "cell-2f1b88aea00c9cca",
     "locked": true,
     "schema_version": 1,
     "solution": false
    }
   },
   "source": [
    "#  \n",
    "## III. Les autres figures"
   ]
  },
  {
   "cell_type": "markdown",
   "metadata": {
    "deletable": false,
    "editable": false,
    "nbgrader": {
     "checksum": "71dc0adae397d73c32949227f55b8303",
     "grade": false,
     "grade_id": "cell-203be4570bd190bd",
     "locked": true,
     "schema_version": 1,
     "solution": false
    }
   },
   "source": [
    "### `pointsFigureBrelan`\n",
    "Voici une fonction `pointsFigureBrelan` un peu différente de celle vue en TD :"
   ]
  },
  {
   "cell_type": "code",
   "execution_count": null,
   "metadata": {},
   "outputs": [],
   "source": [
    "/** Fonction pointsFigureBrelan\n",
    " * @param des un tableau de 5 entiers (les dés)\n",
    " * @return 0 si aucun brelan est trouvé, la somme des dés formant le brelan + 10 sinon\n",
    " **/"
   ]
  },
  {
   "cell_type": "code",
   "execution_count": null,
   "metadata": {},
   "outputs": [],
   "source": [
    "int pointsFigureBrelan(vector<int> des) {\n",
    "  vector<int> compte = compteDes(des);\n",
    "    \n",
    "  int valeur = (chercheDansTab(3, compte) + 1) \n",
    "                      + (chercheDansTab(4, compte) + 1) \n",
    "                      + (chercheDansTab(5, compte) + 1);\n",
    "\n",
    "  if (valeur > 0) return (valeur * 3) + 10;\n",
    "  else return 0;\n",
    "}"
   ]
  },
  {
   "cell_type": "markdown",
   "metadata": {
    "collapsed": true
   },
   "source": [
    "Analysez son fonctionnement puis écrivez quelques tests pour vérifier qu'elle se comporte comme prévu :"
   ]
  },
  {
   "cell_type": "code",
   "execution_count": null,
   "metadata": {
    "deletable": false,
    "nbgrader": {
     "checksum": "9152fab8ebf51feb179e244460fc112c",
     "grade": false,
     "grade_id": "cell-f542f957d93223ad",
     "locked": false,
     "schema_version": 1,
     "solution": true
    }
   },
   "outputs": [],
   "source": [
    "// VOTRE CODE ICI"
   ]
  },
  {
   "cell_type": "markdown",
   "metadata": {},
   "source": [
    "### `pointsFigureCarre` & `pointsFigureFull`\n",
    "\n",
    "Sur le même modèle, donnez deux fonctions `pointsFigureCarre` et `pointsFigureFull` répondant aux documentations ci-dessous :"
   ]
  },
  {
   "cell_type": "code",
   "execution_count": null,
   "metadata": {},
   "outputs": [],
   "source": [
    "/** Fonction pointsFigureCarre\n",
    " * @param des un tableau de 5 entiers (les dés)\n",
    " * @return 0 si aucun carre (4 dés identiques) est trouvé, la somme des dés formant le carré + 30 sinon\n",
    " **/"
   ]
  },
  {
   "cell_type": "code",
   "execution_count": null,
   "metadata": {
    "deletable": false,
    "nbgrader": {
     "checksum": "0d0394bbaf99c1dc14d8d95b756f644d",
     "grade": false,
     "grade_id": "cell-ee9ea92251796b50",
     "locked": false,
     "schema_version": 1,
     "solution": true
    }
   },
   "outputs": [],
   "source": [
    "// VOTRE CODE ICI"
   ]
  },
  {
   "cell_type": "code",
   "execution_count": null,
   "metadata": {},
   "outputs": [],
   "source": [
    "/** Fonction pointsFigureFull,\n",
    " * @param des un tableau de 5 entiers contenant les valeurs des dés\n",
    " * @return 0 si pas de full, somme des dés composant le full + 20 si full il y a\n",
    " **/"
   ]
  },
  {
   "cell_type": "code",
   "execution_count": null,
   "metadata": {
    "deletable": false,
    "nbgrader": {
     "checksum": "43110e994c80b61103df65ad9e7fad81",
     "grade": false,
     "grade_id": "cell-351f844238b00999",
     "locked": false,
     "schema_version": 1,
     "solution": true
    }
   },
   "outputs": [],
   "source": [
    "// VOTRE CODE ICI"
   ]
  },
  {
   "cell_type": "markdown",
   "metadata": {},
   "source": [
    "Testez-les :"
   ]
  },
  {
   "cell_type": "code",
   "execution_count": null,
   "metadata": {},
   "outputs": [],
   "source": [
    "ASSERT( pointsFigureFull({4,4,4,1,1}) == 34 );\n",
    "ASSERT( pointsFigureFull({1,1,4,4,5}) == 0 );\n",
    "\n",
    "ASSERT( pointsFigureCarre({4,4,4,4,1}) == 46 );\n",
    "ASSERT( pointsFigureCarre({4,4,4,2,5}) == 0 );"
   ]
  },
  {
   "cell_type": "markdown",
   "metadata": {
    "deletable": false,
    "editable": false,
    "nbgrader": {
     "checksum": "3112640e51ea25e3513db688bfc050b8",
     "grade": false,
     "grade_id": "cell-2775b19eb90e3da1",
     "locked": true,
     "schema_version": 1,
     "solution": false
    }
   },
   "source": [
    "### `pointsFigure`\n",
    "Nous vous donnons la fonction `pointsFigure` vue en TD qui a pour but de chercher la figure choisie par l'utilisateur (via une chaine de caractère) et de retourner le nombre de points ainsi obtenu."
   ]
  },
  {
   "cell_type": "code",
   "execution_count": null,
   "metadata": {},
   "outputs": [],
   "source": [
    "/** Fonction pointsFigure,\n",
    " * @param des un tableau de 5 entiers contenant les valeurs des dés\n",
    " * @param figure une chaine de caractères contenant le nom de la figure a chercher\n",
    " * @return 0 si figure introuvable ou inconnue, le score correspondant sinon\n",
    " **/"
   ]
  },
  {
   "cell_type": "code",
   "execution_count": null,
   "metadata": {},
   "outputs": [],
   "source": [
    "int pointsFigure(vector<int> des, string figure) {\n",
    "  if(figure == \"brelan\") {\n",
    "    return pointsFigureBrelan(des);\n",
    "  } else if(figure == \"full\") {\n",
    "    return pointsFigureFull(des);\n",
    "  } else if(figure == \"carre\") {\n",
    "    return pointsFigureCarre(des);\n",
    "  } else if(figure == \"yams\") {\n",
    "    return pointsFigureYams(des);\n",
    "  } \n",
    "  return 0;\n",
    "}"
   ]
  },
  {
   "cell_type": "markdown",
   "metadata": {
    "deletable": false,
    "editable": false,
    "nbgrader": {
     "checksum": "b4b567640022ad72b80c1c375672c618",
     "grade": false,
     "grade_id": "cell-9957e2bdc6fd8707",
     "locked": true,
     "schema_version": 1,
     "solution": false
    }
   },
   "source": [
    "## III bis. Compilation et test en dehors de Jupyter\n",
    "\n",
    "- Ouvrez votre fichier `yams.cpp`.\n",
    "- Copiez-collez les fonctions `pointsFigureCarre` et `pointsFigureFull` à un endroit adapté.\n",
    "- *Décommentez* les fonctions `pointsFigureBrelan` et `pointsFigure`.\n",
    "- **Enregistrez** votre fichier `yams.cpp`\n",
    "- **Vérifiez qu'il compile toujours** à l'aide de la commande `g++ --std=c++11 yams.cpp -o yams`\n",
    "- *Exécuter le programme tel quel ne changera rien à l'exécution précedente car nous n'avons pas modifié la fonction **main**, c'est ce que nous allons faire dans la partie suivante.*"
   ]
  },
  {
   "cell_type": "markdown",
   "metadata": {
    "deletable": false,
    "editable": false,
    "nbgrader": {
     "checksum": "d4c064e6dc8aca123529497350ac1490",
     "grade": false,
     "grade_id": "cell-217bb315221f2bcb",
     "locked": true,
     "schema_version": 1,
     "solution": false
    }
   },
   "source": [
    "#   \n",
    "# IV. Boucle de jeu : la fonction main"
   ]
  },
  {
   "cell_type": "markdown",
   "metadata": {
    "deletable": false,
    "editable": false,
    "nbgrader": {
     "checksum": "b331e835ba069cb4bffcf664f4707267",
     "grade": false,
     "grade_id": "cell-d0fe9b8212280dc6",
     "locked": true,
     "schema_version": 1,
     "solution": false
    }
   },
   "source": [
    "La boucle de jeu, infinie, se décompose de la façon suivante :\n",
    "> #### Avant la boucle :\n",
    "> - Déclaration des variables permettant de stocker la valeur des **dés**, le **score** et la **reponse** écrite du joueur.\n",
    ">\n",
    "> #### Pendant la boucle :\n",
    "> - On lance les dés et on stocke le résultat dans la variable appropriée.\n",
    "> - On affiche le résultat du lancé à l'utilisateur et on demande quelle figure il choisit.\n",
    "> - On boucle tant que l'utilisateur donne une réponse qui n'est ni une figure (**brelan**, **full**, **carre**, **yams**) ni **exit**.\n",
    "> - Si l'utilisateur a répondu **exit** on sort de la boucle principale avec l'instruction **return 0;**\n",
    "> - Sinon, c'est que l'utilisateur a donné le nom d'une figure, on appelle donc **pointsFigure** de façon à récupérer le nombre de points correspondant à cette figure et à ce lancer de dés. On ajoute ces points au score du joueur, et on affiche le résultat au joueur.\n",
    "\n",
    "Dans Jupyter on ne peut pas utiliser \"cin\" pour demander quelque chose à l'utilisateur, on **simulera donc les boucles par une exécution multiple des cellules concernées**. Votre objectif est de **compléter le corps de la boucle ci-dessous**, puis de **tester le jeu en exécutant les cellules dans l'ordre approprié**."
   ]
  },
  {
   "cell_type": "markdown",
   "metadata": {
    "deletable": false,
    "editable": false,
    "nbgrader": {
     "checksum": "4a435128be2e862adabd1f2cf1efaebf",
     "grade": false,
     "grade_id": "cell-0007a11a16dc6c1d",
     "locked": true,
     "schema_version": 1,
     "solution": false
    }
   },
   "source": [
    "### /\\* AVANT LA BOUCLE PRINCIPALE \\*/"
   ]
  },
  {
   "cell_type": "code",
   "execution_count": null,
   "metadata": {},
   "outputs": [],
   "source": [
    "int pts, score = 0;\n",
    "string reponse = \"\";\n",
    "vector<int> des;"
   ]
  },
  {
   "cell_type": "markdown",
   "metadata": {
    "deletable": false,
    "editable": false,
    "nbgrader": {
     "checksum": "d6b122036928e70881250eddaec95b49",
     "grade": false,
     "grade_id": "cell-97cf55fa5ff66cda",
     "locked": true,
     "schema_version": 1,
     "solution": false
    }
   },
   "source": [
    "### /\\* BOUCLE PRINCIPALE \\*/\n",
    "On lance les dés et on stocke le résultat dans la variable appropriée :"
   ]
  },
  {
   "cell_type": "code",
   "execution_count": null,
   "metadata": {
    "deletable": false,
    "nbgrader": {
     "checksum": "d30b426bacb4b45003744b6dee4a534e",
     "grade": false,
     "grade_id": "cell-92a727dd6952ff6f",
     "locked": false,
     "schema_version": 1,
     "solution": true
    }
   },
   "outputs": [],
   "source": [
    "// Ajoutez du code ici \n",
    "// VOTRE CODE ICI"
   ]
  },
  {
   "cell_type": "markdown",
   "metadata": {
    "deletable": false,
    "editable": false,
    "nbgrader": {
     "checksum": "b45b02d921c2fbe0416be63869de529c",
     "grade": false,
     "grade_id": "cell-53956a4ccaa8c96b",
     "locked": true,
     "schema_version": 1,
     "solution": false
    }
   },
   "source": [
    "On affiche le résultat du lancé au joueur et on affiche un texte demandant quelle figure il choisit :"
   ]
  },
  {
   "cell_type": "code",
   "execution_count": null,
   "metadata": {
    "deletable": false,
    "nbgrader": {
     "checksum": "2426b795e2d407583b07695eaf50caee",
     "grade": false,
     "grade_id": "cell-096cc4b7f9dd204b",
     "locked": false,
     "schema_version": 1,
     "solution": true
    }
   },
   "outputs": [],
   "source": [
    "// Ajoutez du code ici \n",
    "// VOTRE CODE ICI"
   ]
  },
  {
   "cell_type": "markdown",
   "metadata": {
    "deletable": false,
    "editable": false,
    "nbgrader": {
     "checksum": "0e2ec8e744829caeec1b94faaeec4629",
     "grade": false,
     "grade_id": "cell-534727077c44c82b",
     "locked": true,
     "schema_version": 1,
     "solution": false
    }
   },
   "source": [
    "On boucle tant que la réponse de l'utilisateur n'est pas brelan, carre, full ou yams ni exit. Ici, on considère que le joueur modifie directement la cellule suivante pour indiquer son choix :"
   ]
  },
  {
   "cell_type": "code",
   "execution_count": null,
   "metadata": {},
   "outputs": [],
   "source": [
    "reponse = \"brelan\";"
   ]
  },
  {
   "cell_type": "markdown",
   "metadata": {
    "deletable": false,
    "editable": false,
    "nbgrader": {
     "checksum": "57e7e796e480cf8fd24a026a6608356d",
     "grade": false,
     "grade_id": "cell-00f3946a079599bf",
     "locked": true,
     "schema_version": 1,
     "solution": false
    }
   },
   "source": [
    "Si l'utilisateur a répondu **exit** on affiche \"Fin du programme\" dans Jupyter (mais dans le programme compilé il faudra penser à sortir de la boucle principale avec l'instruction **return 0;**)."
   ]
  },
  {
   "cell_type": "code",
   "execution_count": null,
   "metadata": {},
   "outputs": [],
   "source": [
    "if(reponse == \"exit\") cout << \"Fin du jeu, votre score final est : \" << score << endl;"
   ]
  },
  {
   "cell_type": "markdown",
   "metadata": {
    "deletable": false,
    "editable": false,
    "nbgrader": {
     "checksum": "96dcdfebe834fde366419bf715544af3",
     "grade": false,
     "grade_id": "cell-880ced3468d45bd1",
     "locked": true,
     "schema_version": 1,
     "solution": false
    }
   },
   "source": [
    "Sinon, c'est que l'utilisateur a donné le nom d'une figure, on appelle alors **pointsFigure** de façon à récupérer le nombre de points correspondant à cette figure et à ce lancer de dés. On ajoute ces points au score du joueur, et on affiche le résultat au joueur."
   ]
  },
  {
   "cell_type": "code",
   "execution_count": null,
   "metadata": {
    "deletable": false,
    "nbgrader": {
     "checksum": "318e35761debd7134ca8416373130e31",
     "grade": false,
     "grade_id": "cell-59a128ea054550e1",
     "locked": false,
     "schema_version": 1,
     "solution": true
    }
   },
   "outputs": [],
   "source": [
    "// Ajoutez du code ici \n",
    "// VOTRE CODE ICI"
   ]
  },
  {
   "cell_type": "markdown",
   "metadata": {
    "deletable": false,
    "editable": false,
    "nbgrader": {
     "checksum": "68dd9e93da35fd758c123309ac3397ee",
     "grade": false,
     "grade_id": "cell-b7f9ac24211d8b2d",
     "locked": true,
     "schema_version": 1,
     "solution": false
    }
   },
   "source": [
    "### /\\* FIN DE LA BOUCLE PRINCIPALE \\*/"
   ]
  },
  {
   "cell_type": "markdown",
   "metadata": {
    "deletable": false,
    "editable": false,
    "nbgrader": {
     "checksum": "3299ea0cb49af98438d3610aa2aa7a4c",
     "grade": false,
     "grade_id": "cell-b9e9ca23583105bc",
     "locked": true,
     "schema_version": 1,
     "solution": false
    }
   },
   "source": [
    "## IV bis. Compilation et test en dehors de Jupyter\n",
    "Enfin, en vous basant sur le code de cette partie de la fiche, la fin du TD et le squelette suivant, **complétez la fonction main de votre fichier *yams.cpp* afin de pouvoir jouer au jeu en l'exécutant (après l'avoir compilé) depuis votre terminal**. *(Si jamais vous entrez dans une boucle infinie, vous pouvez stopper votre programme à tout moment en pressant les touches `ctrl+c`)*"
   ]
  },
  {
   "cell_type": "markdown",
   "metadata": {},
   "source": [
    "```c++\n",
    "int main() {\n",
    "  // Initialisation de la fonction rand (pour les nombres aléatoires) :\n",
    "  srand(time(0));\n",
    "\n",
    "  // AVANT LA BOUCLE PRINCIPALE\n",
    "  // On déclare les variables utilisées par la boucle principale :\n",
    "  \n",
    "  // BOUCLE PRINCIPALE\n",
    "  while (true) {\n",
    "    // On lance les dés et on stocke le résultat dans la variable appropriée :\n",
    "    \n",
    "    // On affiche le résultat du lancé au joueur et on affiche un texte demandant quelle figure il choisit :\n",
    "\n",
    "    // On boucle tant que la réponse de l'utilisateur n'est pas brelan, carre, full ou yams ni exit : \n",
    "    do {\n",
    "      cin >> reponse;\n",
    "    } while (reponse != \"brelan\" and reponse != \"full\" \n",
    "\t     and reponse != \"carre\" and reponse != \"yams\" and reponse != \"exit\");\n",
    "\n",
    "\t// Si la réponse est exit on quitte l'application :\n",
    "    if(reponse == \"exit\") { \n",
    "        return 0; \n",
    "    }\n",
    "    \n",
    "    // Si l'utilisateur a choisi une figure on calcule le nouveau score et on l'affiche :\n",
    "  }\n",
    "  // FIN DE LA BOUCLE PRINCIPALE\n",
    "    \n",
    "  return 0;\n",
    "}\n",
    "```"
   ]
  },
  {
   "cell_type": "markdown",
   "metadata": {
    "deletable": false,
    "editable": false,
    "nbgrader": {
     "checksum": "a24750f2db5fe6c2a57049cdb3209bb8",
     "grade": false,
     "grade_id": "cell-d1ac5129b5c6f068",
     "locked": true,
     "schema_version": 1,
     "solution": false
    }
   },
   "source": [
    "## <span style=\"font-size: 150%\">♣</span> V.  De la suite dans les idées "
   ]
  },
  {
   "cell_type": "markdown",
   "metadata": {
    "deletable": false,
    "editable": false,
    "nbgrader": {
     "checksum": "d631fc79ec49e6b13901ba67ca526f34",
     "grade": false,
     "grade_id": "cell-0bb931cc66d8c75a",
     "locked": true,
     "schema_version": 1,
     "solution": false
    }
   },
   "source": [
    "Dans le jeux de Yams complet d'autres figures sont reconnues comme la Grande Suite (5 dés qui se suivent comme 2,3,4,5,6) et la Petite Suite (4 dés qui se suivent comme 2,3,4,5). Attention, l'ordre des dés n'a pas d'importance, les dés 2,4,3,1,5 forment donc une grande suite, même s'ils sont dans le désordre !\n",
    "\n",
    "Donner deux fonctions répondant aux spécifications ci-dessous et vérifier que vos implémentations passent les tests:"
   ]
  },
  {
   "cell_type": "code",
   "execution_count": null,
   "metadata": {},
   "outputs": [],
   "source": [
    "/** Fonction pointsFigureGrandeSuite\n",
    " * @param des un tableau de 5 entiers (les dés)\n",
    " * @return 0 si aucune grande suite (5 dés qui se suivent) n est trouvée, \n",
    " *   la somme des dés formant la grande suite  + 50 sinon\n",
    " **/"
   ]
  },
  {
   "cell_type": "code",
   "execution_count": null,
   "metadata": {
    "deletable": false,
    "nbgrader": {
     "checksum": "120a5aebd91998677b1f9662070e344a",
     "grade": false,
     "grade_id": "cell-b61d5e0e0254a652",
     "locked": false,
     "schema_version": 1,
     "solution": true
    }
   },
   "outputs": [],
   "source": [
    "// Écrivez votre code dans cette cellule\n",
    "// VOTRE CODE ICI"
   ]
  },
  {
   "cell_type": "code",
   "execution_count": null,
   "metadata": {
    "deletable": false,
    "editable": false,
    "nbgrader": {
     "checksum": "65e1852af7e176a36a6c1ce9a57ae586",
     "grade": true,
     "grade_id": "cell-7b2e9d66e5e91143",
     "locked": true,
     "points": 0,
     "schema_version": 1,
     "solution": false
    }
   },
   "outputs": [],
   "source": [
    "ASSERT( pointsFigureGrandeSuite({4,3,2,1,5}) == 15+50 );\n",
    "ASSERT( pointsFigureGrandeSuite({2,3,4,5,6}) == 20+50 );\n",
    "ASSERT( pointsFigureGrandeSuite({2,3,4,5,2}) ==     0 );"
   ]
  },
  {
   "cell_type": "code",
   "execution_count": null,
   "metadata": {},
   "outputs": [],
   "source": [
    "/** Fonction pointsFigurePetiteSuite\n",
    " * @param des un tableau de 5 entiers (les dés)\n",
    " * @return 0 si aucune petite suite (4 dés qui se suivent) n est trouvée, \n",
    " *   la somme des dés formant la petite suite  + 40 sinon\n",
    " **/"
   ]
  },
  {
   "cell_type": "code",
   "execution_count": null,
   "metadata": {
    "deletable": false,
    "nbgrader": {
     "checksum": "0d9fec844918050e4af075bbf291e972",
     "grade": false,
     "grade_id": "cell-0d76bd6bdf1fba46",
     "locked": false,
     "schema_version": 1,
     "solution": true
    }
   },
   "outputs": [],
   "source": [
    "// Écrivez votre code dans cette cellule\n",
    "// VOTRE CODE ICI"
   ]
  },
  {
   "cell_type": "code",
   "execution_count": null,
   "metadata": {
    "deletable": false,
    "editable": false,
    "nbgrader": {
     "checksum": "551d4a20f4e1de56f86a8e4558fcae9f",
     "grade": true,
     "grade_id": "cell-27757a711ef348de",
     "locked": true,
     "points": 0,
     "schema_version": 1,
     "solution": false
    }
   },
   "outputs": [],
   "source": [
    "ASSERT( pointsFigurePetiteSuite({2,3,4,5,2}) == 14+40 );\n",
    "ASSERT( pointsFigurePetiteSuite({3,3,4,5,6}) == 18+40 );\n",
    "ASSERT( pointsFigurePetiteSuite({2,3,4,2,2}) == 0 );"
   ]
  },
  {
   "cell_type": "markdown",
   "metadata": {
    "deletable": false,
    "editable": false,
    "nbgrader": {
     "checksum": "59e7ecbfaac6664dfac9385b2a888a2d",
     "grade": false,
     "grade_id": "cell-11e28f7da9b9115e",
     "locked": true,
     "schema_version": 1,
     "solution": false
    }
   },
   "source": [
    "Modifiez maintenant la boucle de jeu réalisée un peu plus haut afin de prendre en compte ces deux nouvelles figures. Testez-là en executant les cellules dans le bon ordre. "
   ]
  },
  {
   "cell_type": "markdown",
   "metadata": {
    "deletable": false,
    "editable": false,
    "nbgrader": {
     "checksum": "4a27a058b0b46ec951e45a07e949a726",
     "grade": false,
     "grade_id": "cell-40b367fc26d3b2d2",
     "locked": true,
     "schema_version": 1,
     "solution": false
    }
   },
   "source": [
    "## V bis. Compilation et test en dehors de Jupyter\n",
    "\n",
    "- **Ajoutez à votre fichier yams.cpp les fonctions que vous venez de réaliser.** \n",
    "- Modifiez la fonction **main** en conséquence. \n",
    "- **Compilez** votre programme et **testez-le** en l'exécutant."
   ]
  },
  {
   "cell_type": "code",
   "execution_count": null,
   "metadata": {},
   "outputs": [],
   "source": []
  }
 ],
 "metadata": {
  "kernelspec": {
   "display_name": "C++11",
   "language": "C++11",
   "name": "xcpp11"
  },
  "language_info": {
   "codemirror_mode": "text/x-c++src",
   "file_extension": ".cpp",
   "mimetype": "text/x-c++src",
   "name": "c++",
   "version": "-std=c++11"
  }
 },
 "nbformat": 4,
 "nbformat_minor": 2
}
