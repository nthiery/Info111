{
 "cells": [
  {
   "cell_type": "markdown",
   "metadata": {
    "deletable": false,
    "editable": false,
    "nbgrader": {
     "cell_type": "markdown",
     "checksum": "6e5dbc477447644f93416cba679263ec",
     "grade": false,
     "grade_id": "cell-bf82401e988f816e",
     "locked": true,
     "schema_version": 3,
     "solution": false
    }
   },
   "source": [
    "Avant de terminer cette feuille, assurez-vous que tout fonctionne comme voulu. Tout d'abord, **redémarrez le noyau** (dans le menu, sélectionner `Kernel -> Restart`) puis **exécutez toutes les cellules** (dans le menu, sélectionner `Cell -> Run All`).\n",
    "\n",
    "Vérifiez que vous avez édité la cellule ci-dessous, ainsi que toutes les cellules marquées avec `VOTRE CODE ICI` ou `VOTRE RÉPONSE ICI`."
   ]
  },
  {
   "cell_type": "markdown",
   "metadata": {},
   "source": [
    "- Nom: \n",
    "- Prénom: \n",
    "- Groupe: "
   ]
  },
  {
   "cell_type": "markdown",
   "metadata": {
    "deletable": false,
    "editable": false,
    "nbgrader": {
     "cell_type": "markdown",
     "checksum": "7d4574911b525c2cdf71c587fa14ecc4",
     "grade": false,
     "grade_id": "cell-8debedfea96381b5",
     "locked": true,
     "schema_version": 3,
     "solution": false
    }
   },
   "source": [
    "# Jeu de Yams"
   ]
  },
  {
   "cell_type": "markdown",
   "metadata": {
    "deletable": false,
    "editable": false,
    "nbgrader": {
     "cell_type": "markdown",
     "checksum": "df8d5531cd5246a066b98f90fa9697ca",
     "grade": false,
     "grade_id": "cell-6c2c32f5e76ffb43",
     "locked": true,
     "schema_version": 3,
     "solution": false
    }
   },
   "source": [
    "## Rappels d'utilisation des tableaux"
   ]
  },
  {
   "cell_type": "markdown",
   "metadata": {
    "deletable": false,
    "editable": false,
    "nbgrader": {
     "cell_type": "markdown",
     "checksum": "6b730e7ce45c7cb70b2fcfd789a1f561",
     "grade": false,
     "grade_id": "cell-48383f81da895a3a",
     "locked": true,
     "schema_version": 3,
     "solution": false
    }
   },
   "source": [
    "- **Déclarer** un tableau d'entiers tab : \n",
    "```c++\n",
    "vector<int> tab;\n",
    "```\n",
    "- **Allouer** 5 cases au tableau tab : \n",
    "```c++\n",
    "tab = vector<int>(5);\n",
    "```\n",
    "- **Initialiser** ses cases :\n",
    "```c++\n",
    "tab[0] = 42; tab[1] = 3; ... ; tab[4] = 36;\n",
    "```\n",
    "\n",
    "- **Déclarer**, **allouer** et **initialiser** en une seule instruction :\n",
    "```c++\n",
    "vector<int> tab = {25,-3,10,7};\n",
    "```\n",
    "\n",
    "- Il est également possible de construire un tableau sans lui donner de nom pour le passer à une fonction de la manière suivante :\n",
    "```c++\n",
    "maFonction({17,9,-3,42});\n",
    "```"
   ]
  },
  {
   "cell_type": "code",
   "execution_count": null,
   "metadata": {
    "deletable": false,
    "editable": false,
    "nbgrader": {
     "cell_type": "code",
     "checksum": "9d76f14e87b28586e4e151eb009aea7e",
     "grade": false,
     "grade_id": "cell-214aa5a1f7ccaa00",
     "locked": true,
     "schema_version": 3,
     "solution": false
    }
   },
   "outputs": [],
   "source": [
    "#include <iostream>\n",
    "#include <vector>\n",
    "#include <cstdlib>\n",
    "using namespace std;\n",
    "\n",
    "typedef vector<int> tableau;\n",
    "\n",
    "// Initialisation de la fonction rand (pour les nombres aléatoires) :\n",
    "srand(time(0));"
   ]
  },
  {
   "cell_type": "markdown",
   "metadata": {
    "deletable": false,
    "editable": false,
    "nbgrader": {
     "cell_type": "markdown",
     "checksum": "a35084d91eec25e0577bbf6e64e420a0",
     "grade": false,
     "grade_id": "cell-e8fa588409cbc545",
     "locked": true,
     "schema_version": 3,
     "solution": false
    }
   },
   "source": [
    "<span style=\"color:red\">Nous vous conseillons fortement lorsque vous avez besoin de redémarrer le noyau avec **Kernel > Restart** (and clear all si vous voulez faire le ménage) de faire ensuite systématiquement la commande **Cell > Run all above** , car toutes les fonctions définies dans cette feuille seront utilisées à la fin.</span>   "
   ]
  },
  {
   "cell_type": "markdown",
   "metadata": {
    "deletable": false,
    "editable": false,
    "nbgrader": {
     "cell_type": "markdown",
     "checksum": "a4ef53b3b3803ae8816a9e484478ffd2",
     "grade": false,
     "grade_id": "cell-e8fa588409cbc546",
     "locked": true,
     "schema_version": 3,
     "solution": false
    }
   },
   "source": [
    "## Reconnaître les yams"
   ]
  },
  {
   "cell_type": "markdown",
   "metadata": {
    "deletable": false,
    "editable": false,
    "nbgrader": {
     "cell_type": "markdown",
     "checksum": "09a50eac55004a1d3caa7c64a69e41be",
     "grade": false,
     "grade_id": "cell-b61f9d53913e9c53",
     "locked": true,
     "schema_version": 3,
     "solution": false
    }
   },
   "source": [
    "### `pointsFigureYams`\n",
    "Complétez la documentation de la fonction `pointsFigureYams` puis implémentez-la dans la case suivante. Pour rappel, la fonction `pointsFigureYams` doit vérifier si les cinq valeurs de dés fournies forment un Yams ou non. Si un Yams est trouvé on renvoie le score correspondant (somme des dés + 60) sinon 0.\n",
    "\n",
    "<span style=\"color:red\">Attention, pour éviter un bug de l'interpréteur C++ cling, ne pas d'utiliser d'apostrophes (') dans vos commentaires / documentations !</span>"
   ]
  },
  {
   "cell_type": "code",
   "execution_count": null,
   "metadata": {},
   "outputs": [],
   "source": [
    "/** Fonction pointsFigureYams\n",
    " * @param \n",
    " * @return \n",
    " **/"
   ]
  },
  {
   "cell_type": "code",
   "execution_count": null,
   "metadata": {
    "deletable": false,
    "nbgrader": {
     "cell_type": "code",
     "checksum": "ef4d843348b29ce92dc055893497c537",
     "grade": false,
     "grade_id": "cell-e5c12aeafec7d057",
     "locked": false,
     "schema_version": 3,
     "solution": true
    }
   },
   "outputs": [],
   "source": [
    "// VOTRE CODE ICI"
   ]
  },
  {
   "cell_type": "markdown",
   "metadata": {
    "deletable": false,
    "editable": false,
    "nbgrader": {
     "cell_type": "markdown",
     "checksum": "b9a2fc6727f7ea068d0519a0169f0200",
     "grade": false,
     "grade_id": "cell-d707ce6b51bc390f",
     "locked": true,
     "schema_version": 3,
     "solution": false
    }
   },
   "source": [
    "Complétez les tests de la cellule suivante avec aux moins deux tests puis exécutez les deux cellules pour vérifier que votre fonction `pointsFigureYams` a bien le comportement attendu."
   ]
  },
  {
   "cell_type": "code",
   "execution_count": null,
   "metadata": {
    "deletable": false,
    "editable": false,
    "nbgrader": {
     "cell_type": "code",
     "checksum": "06505b77ca2940e31ac7e3c1c42f2c0e",
     "grade": true,
     "grade_id": "cell-901b2df503fc5c9f",
     "locked": true,
     "points": 1,
     "schema_version": 3,
     "solution": false,
     "task": false
    }
   },
   "outputs": [],
   "source": [
    "ASSERT( pointsFigureYams({1,1,1,1,1}) == 65 );\n",
    "ASSERT( pointsFigureYams({2,1,1,1,1}) ==  0 );"
   ]
  },
  {
   "cell_type": "code",
   "execution_count": null,
   "metadata": {
    "deletable": false,
    "nbgrader": {
     "cell_type": "code",
     "checksum": "ef76bee4cd29515999a264eab2d5aa29",
     "grade": true,
     "grade_id": "cell-901b2df503fc5c9e",
     "locked": false,
     "points": 1,
     "schema_version": 3,
     "solution": true,
     "task": false
    }
   },
   "outputs": [],
   "source": [
    "// VOTRE CODE ICI"
   ]
  },
  {
   "cell_type": "markdown",
   "metadata": {
    "deletable": false,
    "editable": false,
    "nbgrader": {
     "cell_type": "markdown",
     "checksum": "a2624651e2309928062b3cc74fd05dab",
     "grade": false,
     "grade_id": "cell-a6a573fb11d8cc17",
     "locked": true,
     "schema_version": 3,
     "solution": false
    }
   },
   "source": [
    "## Compilation et test en dehors de Jupyter\n",
    "\n",
    "- Ouvrez le fichier `yams.cpp` fourni dans l'archive Semaine6 avec un éditeur de texte tel que jedit.\n",
    "- Copiez-collez votre fonction `pointsFigureYams` à un endroit adapté.\n",
    "- **Enregistrez** votre fichier `yams.cpp`\n",
    "- **Compilez**-le à l'aide de la commande\n",
    "\n",
    "      g++ --std=c++11 yams.cpp -o yams\n",
    "    \n",
    "  Attention, pour qu'il n'y ait pas de message d'erreur il faut être allé dans le bon repertoire avec la commande cd.\n",
    "- **Exécutez** le programme ainsi généré à l'aide de la commande `./yams`. Votre terminal doit afficher 65."
   ]
  },
  {
   "cell_type": "markdown",
   "metadata": {
    "deletable": false,
    "editable": false,
    "nbgrader": {
     "cell_type": "markdown",
     "checksum": "52e847c2b68315d017747a81d32d6875",
     "grade": false,
     "grade_id": "cell-d46bda39ffdb9b6b",
     "locked": true,
     "schema_version": 3,
     "solution": false
    }
   },
   "source": [
    "## Quelques utilitaires"
   ]
  },
  {
   "cell_type": "markdown",
   "metadata": {
    "deletable": false,
    "editable": false,
    "nbgrader": {
     "cell_type": "markdown",
     "checksum": "662cce25f672800231d0c04702d744d9",
     "grade": false,
     "grade_id": "cell-d87cf79a3fac5aff",
     "locked": true,
     "schema_version": 3,
     "solution": false
    }
   },
   "source": [
    "### `aleaint`\n",
    "La fonction `aleaint(int a, int b)` proposée ci-dessous permet de tirer au hasard un nombre entier compris entre `a` et `b` :"
   ]
  },
  {
   "cell_type": "code",
   "execution_count": null,
   "metadata": {
    "deletable": false,
    "editable": false,
    "nbgrader": {
     "cell_type": "code",
     "checksum": "41a1b9a71ada4f9f411a293d50f3c2bf",
     "grade": false,
     "grade_id": "cell-ef2774917880c42d",
     "locked": true,
     "schema_version": 3,
     "solution": false
    }
   },
   "outputs": [],
   "source": [
    "/** Fonction aleaInt\n",
    " * @param a un entier représentant le minimum du nombre aléatoire généré\n",
    " * @param b un entier représentant le maximum du nombre aléatoire généré\n",
    " * @return un entier aléatoire n tel que a <= n <= b\n",
    " **/\n",
    "int aleaint(int a, int b) {\n",
    "    return rand() % (b - a + 1) + a;\n",
    "}"
   ]
  },
  {
   "cell_type": "markdown",
   "metadata": {
    "deletable": false,
    "editable": false,
    "nbgrader": {
     "cell_type": "markdown",
     "checksum": "8ade143345f9f934aee370d5220f8de8",
     "grade": false,
     "grade_id": "cell-04090934b5186301",
     "locked": true,
     "schema_version": 3,
     "solution": false
    }
   },
   "source": [
    "### `lanceDes`\n",
    "Complétez la documentation de la fonction `lanceDes` puis implémentez-la dans la case suivante en utilisant `aleaint`. Pour rappel, la fonction `lanceDes` doit renvoyer un tableau contenant 5 valeurs tirées aléatoirement entre 1 et 6. *(Comme la semaine dernière, pour contourner un bug dans cling on va mettre le type tableau à la place de `vector<int>`.)*"
   ]
  },
  {
   "cell_type": "code",
   "execution_count": null,
   "metadata": {},
   "outputs": [],
   "source": [
    "/** Fonction lanceDes\n",
    " * @return \n",
    " **/"
   ]
  },
  {
   "cell_type": "code",
   "execution_count": null,
   "metadata": {
    "deletable": false,
    "nbgrader": {
     "cell_type": "code",
     "checksum": "687b5559e35ce9727f4ca7e94517139a",
     "grade": false,
     "grade_id": "cell-2400cc6d2f03939a",
     "locked": false,
     "schema_version": 3,
     "solution": true
    }
   },
   "outputs": [],
   "source": [
    "tableau lanceDes() {\n",
    "    // VOTRE CODE ICI\n",
    "}"
   ]
  },
  {
   "cell_type": "markdown",
   "metadata": {
    "deletable": false,
    "editable": false,
    "nbgrader": {
     "cell_type": "markdown",
     "checksum": "23dbe59e01ed8f865c4332d20999a403",
     "grade": false,
     "grade_id": "cell-eb7b5f0550c1d0c2",
     "locked": true,
     "schema_version": 3,
     "solution": false
    }
   },
   "source": [
    "### `afficheDes`\n",
    "\n",
    "Complétez la documentation de la fonction `afficheDes` puis implémentez-la dans la cellule suivante. Pour rappel, cette fonction doit afficher les valeurs des dés qui lui sont donnés en entrée."
   ]
  },
  {
   "cell_type": "code",
   "execution_count": null,
   "metadata": {},
   "outputs": [],
   "source": [
    "/** Fonction afficheDes\n",
    " * @param \n",
    " * @return \n",
    " **/"
   ]
  },
  {
   "cell_type": "code",
   "execution_count": null,
   "metadata": {
    "deletable": false,
    "nbgrader": {
     "cell_type": "code",
     "checksum": "cbb7584f4ac44b540c8d33076df1f93e",
     "grade": true,
     "grade_id": "cell-c71cd541b0d5a957",
     "locked": false,
     "points": 1,
     "schema_version": 3,
     "solution": true,
     "task": false
    }
   },
   "outputs": [],
   "source": [
    "// VOTRE CODE ICI"
   ]
  },
  {
   "cell_type": "markdown",
   "metadata": {
    "deletable": false,
    "editable": false,
    "nbgrader": {
     "cell_type": "markdown",
     "checksum": "98231f7c92d4a8ad31ac38908880e190",
     "grade": false,
     "grade_id": "cell-cd2e170bbcd59ae7",
     "locked": true,
     "schema_version": 3,
     "solution": false
    }
   },
   "source": [
    "Testez vos fonctions `lanceDes` et `afficheDes` en exécutant **à plusieurs reprises** la cellule suivante :"
   ]
  },
  {
   "cell_type": "code",
   "execution_count": null,
   "metadata": {
    "deletable": false,
    "editable": false,
    "nbgrader": {
     "cell_type": "code",
     "checksum": "b01252dafee2fd73f43ec9db400ff8ca",
     "grade": false,
     "grade_id": "cell-b0fd0778b45f503e",
     "locked": true,
     "schema_version": 3,
     "solution": false,
     "task": false
    }
   },
   "outputs": [],
   "source": [
    "afficheDes(lanceDes());"
   ]
  },
  {
   "cell_type": "markdown",
   "metadata": {
    "deletable": false,
    "editable": false,
    "nbgrader": {
     "cell_type": "markdown",
     "checksum": "72468df95433e6b1c06842a9a0d3bccb",
     "grade": false,
     "grade_id": "cell-d32e8ca14d28aec7",
     "locked": true,
     "schema_version": 3,
     "solution": false
    }
   },
   "source": [
    "### compteDes\n",
    "Après avoir complété sa spécification, implémentez la fonction `compteDes` vue en TD."
   ]
  },
  {
   "cell_type": "code",
   "execution_count": null,
   "metadata": {},
   "outputs": [],
   "source": [
    "/** Fonction compteDes\n",
    " * @param \n",
    " * @return \n",
    " **/"
   ]
  },
  {
   "cell_type": "code",
   "execution_count": null,
   "metadata": {
    "deletable": false,
    "nbgrader": {
     "cell_type": "code",
     "checksum": "e03980ec589aa454961eb09fd95abb4f",
     "grade": false,
     "grade_id": "cell-cb4ed8a6d66b01c6",
     "locked": false,
     "schema_version": 3,
     "solution": true
    }
   },
   "outputs": [],
   "source": [
    "tableau compteDes(vector<int> des) {\n",
    "    // VOTRE CODE ICI\n",
    "}"
   ]
  },
  {
   "cell_type": "markdown",
   "metadata": {
    "deletable": false,
    "editable": false,
    "nbgrader": {
     "cell_type": "markdown",
     "checksum": "28fc0dc7ea3f1759f2cf69ab26bd88c0",
     "grade": false,
     "grade_id": "cell-e86e97430fbdc657",
     "locked": true,
     "schema_version": 3,
     "solution": false
    }
   },
   "source": [
    "Vérifiez la correction de votre fonction `compteDes` en exécutant les tests suivants vus en TD :"
   ]
  },
  {
   "cell_type": "code",
   "execution_count": null,
   "metadata": {
    "deletable": false,
    "editable": false,
    "nbgrader": {
     "cell_type": "code",
     "checksum": "adebed90579893c01498b8f548f246e3",
     "grade": true,
     "grade_id": "cell-fb46c8bc8918289e",
     "locked": true,
     "points": 1,
     "schema_version": 3,
     "solution": false,
     "task": false
    }
   },
   "outputs": [],
   "source": [
    "ASSERT( compteDes({1,1,1,1,1}) == vector<int>({5, 0, 0, 0, 0, 0}) );\n",
    "ASSERT( compteDes({2,2,2,2,2}) == vector<int>({0, 5, 0, 0, 0, 0}) );\n",
    "ASSERT( compteDes({3,3,3,3,3}) == vector<int>({0, 0, 5, 0, 0, 0}) );\n",
    "ASSERT( compteDes({4,4,4,4,4}) == vector<int>({0, 0, 0, 5, 0, 0}) );\n",
    "ASSERT( compteDes({5,5,5,5,5}) == vector<int>({0, 0, 0, 0, 5, 0}) );\n",
    "ASSERT( compteDes({6,6,6,6,6}) == vector<int>({0, 0, 0, 0, 0, 5}) );\n",
    "ASSERT( compteDes({1,2,3,4,5}) == vector<int>({1, 1, 1, 1, 1, 0}) );\n",
    "ASSERT( compteDes({2,2,6,2,2}) == vector<int>({0, 4, 0, 0, 0, 1}) );\n",
    "ASSERT( compteDes({4,1,4,1,1}) == vector<int>({3, 0, 0, 2, 0, 0}) );"
   ]
  },
  {
   "cell_type": "markdown",
   "metadata": {
    "deletable": false,
    "editable": false,
    "nbgrader": {
     "cell_type": "markdown",
     "checksum": "cfc71814a5eecd14ee33c719383f6191",
     "grade": false,
     "grade_id": "cell-374ed3ce37f10dd5",
     "locked": true,
     "schema_version": 3,
     "solution": false
    }
   },
   "source": [
    "### chercheDansTab\n",
    "\n",
    "Au tour maintenant de `chercheDansTab` qui étant donné un entier et un tableau cherche si cet entier est présent ou non dans le tableau, renvoie son indice s'il est présent, et -1 sinon."
   ]
  },
  {
   "cell_type": "code",
   "execution_count": null,
   "metadata": {},
   "outputs": [],
   "source": [
    "/** Fonction chercheDansTab\n",
    " * @param \n",
    " * @param \n",
    " * @return \n",
    " **/"
   ]
  },
  {
   "cell_type": "code",
   "execution_count": null,
   "metadata": {
    "deletable": false,
    "nbgrader": {
     "cell_type": "code",
     "checksum": "1ebaa2665377a4b0cb5eed9d8fa46c52",
     "grade": false,
     "grade_id": "cell-ba94d696690fcdcd",
     "locked": false,
     "schema_version": 3,
     "solution": true
    }
   },
   "outputs": [],
   "source": [
    "// VOTRE CODE ICI"
   ]
  },
  {
   "cell_type": "markdown",
   "metadata": {
    "deletable": false,
    "editable": false,
    "nbgrader": {
     "cell_type": "markdown",
     "checksum": "7cd10109507ace1b940f7e56ebaa004d",
     "grade": false,
     "grade_id": "cell-089973920882695d",
     "locked": true,
     "schema_version": 3,
     "solution": false
    }
   },
   "source": [
    "Complétez les tests de la cellule suivante et exécutez-les pour vérifier la correction de votre fonction `chercheDansTab`."
   ]
  },
  {
   "cell_type": "code",
   "execution_count": null,
   "metadata": {
    "deletable": false,
    "editable": false,
    "nbgrader": {
     "cell_type": "code",
     "checksum": "eae3393268a160d6baaef0d9b09128ea",
     "grade": true,
     "grade_id": "cell-91db74d6de43eef4",
     "locked": true,
     "points": 1,
     "schema_version": 3,
     "solution": false
    }
   },
   "outputs": [],
   "source": [
    "ASSERT( chercheDansTab( 3, {42,5,3,6,7}) ==  2);\n",
    "ASSERT( chercheDansTab(56, {42,3,5,6,7}) == -1);"
   ]
  },
  {
   "cell_type": "code",
   "execution_count": null,
   "metadata": {
    "deletable": false,
    "nbgrader": {
     "cell_type": "code",
     "checksum": "cf9b0760d7f9bf4f4df2483f17f89b23",
     "grade": true,
     "grade_id": "cell-91db74d6de43eef5",
     "locked": false,
     "points": 1,
     "schema_version": 3,
     "solution": true,
     "task": false
    }
   },
   "outputs": [],
   "source": [
    "// VOTRE CODE ICI"
   ]
  },
  {
   "cell_type": "markdown",
   "metadata": {
    "deletable": false,
    "editable": false,
    "nbgrader": {
     "cell_type": "markdown",
     "checksum": "ee0fbec143a93306fd6be9478915c64f",
     "grade": false,
     "grade_id": "cell-76cb66dd2a5989a3",
     "locked": true,
     "schema_version": 3,
     "solution": false
    }
   },
   "source": [
    "### Main\n",
    "Écrivez ci-dessous les instructions pour :\n",
    "- Tirer 5 dés aléatoirement et stocker le résultat dans la variable tirage.\n",
    "- Afficher le résultat du tirage.\n",
    "- Afficher le nombre de points obtenus en cherchant un Yams dans ce tirage.\n",
    "\n",
    "Testez votre chance en exécutant plusieurs fois la cellule !"
   ]
  },
  {
   "cell_type": "code",
   "execution_count": null,
   "metadata": {
    "deletable": false,
    "editable": false,
    "nbgrader": {
     "cell_type": "code",
     "checksum": "09888343daad867a8a9619eb5315a864",
     "grade": false,
     "grade_id": "cell-fc92242a65bb244c",
     "locked": true,
     "schema_version": 3,
     "solution": false,
     "task": false
    }
   },
   "outputs": [],
   "source": [
    "vector<int> tirage;"
   ]
  },
  {
   "cell_type": "code",
   "execution_count": null,
   "metadata": {
    "deletable": false,
    "nbgrader": {
     "cell_type": "code",
     "checksum": "21dc93eca449542f4c2e27b7239812fc",
     "grade": false,
     "grade_id": "cell-6d6243145c1a53a7",
     "locked": false,
     "schema_version": 3,
     "solution": true
    }
   },
   "outputs": [],
   "source": [
    "// VOTRE CODE ICI"
   ]
  },
  {
   "cell_type": "markdown",
   "metadata": {
    "deletable": false,
    "editable": false,
    "nbgrader": {
     "cell_type": "markdown",
     "checksum": "a062ed27c27554f4b3a706f1e2d42644",
     "grade": false,
     "grade_id": "cell-6258bcc27bfdbca7",
     "locked": true,
     "schema_version": 3,
     "solution": false
    }
   },
   "source": [
    "## Compilation et test en dehors de Jupyter\n",
    "\n",
    "- Ouvrez votre fichier `yams.cpp`.\n",
    "- Copiez-collez les fonctions `lanceDes`, `compteDes` et `chercheDansTab` à un endroit adapté.\n",
    "- Remplacez le contenu de la fonction `main` par le code des deux cellules précedentes.\n",
    "- **Enregistrez** votre fichier `yams.cpp`\n",
    "- **Compilez**-le à l'aide de la commande **`g++ --std=c++11 yams.cpp -o yams`**\n",
    "- **Exécutez** le programme ainsi généré : `./yams`. Le résultat est-il bien celui attendu ?"
   ]
  },
  {
   "cell_type": "markdown",
   "metadata": {
    "deletable": false,
    "editable": false,
    "nbgrader": {
     "cell_type": "markdown",
     "checksum": "d049897a78e375589bc53f7740bd1ea5",
     "grade": false,
     "grade_id": "cell-2f1b88aea00c9cca",
     "locked": true,
     "schema_version": 3,
     "solution": false
    }
   },
   "source": [
    " ## Les autres figures"
   ]
  },
  {
   "cell_type": "markdown",
   "metadata": {
    "deletable": false,
    "editable": false,
    "nbgrader": {
     "cell_type": "markdown",
     "checksum": "71dc0adae397d73c32949227f55b8303",
     "grade": false,
     "grade_id": "cell-203be4570bd190bd",
     "locked": true,
     "schema_version": 3,
     "solution": false
    }
   },
   "source": [
    "### `pointsFigureBrelan`\n",
    "Voici une fonction `pointsFigureBrelan` un peu différente de celle vue en TD :"
   ]
  },
  {
   "cell_type": "code",
   "execution_count": null,
   "metadata": {
    "deletable": false,
    "editable": false,
    "nbgrader": {
     "cell_type": "code",
     "checksum": "75b89f5b40c8a6fe4de1eff16062e8a6",
     "grade": false,
     "grade_id": "cell-e0e0e9091c124592",
     "locked": true,
     "schema_version": 3,
     "solution": false,
     "task": false
    }
   },
   "outputs": [],
   "source": [
    "/** Fonction pointsFigureBrelan\n",
    " * @param des un tableau de 5 entiers (les dés)\n",
    " * @return 0 si aucun brelan est trouvé, la somme des dés formant le brelan + 10 sinon\n",
    " **/"
   ]
  },
  {
   "cell_type": "code",
   "execution_count": null,
   "metadata": {
    "deletable": false,
    "editable": false,
    "nbgrader": {
     "cell_type": "code",
     "checksum": "4840ba3fd23c29a1ec70eb3b85f3e467",
     "grade": false,
     "grade_id": "cell-c9713a5cdc3e9d24",
     "locked": true,
     "schema_version": 3,
     "solution": false,
     "task": false
    }
   },
   "outputs": [],
   "source": [
    "int pointsFigureBrelan(vector<int> des) {\n",
    "    vector<int> compte = compteDes(des);\n",
    "    \n",
    "    int valeur = (chercheDansTab(3, compte) + 1)\n",
    "               + (chercheDansTab(4, compte) + 1)\n",
    "               + (chercheDansTab(5, compte) + 1);\n",
    "\n",
    "    if (valeur > 0) \n",
    "        return (valeur * 3) + 10;\n",
    "    else\n",
    "        return 0;\n",
    "}"
   ]
  },
  {
   "cell_type": "markdown",
   "metadata": {
    "collapsed": true,
    "deletable": false,
    "editable": false,
    "nbgrader": {
     "cell_type": "markdown",
     "checksum": "ff863e0f3f641ba797fd941b96e8c648",
     "grade": false,
     "grade_id": "cell-d1fdee8dffebbc7c",
     "locked": true,
     "schema_version": 3,
     "solution": false,
     "task": false
    }
   },
   "source": [
    "Analysez son fonctionnement puis écrivez quelques tests pour vérifier qu'elle se comporte comme prévu :"
   ]
  },
  {
   "cell_type": "code",
   "execution_count": null,
   "metadata": {
    "deletable": false,
    "nbgrader": {
     "cell_type": "code",
     "checksum": "ee1cf41e90116cf2e43fcfc1d693c940",
     "grade": true,
     "grade_id": "cell-f542f957d93223ad",
     "locked": false,
     "points": 1,
     "schema_version": 3,
     "solution": true,
     "task": false
    }
   },
   "outputs": [],
   "source": [
    "// VOTRE CODE ICI"
   ]
  },
  {
   "cell_type": "markdown",
   "metadata": {
    "deletable": false,
    "editable": false,
    "nbgrader": {
     "cell_type": "markdown",
     "checksum": "8a6bd8297b62a9328de49544c0e84b59",
     "grade": false,
     "grade_id": "cell-8e9ded0c351723a8",
     "locked": true,
     "schema_version": 3,
     "solution": false,
     "task": false
    }
   },
   "source": [
    "### `pointsFigureCarre` & `pointsFigureFull`\n",
    "\n",
    "Sur le même modèle, donnez deux fonctions `pointsFigureCarre` et `pointsFigureFull` répondant aux documentations ci-dessous :"
   ]
  },
  {
   "cell_type": "code",
   "execution_count": null,
   "metadata": {
    "deletable": false,
    "editable": false,
    "nbgrader": {
     "cell_type": "code",
     "checksum": "4513944e61cff58b4c4c462e3e5ee110",
     "grade": false,
     "grade_id": "cell-a5b3fd2f1ed74d99",
     "locked": true,
     "schema_version": 3,
     "solution": false,
     "task": false
    }
   },
   "outputs": [],
   "source": [
    "/** Fonction pointsFigureCarre\n",
    " * @param des un tableau de 5 entiers (les dés)\n",
    " * @return 0 si aucun carre (4 dés identiques) est trouvé, la somme des dés formant le carré + 30 sinon\n",
    " **/"
   ]
  },
  {
   "cell_type": "code",
   "execution_count": null,
   "metadata": {
    "deletable": false,
    "nbgrader": {
     "cell_type": "code",
     "checksum": "0d0394bbaf99c1dc14d8d95b756f644d",
     "grade": false,
     "grade_id": "cell-ee9ea92251796b50",
     "locked": false,
     "schema_version": 3,
     "solution": true
    }
   },
   "outputs": [],
   "source": [
    "// VOTRE CODE ICI"
   ]
  },
  {
   "cell_type": "code",
   "execution_count": null,
   "metadata": {
    "deletable": false,
    "editable": false,
    "nbgrader": {
     "cell_type": "code",
     "checksum": "c5a5f6417b7ef1525ea34145ddd3cf01",
     "grade": false,
     "grade_id": "cell-ee350756a6f1c8e6",
     "locked": true,
     "schema_version": 3,
     "solution": false,
     "task": false
    }
   },
   "outputs": [],
   "source": [
    "/** Fonction pointsFigureFull,\n",
    " * @param des un tableau de 5 entiers contenant les valeurs des dés\n",
    " * @return 0 si pas de full, somme des dés composant le full + 20 si full il y a\n",
    " **/"
   ]
  },
  {
   "cell_type": "code",
   "execution_count": null,
   "metadata": {
    "deletable": false,
    "nbgrader": {
     "cell_type": "code",
     "checksum": "43110e994c80b61103df65ad9e7fad81",
     "grade": false,
     "grade_id": "cell-351f844238b00999",
     "locked": false,
     "schema_version": 3,
     "solution": true
    }
   },
   "outputs": [],
   "source": [
    "// VOTRE CODE ICI"
   ]
  },
  {
   "cell_type": "markdown",
   "metadata": {
    "deletable": false,
    "editable": false,
    "nbgrader": {
     "cell_type": "markdown",
     "checksum": "6df57d79b56418c9c8bf49c8c2c44062",
     "grade": false,
     "grade_id": "cell-e9ed1239c05d3a53",
     "locked": true,
     "schema_version": 3,
     "solution": false,
     "task": false
    }
   },
   "source": [
    "Testez-les :"
   ]
  },
  {
   "cell_type": "code",
   "execution_count": null,
   "metadata": {
    "deletable": false,
    "editable": false,
    "nbgrader": {
     "cell_type": "code",
     "checksum": "1f8738aa0087b30593c8472207ab5980",
     "grade": true,
     "grade_id": "cell-a7740a7033a46a89",
     "locked": true,
     "points": 1,
     "schema_version": 3,
     "solution": false,
     "task": false
    }
   },
   "outputs": [],
   "source": [
    "ASSERT( pointsFigureFull({4,4,4,1,1}) == 34 );\n",
    "ASSERT( pointsFigureFull({1,1,4,4,5}) ==  0 );\n",
    "\n",
    "ASSERT( pointsFigureCarre({4,4,4,4,1}) == 46 );\n",
    "ASSERT( pointsFigureCarre({4,4,4,2,5}) ==  0 );"
   ]
  },
  {
   "cell_type": "markdown",
   "metadata": {
    "deletable": false,
    "editable": false,
    "nbgrader": {
     "cell_type": "markdown",
     "checksum": "dd00c9f46921341084384141979ffff3",
     "grade": false,
     "grade_id": "cell-2775b19eb90e3da1",
     "locked": true,
     "schema_version": 3,
     "solution": false
    }
   },
   "source": [
    "### `pointsFigure`\n",
    "Nous vous donnons la fonction `pointsFigure` vue en TD qui a pour but de chercher la figure choisie par l'utilisateur (via une chaîne de caractères) et de retourner le nombre de points ainsi obtenu."
   ]
  },
  {
   "cell_type": "code",
   "execution_count": null,
   "metadata": {
    "deletable": false,
    "editable": false,
    "nbgrader": {
     "cell_type": "code",
     "checksum": "6d045daa864ad61ccecfa5da2c44ce69",
     "grade": false,
     "grade_id": "cell-452384d8a308fc1f",
     "locked": true,
     "schema_version": 3,
     "solution": false,
     "task": false
    }
   },
   "outputs": [],
   "source": [
    "/** Fonction pointsFigure,\n",
    " * @param des un tableau de 5 entiers contenant les valeurs des dés\n",
    " * @param figure une chaine de caractères contenant le nom de la figure a chercher\n",
    " * @return 0 si figure introuvable ou inconnue, le score correspondant sinon\n",
    " **/"
   ]
  },
  {
   "cell_type": "code",
   "execution_count": null,
   "metadata": {
    "deletable": false,
    "editable": false,
    "nbgrader": {
     "cell_type": "code",
     "checksum": "d7ddfdf7a1a7dcba30dc325408e17103",
     "grade": false,
     "grade_id": "cell-328296671f32464d",
     "locked": true,
     "schema_version": 3,
     "solution": false,
     "task": false
    }
   },
   "outputs": [],
   "source": [
    "int pointsFigure(vector<int> des, string figure) {\n",
    "    if        ( figure == \"brelan\" ) {\n",
    "      return pointsFigureBrelan(des);\n",
    "    } else if ( figure == \"full\"   ) {\n",
    "        return pointsFigureFull(des);\n",
    "    } else if ( figure == \"carre\"  ) {\n",
    "        return pointsFigureCarre(des);\n",
    "    } else if ( figure == \"yams\"   ) {\n",
    "        return pointsFigureYams(des);\n",
    "    } \n",
    "    return 0;\n",
    "}"
   ]
  },
  {
   "cell_type": "markdown",
   "metadata": {
    "deletable": false,
    "editable": false,
    "nbgrader": {
     "cell_type": "markdown",
     "checksum": "9364536bfbd33f70249ff9c1eda15b43",
     "grade": false,
     "grade_id": "cell-9957e2bdc6fd8707",
     "locked": true,
     "schema_version": 3,
     "solution": false
    }
   },
   "source": [
    "## Compilation et test en dehors de Jupyter\n",
    "\n",
    "- Ouvrez votre fichier `yams.cpp`.\n",
    "- Copiez-collez les fonctions `pointsFigureCarre` et `pointsFigureFull` à un endroit adapté.\n",
    "- *Décommentez* les fonctions `pointsFigureBrelan` et `pointsFigure`.\n",
    "- **Enregistrez** votre fichier `yams.cpp`\n",
    "- **Vérifiez qu'il compile toujours** à l'aide de la commande `g++ --std=c++11 yams.cpp -o yams`\n",
    "- *Exécuter le programme tel quel ne changera rien à l'exécution précédente car nous n'avons pas modifié la fonction **main**, c'est ce que nous allons faire dans la partie suivante.*"
   ]
  },
  {
   "cell_type": "markdown",
   "metadata": {
    "deletable": false,
    "editable": false,
    "nbgrader": {
     "cell_type": "markdown",
     "checksum": "70da04c656a9d18181ebbfa35315c3f6",
     "grade": false,
     "grade_id": "cell-217bb315221f2bcb",
     "locked": true,
     "schema_version": 3,
     "solution": false
    }
   },
   "source": [
    "## Boucle de jeu : la fonction main"
   ]
  },
  {
   "cell_type": "markdown",
   "metadata": {
    "deletable": false,
    "editable": false,
    "nbgrader": {
     "cell_type": "markdown",
     "checksum": "36721bfa81afce6e4bfde59688f65339",
     "grade": false,
     "grade_id": "cell-d0fe9b8212280dc6",
     "locked": true,
     "schema_version": 3,
     "solution": false
    }
   },
   "source": [
    "La boucle de jeu, infinie, se décompose de la façon suivante :\n",
    "> ### Avant la boucle :\n",
    "> - Déclaration des variables permettant de stocker la valeur des **dés**, le **score** et la **reponse** écrite du joueur.\n",
    ">\n",
    "> ### Pendant la boucle :\n",
    "> - On lance les dés et on stocke le résultat dans la variable appropriée.\n",
    "> - On affiche le résultat du lancé à l'utilisateur et on demande quelle figure il choisit.\n",
    "> - On boucle tant que l'utilisateur donne une réponse qui n'est ni une figure (**brelan**, **full**, **carre**, **yams**) ni **exit**.\n",
    "> - Si l'utilisateur a répondu **exit** on sort de la boucle principale avec l'instruction **return 0;**\n",
    "> - Sinon, c'est que l'utilisateur a donné le nom d'une figure, on appelle donc **pointsFigure** de façon à récupérer le nombre de points correspondant à cette figure et à ce lancer de dés. On ajoute ces points au score du joueur, et on affiche le résultat au joueur.\n",
    "\n",
    "Dans Jupyter on ne peut pas utiliser \"cin\" pour demander quelque chose à l'utilisateur, on **simulera donc les boucles par une exécution multiple des cellules concernées**. Votre objectif est de **compléter le corps de la boucle ci-dessous**, puis de **tester le jeu en exécutant les cellules dans l'ordre approprié**."
   ]
  },
  {
   "cell_type": "markdown",
   "metadata": {
    "deletable": false,
    "editable": false,
    "nbgrader": {
     "cell_type": "markdown",
     "checksum": "4a435128be2e862adabd1f2cf1efaebf",
     "grade": false,
     "grade_id": "cell-0007a11a16dc6c1d",
     "locked": true,
     "schema_version": 3,
     "solution": false
    }
   },
   "source": [
    "### /\\* AVANT LA BOUCLE PRINCIPALE \\*/"
   ]
  },
  {
   "cell_type": "code",
   "execution_count": null,
   "metadata": {
    "deletable": false,
    "editable": false,
    "nbgrader": {
     "cell_type": "code",
     "checksum": "bededf09f5d5bfc5190ef1af0e24b434",
     "grade": false,
     "grade_id": "cell-1b909b89c99451ac",
     "locked": true,
     "schema_version": 3,
     "solution": false,
     "task": false
    }
   },
   "outputs": [],
   "source": [
    "int pts, score = 0;\n",
    "string reponse = \"\";\n",
    "vector<int> des;"
   ]
  },
  {
   "cell_type": "markdown",
   "metadata": {
    "deletable": false,
    "editable": false,
    "nbgrader": {
     "cell_type": "markdown",
     "checksum": "d6b122036928e70881250eddaec95b49",
     "grade": false,
     "grade_id": "cell-97cf55fa5ff66cda",
     "locked": true,
     "schema_version": 3,
     "solution": false
    }
   },
   "source": [
    "### /\\* BOUCLE PRINCIPALE \\*/\n",
    "On lance les dés et on stocke le résultat dans la variable appropriée :"
   ]
  },
  {
   "cell_type": "code",
   "execution_count": null,
   "metadata": {
    "deletable": false,
    "nbgrader": {
     "cell_type": "code",
     "checksum": "2bac1ea4f46f806e6f8132369a42528d",
     "grade": true,
     "grade_id": "cell-92a727dd6952ff6f",
     "locked": false,
     "points": 1,
     "schema_version": 3,
     "solution": true,
     "task": false
    }
   },
   "outputs": [],
   "source": [
    "// VOTRE CODE ICI"
   ]
  },
  {
   "cell_type": "markdown",
   "metadata": {
    "deletable": false,
    "editable": false,
    "nbgrader": {
     "cell_type": "markdown",
     "checksum": "b45b02d921c2fbe0416be63869de529c",
     "grade": false,
     "grade_id": "cell-53956a4ccaa8c96b",
     "locked": true,
     "schema_version": 3,
     "solution": false
    }
   },
   "source": [
    "On affiche le résultat du lancé au joueur et on affiche un texte demandant quelle figure il choisit :"
   ]
  },
  {
   "cell_type": "code",
   "execution_count": null,
   "metadata": {
    "deletable": false,
    "nbgrader": {
     "cell_type": "code",
     "checksum": "30e283794c07fea4f789b293ad519aa2",
     "grade": true,
     "grade_id": "cell-096cc4b7f9dd204b",
     "locked": false,
     "points": 1,
     "schema_version": 3,
     "solution": true,
     "task": false
    }
   },
   "outputs": [],
   "source": [
    "// VOTRE CODE ICI"
   ]
  },
  {
   "cell_type": "markdown",
   "metadata": {
    "deletable": false,
    "editable": false,
    "nbgrader": {
     "cell_type": "markdown",
     "checksum": "0e2ec8e744829caeec1b94faaeec4629",
     "grade": false,
     "grade_id": "cell-534727077c44c82b",
     "locked": true,
     "schema_version": 3,
     "solution": false
    }
   },
   "source": [
    "On boucle tant que la réponse de l'utilisateur n'est pas brelan, carre, full ou yams ni exit. Ici, on considère que le joueur modifie directement la cellule suivante pour indiquer son choix :"
   ]
  },
  {
   "cell_type": "code",
   "execution_count": null,
   "metadata": {
    "deletable": false,
    "editable": false,
    "nbgrader": {
     "cell_type": "code",
     "checksum": "f761cbe3e51d035b2afc7bba6a7e909b",
     "grade": false,
     "grade_id": "cell-9c34399406e3c9fb",
     "locked": true,
     "schema_version": 3,
     "solution": false,
     "task": false
    }
   },
   "outputs": [],
   "source": [
    "reponse = \"brelan\";"
   ]
  },
  {
   "cell_type": "markdown",
   "metadata": {
    "deletable": false,
    "editable": false,
    "nbgrader": {
     "cell_type": "markdown",
     "checksum": "57e7e796e480cf8fd24a026a6608356d",
     "grade": false,
     "grade_id": "cell-00f3946a079599bf",
     "locked": true,
     "schema_version": 3,
     "solution": false
    }
   },
   "source": [
    "Si l'utilisateur a répondu **exit** on affiche \"Fin du programme\" dans Jupyter (mais dans le programme compilé il faudra penser à sortir de la boucle principale avec l'instruction **return 0;**)."
   ]
  },
  {
   "cell_type": "code",
   "execution_count": null,
   "metadata": {
    "deletable": false,
    "editable": false,
    "nbgrader": {
     "cell_type": "code",
     "checksum": "6b7fdc18f3fb721290641c2542ec588a",
     "grade": false,
     "grade_id": "cell-1e5d72c36917c373",
     "locked": true,
     "schema_version": 3,
     "solution": false,
     "task": false
    }
   },
   "outputs": [],
   "source": [
    "if (reponse == \"exit\") cout << \"Fin du jeu, votre score final est : \" << score << endl;"
   ]
  },
  {
   "cell_type": "markdown",
   "metadata": {
    "deletable": false,
    "editable": false,
    "nbgrader": {
     "cell_type": "markdown",
     "checksum": "96dcdfebe834fde366419bf715544af3",
     "grade": false,
     "grade_id": "cell-880ced3468d45bd1",
     "locked": true,
     "schema_version": 3,
     "solution": false
    }
   },
   "source": [
    "Sinon, c'est que l'utilisateur a donné le nom d'une figure, on appelle alors **pointsFigure** de façon à récupérer le nombre de points correspondant à cette figure et à ce lancer de dés. On ajoute ces points au score du joueur, et on affiche le résultat au joueur."
   ]
  },
  {
   "cell_type": "code",
   "execution_count": null,
   "metadata": {
    "deletable": false,
    "nbgrader": {
     "cell_type": "code",
     "checksum": "698b9c49ac0a6a289fd822406e1ca7c0",
     "grade": true,
     "grade_id": "cell-59a128ea054550e1",
     "locked": false,
     "points": 1,
     "schema_version": 3,
     "solution": true,
     "task": false
    }
   },
   "outputs": [],
   "source": [
    "// VOTRE CODE ICI"
   ]
  },
  {
   "cell_type": "markdown",
   "metadata": {
    "deletable": false,
    "editable": false,
    "nbgrader": {
     "cell_type": "markdown",
     "checksum": "68dd9e93da35fd758c123309ac3397ee",
     "grade": false,
     "grade_id": "cell-b7f9ac24211d8b2d",
     "locked": true,
     "schema_version": 3,
     "solution": false
    }
   },
   "source": [
    "### /\\* FIN DE LA BOUCLE PRINCIPALE \\*/"
   ]
  },
  {
   "cell_type": "markdown",
   "metadata": {
    "deletable": false,
    "editable": false,
    "nbgrader": {
     "cell_type": "markdown",
     "checksum": "ca6c626d0db76f6bd3fc55138e8de547",
     "grade": false,
     "grade_id": "cell-b9e9ca23583105bc",
     "locked": true,
     "schema_version": 3,
     "solution": false
    }
   },
   "source": [
    "## Compilation et test en dehors de Jupyter\n",
    "Enfin, en vous basant sur le code de cette partie de la fiche, la fin du TD et le squelette suivant, **complétez la fonction main de votre fichier *yams.cpp* afin de pouvoir jouer au jeu en l'exécutant (après l'avoir compilé) depuis votre terminal**. *(Si jamais vous entrez dans une boucle infinie, vous pouvez stopper votre programme à tout moment en pressant les touches `ctrl+c`)*"
   ]
  },
  {
   "cell_type": "markdown",
   "metadata": {
    "deletable": false,
    "editable": false,
    "nbgrader": {
     "cell_type": "markdown",
     "checksum": "17f1cc31212b6d237df2a70778657bfe",
     "grade": false,
     "grade_id": "cell-a70fb12dada72cca",
     "locked": true,
     "schema_version": 3,
     "solution": false,
     "task": false
    }
   },
   "source": [
    "```c++\n",
    "int main() {\n",
    "  // Initialisation de la fonction rand (pour les nombres aléatoires) :\n",
    "  srand(time(0));\n",
    "\n",
    "  // AVANT LA BOUCLE PRINCIPALE\n",
    "  // On déclare les variables utilisées par la boucle principale :\n",
    "  \n",
    "  // BOUCLE PRINCIPALE\n",
    "  while (true) {\n",
    "    // On lance les dés et on stocke le résultat dans la variable appropriée :\n",
    "    \n",
    "    // On affiche le résultat du lancé au joueur et on affiche un texte demandant quelle figure il choisit :\n",
    "\n",
    "    // On boucle tant que la réponse de l'utilisateur n'est pas brelan, carre, full ou yams ni exit : \n",
    "    do {\n",
    "      cin >> reponse;\n",
    "    } while (reponse != \"brelan\" and reponse != \"full\" \n",
    "\t     and reponse != \"carre\" and reponse != \"yams\" and reponse != \"exit\");\n",
    "\n",
    "\t// Si la réponse est exit on quitte l'application :\n",
    "    if(reponse == \"exit\") { \n",
    "        return 0; \n",
    "    }\n",
    "    \n",
    "    // Si l'utilisateur a choisi une figure on calcule le nouveau score et on l'affiche :\n",
    "  }\n",
    "  // FIN DE LA BOUCLE PRINCIPALE\n",
    "    \n",
    "  return 0;\n",
    "}\n",
    "```"
   ]
  },
  {
   "cell_type": "markdown",
   "metadata": {
    "deletable": false,
    "editable": false,
    "nbgrader": {
     "cell_type": "markdown",
     "checksum": "05803635c7783c8f6bf02362b35eaf50",
     "grade": false,
     "grade_id": "cell-d1ac5129b5c6f068",
     "locked": true,
     "schema_version": 3,
     "solution": false
    }
   },
   "source": [
    "## <span style=\"font-size: 150%\">♣</span> De la suite dans les idées "
   ]
  },
  {
   "cell_type": "markdown",
   "metadata": {
    "deletable": false,
    "editable": false,
    "nbgrader": {
     "cell_type": "markdown",
     "checksum": "d631fc79ec49e6b13901ba67ca526f34",
     "grade": false,
     "grade_id": "cell-0bb931cc66d8c75a",
     "locked": true,
     "schema_version": 3,
     "solution": false
    }
   },
   "source": [
    "Dans le jeux de Yams complet d'autres figures sont reconnues comme la Grande Suite (5 dés qui se suivent comme 2,3,4,5,6) et la Petite Suite (4 dés qui se suivent comme 2,3,4,5). Attention, l'ordre des dés n'a pas d'importance, les dés 2,4,3,1,5 forment donc une grande suite, même s'ils sont dans le désordre !\n",
    "\n",
    "Donner deux fonctions répondant aux spécifications ci-dessous et vérifier que vos implémentations passent les tests:"
   ]
  },
  {
   "cell_type": "code",
   "execution_count": null,
   "metadata": {
    "deletable": false,
    "editable": false,
    "nbgrader": {
     "cell_type": "code",
     "checksum": "2d016fa05d0056a559936d715ba2bfca",
     "grade": false,
     "grade_id": "cell-ae6ac015ffb2c632",
     "locked": true,
     "schema_version": 3,
     "solution": false,
     "task": false
    }
   },
   "outputs": [],
   "source": [
    "/** Fonction pointsFigureGrandeSuite\n",
    " * @param des un tableau de 5 entiers (les dés)\n",
    " * @return 0 si aucune grande suite (5 dés qui se suivent) n est trouvée, \n",
    " *   la somme des dés formant la grande suite  + 50 sinon\n",
    " **/"
   ]
  },
  {
   "cell_type": "code",
   "execution_count": null,
   "metadata": {
    "deletable": false,
    "nbgrader": {
     "cell_type": "code",
     "checksum": "3bb6799c6b6c049dd08968a5c49fe105",
     "grade": false,
     "grade_id": "cell-b61d5e0e0254a652",
     "locked": false,
     "schema_version": 3,
     "solution": true
    }
   },
   "outputs": [],
   "source": [
    "// VOTRE CODE ICI"
   ]
  },
  {
   "cell_type": "code",
   "execution_count": null,
   "metadata": {
    "deletable": false,
    "editable": false,
    "nbgrader": {
     "cell_type": "code",
     "checksum": "217ba5285e4786231430d5d5aef9bb48",
     "grade": true,
     "grade_id": "cell-7b2e9d66e5e91143",
     "locked": true,
     "points": 1,
     "schema_version": 3,
     "solution": false
    }
   },
   "outputs": [],
   "source": [
    "ASSERT( pointsFigureGrandeSuite({4,3,2,1,5}) == 15+50 );\n",
    "ASSERT( pointsFigureGrandeSuite({2,3,4,5,6}) == 20+50 );\n",
    "ASSERT( pointsFigureGrandeSuite({2,3,4,5,2}) ==     0 );"
   ]
  },
  {
   "cell_type": "code",
   "execution_count": null,
   "metadata": {
    "deletable": false,
    "editable": false,
    "nbgrader": {
     "cell_type": "code",
     "checksum": "1ba42e77819a999625bc429d38b08b92",
     "grade": false,
     "grade_id": "cell-9c53aa2f27303d0b",
     "locked": true,
     "schema_version": 3,
     "solution": false,
     "task": false
    }
   },
   "outputs": [],
   "source": [
    "/** Fonction pointsFigurePetiteSuite\n",
    " * @param des un tableau de 5 entiers (les dés)\n",
    " * @return 0 si aucune petite suite (4 dés qui se suivent) n est trouvée, \n",
    " *   la somme des dés formant la petite suite  + 40 sinon\n",
    " **/"
   ]
  },
  {
   "cell_type": "code",
   "execution_count": null,
   "metadata": {
    "deletable": false,
    "nbgrader": {
     "cell_type": "code",
     "checksum": "f8381317b15961731d2dd7a2a3524b85",
     "grade": false,
     "grade_id": "cell-0d76bd6bdf1fba46",
     "locked": false,
     "schema_version": 3,
     "solution": true
    }
   },
   "outputs": [],
   "source": [
    "// VOTRE CODE ICI"
   ]
  },
  {
   "cell_type": "code",
   "execution_count": null,
   "metadata": {
    "deletable": false,
    "editable": false,
    "nbgrader": {
     "cell_type": "code",
     "checksum": "635fbe7551bd9a4af7289a2f6f05cb0f",
     "grade": true,
     "grade_id": "cell-27757a711ef348de",
     "locked": true,
     "points": 1,
     "schema_version": 3,
     "solution": false
    }
   },
   "outputs": [],
   "source": [
    "ASSERT( pointsFigurePetiteSuite({2,3,4,5,2}) == 14+40 );\n",
    "ASSERT( pointsFigurePetiteSuite({3,3,4,5,6}) == 18+40 );\n",
    "ASSERT( pointsFigurePetiteSuite({2,3,4,2,2}) == 0 );"
   ]
  },
  {
   "cell_type": "markdown",
   "metadata": {
    "deletable": false,
    "editable": false,
    "nbgrader": {
     "cell_type": "markdown",
     "checksum": "59e7ecbfaac6664dfac9385b2a888a2d",
     "grade": false,
     "grade_id": "cell-11e28f7da9b9115e",
     "locked": true,
     "schema_version": 3,
     "solution": false
    }
   },
   "source": [
    "Modifiez maintenant la boucle de jeu réalisée un peu plus haut afin de prendre en compte ces deux nouvelles figures. Testez-là en executant les cellules dans le bon ordre. "
   ]
  },
  {
   "cell_type": "markdown",
   "metadata": {
    "deletable": false,
    "editable": false,
    "nbgrader": {
     "cell_type": "markdown",
     "checksum": "2d595c615246482b178610ac26ed1503",
     "grade": false,
     "grade_id": "cell-40b367fc26d3b2d2",
     "locked": true,
     "schema_version": 3,
     "solution": false
    }
   },
   "source": [
    "## Compilation et test en dehors de Jupyter\n",
    "\n",
    "- **Ajoutez à votre fichier yams.cpp les fonctions que vous venez de réaliser.** \n",
    "- Modifiez la fonction **main** en conséquence. \n",
    "- **Compilez** votre programme et **testez-le** en l'exécutant."
   ]
  }
 ],
 "metadata": {
  "kernelspec": {
   "display_name": "C++11",
   "language": "C++11",
   "name": "xcpp11"
  },
  "language_info": {
   "codemirror_mode": "text/x-c++src",
   "file_extension": ".cpp",
   "mimetype": "text/x-c++src",
   "name": "c++",
   "version": "-std=c++11"
  },
  "toc": {
   "base_numbering": 1,
   "nav_menu": {},
   "number_sections": true,
   "sideBar": true,
   "skip_h1_title": false,
   "title_cell": "Table of Contents",
   "title_sidebar": "Contents",
   "toc_cell": false,
   "toc_position": {},
   "toc_section_display": true,
   "toc_window_display": false
  },
  "varInspector": {
   "cols": {
    "lenName": 16,
    "lenType": 16,
    "lenVar": 40
   },
   "kernels_config": {
    "python": {
     "delete_cmd_postfix": "",
     "delete_cmd_prefix": "del ",
     "library": "var_list.py",
     "varRefreshCmd": "print(var_dic_list())"
    },
    "r": {
     "delete_cmd_postfix": ") ",
     "delete_cmd_prefix": "rm(",
     "library": "var_list.r",
     "varRefreshCmd": "cat(var_dic_list()) "
    }
   },
   "types_to_exclude": [
    "module",
    "function",
    "builtin_function_or_method",
    "instance",
    "_Feature"
   ],
   "window_display": false
  }
 },
 "nbformat": 4,
 "nbformat_minor": 2
}
