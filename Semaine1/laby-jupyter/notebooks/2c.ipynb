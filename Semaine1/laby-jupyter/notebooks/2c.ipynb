{
 "cells": [
  {
   "cell_type": "markdown",
   "metadata": {
    "deletable": false,
    "editable": false,
    "nbgrader": {
     "cell_type": "markdown",
     "checksum": "6e5dbc477447644f93416cba679263ec",
     "grade": false,
     "grade_id": "cell-bf82401e988f816e",
     "locked": true,
     "schema_version": 3,
     "solution": false
    }
   },
   "source": [
    "Avant de terminer cette feuille, assurez-vous que tout fonctionne comme voulu. Tout d'abord, **redémarrez le noyau** (dans le menu, sélectionner `Kernel -> Restart`) puis **exécutez toutes les cellules** (dans le menu, sélectionner `Cell -> Run All`).\n",
    "\n",
    "Vérifiez que vous avez édité la cellule ci-dessous, ainsi que toutes les cellules marquées avec `VOTRE CODE ICI` ou `VOTRE RÉPONSE ICI`."
   ]
  },
  {
   "cell_type": "markdown",
   "metadata": {},
   "source": [
    "- Nom: \n",
    "- Prénom: \n",
    "- Groupe: "
   ]
  },
  {
   "cell_type": "markdown",
   "metadata": {
    "deletable": false,
    "editable": false,
    "nbgrader": {
     "cell_type": "markdown",
     "checksum": "0760ca6257aeebf9a84e25ad5c97a594",
     "grade": false,
     "grade_id": "cell-b8c416c088e04329",
     "locked": true,
     "schema_version": 3,
     "solution": false
    }
   },
   "source": [
    "# Laby, niveau 2c: Zig Zag\n",
    "\n",
    "Cinq longues distances à parcourir! On ne va tout de même pas recopier cinq fois la même boucle?\n",
    "\n",
    "[Niveau précédent](2b.ipynb), [Liste des niveaux](./), [Niveau suivant](3a.ipynb), [Documentation](0b.ipynb#Documentation)"
   ]
  },
  {
   "cell_type": "code",
   "execution_count": null,
   "metadata": {
    "deletable": false,
    "editable": false,
    "nbgrader": {
     "cell_type": "code",
     "checksum": "4eb8f1f6a003d4156580931f646a7e24",
     "grade": false,
     "grade_id": "cell-199792c3eff47344",
     "locked": true,
     "schema_version": 3,
     "solution": false
    }
   },
   "outputs": [],
   "source": [
    "#include \"../laby-global-fr.hpp\"\n",
    "LABY(\"2c\")"
   ]
  },
  {
   "cell_type": "markdown",
   "metadata": {
    "deletable": false,
    "editable": false,
    "nbgrader": {
     "cell_type": "markdown",
     "checksum": "4e1d36c76818424ca69092fcb0c01748",
     "grade": false,
     "grade_id": "cell-13c1041ad288bbb1",
     "locked": true,
     "schema_version": 3,
     "solution": false
    }
   },
   "source": [
    "Complétez la *procédure* suivante (une nouvelle commande) pour qu'elle fasse avancer la fourmi le plus loin possible en ligne droite:"
   ]
  },
  {
   "cell_type": "code",
   "execution_count": null,
   "metadata": {
    "deletable": false,
    "nbgrader": {
     "cell_type": "code",
     "checksum": "b95ca905ea438c61e47853961d5ba4be",
     "grade": false,
     "grade_id": "cell-b73f084d78a8d520",
     "locked": false,
     "schema_version": 3,
     "solution": true
    }
   },
   "outputs": [],
   "source": [
    "void ligne_droite() {\n",
    "    // VOTRE CODE ICI\n",
    "}"
   ]
  },
  {
   "cell_type": "markdown",
   "metadata": {
    "deletable": false,
    "editable": false,
    "nbgrader": {
     "cell_type": "markdown",
     "checksum": "7e3aef5062989206d6d902d0773260d5",
     "grade": false,
     "grade_id": "cell-65345804558b98bb",
     "locked": true,
     "schema_version": 3,
     "solution": false
    }
   },
   "source": [
    "Note: en C++ il n'est pas possible de redéfinir une procédure; si vous souhaitez la changer, vous devrez *redémarer le noyau* (menu `Noyau` -> `Redémarer`)."
   ]
  },
  {
   "cell_type": "markdown",
   "metadata": {
    "deletable": false,
    "editable": false,
    "nbgrader": {
     "cell_type": "markdown",
     "checksum": "9aac2736ce85911ad90b9b79a1f68f3f",
     "grade": false,
     "grade_id": "cell-a95c01da1448c722",
     "locked": true,
     "schema_version": 3,
     "solution": false
    }
   },
   "source": [
    "Essayez le programme suivant, puis complétez le pour faire sortir la fourmi:"
   ]
  },
  {
   "cell_type": "code",
   "execution_count": null,
   "metadata": {
    "deletable": false,
    "nbgrader": {
     "cell_type": "code",
     "checksum": "6279ebeaf69749f3cc8ddd8a3c260fc6",
     "grade": false,
     "grade_id": "cell-5eb33a572123ee68",
     "locked": false,
     "schema_version": 3,
     "solution": true
    }
   },
   "outputs": [],
   "source": [
    "debut();\n",
    "ligne_droite();\n",
    "gauche();\n",
    "// VOTRE CODE ICI\n",
    "ouvre();"
   ]
  },
  {
   "cell_type": "code",
   "execution_count": null,
   "metadata": {
    "deletable": false,
    "editable": false,
    "nbgrader": {
     "cell_type": "code",
     "checksum": "e23e8942147c104cc184380f2bc0b7ea",
     "grade": true,
     "grade_id": "cell-664874c0b554e5f7",
     "locked": true,
     "points": 1,
     "schema_version": 3,
     "solution": false
    }
   },
   "outputs": [],
   "source": [
    "ASSERT( a_gagne );"
   ]
  }
 ],
 "metadata": {
  "kernelspec": {
   "display_name": "C++17",
   "language": "C++17",
   "name": "xcpp17"
  },
  "language_info": {
   "codemirror_mode": "text/x-c++src",
   "file_extension": ".cpp",
   "mimetype": "text/x-c++src",
   "name": "c++",
   "version": "-std=c++17"
  }
 },
 "nbformat": 4,
 "nbformat_minor": 2
}
