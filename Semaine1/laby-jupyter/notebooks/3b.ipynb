{
 "cells": [
  {
   "cell_type": "markdown",
   "metadata": {
    "deletable": false,
    "editable": false,
    "nbgrader": {
     "cell_type": "markdown",
     "checksum": "6e5dbc477447644f93416cba679263ec",
     "grade": false,
     "grade_id": "cell-bf82401e988f816e",
     "locked": true,
     "schema_version": 3,
     "solution": false
    }
   },
   "source": [
    "Avant de terminer cette feuille, assurez-vous que tout fonctionne comme voulu. Tout d'abord, **redémarrez le noyau** (dans le menu, sélectionner `Kernel -> Restart`) puis **exécutez toutes les cellules** (dans le menu, sélectionner `Cell -> Run All`).\n",
    "\n",
    "Vérifiez que vous avez édité la cellule ci-dessous, ainsi que toutes les cellules marquées avec `VOTRE CODE ICI` ou `VOTRE RÉPONSE ICI`."
   ]
  },
  {
   "cell_type": "markdown",
   "metadata": {},
   "source": [
    "- Nom: \n",
    "- Prénom: \n",
    "- Groupe: "
   ]
  },
  {
   "cell_type": "markdown",
   "metadata": {},
   "source": [
    "# Laby, niveau 3b\n",
    "\n",
    "[Niveau précédent](3a.ipynb), [Liste des niveaux](./), [Niveau suivant](4a.ipynb), [Documentation](0b.ipynb#Documentation)"
   ]
  },
  {
   "cell_type": "code",
   "execution_count": null,
   "metadata": {},
   "outputs": [],
   "source": [
    "#include \"../laby-global-fr.hpp\"\n",
    "LABY(\"3b\")"
   ]
  },
  {
   "cell_type": "code",
   "execution_count": null,
   "metadata": {},
   "outputs": [],
   "source": []
  }
 ],
 "metadata": {
  "kernelspec": {
   "display_name": "C++17",
   "language": "C++17",
   "name": "xcpp17"
  },
  "language_info": {
   "codemirror_mode": "text/x-c++src",
   "file_extension": ".cpp",
   "mimetype": "text/x-c++src",
   "name": "c++",
   "version": "-std=c++17"
  }
 },
 "nbformat": 4,
 "nbformat_minor": 2
}
