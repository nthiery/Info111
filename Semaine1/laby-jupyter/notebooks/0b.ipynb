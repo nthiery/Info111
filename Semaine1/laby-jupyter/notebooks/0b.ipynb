{
 "cells": [
  {
   "cell_type": "markdown",
   "metadata": {
    "deletable": false,
    "editable": false,
    "nbgrader": {
     "cell_type": "markdown",
     "checksum": "6e5dbc477447644f93416cba679263ec",
     "grade": false,
     "grade_id": "cell-bf82401e988f816e",
     "locked": true,
     "schema_version": 3,
     "solution": false
    }
   },
   "source": [
    "Avant de terminer cette feuille, assurez-vous que tout fonctionne comme voulu. Tout d'abord, **redémarrez le noyau** (dans le menu, sélectionner `Kernel -> Restart`) puis **exécutez toutes les cellules** (dans le menu, sélectionner `Cell -> Run All`).\n",
    "\n",
    "Vérifiez que vous avez édité la cellule ci-dessous, ainsi que toutes les cellules marquées avec `VOTRE CODE ICI` ou `VOTRE RÉPONSE ICI`."
   ]
  },
  {
   "cell_type": "markdown",
   "metadata": {},
   "source": [
    "- Nom: \n",
    "- Prénom: \n",
    "- Groupe: "
   ]
  },
  {
   "cell_type": "markdown",
   "metadata": {},
   "source": [
    "# Laby, niveau 0: démonstration\n",
    "1. Exécutez la cellule suivante pour faire apparaître le labyrinthe.\n",
    "\n",
    "Ce labyrinthe sert de démonstration. Le programme dans la cellule encore en dessous permet à la fourmi d'en sortir, en lui donnant une suite d'ordres simples: avancer, tourner à droite, etc. La fourmi va s'amuser un peu avec le caillou et éviter la toile d'araignée.\n",
    "\n",
    "2. Exécutez le programme.\n",
    "\n",
    "3. Utilisez les boutons de commande ci-dessus pour suivre l'exécution du programme pas-à-pas, en marche arrière, etc pour bien comprendre ce que fait la fourmi.\n",
    "\n",
    "4. Consultez la [documentation](#Documentation) ci-dessous.\n",
    "\n",
    "5. Passez au [niveau suivant](1a.ipynb)."
   ]
  },
  {
   "cell_type": "code",
   "execution_count": null,
   "metadata": {},
   "outputs": [],
   "source": [
    "#include \"../laby-global-fr.hpp\"\n",
    "LABY(\"0\")"
   ]
  },
  {
   "cell_type": "code",
   "execution_count": null,
   "metadata": {},
   "outputs": [],
   "source": [
    "debut();\n",
    "droite();\n",
    "avance();\n",
    "prend();\n",
    "gauche();\n",
    "avance();\n",
    "pose();\n",
    "droite();\n",
    "avance();\n",
    "gauche();\n",
    "avance();\n",
    "avance();\n",
    "droite();\n",
    "ouvre();"
   ]
  },
  {
   "cell_type": "markdown",
   "metadata": {},
   "source": [
    "# Documentation"
   ]
  },
  {
   "cell_type": "markdown",
   "metadata": {},
   "source": [
    "## Constantes\n",
    "<table>\n",
    "    <tr><td>Mur         </td><td><img src=\"../data/tiles/wall.svg\"/></td></tr>\n",
    "    <tr><td>Caillou     </td><td><img src=\"../data/tiles/rock.svg\"/>\n",
    "        </td><td>PetitCaillou</td><td><img src=\"../data/tiles/nrock.svg\"/></td></tr>\n",
    "    <tr><td>Toile       </td><td><img src=\"../data/tiles/web.svg\"/></td>\n",
    "        <td>PetiteToile</td><td><img src=\"../data/tiles/nweb.svg\"/></td></tr>\n",
    "    <tr><td>Vide        </td><td><img src=\"../data/tiles/void.svg\"/></td>\n",
    "        <td>Inconnu     </td><td></td></tr>\n",
    "</table>\n",
    "\n",
    "## Instructions\n",
    "\n",
    "    avance();       // Fait un pas vers l'avant\n",
    "    droite();       // Fait pivoter la fourmi vers la droite\n",
    "    gauche();       // ou la gauche\n",
    "    prend();        // Prend le caillou situé sur la case devant la fourmi\n",
    "    pose();         // Pose le caillou devant la fourmi\n",
    "    dit(\"bonjour\"); // Dit bonjour\n",
    "    regarde();      // Renvoie Vide, Caillou, Mur, Toile, Sortie, ou Inconnu\n",
    "                    // selon ce qui se trouve sur la case devant la fourmi\n",
    "\n",
    "    ouvre();        // Ouvre la porte située devant la fourmi (fin du niveau)\n",
    "\n",
    "## Constructions\n",
    "\n",
    "Tant que la condition est respectée, répète les instructions:\n",
    "\n",
    "    while(condition) {\n",
    "        instructions;\n",
    "    }\n",
    "\n",
    "Si condition est vrai, exécute les instructions 1 sinon les instructions 2:\n",
    "\n",
    "    if (condition) {\n",
    "        instructions1;\n",
    "    } else {\n",
    "        instructions2;\n",
    "    }\n",
    "\n",
    "Défini une fonction f:\n",
    "\n",
    "    void f() {\n",
    "        instructions;\n",
    "    }"
   ]
  }
 ],
 "metadata": {
  "kernelspec": {
   "display_name": "C++17",
   "language": "C++17",
   "name": "xcpp17"
  },
  "language_info": {
   "codemirror_mode": "text/x-c++src",
   "file_extension": ".cpp",
   "mimetype": "text/x-c++src",
   "name": "c++",
   "version": "-std=c++17"
  }
 },
 "nbformat": 4,
 "nbformat_minor": 2
}
