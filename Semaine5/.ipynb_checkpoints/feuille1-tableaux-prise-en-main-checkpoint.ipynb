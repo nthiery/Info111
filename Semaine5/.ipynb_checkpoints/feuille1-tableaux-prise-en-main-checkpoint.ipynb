{
 "cells": [
  {
   "cell_type": "markdown",
   "metadata": {
    "deletable": false,
    "editable": false,
    "nbgrader": {
     "cell_type": "markdown",
     "checksum": "6e5dbc477447644f93416cba679263ec",
     "grade": false,
     "grade_id": "cell-bf82401e988f816e",
     "locked": true,
     "schema_version": 3,
     "solution": false
    }
   },
   "source": [
    "Avant de terminer cette feuille, assurez-vous que tout fonctionne comme voulu. Tout d'abord, **redémarrez le noyau** (dans le menu, sélectionner `Kernel -> Restart`) puis **exécutez toutes les cellules** (dans le menu, sélectionner `Cell -> Run All`).\n",
    "\n",
    "Vérifiez que vous avez édité la cellule ci-dessous, ainsi que toutes les cellules marquées avec `VOTRE CODE ICI` ou `VOTRE RÉPONSE ICI`."
   ]
  },
  {
   "cell_type": "markdown",
   "metadata": {},
   "source": [
    "- Nom: \n",
    "- Prénom: \n",
    "- Groupe: "
   ]
  },
  {
   "cell_type": "markdown",
   "metadata": {
    "deletable": false,
    "editable": false,
    "nbgrader": {
     "cell_type": "markdown",
     "checksum": "72e77a3f52084a063bd612fc08a09ef5",
     "grade": false,
     "grade_id": "cell-66ec1911286fbe2b",
     "locked": true,
     "schema_version": 3,
     "solution": false
    }
   },
   "source": [
    "# Prise en main des tableaux"
   ]
  },
  {
   "cell_type": "markdown",
   "metadata": {
    "deletable": false,
    "editable": false,
    "nbgrader": {
     "cell_type": "markdown",
     "checksum": "afdda67551c4ee28f2b2423401c12387",
     "grade": false,
     "grade_id": "cell-28df08e3e0e1160c",
     "locked": true,
     "schema_version": 3,
     "solution": false
    }
   },
   "source": [
    "Comme indiqué dans le cours, on utilisera les `vector` de C++ comme tableaux. Pour cela, il est nécessaire de charger la bibliothèque standard pour les `vector`:"
   ]
  },
  {
   "cell_type": "code",
   "execution_count": null,
   "metadata": {
    "deletable": false,
    "editable": false,
    "nbgrader": {
     "cell_type": "code",
     "checksum": "a4d83227a7ae55eae7a62b9c4f4e73c9",
     "grade": false,
     "grade_id": "cell-63fea443dd9227d0",
     "locked": true,
     "schema_version": 3,
     "solution": false
    }
   },
   "outputs": [],
   "source": [
    "#include <vector>\n",
    "using namespace std;"
   ]
  },
  {
   "cell_type": "markdown",
   "metadata": {
    "deletable": false,
    "nbgrader": {
     "cell_type": "markdown",
     "checksum": "41698be0cc4e91b6d2abffef1f3a8bb7",
     "grade": true,
     "grade_id": "cell-edff045470e36941",
     "locked": false,
     "points": 1,
     "schema_version": 3,
     "solution": true,
     "task": false
    }
   },
   "source": [
    "**Exercice: (Cours)**\n",
    "\n",
    "* Retrouvez dans le cours les trois étapes de la construction d'un tableau\n",
    "* Dans la cellule suivante, on effectue **deux des trois étapes**.\n",
    "    - Quelle étape est effectuée à la première ligne?\n",
    "      VOTRE RÉPONSE ICI\n",
    "    - Quelle étape est effectuée à la deuxième ligne?\n",
    "      VOTRE RÉPONSE ICI"
   ]
  },
  {
   "cell_type": "code",
   "execution_count": null,
   "metadata": {
    "deletable": false,
    "editable": false,
    "nbgrader": {
     "cell_type": "code",
     "checksum": "46b6b44c7c18489d037595fd7c745562",
     "grade": false,
     "grade_id": "cell-255bc998349f2396",
     "locked": true,
     "schema_version": 3,
     "solution": false,
     "task": false
    }
   },
   "outputs": [],
   "source": [
    "vector<int> v;\n",
    "v = vector<int>(5);"
   ]
  },
  {
   "cell_type": "markdown",
   "metadata": {
    "collapsed": true,
    "deletable": false,
    "editable": false,
    "nbgrader": {
     "cell_type": "markdown",
     "checksum": "e892c99bceae28d9ab7d1318e1fa0b44",
     "grade": false,
     "grade_id": "cell-2aac88f808c031a1",
     "locked": true,
     "schema_version": 3,
     "solution": false
    }
   },
   "source": [
    "`v` est maintenant un tableau de taille 5. Exécutez la cellule suivante pour voir les valeurs contenues dans le tableau."
   ]
  },
  {
   "cell_type": "code",
   "execution_count": null,
   "metadata": {
    "deletable": false,
    "editable": false,
    "nbgrader": {
     "cell_type": "code",
     "checksum": "3f704a2c00cf87f76201b1525b35d73f",
     "grade": false,
     "grade_id": "cell-752d1cbd8b1096cd",
     "locked": true,
     "schema_version": 3,
     "solution": false
    }
   },
   "outputs": [],
   "source": [
    "v"
   ]
  },
  {
   "cell_type": "markdown",
   "metadata": {
    "deletable": false,
    "editable": false,
    "nbgrader": {
     "cell_type": "markdown",
     "checksum": "14484f1491062eb3d9a8302694b666b8",
     "grade": false,
     "grade_id": "cell-9aefe25bfabe4077",
     "locked": true,
     "schema_version": 3,
     "solution": false
    }
   },
   "source": [
    "Il n'y a que des zero ! C'est le comportement par défaut du compilateur que nous utilisons sur `Jupyter` mais ce n'est pas un *standard du `C++`*. On peut initialiser `v` de la façon suivante."
   ]
  },
  {
   "cell_type": "code",
   "execution_count": null,
   "metadata": {
    "deletable": false,
    "editable": false,
    "nbgrader": {
     "cell_type": "code",
     "checksum": "cb578093d047fc48d59e2cbd30555f78",
     "grade": false,
     "grade_id": "cell-962f6ddd7bfde0eb",
     "locked": true,
     "schema_version": 3,
     "solution": false
    }
   },
   "outputs": [],
   "source": [
    "v = {4, 1, 5, 2, 3};"
   ]
  },
  {
   "cell_type": "markdown",
   "metadata": {
    "deletable": false,
    "editable": false,
    "nbgrader": {
     "cell_type": "markdown",
     "checksum": "49cef0b7dda7885875a89be81f70a16a",
     "grade": false,
     "grade_id": "cell-398f97ae39213d80",
     "locked": true,
     "schema_version": 3,
     "solution": false
    }
   },
   "source": [
    "**Dans la cellule suivante, déclarez, allouez et initilisez un tableau d'entier `v2` de taille 8 et contenant les valeurs : `2,5,1,8,4,6,3,5`.**"
   ]
  },
  {
   "cell_type": "code",
   "execution_count": null,
   "metadata": {
    "deletable": false,
    "nbgrader": {
     "cell_type": "code",
     "checksum": "8f56b1f8c70fbd7cfaeafd41ff5a6c5f",
     "grade": false,
     "grade_id": "cell-c4a433e02211ce0a",
     "locked": false,
     "schema_version": 3,
     "solution": true
    }
   },
   "outputs": [],
   "source": [
    "// VOTRE CODE ICI"
   ]
  },
  {
   "cell_type": "markdown",
   "metadata": {
    "deletable": false,
    "editable": false,
    "nbgrader": {
     "cell_type": "markdown",
     "checksum": "8f352ae820fafd22d4782bd5bbc40739",
     "grade": false,
     "grade_id": "cell-1c80844bfe695be1",
     "locked": true,
     "schema_version": 3,
     "solution": false
    }
   },
   "source": [
    "Exécutez les cellules suivantes pour vérifier que votre tableau contient les bonnes valeurs."
   ]
  },
  {
   "cell_type": "code",
   "execution_count": null,
   "metadata": {
    "deletable": false,
    "editable": false,
    "nbgrader": {
     "cell_type": "code",
     "checksum": "7f01e61c5e3fbb49b744eed6a4798267",
     "grade": false,
     "grade_id": "cell-9a8d0b3142b0d6b8",
     "locked": true,
     "schema_version": 3,
     "solution": false
    }
   },
   "outputs": [],
   "source": [
    "v2.size() // doit afficher 8"
   ]
  },
  {
   "cell_type": "code",
   "execution_count": null,
   "metadata": {
    "deletable": false,
    "editable": false,
    "nbgrader": {
     "cell_type": "code",
     "checksum": "8ffc58c70896f816b16525f50621a8a5",
     "grade": false,
     "grade_id": "cell-a8a288f2cec8193d",
     "locked": true,
     "schema_version": 3,
     "solution": false
    }
   },
   "outputs": [],
   "source": [
    "v2 // doit afficher {2, 5, 1, 8, 4, 6, 3, 5}"
   ]
  },
  {
   "cell_type": "markdown",
   "metadata": {
    "deletable": false,
    "editable": false,
    "nbgrader": {
     "cell_type": "markdown",
     "checksum": "597b75ae61ca2e82c29a0d1f79fef932",
     "grade": false,
     "grade_id": "cell-47c4200601bed715",
     "locked": true,
     "schema_version": 3,
     "solution": false
    }
   },
   "source": [
    "On vérifie à présent avec `ASSERT`"
   ]
  },
  {
   "cell_type": "code",
   "execution_count": null,
   "metadata": {
    "deletable": false,
    "editable": false,
    "nbgrader": {
     "cell_type": "code",
     "checksum": "e95522b5bdcf99189a5218b162af0939",
     "grade": true,
     "grade_id": "cell-4463b0e3563ac7d7",
     "locked": true,
     "points": 1,
     "schema_version": 3,
     "solution": false,
     "task": false
    }
   },
   "outputs": [],
   "source": [
    "ASSERT ( v2.size() == 8 )"
   ]
  },
  {
   "cell_type": "code",
   "execution_count": null,
   "metadata": {
    "deletable": false,
    "editable": false,
    "nbgrader": {
     "cell_type": "code",
     "checksum": "ea508ab98b93a9fb13c017f3b33e1458",
     "grade": true,
     "grade_id": "cell-002c8f24fad7d1b9",
     "locked": true,
     "points": 1,
     "schema_version": 3,
     "solution": false,
     "task": false
    }
   },
   "outputs": [],
   "source": [
    "ASSERT(v2 == vector<int>({2, 5, 1, 8, 4, 6, 3, 5}))"
   ]
  },
  {
   "cell_type": "markdown",
   "metadata": {
    "deletable": false,
    "editable": false,
    "nbgrader": {
     "cell_type": "markdown",
     "checksum": "6ec9cc6134ed6da823e51f3f88c9eacb",
     "grade": false,
     "grade_id": "cell-e91078439b442d19",
     "locked": true,
     "schema_version": 3,
     "solution": false
    }
   },
   "source": [
    "Un tableau permet l'accès à ces différentes valeurs à travers **un accès par indice**. Exécutez les cellules suivantes en exemple."
   ]
  },
  {
   "cell_type": "code",
   "execution_count": null,
   "metadata": {
    "deletable": false,
    "editable": false,
    "nbgrader": {
     "cell_type": "code",
     "checksum": "89b3936611117fe85c80cd8b64142d6b",
     "grade": false,
     "grade_id": "cell-133e86bc49f4c5ae",
     "locked": true,
     "schema_version": 3,
     "solution": false
    }
   },
   "outputs": [],
   "source": [
    "v"
   ]
  },
  {
   "cell_type": "code",
   "execution_count": null,
   "metadata": {
    "deletable": false,
    "editable": false,
    "nbgrader": {
     "cell_type": "code",
     "checksum": "4f1ef730345160eda373ec77ce3be25f",
     "grade": false,
     "grade_id": "cell-0566fca45132cf47",
     "locked": true,
     "schema_version": 3,
     "solution": false
    }
   },
   "outputs": [],
   "source": [
    "v[0] // la première valeur du tableau (4)"
   ]
  },
  {
   "cell_type": "code",
   "execution_count": null,
   "metadata": {
    "deletable": false,
    "editable": false,
    "nbgrader": {
     "cell_type": "code",
     "checksum": "bac9bee053ca4818501c6358014e4bce",
     "grade": false,
     "grade_id": "cell-01f21aad0110fc98",
     "locked": true,
     "schema_version": 3,
     "solution": false
    }
   },
   "outputs": [],
   "source": [
    "v[3] //  la valeur à l'indice 3 (2)"
   ]
  },
  {
   "cell_type": "markdown",
   "metadata": {
    "deletable": false,
    "editable": false,
    "nbgrader": {
     "cell_type": "markdown",
     "checksum": "05563438a1e2b5745f1c151c609089a6",
     "grade": false,
     "grade_id": "cell-226c7bcc4b40760f",
     "locked": true,
     "schema_version": 3,
     "solution": false
    }
   },
   "source": [
    "**De la même façon, affichez la dernière valeur du tableau**"
   ]
  },
  {
   "cell_type": "code",
   "execution_count": null,
   "metadata": {
    "deletable": false,
    "nbgrader": {
     "cell_type": "code",
     "checksum": "515e82ff0f2e4f731d1e6d32e5f3fbb1",
     "grade": true,
     "grade_id": "cell-edfd07fa6d564992",
     "locked": false,
     "points": 0,
     "schema_version": 3,
     "solution": true,
     "task": false
    }
   },
   "outputs": [],
   "source": [
    "// VOTRE CODE ICI"
   ]
  },
  {
   "cell_type": "markdown",
   "metadata": {
    "deletable": false,
    "editable": false,
    "nbgrader": {
     "cell_type": "markdown",
     "checksum": "40cd60433273c2af2a532488c1ffce04",
     "grade": false,
     "grade_id": "cell-f61f7fe07349fe42",
     "locked": true,
     "schema_version": 3,
     "solution": false
    }
   },
   "source": [
    "L'accès par indice permet aussi de **modifier** le tableau. Par exemple :"
   ]
  },
  {
   "cell_type": "code",
   "execution_count": null,
   "metadata": {
    "deletable": false,
    "editable": false,
    "nbgrader": {
     "cell_type": "code",
     "checksum": "ef7bd5ef2d43c7e6ac8db0b357394ef9",
     "grade": false,
     "grade_id": "cell-1844749dd1800a5a",
     "locked": true,
     "schema_version": 3,
     "solution": false
    }
   },
   "outputs": [],
   "source": [
    "v = { 4, 1, 3, 2, 3 };"
   ]
  },
  {
   "cell_type": "code",
   "execution_count": null,
   "metadata": {
    "deletable": false,
    "editable": false,
    "nbgrader": {
     "cell_type": "code",
     "checksum": "99dc98975da12796dcead06f6bbbc9b8",
     "grade": false,
     "grade_id": "cell-cf88c740436f8a19",
     "locked": true,
     "schema_version": 3,
     "solution": false
    }
   },
   "outputs": [],
   "source": [
    "v[1] = 3;"
   ]
  },
  {
   "cell_type": "code",
   "execution_count": null,
   "metadata": {
    "deletable": false,
    "editable": false,
    "nbgrader": {
     "cell_type": "code",
     "checksum": "5815f7c40255f0d38499a472891610b8",
     "grade": false,
     "grade_id": "cell-025de3fab22bfd96",
     "locked": true,
     "schema_version": 3,
     "solution": false,
     "task": false
    }
   },
   "outputs": [],
   "source": [
    "v // qu'est-ce qui a changé ?"
   ]
  },
  {
   "cell_type": "markdown",
   "metadata": {
    "deletable": false,
    "editable": false,
    "nbgrader": {
     "cell_type": "markdown",
     "checksum": "9a3de51a7123c9476d4c57f2c25ab3b3",
     "grade": false,
     "grade_id": "cell-c0e002f4d47749ac",
     "locked": true,
     "schema_version": 3,
     "solution": false
    }
   },
   "source": [
    "**De la même façon, complétez le code ci-dessous pour que le test ASSERT soit vérifié**."
   ]
  },
  {
   "cell_type": "code",
   "execution_count": null,
   "metadata": {
    "deletable": false,
    "nbgrader": {
     "cell_type": "code",
     "checksum": "c29653959bf80fdf39b32e0075294dd2",
     "grade": false,
     "grade_id": "cell-a2fcc242365fb620",
     "locked": false,
     "schema_version": 3,
     "solution": true
    }
   },
   "outputs": [],
   "source": [
    "v = { 4, 1, 3, 2, 3 };\n",
    "// VOTRE CODE ICI"
   ]
  },
  {
   "cell_type": "code",
   "execution_count": null,
   "metadata": {
    "deletable": false,
    "editable": false,
    "nbgrader": {
     "cell_type": "code",
     "checksum": "7edb8fb6eaf0e829b4dc6d105fb9286c",
     "grade": true,
     "grade_id": "cell-b970b03c018063b4",
     "locked": true,
     "points": 1,
     "schema_version": 3,
     "solution": false,
     "task": false
    }
   },
   "outputs": [],
   "source": [
    "ASSERT( v == vector<int>({4,1,3,5,3} ) )"
   ]
  }
 ],
 "metadata": {
  "kernelspec": {
   "display_name": "C++11",
   "language": "C++11",
   "name": "xcpp11"
  },
  "language_info": {
   "codemirror_mode": "text/x-c++src",
   "file_extension": ".cpp",
   "mimetype": "text/x-c++src",
   "name": "c++",
   "version": "-std=c++11"
  }
 },
 "nbformat": 4,
 "nbformat_minor": 2
}
