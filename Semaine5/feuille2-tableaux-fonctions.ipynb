{
 "cells": [
  {
   "cell_type": "markdown",
   "metadata": {
    "deletable": false,
    "editable": false,
    "nbgrader": {
     "checksum": "6e5dbc477447644f93416cba679263ec",
     "grade": false,
     "grade_id": "cell-bf82401e988f816e",
     "locked": true,
     "schema_version": 1,
     "solution": false
    }
   },
   "source": [
    "Avant de terminer cette feuille, assurez-vous que tout fonctionne comme voulu. Tout d'abord, **redémarrez le noyau** (dans le menu, sélectionner `Kernel -> Restart`) puis **exécutez toutes les cellules** (dans le menu, sélectionner `Cell -> Run All`).\n",
    "\n",
    "Vérifiez que vous avez édité la cellule ci-dessous, ainsi que toutes les cellules marquées avec `VOTRE CODE ICI` ou `VOTRE RÉPONSE ICI`."
   ]
  },
  {
   "cell_type": "markdown",
   "metadata": {},
   "source": [
    "- Nom: \n",
    "- Prénom: \n",
    "- Groupe: "
   ]
  },
  {
   "cell_type": "markdown",
   "metadata": {
    "deletable": false,
    "editable": false,
    "nbgrader": {
     "checksum": "046cabee9101281de108ff971f56b3d5",
     "grade": false,
     "grade_id": "cell-d4b2926be37fb2cd",
     "locked": true,
     "schema_version": 1,
     "solution": false
    }
   },
   "source": [
    "# Tableaux"
   ]
  },
  {
   "cell_type": "code",
   "execution_count": null,
   "metadata": {
    "deletable": false,
    "editable": false,
    "nbgrader": {
     "checksum": "bc145e976e46a66a2972e80fd4caaaf5",
     "grade": false,
     "grade_id": "cell-6e68192042ab603d",
     "locked": true,
     "schema_version": 1,
     "solution": false
    }
   },
   "outputs": [],
   "source": [
    "#include <iostream>\n",
    "#include <vector>\n",
    "using namespace std;"
   ]
  },
  {
   "cell_type": "markdown",
   "metadata": {
    "deletable": false,
    "editable": false,
    "nbgrader": {
     "checksum": "b085ba1879f5e1e09de08a364d12e358",
     "grade": false,
     "grade_id": "cell-1bfca8f35865791d",
     "locked": true,
     "schema_version": 1,
     "solution": false
    }
   },
   "source": [
    "## Exercice: fonctions `min` et `max`\n",
    "- Écrire la documentation de la fonction `max` ci-dessous :"
   ]
  },
  {
   "cell_type": "code",
   "execution_count": null,
   "metadata": {
    "deletable": false,
    "nbgrader": {
     "checksum": "7e7407681732fbf97441506abb1345f5",
     "grade": true,
     "grade_id": "cell-3e0896eeb8fa63a1",
     "locked": false,
     "points": 1,
     "schema_version": 1,
     "solution": true
    }
   },
   "outputs": [],
   "source": [
    "// VOTRE CODE ICI"
   ]
  },
  {
   "cell_type": "code",
   "execution_count": null,
   "metadata": {
    "deletable": false,
    "editable": false,
    "nbgrader": {
     "checksum": "9dc4c70b7993952c93052abb0ff1039a",
     "grade": false,
     "grade_id": "cell-ea160bfe473bd50f",
     "locked": true,
     "schema_version": 1,
     "solution": false
    }
   },
   "outputs": [],
   "source": [
    "int max(vector<int> t) {\n",
    "    int m = t[0];\n",
    "    for ( int i = 1; i < t.size(); i++ ){\n",
    "        if ( t[i] > m ) {\n",
    "            m = t[i];\n",
    "        }\n",
    "    }\n",
    "    return m;\n",
    "}"
   ]
  },
  {
   "cell_type": "markdown",
   "metadata": {
    "deletable": false,
    "editable": false,
    "nbgrader": {
     "checksum": "3ca00e0de4fdcd86938e0079fa76eca4",
     "grade": false,
     "grade_id": "cell-042fe17d7e36a862",
     "locked": true,
     "schema_version": 1,
     "solution": false
    }
   },
   "source": [
    "- Vérifier que la fonction se comporte comme prévu :"
   ]
  },
  {
   "cell_type": "code",
   "execution_count": null,
   "metadata": {
    "deletable": false,
    "editable": false,
    "nbgrader": {
     "checksum": "d4a3a974ef666250847116b65030ebac",
     "grade": false,
     "grade_id": "cell-0c6b3a31d3b84fe6",
     "locked": true,
     "schema_version": 1,
     "solution": false
    }
   },
   "outputs": [],
   "source": [
    "max( { 5, -1, 3, 7, -4, 8, 4 } )"
   ]
  },
  {
   "cell_type": "markdown",
   "metadata": {
    "deletable": false,
    "editable": false,
    "nbgrader": {
     "checksum": "8c9f301e508a9a65dacf67a0d348ca92",
     "grade": false,
     "grade_id": "cell-4741ac671c75af58",
     "locked": true,
     "schema_version": 1,
     "solution": false
    }
   },
   "source": [
    "- Implanter la fonction `min` dont la documentation est donnée ci-dessous :"
   ]
  },
  {
   "cell_type": "code",
   "execution_count": null,
   "metadata": {
    "deletable": false,
    "editable": false,
    "nbgrader": {
     "checksum": "50430404d87fead4eeee27e00fea3c72",
     "grade": false,
     "grade_id": "cell-4442f84c4f5d4d31",
     "locked": true,
     "schema_version": 1,
     "solution": false
    }
   },
   "outputs": [],
   "source": [
    "/** Minimum d un tableau\n",
    " * @param t un tableau d entiers\n",
    " * @return l élément le plus petit du tableau\n",
    " **/"
   ]
  },
  {
   "cell_type": "code",
   "execution_count": null,
   "metadata": {
    "deletable": false,
    "nbgrader": {
     "checksum": "8454800af24ad8c3bb047f077ded4785",
     "grade": false,
     "grade_id": "cell-af307c8be3808867",
     "locked": false,
     "schema_version": 1,
     "solution": true
    }
   },
   "outputs": [],
   "source": [
    "// VOTRE CODE ICI"
   ]
  },
  {
   "cell_type": "code",
   "execution_count": null,
   "metadata": {
    "deletable": false,
    "editable": false,
    "nbgrader": {
     "checksum": "a4fce655f177ea79a85b1d101b65c51e",
     "grade": false,
     "grade_id": "cell-6bc8dac069906344",
     "locked": true,
     "schema_version": 1,
     "solution": false
    }
   },
   "outputs": [],
   "source": [
    "min( { 5, -1, 3, 7, -4, 8, 4 } )"
   ]
  },
  {
   "cell_type": "markdown",
   "metadata": {
    "deletable": false,
    "editable": false,
    "nbgrader": {
     "checksum": "8d3464f78b989314ced3c159b01def48",
     "grade": false,
     "grade_id": "cell-513feee389fc298c",
     "locked": true,
     "schema_version": 1,
     "solution": false
    }
   },
   "source": [
    "- Les tests précédents étaient manuels. Écrire des tests automatiques équivalents, en utilisant `ASSERT` :"
   ]
  },
  {
   "cell_type": "code",
   "execution_count": null,
   "metadata": {
    "deletable": false,
    "nbgrader": {
     "checksum": "77201c76eee43bc73eb2e45cbfd2db3b",
     "grade": false,
     "grade_id": "cell-fafebe681c8d29f5",
     "locked": false,
     "schema_version": 1,
     "solution": true
    }
   },
   "outputs": [],
   "source": [
    "// VOTRE CODE ICI"
   ]
  },
  {
   "cell_type": "markdown",
   "metadata": {
    "deletable": false,
    "editable": false,
    "nbgrader": {
     "checksum": "0b1098e7d0e252a75e208cca6518a760",
     "grade": false,
     "grade_id": "cell-52317b5fdd376ce4",
     "locked": true,
     "schema_version": 1,
     "solution": false
    }
   },
   "source": [
    "## Exercice (exercice 3 du TD, suite)\n",
    "Compléter chacune des fonctions suivantes:\n",
    "- Si il n'y a pas de documentation, l'écrire;\n",
    "- Si la fonction est vide, l'implanter;\n",
    "- S'il n'y a pas de tests automatiques, en rajouter en utilisant `ASSERT`."
   ]
  },
  {
   "cell_type": "markdown",
   "metadata": {
    "deletable": false,
    "editable": false,
    "nbgrader": {
     "checksum": "131e5b01d1ffeba006a534ccd0c3bc9f",
     "grade": false,
     "grade_id": "cell-63b9197623b6b801",
     "locked": true,
     "schema_version": 1,
     "solution": false
    }
   },
   "source": [
    "### Fonction `estPositif` :"
   ]
  },
  {
   "cell_type": "code",
   "execution_count": null,
   "metadata": {
    "deletable": false,
    "nbgrader": {
     "checksum": "e9d7681e74d2d22239dd76cdced9367f",
     "grade": true,
     "grade_id": "cell-debdc6508741f20e",
     "locked": false,
     "points": 1,
     "schema_version": 1,
     "solution": true
    }
   },
   "outputs": [],
   "source": [
    "// VOTRE CODE ICI"
   ]
  },
  {
   "cell_type": "code",
   "execution_count": null,
   "metadata": {
    "deletable": false,
    "editable": false,
    "nbgrader": {
     "checksum": "44697ed5782f9d0dda0dd36646349cf0",
     "grade": false,
     "grade_id": "cell-33bf8e417e2812b7",
     "locked": true,
     "schema_version": 1,
     "solution": false
    }
   },
   "outputs": [],
   "source": [
    "bool estPositif(vector<int> tab) {\n",
    "    int taille = tab.size();\n",
    "    for(int i=0; i<taille; i++){\n",
    "        if(tab[i]<0) return false;\n",
    "    }\n",
    "    return true;\n",
    " }"
   ]
  },
  {
   "cell_type": "markdown",
   "metadata": {
    "deletable": false,
    "editable": false,
    "nbgrader": {
     "checksum": "f5628810e05177f5bf3f3cfd0c393a01",
     "grade": false,
     "grade_id": "cell-3a277652a240e91d",
     "locked": true,
     "schema_version": 1,
     "solution": false
    }
   },
   "source": [
    "Tests:"
   ]
  },
  {
   "cell_type": "code",
   "execution_count": null,
   "metadata": {
    "deletable": false,
    "nbgrader": {
     "checksum": "ec048431d87a3d7fbb0202065598a5ae",
     "grade": true,
     "grade_id": "cell-062f931267232e58",
     "locked": false,
     "points": 1,
     "schema_version": 1,
     "solution": true
    }
   },
   "outputs": [],
   "source": [
    "// VOTRE CODE ICI"
   ]
  },
  {
   "cell_type": "markdown",
   "metadata": {
    "deletable": false,
    "editable": false,
    "nbgrader": {
     "checksum": "ac2ec6ba9a0df67bbe5d59fc0cb7ca38",
     "grade": false,
     "grade_id": "cell-df085b43fa0381c1",
     "locked": true,
     "schema_version": 1,
     "solution": false
    }
   },
   "source": [
    "### Fonction `incremente`"
   ]
  },
  {
   "cell_type": "markdown",
   "metadata": {
    "deletable": false,
    "editable": false,
    "nbgrader": {
     "checksum": "8dfa0dcafe60fbbba0c4839738756712",
     "grade": false,
     "grade_id": "cell-4363bf80b8d9aa5a",
     "locked": true,
     "schema_version": 1,
     "solution": false
    }
   },
   "source": [
    "La fonction suivante renvoie un tableau. En principe on devrait mettre `vector<int>` comme type de retour. Pour contourner un [bug dans cling](https://github.com/QuantStack/xeus-cling/issues/40) (corrigé dans la version de développement), on va mettre le type `tableau` à la place, après avoir défini ce type comme un alias pour `vector<int>`."
   ]
  },
  {
   "cell_type": "code",
   "execution_count": null,
   "metadata": {
    "deletable": false,
    "editable": false,
    "nbgrader": {
     "checksum": "8abeb1d828d2d4bb983123f6aa73fd4a",
     "grade": false,
     "grade_id": "cell-d653784ca8d89a83",
     "locked": true,
     "schema_version": 1,
     "solution": false
    }
   },
   "outputs": [],
   "source": [
    "typedef vector<int> tableau;"
   ]
  },
  {
   "cell_type": "code",
   "execution_count": null,
   "metadata": {
    "deletable": false,
    "editable": false,
    "nbgrader": {
     "checksum": "1e7077526e25e42b7f06e032f91023e1",
     "grade": false,
     "grade_id": "cell-ab607ee890a8bbc7",
     "locked": true,
     "schema_version": 1,
     "solution": false
    }
   },
   "outputs": [],
   "source": [
    "/** Fonction incremente\n",
    " * @param t un tableau d'entiers\n",
    " * @return un tableau d'entiers obtenu en incrémentant de 1 chaque valeur de t\n",
    " **/"
   ]
  },
  {
   "cell_type": "code",
   "execution_count": null,
   "metadata": {
    "deletable": false,
    "nbgrader": {
     "checksum": "078543ee70bf1bcd3da1f992d4569113",
     "grade": false,
     "grade_id": "cell-9533dd4bd5e8f03e",
     "locked": false,
     "schema_version": 1,
     "solution": true
    }
   },
   "outputs": [],
   "source": [
    "tableau incremente(vector<int> t) {\n",
    "    // VOTRE CODE ICI\n",
    "}"
   ]
  },
  {
   "cell_type": "markdown",
   "metadata": {
    "deletable": false,
    "editable": false,
    "nbgrader": {
     "checksum": "1be3595a79b0771c8b497596c2b34648",
     "grade": false,
     "grade_id": "cell-64691ddf7c606c63",
     "locked": true,
     "schema_version": 1,
     "solution": false
    }
   },
   "source": [
    "Tests:"
   ]
  },
  {
   "cell_type": "code",
   "execution_count": null,
   "metadata": {
    "deletable": false,
    "editable": false,
    "nbgrader": {
     "checksum": "c135cc71bb9e52c8f3bebd7628acff8d",
     "grade": false,
     "grade_id": "cell-ba30493ce4355891",
     "locked": true,
     "schema_version": 1,
     "solution": false
    }
   },
   "outputs": [],
   "source": [
    "ASSERT( incremente({5,1,3}) == vector<int>({6,2,4}) )"
   ]
  },
  {
   "cell_type": "markdown",
   "metadata": {
    "deletable": false,
    "editable": false,
    "nbgrader": {
     "checksum": "76cc62c618830814625b941b5dd4f959",
     "grade": false,
     "grade_id": "cell-81f3613904343fdf",
     "locked": true,
     "schema_version": 1,
     "solution": false
    }
   },
   "source": [
    "### Fonction `egale`"
   ]
  },
  {
   "cell_type": "code",
   "execution_count": null,
   "metadata": {
    "deletable": false,
    "editable": false,
    "nbgrader": {
     "checksum": "5dca152fe5b05dc73ce8d094223dbce1",
     "grade": false,
     "grade_id": "cell-14df823ac6c1e12f",
     "locked": true,
     "schema_version": 1,
     "solution": false
    }
   },
   "outputs": [],
   "source": [
    "/** Teste si deux tableaux sont égaux (même longueur, mêmes valeurs)\n",
    " * @param t1: un tableau d'entiers\n",
    " * @param t2: un tableau d'entiers\n",
    " * @return true si les deux tableaux sont égaux, false sinon\n",
    " **/"
   ]
  },
  {
   "cell_type": "code",
   "execution_count": null,
   "metadata": {
    "deletable": false,
    "editable": false,
    "nbgrader": {
     "checksum": "16f1dc6af5fdef61d701f8b94f7cddb5",
     "grade": false,
     "grade_id": "cell-1818d5b14943aef6",
     "locked": true,
     "schema_version": 1,
     "solution": false
    }
   },
   "outputs": [],
   "source": [
    "bool egale(vector<int> t1, vector<int> t2) {\n",
    "    int taille = t1.size();\n",
    "    if(t2.size() != taille) {\n",
    "        return false;\n",
    "    }\n",
    "    for (int i=0; i<taille; i++) {\n",
    "        if(t1[i] != t2[i]) {\n",
    "            return false;\n",
    "        }\n",
    "    }\n",
    "    return true;\n",
    "}"
   ]
  },
  {
   "cell_type": "markdown",
   "metadata": {
    "deletable": false,
    "editable": false,
    "nbgrader": {
     "checksum": "1eecca385c4f905118b128648774c624",
     "grade": false,
     "grade_id": "cell-7864b28ad24a0055",
     "locked": true,
     "schema_version": 1,
     "solution": false
    }
   },
   "source": [
    "Tests:"
   ]
  },
  {
   "cell_type": "code",
   "execution_count": null,
   "metadata": {
    "deletable": false,
    "nbgrader": {
     "checksum": "35ebbbf1f3011f622f674b0fdbeb9861",
     "grade": true,
     "grade_id": "cell-707f9bfaeb851c40",
     "locked": false,
     "points": 1,
     "schema_version": 1,
     "solution": true
    }
   },
   "outputs": [],
   "source": [
    "// VOTRE CODE ICI"
   ]
  },
  {
   "cell_type": "markdown",
   "metadata": {
    "deletable": false,
    "editable": false,
    "nbgrader": {
     "checksum": "591cf4083339353a7465fd0f84c47e63",
     "grade": false,
     "grade_id": "cell-32b55993ea00e47e",
     "locked": true,
     "schema_version": 1,
     "solution": false
    }
   },
   "source": [
    "### Fonction `plusGrandQueDix`"
   ]
  },
  {
   "cell_type": "code",
   "execution_count": null,
   "metadata": {
    "deletable": false,
    "editable": false,
    "nbgrader": {
     "checksum": "155b9ab0e49dc045ea7b900f3e5e6749",
     "grade": false,
     "grade_id": "cell-0c42b5670eb5b699",
     "locked": true,
     "schema_version": 1,
     "solution": false
    }
   },
   "outputs": [],
   "source": [
    "/** Compte le nombre d'éléments plus grands que 10 dans le tableau\n",
    " * @param t un tableau d entiers\n",
    " * @return le nombre d'éléments plus grands que 10\n",
    " **/"
   ]
  },
  {
   "cell_type": "code",
   "execution_count": null,
   "metadata": {
    "deletable": false,
    "nbgrader": {
     "checksum": "7e70c4f434f65bbb0742468561a33b5b",
     "grade": false,
     "grade_id": "cell-5d59bb3774333584",
     "locked": false,
     "schema_version": 1,
     "solution": true
    }
   },
   "outputs": [],
   "source": [
    "int plusGrandQueDix(vector<int> t) {\n",
    "    // VOTRE CODE ICI\n",
    "}"
   ]
  },
  {
   "cell_type": "markdown",
   "metadata": {
    "deletable": false,
    "editable": false,
    "nbgrader": {
     "checksum": "7476942bcb37f27c0b2c73225a09d012",
     "grade": false,
     "grade_id": "cell-1738e8d3c0e7cd67",
     "locked": true,
     "schema_version": 1,
     "solution": false
    }
   },
   "source": [
    "Tests:"
   ]
  },
  {
   "cell_type": "code",
   "execution_count": null,
   "metadata": {
    "deletable": false,
    "nbgrader": {
     "checksum": "c1fe75322230dc0b7b5e32086f436916",
     "grade": true,
     "grade_id": "cell-bb243e0519279291",
     "locked": false,
     "points": 1,
     "schema_version": 1,
     "solution": true
    }
   },
   "outputs": [],
   "source": [
    "// VOTRE CODE ICI"
   ]
  },
  {
   "cell_type": "markdown",
   "metadata": {
    "deletable": false,
    "editable": false,
    "nbgrader": {
     "checksum": "e6ca685ec17c3e74dcff1569bee54bab",
     "grade": false,
     "grade_id": "cell-942637f4b6c5a177",
     "locked": true,
     "schema_version": 1,
     "solution": false
    }
   },
   "source": [
    "### Fonction `estTrie`"
   ]
  },
  {
   "cell_type": "code",
   "execution_count": null,
   "metadata": {
    "deletable": false,
    "editable": false,
    "nbgrader": {
     "checksum": "35d7dc9a97b4c07d1f332f1d7e760bb9",
     "grade": false,
     "grade_id": "cell-37ae989ef3121854",
     "locked": true,
     "schema_version": 1,
     "solution": false
    }
   },
   "outputs": [],
   "source": [
    "/** Teste si un tableau est trié en ordre croissant\n",
    " * @param tab un tableau d entiers\n",
    " * @return true si le tableau est trié en ordre croissant, false sinon\n",
    " **/"
   ]
  },
  {
   "cell_type": "code",
   "execution_count": null,
   "metadata": {
    "deletable": false,
    "nbgrader": {
     "checksum": "c96dd71a1552627df9ced4c2f56392a4",
     "grade": false,
     "grade_id": "cell-ded0f8d9532da499",
     "locked": false,
     "schema_version": 1,
     "solution": true
    }
   },
   "outputs": [],
   "source": [
    "bool estTrie(vector<int> tab) {\n",
    "    // VOTRE CODE ICI\n",
    "}"
   ]
  },
  {
   "cell_type": "markdown",
   "metadata": {
    "deletable": false,
    "editable": false,
    "nbgrader": {
     "checksum": "38fabf799d9626bce91a755e37b22cee",
     "grade": false,
     "grade_id": "cell-e58af629f6da0c95",
     "locked": true,
     "schema_version": 1,
     "solution": false
    }
   },
   "source": [
    "Tests:"
   ]
  },
  {
   "cell_type": "code",
   "execution_count": null,
   "metadata": {
    "deletable": false,
    "nbgrader": {
     "checksum": "b1e43e52aa9100c505c2ed759fe2b4e2",
     "grade": true,
     "grade_id": "cell-2b2e37a9334a4897",
     "locked": false,
     "points": 1,
     "schema_version": 1,
     "solution": true
    }
   },
   "outputs": [],
   "source": [
    "// VOTRE CODE ICI"
   ]
  }
 ],
 "metadata": {
  "kernelspec": {
   "display_name": "C++11",
   "language": "C++11",
   "name": "xcpp11"
  },
  "language_info": {
   "codemirror_mode": "text/x-c++src",
   "file_extension": ".cpp",
   "mimetype": "text/x-c++src",
   "name": "c++",
   "version": "-std=c++11"
  }
 },
 "nbformat": 4,
 "nbformat_minor": 2
}
