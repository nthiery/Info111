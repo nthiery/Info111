{
 "cells": [
  {
   "cell_type": "markdown",
   "metadata": {
    "deletable": false,
    "editable": false,
    "nbgrader": {
     "cell_type": "markdown",
     "checksum": "6e5dbc477447644f93416cba679263ec",
     "grade": false,
     "grade_id": "cell-bf82401e988f816e",
     "locked": true,
     "schema_version": 3,
     "solution": false
    }
   },
   "source": [
    "Avant de terminer cette feuille, assurez-vous que tout fonctionne comme voulu. Tout d'abord, **redémarrez le noyau** (dans le menu, sélectionner `Kernel -> Restart`) puis **exécutez toutes les cellules** (dans le menu, sélectionner `Cell -> Run All`).\n",
    "\n",
    "Vérifiez que vous avez édité la cellule ci-dessous, ainsi que toutes les cellules marquées avec `VOTRE CODE ICI` ou `VOTRE RÉPONSE ICI`."
   ]
  },
  {
   "cell_type": "markdown",
   "metadata": {},
   "source": [
    "- Nom: \n",
    "- Prénom: \n",
    "- Groupe: "
   ]
  },
  {
   "cell_type": "markdown",
   "metadata": {
    "deletable": false,
    "editable": false,
    "nbgrader": {
     "cell_type": "markdown",
     "checksum": "046cabee9101281de108ff971f56b3d5",
     "grade": false,
     "grade_id": "cell-d4b2926be37fb2cd",
     "locked": true,
     "schema_version": 3,
     "solution": false
    }
   },
   "source": [
    "# Tableaux"
   ]
  },
  {
   "cell_type": "code",
   "execution_count": null,
   "metadata": {
    "deletable": false,
    "editable": false,
    "nbgrader": {
     "cell_type": "code",
     "checksum": "bc145e976e46a66a2972e80fd4caaaf5",
     "grade": false,
     "grade_id": "cell-6e68192042ab603d",
     "locked": true,
     "schema_version": 3,
     "solution": false
    }
   },
   "outputs": [],
   "source": [
    "#include <iostream>\n",
    "#include <vector>\n",
    "using namespace std;"
   ]
  },
  {
   "cell_type": "markdown",
   "metadata": {
    "deletable": false,
    "editable": false,
    "nbgrader": {
     "cell_type": "markdown",
     "checksum": "00a38af4be996d50915514bc64b26cd8",
     "grade": false,
     "grade_id": "cell-1bfca8f35865791d",
     "locked": true,
     "schema_version": 3,
     "solution": false
    }
   },
   "source": [
    "## Exercice: fonctions max et min\n",
    "On a vu en TD comment calculer le maximum d'un tableau d'entiers. On va maintenant aborder des variantes, comme calculer le maximum d'un tableau de chaînes de caractères. On appellera nos fonctions `monMax` et `monMin` afin d'éviter des conflits avec les fonctions préexistantes de C++."
   ]
  },
  {
   "cell_type": "markdown",
   "metadata": {
    "deletable": false,
    "editable": false,
    "nbgrader": {
     "cell_type": "markdown",
     "checksum": "9a7f045cd03709967e67366e35705b0d",
     "grade": false,
     "grade_id": "cell-1bfca8f35865791e",
     "locked": true,
     "schema_version": 3,
     "solution": false
    }
   },
   "source": [
    "Comme les exemples suivants l'illustrent, la comparaison de deux chaînes de caractères se fait -- en C++ comme dans la plupart des langages -- selon l'ordre *lexicographique* (celui du dictionnaire):"
   ]
  },
  {
   "cell_type": "code",
   "execution_count": null,
   "metadata": {
    "deletable": false,
    "editable": false,
    "nbgrader": {
     "cell_type": "code",
     "checksum": "a3593d52bbe14f5b36e13a9cb10f1356",
     "grade": false,
     "grade_id": "cell-aeced620083c618f",
     "locked": true,
     "schema_version": 3,
     "solution": false,
     "task": false
    }
   },
   "outputs": [],
   "source": [
    "string(\"alice\") < string(\"bob\")"
   ]
  },
  {
   "cell_type": "code",
   "execution_count": null,
   "metadata": {
    "deletable": false,
    "editable": false,
    "nbgrader": {
     "cell_type": "code",
     "checksum": "18f96c079c614bb30204de3172544b19",
     "grade": false,
     "grade_id": "cell-8ce769104565ac9f",
     "locked": true,
     "schema_version": 3,
     "solution": false,
     "task": false
    }
   },
   "outputs": [],
   "source": [
    "string(\"alice\") < string(\"alain\")"
   ]
  },
  {
   "cell_type": "markdown",
   "metadata": {
    "deletable": false,
    "editable": false,
    "nbgrader": {
     "cell_type": "markdown",
     "checksum": "31925d105aab96b980ac7284f7383214",
     "grade": false,
     "grade_id": "cell-1bfca8f35865791f",
     "locked": true,
     "schema_version": 3,
     "solution": false
    }
   },
   "source": [
    "<!-- TODO pour 2020:\n",
    "- fournir la documentation pour monMax\n",
    "- faire écrire la documentation pour monMin\n",
    "!-->\n",
    "1. Écrire la documentation puis implanter une fonction `monMax` qui prend en entrée un tableau de chaînes de caractères et renvoie la plus grande pour l'ordre lexicographique: "
   ]
  },
  {
   "cell_type": "code",
   "execution_count": null,
   "metadata": {
    "deletable": false,
    "nbgrader": {
     "cell_type": "code",
     "checksum": "7e7407681732fbf97441506abb1345f5",
     "grade": true,
     "grade_id": "cell-3e0896eeb8fa63a1",
     "locked": false,
     "points": 1,
     "schema_version": 3,
     "solution": true,
     "task": false
    }
   },
   "outputs": [],
   "source": [
    "// VOTRE CODE ICI"
   ]
  },
  {
   "cell_type": "code",
   "execution_count": null,
   "metadata": {
    "deletable": false,
    "nbgrader": {
     "cell_type": "code",
     "checksum": "104d77a4cd930276e18e17f63b825495",
     "grade": false,
     "grade_id": "cell-ea160bfe473bd50f",
     "locked": false,
     "schema_version": 3,
     "solution": true,
     "task": false
    }
   },
   "outputs": [],
   "source": [
    "string monMax(vector<string> t) {\n",
    "    // VOTRE CODE ICI\n",
    "}"
   ]
  },
  {
   "cell_type": "markdown",
   "metadata": {
    "deletable": false,
    "editable": false,
    "nbgrader": {
     "cell_type": "markdown",
     "checksum": "3ca00e0de4fdcd86938e0079fa76eca4",
     "grade": false,
     "grade_id": "cell-042fe17d7e36a862",
     "locked": true,
     "schema_version": 3,
     "solution": false
    }
   },
   "source": [
    "- Vérifier que la fonction se comporte comme prévu :"
   ]
  },
  {
   "cell_type": "code",
   "execution_count": null,
   "metadata": {
    "deletable": false,
    "editable": false,
    "nbgrader": {
     "cell_type": "code",
     "checksum": "8d32788c813a8962813d01d81ab5707f",
     "grade": false,
     "grade_id": "cell-0c6b3a31d3b84fe6",
     "locked": true,
     "schema_version": 3,
     "solution": false
    }
   },
   "outputs": [],
   "source": [
    "monMax( { \"bonjour\", \"allo\", \"xylophone\", \"fonction\", \"stroumph\" } )"
   ]
  },
  {
   "cell_type": "code",
   "execution_count": null,
   "metadata": {
    "deletable": false,
    "editable": false,
    "nbgrader": {
     "cell_type": "code",
     "checksum": "a08ac96ea6579df1a6fb5273eefc38d4",
     "grade": true,
     "grade_id": "cell-fafebe681c8d29f6",
     "locked": true,
     "points": 1,
     "schema_version": 3,
     "solution": false,
     "task": false
    }
   },
   "outputs": [],
   "source": [
    "ASSERT( monMax( { \"coucou\"}) == \"coucou\" );\n",
    "ASSERT( monMax({ \"bonjour\", \"allo\", \"xylophone\", \"fonction\", \"stroumph\" }) == \"xylophone\" );"
   ]
  },
  {
   "cell_type": "markdown",
   "metadata": {
    "deletable": false,
    "editable": false,
    "nbgrader": {
     "cell_type": "markdown",
     "checksum": "aff79216612340aeb638472dacc04feb",
     "grade": false,
     "grade_id": "cell-4741ac671c75af58",
     "locked": true,
     "schema_version": 3,
     "solution": false
    }
   },
   "source": [
    "2. Implanter la fonction `monMin` dont la documentation est donnée ci-dessous :"
   ]
  },
  {
   "cell_type": "code",
   "execution_count": null,
   "metadata": {
    "deletable": false,
    "editable": false,
    "nbgrader": {
     "cell_type": "code",
     "checksum": "50430404d87fead4eeee27e00fea3c72",
     "grade": false,
     "grade_id": "cell-4442f84c4f5d4d31",
     "locked": true,
     "schema_version": 3,
     "solution": false
    }
   },
   "outputs": [],
   "source": [
    "/** Minimum d un tableau\n",
    " * @param t un tableau d entiers\n",
    " * @return l élément le plus petit du tableau\n",
    " **/"
   ]
  },
  {
   "cell_type": "code",
   "execution_count": null,
   "metadata": {
    "deletable": false,
    "nbgrader": {
     "cell_type": "code",
     "checksum": "2979ac3c819b9be0a9be1ef20fdadf02",
     "grade": false,
     "grade_id": "cell-af307c8be3808867",
     "locked": false,
     "schema_version": 3,
     "solution": true,
     "task": false
    }
   },
   "outputs": [],
   "source": [
    "int monMin(vector<int> t) {\n",
    "    // VOTRE CODE ICI\n",
    "}\n"
   ]
  },
  {
   "cell_type": "code",
   "execution_count": null,
   "metadata": {
    "deletable": false,
    "editable": false,
    "nbgrader": {
     "cell_type": "code",
     "checksum": "c5ae65f996e4a1d75a40e42ab0b04c19",
     "grade": false,
     "grade_id": "cell-6bc8dac069906344",
     "locked": true,
     "schema_version": 3,
     "solution": false
    }
   },
   "outputs": [],
   "source": [
    "monMin( { 5, -1, 3, 7, -4, 8, 4 } )"
   ]
  },
  {
   "cell_type": "markdown",
   "metadata": {
    "deletable": false,
    "editable": false,
    "nbgrader": {
     "cell_type": "markdown",
     "checksum": "4c988f83b2429ccc8b9cd509647979da",
     "grade": false,
     "grade_id": "cell-513feee389fc298c",
     "locked": true,
     "schema_version": 3,
     "solution": false
    }
   },
   "source": [
    "- Le test précédent était manuel. Transformer le en test automatique équivalent, en utilisant `ASSERT` :"
   ]
  },
  {
   "cell_type": "code",
   "execution_count": null,
   "metadata": {
    "deletable": false,
    "nbgrader": {
     "cell_type": "code",
     "checksum": "4214d851d0fe4a11240621ce927876c7",
     "grade": true,
     "grade_id": "cell-fafebe681c8d29f5",
     "locked": false,
     "points": 1,
     "schema_version": 3,
     "solution": true,
     "task": false
    }
   },
   "outputs": [],
   "source": [
    "// VOTRE CODE ICI"
   ]
  },
  {
   "cell_type": "code",
   "execution_count": null,
   "metadata": {
    "deletable": false,
    "editable": false,
    "nbgrader": {
     "cell_type": "code",
     "checksum": "3aeb8ead5ecfe88d1345530e0d82d26f",
     "grade": true,
     "grade_id": "cell-fafebe681c8d29f7",
     "locked": true,
     "points": 1,
     "schema_version": 3,
     "solution": false,
     "task": false
    }
   },
   "outputs": [],
   "source": [
    "ASSERT( monMin( { 5 }) == 5);\n",
    "ASSERT( monMin( { 5, 1, 3 }) == 1);"
   ]
  },
  {
   "cell_type": "markdown",
   "metadata": {
    "deletable": false,
    "editable": false,
    "nbgrader": {
     "cell_type": "markdown",
     "checksum": "8defd6f242b4e4ff84062f650b80ac21",
     "grade": false,
     "grade_id": "cell-52317b5fdd376ce4",
     "locked": true,
     "schema_version": 3,
     "solution": false
    }
   },
   "source": [
    "## Exercice\n",
    "Compléter chacune des fonctions suivantes:\n",
    "- Si il n'y a pas de documentation, l'écrire;\n",
    "- Si la fonction est vide, l'implanter;\n",
    "- S'il n'y a pas de tests automatiques, en rajouter en utilisant `ASSERT`."
   ]
  },
  {
   "cell_type": "markdown",
   "metadata": {
    "deletable": false,
    "editable": false,
    "nbgrader": {
     "cell_type": "markdown",
     "checksum": "131e5b01d1ffeba006a534ccd0c3bc9f",
     "grade": false,
     "grade_id": "cell-63b9197623b6b801",
     "locked": true,
     "schema_version": 3,
     "solution": false
    }
   },
   "source": [
    "### Fonction `estPositif` :"
   ]
  },
  {
   "cell_type": "code",
   "execution_count": null,
   "metadata": {
    "deletable": false,
    "nbgrader": {
     "cell_type": "code",
     "checksum": "e9d7681e74d2d22239dd76cdced9367f",
     "grade": true,
     "grade_id": "cell-debdc6508741f20e",
     "locked": false,
     "points": 1,
     "schema_version": 3,
     "solution": true
    }
   },
   "outputs": [],
   "source": [
    "// VOTRE CODE ICI"
   ]
  },
  {
   "cell_type": "code",
   "execution_count": null,
   "metadata": {
    "deletable": false,
    "editable": false,
    "nbgrader": {
     "cell_type": "code",
     "checksum": "7a004f22049f53543173e16fc67ce4af",
     "grade": false,
     "grade_id": "cell-33bf8e417e2812b7",
     "locked": true,
     "schema_version": 3,
     "solution": false
    }
   },
   "outputs": [],
   "source": [
    "bool estPositif(vector<float> tab) {\n",
    "    for(int i=0; i < tab.size(); i++){\n",
    "        if ( tab[i] < 0. ) {\n",
    "            return false;\n",
    "        }\n",
    "    }\n",
    "    return true;\n",
    " }"
   ]
  },
  {
   "cell_type": "markdown",
   "metadata": {
    "deletable": false,
    "editable": false,
    "nbgrader": {
     "cell_type": "markdown",
     "checksum": "f5628810e05177f5bf3f3cfd0c393a01",
     "grade": false,
     "grade_id": "cell-3a277652a240e91d",
     "locked": true,
     "schema_version": 3,
     "solution": false
    }
   },
   "source": [
    "Tests:"
   ]
  },
  {
   "cell_type": "code",
   "execution_count": null,
   "metadata": {
    "deletable": false,
    "nbgrader": {
     "cell_type": "code",
     "checksum": "ec048431d87a3d7fbb0202065598a5ae",
     "grade": true,
     "grade_id": "cell-062f931267232e58",
     "locked": false,
     "points": 1,
     "schema_version": 3,
     "solution": true
    }
   },
   "outputs": [],
   "source": [
    "// VOTRE CODE ICI"
   ]
  },
  {
   "cell_type": "markdown",
   "metadata": {
    "deletable": false,
    "editable": false,
    "nbgrader": {
     "cell_type": "markdown",
     "checksum": "ac2ec6ba9a0df67bbe5d59fc0cb7ca38",
     "grade": false,
     "grade_id": "cell-df085b43fa0381c1",
     "locked": true,
     "schema_version": 3,
     "solution": false
    }
   },
   "source": [
    "### Fonction `incremente`"
   ]
  },
  {
   "cell_type": "markdown",
   "metadata": {
    "deletable": false,
    "editable": false,
    "nbgrader": {
     "cell_type": "markdown",
     "checksum": "8dfa0dcafe60fbbba0c4839738756712",
     "grade": false,
     "grade_id": "cell-4363bf80b8d9aa5a",
     "locked": true,
     "schema_version": 3,
     "solution": false
    }
   },
   "source": [
    "La fonction suivante renvoie un tableau. En principe on devrait mettre `vector<int>` comme type de retour. Pour contourner un [bug dans cling](https://github.com/QuantStack/xeus-cling/issues/40) (corrigé dans la version de développement), on va mettre le type `tableau` à la place, après avoir défini ce type comme un alias pour `vector<int>`."
   ]
  },
  {
   "cell_type": "code",
   "execution_count": null,
   "metadata": {
    "deletable": false,
    "editable": false,
    "nbgrader": {
     "cell_type": "code",
     "checksum": "8abeb1d828d2d4bb983123f6aa73fd4a",
     "grade": false,
     "grade_id": "cell-d653784ca8d89a83",
     "locked": true,
     "schema_version": 3,
     "solution": false
    }
   },
   "outputs": [],
   "source": [
    "typedef vector<int> tableau;"
   ]
  },
  {
   "cell_type": "code",
   "execution_count": null,
   "metadata": {
    "deletable": false,
    "editable": false,
    "nbgrader": {
     "cell_type": "code",
     "checksum": "1e7077526e25e42b7f06e032f91023e1",
     "grade": false,
     "grade_id": "cell-ab607ee890a8bbc7",
     "locked": true,
     "schema_version": 3,
     "solution": false
    }
   },
   "outputs": [],
   "source": [
    "/** Fonction incremente\n",
    " * @param t un tableau d'entiers\n",
    " * @return un tableau d'entiers obtenu en incrémentant de 1 chaque valeur de t\n",
    " **/"
   ]
  },
  {
   "cell_type": "code",
   "execution_count": null,
   "metadata": {
    "deletable": false,
    "nbgrader": {
     "cell_type": "code",
     "checksum": "078543ee70bf1bcd3da1f992d4569113",
     "grade": false,
     "grade_id": "cell-9533dd4bd5e8f03e",
     "locked": false,
     "schema_version": 3,
     "solution": true
    }
   },
   "outputs": [],
   "source": [
    "tableau incremente(vector<int> t) {\n",
    "    // VOTRE CODE ICI\n",
    "}"
   ]
  },
  {
   "cell_type": "markdown",
   "metadata": {
    "deletable": false,
    "editable": false,
    "nbgrader": {
     "cell_type": "markdown",
     "checksum": "1be3595a79b0771c8b497596c2b34648",
     "grade": false,
     "grade_id": "cell-64691ddf7c606c63",
     "locked": true,
     "schema_version": 3,
     "solution": false
    }
   },
   "source": [
    "Tests:"
   ]
  },
  {
   "cell_type": "code",
   "execution_count": null,
   "metadata": {
    "deletable": false,
    "editable": false,
    "nbgrader": {
     "cell_type": "code",
     "checksum": "e84b18cb5b639481a7e1d1311516d79c",
     "grade": true,
     "grade_id": "cell-ba30493ce4355891",
     "locked": true,
     "points": 1,
     "schema_version": 3,
     "solution": false,
     "task": false
    }
   },
   "outputs": [],
   "source": [
    "ASSERT( incremente({5,1,3}) == vector<int>({6,2,4}) )"
   ]
  },
  {
   "cell_type": "markdown",
   "metadata": {
    "deletable": false,
    "editable": false,
    "nbgrader": {
     "cell_type": "markdown",
     "checksum": "76cc62c618830814625b941b5dd4f959",
     "grade": false,
     "grade_id": "cell-81f3613904343fdf",
     "locked": true,
     "schema_version": 3,
     "solution": false
    }
   },
   "source": [
    "### Fonction `egale`"
   ]
  },
  {
   "cell_type": "code",
   "execution_count": null,
   "metadata": {
    "deletable": false,
    "editable": false,
    "nbgrader": {
     "cell_type": "code",
     "checksum": "5dca152fe5b05dc73ce8d094223dbce1",
     "grade": false,
     "grade_id": "cell-14df823ac6c1e12f",
     "locked": true,
     "schema_version": 3,
     "solution": false
    }
   },
   "outputs": [],
   "source": [
    "/** Teste si deux tableaux sont égaux (même longueur, mêmes valeurs)\n",
    " * @param t1: un tableau d'entiers\n",
    " * @param t2: un tableau d'entiers\n",
    " * @return true si les deux tableaux sont égaux, false sinon\n",
    " **/"
   ]
  },
  {
   "cell_type": "code",
   "execution_count": null,
   "metadata": {
    "deletable": false,
    "editable": false,
    "nbgrader": {
     "cell_type": "code",
     "checksum": "164865f7e2fb62e5fb727cc285bdb5f1",
     "grade": false,
     "grade_id": "cell-1818d5b14943aef6",
     "locked": true,
     "schema_version": 3,
     "solution": false
    }
   },
   "outputs": [],
   "source": [
    "bool egale(vector<int> t1, vector<int> t2) {\n",
    "    if( t1.size() != t2.size() ) {\n",
    "        return false;\n",
    "    }\n",
    "    for ( int i=0; i < t1.size(); i++ ) {\n",
    "        if ( t1[i] != t2[i] ) {\n",
    "            return false;\n",
    "        }\n",
    "    }\n",
    "    return true;\n",
    "}"
   ]
  },
  {
   "cell_type": "markdown",
   "metadata": {
    "deletable": false,
    "editable": false,
    "nbgrader": {
     "cell_type": "markdown",
     "checksum": "1eecca385c4f905118b128648774c624",
     "grade": false,
     "grade_id": "cell-7864b28ad24a0055",
     "locked": true,
     "schema_version": 3,
     "solution": false
    }
   },
   "source": [
    "Tests:"
   ]
  },
  {
   "cell_type": "code",
   "execution_count": null,
   "metadata": {
    "deletable": false,
    "nbgrader": {
     "cell_type": "code",
     "checksum": "35ebbbf1f3011f622f674b0fdbeb9861",
     "grade": true,
     "grade_id": "cell-707f9bfaeb851c40",
     "locked": false,
     "points": 1,
     "schema_version": 3,
     "solution": true
    }
   },
   "outputs": [],
   "source": [
    "// VOTRE CODE ICI"
   ]
  },
  {
   "cell_type": "markdown",
   "metadata": {
    "deletable": false,
    "editable": false,
    "nbgrader": {
     "cell_type": "markdown",
     "checksum": "4e293ad3ea7522febc2b1b6479aebedd",
     "grade": false,
     "grade_id": "cell-32b55993ea00e47e",
     "locked": true,
     "schema_version": 3,
     "solution": false
    }
   },
   "source": [
    "<!-- TODO pour 2020\n",
    "  remplacer ouTableau par le calcul du produit d'un tableau d'entiers\n",
    "!-->\n",
    "### Fonction `ouTableau`"
   ]
  },
  {
   "cell_type": "code",
   "execution_count": null,
   "metadata": {
    "deletable": false,
    "editable": false,
    "nbgrader": {
     "cell_type": "code",
     "checksum": "49f88515c88a83effd6d106c902c3a73",
     "grade": false,
     "grade_id": "cell-0c42b5670eb5b699",
     "locked": true,
     "schema_version": 3,
     "solution": false
    }
   },
   "outputs": [],
   "source": [
    "/** renvoie le «ou» logique de tous les éléments d un tableau de booléens\n",
    " * @param t un tableau de booléens\n",
    " * @return le résultat du calcul de t[0] or t[1] or t[2] or ... \n",
    " **/"
   ]
  },
  {
   "cell_type": "code",
   "execution_count": null,
   "metadata": {
    "deletable": false,
    "nbgrader": {
     "cell_type": "code",
     "checksum": "0ca6d8d3bea289315173301a8bb42f3b",
     "grade": false,
     "grade_id": "cell-5d59bb3774333584",
     "locked": false,
     "schema_version": 3,
     "solution": true
    }
   },
   "outputs": [],
   "source": [
    "bool ouTableau(vector<bool> t) {\n",
    "    // VOTRE CODE ICI\n",
    "}"
   ]
  },
  {
   "cell_type": "code",
   "execution_count": null,
   "metadata": {
    "deletable": false,
    "editable": false,
    "nbgrader": {
     "cell_type": "code",
     "checksum": "aee16d71c108b82010a2cd078e8edb09",
     "grade": false,
     "grade_id": "cell-a254241c461c5329",
     "locked": true,
     "schema_version": 3,
     "solution": false,
     "task": false
    }
   },
   "outputs": [],
   "source": [
    "ouTableau({false, true, false}) // doit valoir true"
   ]
  },
  {
   "cell_type": "code",
   "execution_count": null,
   "metadata": {
    "deletable": false,
    "editable": false,
    "nbgrader": {
     "cell_type": "code",
     "checksum": "e58b2dfbab66b96f6f136c5fd0e65341",
     "grade": false,
     "grade_id": "cell-74019ad247e334d2",
     "locked": true,
     "schema_version": 3,
     "solution": false,
     "task": false
    }
   },
   "outputs": [],
   "source": [
    "ouTableau({false, false, false}) // doit valoir false"
   ]
  },
  {
   "cell_type": "markdown",
   "metadata": {
    "deletable": false,
    "editable": false,
    "nbgrader": {
     "cell_type": "markdown",
     "checksum": "7476942bcb37f27c0b2c73225a09d012",
     "grade": false,
     "grade_id": "cell-1738e8d3c0e7cd67",
     "locked": true,
     "schema_version": 3,
     "solution": false
    }
   },
   "source": [
    "Tests:"
   ]
  },
  {
   "cell_type": "code",
   "execution_count": null,
   "metadata": {
    "deletable": false,
    "nbgrader": {
     "cell_type": "code",
     "checksum": "c1fe75322230dc0b7b5e32086f436916",
     "grade": true,
     "grade_id": "cell-bb243e0519279291",
     "locked": false,
     "points": 1,
     "schema_version": 3,
     "solution": true
    }
   },
   "outputs": [],
   "source": [
    "// VOTRE CODE ICI"
   ]
  },
  {
   "cell_type": "markdown",
   "metadata": {
    "deletable": false,
    "editable": false,
    "nbgrader": {
     "cell_type": "markdown",
     "checksum": "70f16f838ebe1dbb4a49f0d57ec8e64f",
     "grade": false,
     "grade_id": "cell-942637f4b6c5a177",
     "locked": true,
     "schema_version": 3,
     "solution": false
    }
   },
   "source": [
    "### Fonction `plusDeVrai`"
   ]
  },
  {
   "cell_type": "code",
   "execution_count": null,
   "metadata": {
    "deletable": false,
    "editable": false,
    "nbgrader": {
     "cell_type": "code",
     "checksum": "6b8e2e6ed314c649c5d335a6e02846ae",
     "grade": false,
     "grade_id": "cell-37ae989ef3121854",
     "locked": true,
     "schema_version": 3,
     "solution": false
    }
   },
   "outputs": [],
   "source": [
    "/** Teste si un tableau contient plus de 'true' que de 'false'\n",
    " * @param tab un tableau de booleen\n",
    " * @return true si le tableau contient plus de 'true', 'false' sinon\n",
    " **/"
   ]
  },
  {
   "cell_type": "code",
   "execution_count": null,
   "metadata": {
    "deletable": false,
    "nbgrader": {
     "cell_type": "code",
     "checksum": "5bf134265e8e647328df6e20b05621c2",
     "grade": false,
     "grade_id": "cell-ded0f8d9532da499",
     "locked": false,
     "schema_version": 3,
     "solution": true
    }
   },
   "outputs": [],
   "source": [
    "bool plusDeVrai(vector<bool> tab) {\n",
    "    // VOTRE CODE ICI\n",
    "}"
   ]
  },
  {
   "cell_type": "markdown",
   "metadata": {
    "deletable": false,
    "editable": false,
    "nbgrader": {
     "cell_type": "markdown",
     "checksum": "38fabf799d9626bce91a755e37b22cee",
     "grade": false,
     "grade_id": "cell-e58af629f6da0c95",
     "locked": true,
     "schema_version": 3,
     "solution": false
    }
   },
   "source": [
    "Tests:"
   ]
  },
  {
   "cell_type": "code",
   "execution_count": null,
   "metadata": {
    "deletable": false,
    "nbgrader": {
     "cell_type": "code",
     "checksum": "b1e43e52aa9100c505c2ed759fe2b4e2",
     "grade": true,
     "grade_id": "cell-2b2e37a9334a4897",
     "locked": false,
     "points": 1,
     "schema_version": 3,
     "solution": true
    }
   },
   "outputs": [],
   "source": [
    "// VOTRE CODE ICI"
   ]
  },
  {
   "cell_type": "code",
   "execution_count": null,
   "metadata": {
    "deletable": false,
    "editable": false,
    "nbgrader": {
     "cell_type": "code",
     "checksum": "2ead069e477e4b30ed93dede12938a56",
     "grade": true,
     "grade_id": "cell-2b2e37a9334a4898",
     "locked": true,
     "points": 1,
     "schema_version": 3,
     "solution": false,
     "task": false
    }
   },
   "outputs": [],
   "source": []
  }
 ],
 "metadata": {
  "kernelspec": {
   "display_name": "C++11",
   "language": "C++11",
   "name": "xcpp11"
  },
  "language_info": {
   "codemirror_mode": "text/x-c++src",
   "file_extension": ".cpp",
   "mimetype": "text/x-c++src",
   "name": "c++",
   "version": "-std=c++11"
  }
 },
 "nbformat": 4,
 "nbformat_minor": 2
}
