{
 "cells": [
  {
   "cell_type": "markdown",
   "metadata": {
    "deletable": false,
    "editable": false,
    "nbgrader": {
     "cell_type": "markdown",
     "checksum": "6e5dbc477447644f93416cba679263ec",
     "grade": false,
     "grade_id": "cell-bf82401e988f816e",
     "locked": true,
     "schema_version": 3,
     "solution": false
    }
   },
   "source": [
    "Avant de terminer cette feuille, assurez-vous que tout fonctionne comme voulu. Tout d'abord, **redémarrez le noyau** (dans le menu, sélectionner `Kernel -> Restart`) puis **exécutez toutes les cellules** (dans le menu, sélectionner `Cell -> Run All`).\n",
    "\n",
    "Vérifiez que vous avez édité la cellule ci-dessous, ainsi que toutes les cellules marquées avec `VOTRE CODE ICI` ou `VOTRE RÉPONSE ICI`."
   ]
  },
  {
   "cell_type": "markdown",
   "metadata": {},
   "source": [
    "- Nom: \n",
    "- Prénom: \n",
    "- Groupe: "
   ]
  },
  {
   "cell_type": "markdown",
   "metadata": {
    "deletable": false,
    "editable": false,
    "nbgrader": {
     "cell_type": "markdown",
     "checksum": "d66aa34c09cab164d0330674b076a1c3",
     "grade": false,
     "grade_id": "cell-3cbc94081bd728ce",
     "locked": true,
     "schema_version": 3,
     "solution": false
    }
   },
   "source": [
    "# Exercices supplémentaires: Tableaux, chaînes de caractères, `switch`"
   ]
  },
  {
   "cell_type": "code",
   "execution_count": null,
   "metadata": {
    "deletable": false,
    "editable": false,
    "nbgrader": {
     "cell_type": "code",
     "checksum": "196643acace6c1aaf7d475b4b7f32a45",
     "grade": false,
     "grade_id": "cell-ce888f6efcf83b87",
     "locked": true,
     "schema_version": 3,
     "solution": false
    }
   },
   "outputs": [],
   "source": [
    "#include <vector>\n",
    "using namespace std;"
   ]
  },
  {
   "cell_type": "markdown",
   "metadata": {
    "deletable": false,
    "editable": false,
    "nbgrader": {
     "cell_type": "markdown",
     "checksum": "0189cfd695b17fc4b7e4768c779affa5",
     "grade": false,
     "grade_id": "cell-19ad87e1d8a9a99f",
     "locked": true,
     "schema_version": 3,
     "solution": false
    }
   },
   "source": [
    "## Exercice (tableaux)\n",
    "- Implanter une fonction `contient` qui prend en argument un tableau et un entier et renvoie vrai si le tableau contient l'entier, faux sinon. Commencer par en écrire la documentation."
   ]
  },
  {
   "cell_type": "code",
   "execution_count": null,
   "metadata": {
    "deletable": false,
    "nbgrader": {
     "cell_type": "code",
     "checksum": "d3a697191d193afa4814b22d4ac70dfa",
     "grade": true,
     "grade_id": "cell-69642dc56e20e981",
     "locked": false,
     "points": 1,
     "schema_version": 3,
     "solution": true,
     "task": false
    }
   },
   "outputs": [],
   "source": [
    "// VOTRE CODE ICI"
   ]
  },
  {
   "cell_type": "code",
   "execution_count": null,
   "metadata": {
    "deletable": false,
    "nbgrader": {
     "cell_type": "code",
     "checksum": "ee68d975a015092eb3a64c172f9735cb",
     "grade": false,
     "grade_id": "cell-69642dc56e20e982",
     "locked": false,
     "schema_version": 3,
     "solution": true
    }
   },
   "outputs": [],
   "source": [
    "// VOTRE CODE ICI"
   ]
  },
  {
   "cell_type": "markdown",
   "metadata": {
    "deletable": false,
    "editable": false,
    "nbgrader": {
     "cell_type": "markdown",
     "checksum": "11077afd883d63c0ca2bfa97ada72dbc",
     "grade": false,
     "grade_id": "cell-29ae6b767bde2ea9",
     "locked": true,
     "schema_version": 3,
     "solution": false
    }
   },
   "source": [
    "- Vérifier qu'elle passe les tests :"
   ]
  },
  {
   "cell_type": "code",
   "execution_count": null,
   "metadata": {
    "deletable": false,
    "editable": false,
    "nbgrader": {
     "cell_type": "code",
     "checksum": "c30bffcfcd4cc267d02858ea72d4909d",
     "grade": true,
     "grade_id": "cell-3575477879f79483",
     "locked": true,
     "points": 1,
     "schema_version": 3,
     "solution": false
    }
   },
   "outputs": [],
   "source": [
    "ASSERT(     contient( { 5, -1, 8, 4 }, 8) );\n",
    "ASSERT( not contient( { 1, 2 }, 42)       );"
   ]
  },
  {
   "cell_type": "markdown",
   "metadata": {
    "deletable": false,
    "editable": false,
    "nbgrader": {
     "cell_type": "markdown",
     "checksum": "7dd0e4af12b0993ef291ac55bb722755",
     "grade": false,
     "grade_id": "cell-66b633c1602039e5",
     "locked": true,
     "schema_version": 3,
     "solution": false
    }
   },
   "source": [
    "## Exercice (Code Morse $\\clubsuit$)\n",
    "\n",
    "- Voici une fonction qui traduit une lettre en code Morse. Elle contient une instruction `switch` que nous n'avons pas encore vue. À quoi ressemblerait la fonction avec des `if` à la place?"
   ]
  },
  {
   "cell_type": "code",
   "execution_count": null,
   "metadata": {
    "deletable": false,
    "editable": false,
    "nbgrader": {
     "cell_type": "code",
     "checksum": "3ca49740a5d4f5564cb6ce05fba185bb",
     "grade": false,
     "grade_id": "cell-f07298860784b45c",
     "locked": true,
     "schema_version": 3,
     "solution": false
    }
   },
   "outputs": [],
   "source": [
    "/** Traduction d une lettre en Morse\n",
    " *  @param a un caractère\n",
    " *  @return une chaîne de caractère représentant le code Morse du caractère\n",
    " **/\n",
    "string morseCaractere(char a) {\n",
    "    switch(a) {\n",
    "    case 'A':\n",
    "        return \".-\";\n",
    "    case 'B':\n",
    "        return \"-...\";\n",
    "    case 'C':\n",
    "        return \"-.-.\";\n",
    "    case 'D':\n",
    "        return \"-..\";\n",
    "    case 'E':\n",
    "        return \".\";\n",
    "    case 'F':\n",
    "        return \"..-.\";\n",
    "    case 'G':\n",
    "        return \"--.\";\n",
    "    case 'H':\n",
    "        return \"....\";\n",
    "    case 'I':\n",
    "        return \"..\";\n",
    "    case 'J':\n",
    "        return \".---\";\n",
    "    case 'K':\n",
    "        return \"-.-\";\n",
    "    case 'L':\n",
    "        return \".-..\";\n",
    "    case 'M':\n",
    "        return \"--\";\n",
    "    case 'N':\n",
    "        return \"-.\";\n",
    "    case 'O':\n",
    "        return \"---\";\n",
    "    case 'P':\n",
    "        return \".--.\";\n",
    "    case 'Q':\n",
    "        return \"--.-\";\n",
    "    case 'R':\n",
    "        return \".-.\";\n",
    "    case 'S':\n",
    "        return \"...\";\n",
    "    case 'T':\n",
    "        return \"-\";\n",
    "    case 'U':\n",
    "        return \"..-\";\n",
    "    case 'V':\n",
    "        return \"...-\";\n",
    "    case 'W':\n",
    "        return \".--\";\n",
    "    case 'X':\n",
    "        return \"-..-\";\n",
    "    case 'Y':\n",
    "        return \"-.--\";\n",
    "    case 'Z':\n",
    "        return \"--..\";\n",
    "    default:\n",
    "        return \"???\";\n",
    "    }\n",
    "}"
   ]
  },
  {
   "cell_type": "markdown",
   "metadata": {
    "deletable": false,
    "editable": false,
    "nbgrader": {
     "cell_type": "markdown",
     "checksum": "6d0c7ae033fa7e98f98f97d5e2c2e9cb",
     "grade": false,
     "grade_id": "cell-24dc4e8cc41056bd",
     "locked": true,
     "schema_version": 3,
     "solution": false
    }
   },
   "source": [
    "- Implanter une fonction `morseString` qui prend en entrée une chaîne de caractères de longueur arbitraire et qui la traduit entièrement en code Morse. <br>\n",
    "  **Indication:** les chaînes de caractères (`string`) se comportent essentiellement comme des tableaux de caractères (`char`)."
   ]
  },
  {
   "cell_type": "code",
   "execution_count": null,
   "metadata": {
    "deletable": false,
    "nbgrader": {
     "cell_type": "code",
     "checksum": "72ef67cbec2745e302ed96d621384478",
     "grade": false,
     "grade_id": "cell-edcc8a9c8d2d2b2c",
     "locked": false,
     "schema_version": 3,
     "solution": true
    }
   },
   "outputs": [],
   "source": [
    "/** Traduction d un texte en Morse\n",
    " *  @param chaine une chaîne de caractères\n",
    " *  @return une chaîne de caractère contenant la traduction en Morse de la chaîne de caractère\n",
    " **/\n",
    "string morseString(string texte) {\n",
    "    // VOTRE CODE ICI\n",
    "}"
   ]
  },
  {
   "cell_type": "markdown",
   "metadata": {
    "deletable": false,
    "editable": false,
    "nbgrader": {
     "cell_type": "markdown",
     "checksum": "6e2a19ab7a97266d475c32112fbf7d42",
     "grade": false,
     "grade_id": "cell-47d8a29517433827",
     "locked": true,
     "schema_version": 3,
     "solution": false
    }
   },
   "source": [
    "- Compléter les tests ci-dessous et vérifier que la fonction les passe:"
   ]
  },
  {
   "cell_type": "code",
   "execution_count": null,
   "metadata": {
    "deletable": false,
    "editable": false,
    "nbgrader": {
     "cell_type": "code",
     "checksum": "33465334a8b3bf6a8a1df1beedd3103a",
     "grade": true,
     "grade_id": "cell-ba2015b421b4196e",
     "locked": true,
     "points": 1,
     "schema_version": 3,
     "solution": false,
     "task": false
    }
   },
   "outputs": [],
   "source": [
    "ASSERT( morseString(\"HELLO\") == \"......-...-..---\" );\n",
    "ASSERT( morseString(\"GOOD LUCK\") == \"--.-------..???.-....--.-.-.-\" );"
   ]
  },
  {
   "cell_type": "code",
   "execution_count": null,
   "metadata": {
    "deletable": false,
    "nbgrader": {
     "cell_type": "code",
     "checksum": "e379e2d12d3bcd144600d3f68cf1f851",
     "grade": true,
     "grade_id": "cell-e7a9db8ea360121c",
     "locked": false,
     "points": 1,
     "schema_version": 3,
     "solution": true,
     "task": false
    }
   },
   "outputs": [],
   "source": [
    "// VOTRE CODE ICI"
   ]
  },
  {
   "cell_type": "markdown",
   "metadata": {
    "deletable": false,
    "editable": false,
    "nbgrader": {
     "cell_type": "markdown",
     "checksum": "47760b408f85e2952ce096e8dc07e796",
     "grade": false,
     "grade_id": "cell-951b06851913ec61",
     "locked": true,
     "schema_version": 3,
     "solution": false
    }
   },
   "source": [
    "## Bilan\n",
    "\n",
    "Si vous êtes arrivés jusqu'ici, bravo ! Vous pouvez reprendre le TP, en Python cette fois-ci :)"
   ]
  }
 ],
 "metadata": {
  "kernelspec": {
   "display_name": "C++11",
   "language": "C++11",
   "name": "xcpp11"
  },
  "language_info": {
   "codemirror_mode": "text/x-c++src",
   "file_extension": ".cpp",
   "mimetype": "text/x-c++src",
   "name": "c++",
   "version": "-std=c++11"
  }
 },
 "nbformat": 4,
 "nbformat_minor": 2
}
