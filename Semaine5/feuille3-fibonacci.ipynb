{
 "cells": [
  {
   "cell_type": "markdown",
   "metadata": {
    "deletable": false,
    "editable": false,
    "nbgrader": {
     "checksum": "6e5dbc477447644f93416cba679263ec",
     "grade": false,
     "grade_id": "cell-bf82401e988f816e",
     "locked": true,
     "schema_version": 1,
     "solution": false
    }
   },
   "source": [
    "Avant de terminer cette feuille, assurez-vous que tout fonctionne comme voulu. Tout d'abord, **redémarrez le noyau** (dans le menu, sélectionner `Kernel -> Restart`) puis **exécutez toutes les cellules** (dans le menu, sélectionner `Cell -> Run All`).\n",
    "\n",
    "Vérifiez que vous avez édité la cellule ci-dessous, ainsi que toutes les cellules marquées avec `VOTRE CODE ICI` ou `VOTRE RÉPONSE ICI`."
   ]
  },
  {
   "cell_type": "markdown",
   "metadata": {},
   "source": [
    "- Nom: \n",
    "- Prénom: \n",
    "- Groupe: "
   ]
  },
  {
   "cell_type": "markdown",
   "metadata": {
    "deletable": false,
    "editable": false,
    "nbgrader": {
     "checksum": "c500764acaaf7bc57a482ffa30483143",
     "grade": false,
     "grade_id": "cell-b8ffd3e2724b20a4",
     "locked": true,
     "schema_version": 1,
     "solution": false
    }
   },
   "source": [
    "### Suite de Fibonacci\n",
    "Dans cette feuille, vous allez implanter les trois algorithmes vus en TD pour calculer la suite de Fibonacci."
   ]
  },
  {
   "cell_type": "code",
   "execution_count": null,
   "metadata": {
    "deletable": false,
    "editable": false,
    "nbgrader": {
     "checksum": "6abc94e6f60d4b65559aa19ff9bea687",
     "grade": false,
     "grade_id": "cell-23c28693bb24e284",
     "locked": true,
     "schema_version": 1,
     "solution": false
    }
   },
   "outputs": [],
   "source": [
    "#include <iostream>\n",
    "#include <vector>\n",
    "using namespace std;"
   ]
  },
  {
   "cell_type": "markdown",
   "metadata": {
    "deletable": false,
    "editable": false,
    "nbgrader": {
     "checksum": "83c30cdfad513b3b9258975555e91210",
     "grade": false,
     "grade_id": "cell-c1cf4d9dd7f36f7a",
     "locked": true,
     "schema_version": 1,
     "solution": false
    }
   },
   "source": [
    "## Exercice (Fibonacci, version tableau)"
   ]
  },
  {
   "cell_type": "markdown",
   "metadata": {
    "deletable": false,
    "editable": false,
    "nbgrader": {
     "checksum": "116a7c11b4ffb1be62a837b89616a849",
     "grade": false,
     "grade_id": "cell-af9fdb729ae1af5e",
     "locked": true,
     "schema_version": 1,
     "solution": false
    }
   },
   "source": [
    "- Écrire la documentation puis implanter la fonction `fibonacciTableau`:"
   ]
  },
  {
   "cell_type": "code",
   "execution_count": null,
   "metadata": {
    "deletable": false,
    "nbgrader": {
     "checksum": "bb9f62796ce5ec3fc6309d61a88a6792",
     "grade": true,
     "grade_id": "cell-fe5ec9160e7fe4ed",
     "locked": false,
     "points": 1,
     "schema_version": 1,
     "solution": true
    }
   },
   "outputs": [],
   "source": [
    "// VOTRE CODE ICI"
   ]
  },
  {
   "cell_type": "code",
   "execution_count": null,
   "metadata": {
    "deletable": false,
    "nbgrader": {
     "checksum": "dce9fb860a743896f9fa7363bf531338",
     "grade": false,
     "grade_id": "cell-3e99d334583cf0cf",
     "locked": false,
     "schema_version": 1,
     "solution": true
    }
   },
   "outputs": [],
   "source": [
    "int fibonacciTableau(int n) {\n",
    "    // VOTRE CODE ICI\n",
    "}"
   ]
  },
  {
   "cell_type": "markdown",
   "metadata": {
    "deletable": false,
    "editable": false,
    "nbgrader": {
     "checksum": "dcd1bd0619b33082946d82eded78e986",
     "grade": false,
     "grade_id": "cell-3a5a77e9d38662a1",
     "locked": true,
     "schema_version": 1,
     "solution": false
    }
   },
   "source": [
    "- Vérifier que votre fonction passe les tests:"
   ]
  },
  {
   "cell_type": "code",
   "execution_count": null,
   "metadata": {
    "deletable": false,
    "editable": false,
    "nbgrader": {
     "checksum": "9f629e6d51c99c3477d128164da68ec0",
     "grade": false,
     "grade_id": "cell-de81c742ca06b1fe",
     "locked": true,
     "schema_version": 1,
     "solution": false
    }
   },
   "outputs": [],
   "source": [
    "ASSERT( fibonacciTableau(1) == 1 );\n",
    "ASSERT( fibonacciTableau(2) == 1 );\n",
    "ASSERT( fibonacciTableau(3) == 2 );\n",
    "ASSERT( fibonacciTableau(4) == 3 );\n",
    "ASSERT( fibonacciTableau(5) == 5 );\n",
    "ASSERT( fibonacciTableau(6) == 8 );\n",
    "ASSERT( fibonacciTableau(9) == 34 );"
   ]
  },
  {
   "cell_type": "markdown",
   "metadata": {
    "deletable": false,
    "editable": false,
    "nbgrader": {
     "checksum": "f10985fb7a3d021593310005f435baa9",
     "grade": false,
     "grade_id": "cell-96df4c2d033a6499",
     "locked": true,
     "schema_version": 1,
     "solution": false
    }
   },
   "source": [
    "## Exercice (Fibonacci, version trois variables)"
   ]
  },
  {
   "cell_type": "markdown",
   "metadata": {
    "deletable": false,
    "editable": false,
    "nbgrader": {
     "checksum": "c8796c470ea2f913e51c1eb4d55c95b0",
     "grade": false,
     "grade_id": "cell-769dae242b7fe173",
     "locked": true,
     "schema_version": 1,
     "solution": false
    }
   },
   "source": [
    "- Écrire la documentation puis implanter la fonction `fibonacciVariables`:"
   ]
  },
  {
   "cell_type": "code",
   "execution_count": null,
   "metadata": {
    "deletable": false,
    "nbgrader": {
     "checksum": "6ea39b45780586e23f8bac4e90dbee5f",
     "grade": true,
     "grade_id": "cell-e9a26741525a8c7f",
     "locked": false,
     "points": 1,
     "schema_version": 1,
     "solution": true
    }
   },
   "outputs": [],
   "source": [
    "// VOTRE CODE ICI"
   ]
  },
  {
   "cell_type": "code",
   "execution_count": null,
   "metadata": {
    "deletable": false,
    "nbgrader": {
     "checksum": "773bed6526638aa68a6681672b568f50",
     "grade": false,
     "grade_id": "cell-0293b05d6b32527e",
     "locked": false,
     "schema_version": 1,
     "solution": true
    }
   },
   "outputs": [],
   "source": [
    "int fibonacciVariables(int n) {\n",
    "    // VOTRE CODE ICI\n",
    "}"
   ]
  },
  {
   "cell_type": "markdown",
   "metadata": {
    "deletable": false,
    "editable": false,
    "nbgrader": {
     "checksum": "0e0ec37b8dc48f1d3d232ee77d1f726e",
     "grade": false,
     "grade_id": "cell-a58a9782a8e07d88",
     "locked": true,
     "schema_version": 1,
     "solution": false
    }
   },
   "source": [
    "- Tests :"
   ]
  },
  {
   "cell_type": "code",
   "execution_count": null,
   "metadata": {
    "deletable": false,
    "editable": false,
    "nbgrader": {
     "checksum": "273f9a842a7c39541e3ac38da84ba3ac",
     "grade": false,
     "grade_id": "cell-64a1a8cdcb6263c0",
     "locked": true,
     "schema_version": 1,
     "solution": false
    }
   },
   "outputs": [],
   "source": [
    "ASSERT( fibonacciVariables(1) == 1 );\n",
    "ASSERT( fibonacciVariables(2) == 1 );\n",
    "ASSERT( fibonacciVariables(3) == 2 );\n",
    "ASSERT( fibonacciVariables(4) == 3 );\n",
    "ASSERT( fibonacciVariables(5) == 5 );\n",
    "ASSERT( fibonacciVariables(6) == 8 );\n",
    "ASSERT( fibonacciVariables(9) == 34 );"
   ]
  },
  {
   "cell_type": "markdown",
   "metadata": {
    "deletable": false,
    "editable": false,
    "nbgrader": {
     "checksum": "f84f05e19808d96fadf6bf5d0e456cba",
     "grade": false,
     "grade_id": "cell-dca03131b57768e0",
     "locked": true,
     "schema_version": 1,
     "solution": false
    }
   },
   "source": [
    "## Exercice (Fibonacci, version récursive)"
   ]
  },
  {
   "cell_type": "code",
   "execution_count": null,
   "metadata": {
    "deletable": false,
    "nbgrader": {
     "checksum": "61d2520d8a6012c21cc04c54da66c650",
     "grade": true,
     "grade_id": "cell-c6bdea95ffb619b8",
     "locked": false,
     "points": 1,
     "schema_version": 1,
     "solution": true
    }
   },
   "outputs": [],
   "source": [
    "// VOTRE CODE ICI"
   ]
  },
  {
   "cell_type": "code",
   "execution_count": null,
   "metadata": {
    "deletable": false,
    "nbgrader": {
     "checksum": "5f91dde378eb809136385b2580573bf5",
     "grade": false,
     "grade_id": "cell-06ce675728db14a4",
     "locked": false,
     "schema_version": 1,
     "solution": true
    }
   },
   "outputs": [],
   "source": [
    "int fibonacciRecursive(int n) {\n",
    "    // VOTRE CODE ICI\n",
    "}"
   ]
  },
  {
   "cell_type": "markdown",
   "metadata": {
    "deletable": false,
    "editable": false,
    "nbgrader": {
     "checksum": "915ef8b631f036a710480b7efbdcf966",
     "grade": false,
     "grade_id": "cell-7433fd515737443c",
     "locked": true,
     "schema_version": 1,
     "solution": false
    }
   },
   "source": [
    "- Tests :"
   ]
  },
  {
   "cell_type": "code",
   "execution_count": null,
   "metadata": {
    "deletable": false,
    "editable": false,
    "nbgrader": {
     "checksum": "12a6d6df22fe71789b9e7f2bf9276bd2",
     "grade": false,
     "grade_id": "cell-f86b56741701c2a2",
     "locked": true,
     "schema_version": 1,
     "solution": false
    }
   },
   "outputs": [],
   "source": [
    "ASSERT( fibonacciRecursive(1) == 1 );\n",
    "ASSERT( fibonacciRecursive(2) == 1 );\n",
    "ASSERT( fibonacciRecursive(3) == 2 );\n",
    "ASSERT( fibonacciRecursive(4) == 3 );\n",
    "ASSERT( fibonacciRecursive(5) == 5 );\n",
    "ASSERT( fibonacciRecursive(6) == 8 );\n",
    "ASSERT( fibonacciRecursive(9) == 34 );"
   ]
  },
  {
   "cell_type": "markdown",
   "metadata": {
    "deletable": false,
    "editable": false,
    "nbgrader": {
     "checksum": "3147a1b6304e1d439962ff127c51d40c",
     "grade": false,
     "grade_id": "cell-c33cb1e5921e4f23",
     "locked": true,
     "schema_version": 1,
     "solution": false
    }
   },
   "source": [
    "- $\\clubsuit$ Exécuter la version récursive avec une grande valeur pour n (par exemple 200)."
   ]
  },
  {
   "cell_type": "code",
   "execution_count": null,
   "metadata": {},
   "outputs": [],
   "source": []
  },
  {
   "cell_type": "markdown",
   "metadata": {
    "deletable": false,
    "nbgrader": {
     "checksum": "f310de0feeda18563a0300c400d3558a",
     "grade": true,
     "grade_id": "cell-15aced9ad15bb5cd",
     "locked": false,
     "points": 0,
     "schema_version": 1,
     "solution": true
    }
   },
   "source": [
    "- Que se passe-t-il?\n",
    "VOTRE RÉPONSE ICI"
   ]
  },
  {
   "cell_type": "markdown",
   "metadata": {},
   "source": [
    "- $\\clubsuit$ A votre avis, est-il possible de remédier à ce problème? "
   ]
  }
 ],
 "metadata": {
  "kernelspec": {
   "display_name": "C++11",
   "language": "C++11",
   "name": "xcpp11"
  },
  "language_info": {
   "codemirror_mode": "text/x-c++src",
   "file_extension": ".c++",
   "mimetype": " text/x-c++src",
   "name": "c++"
  }
 },
 "nbformat": 4,
 "nbformat_minor": 2
}
