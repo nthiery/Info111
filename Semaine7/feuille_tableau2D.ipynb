{
 "cells": [
  {
   "cell_type": "markdown",
   "metadata": {
    "deletable": false,
    "editable": false,
    "nbgrader": {
     "checksum": "6e5dbc477447644f93416cba679263ec",
     "grade": false,
     "grade_id": "cell-bf82401e988f816e",
     "locked": true,
     "schema_version": 1,
     "solution": false
    }
   },
   "source": [
    "Avant de terminer cette feuille, assurez-vous que tout fonctionne comme voulu. Tout d'abord, **redémarrez le noyau** (dans le menu, sélectionner `Kernel -> Restart`) puis **exécutez toutes les cellules** (dans le menu, sélectionner `Cell -> Run All`).\n",
    "\n",
    "Vérifiez que vous avez édité la cellule ci-dessous, ainsi que toutes les cellules marquées avec `VOTRE CODE ICI` ou `VOTRE RÉPONSE ICI`."
   ]
  },
  {
   "cell_type": "markdown",
   "metadata": {},
   "source": [
    "- Nom: \n",
    "- Prénom: \n",
    "- Groupe: "
   ]
  },
  {
   "cell_type": "markdown",
   "metadata": {
    "deletable": false,
    "editable": false,
    "nbgrader": {
     "checksum": "28aca7177a200c07ae0f95ee2d49ad22",
     "grade": false,
     "grade_id": "cell-49fef9fe78b2c65a",
     "locked": true,
     "schema_version": 1,
     "solution": false
    }
   },
   "source": [
    "# Feuille tableaux 2D"
   ]
  },
  {
   "cell_type": "code",
   "execution_count": null,
   "metadata": {
    "deletable": false,
    "editable": false,
    "nbgrader": {
     "checksum": "672d3dbda55973af9935f27ad79ddc0a",
     "grade": false,
     "grade_id": "cell-2567ccefc2e87875",
     "locked": true,
     "schema_version": 1,
     "solution": false
    }
   },
   "outputs": [],
   "source": [
    "#include <iostream>\n",
    "#include <vector>\n",
    "using namespace std;"
   ]
  },
  {
   "cell_type": "markdown",
   "metadata": {
    "deletable": false,
    "editable": false,
    "nbgrader": {
     "checksum": "2fc8d9b73d4f8baf665ecf1a70e504d7",
     "grade": false,
     "grade_id": "cell-c7d94e0bcb88916d",
     "locked": true,
     "schema_version": 1,
     "solution": false
    }
   },
   "source": [
    "## Exercice 1: construction pas à pas d'un tableau 2D: les quatre étapes\n",
    "- Déclarer un tableau d'entiers `t` à deux dimensions; donc de type `vector<vector<int>>`:"
   ]
  },
  {
   "cell_type": "code",
   "execution_count": null,
   "metadata": {
    "deletable": false,
    "nbgrader": {
     "checksum": "c39b320d90f9d8cb6b92e2155d8a89ff",
     "grade": false,
     "grade_id": "cell-d8ced5bf77b8978e",
     "locked": false,
     "schema_version": 1,
     "solution": true
    }
   },
   "outputs": [],
   "source": [
    "// VOTRE CODE ICI"
   ]
  },
  {
   "cell_type": "markdown",
   "metadata": {
    "deletable": false,
    "editable": false,
    "nbgrader": {
     "checksum": "f08226158fdc07d1a6475caacca58730",
     "grade": false,
     "grade_id": "cell-da8fd6dd0f43ce24",
     "locked": true,
     "schema_version": 1,
     "solution": false
    }
   },
   "source": [
    "- Remarquer qu'il est vide:"
   ]
  },
  {
   "cell_type": "code",
   "execution_count": null,
   "metadata": {
    "deletable": false,
    "editable": false,
    "nbgrader": {
     "checksum": "554d2b436b90fb927c1a455e533e12c1",
     "grade": false,
     "grade_id": "cell-3302ce096403f565",
     "locked": true,
     "schema_version": 1,
     "solution": false
    }
   },
   "outputs": [],
   "source": [
    "t"
   ]
  },
  {
   "cell_type": "code",
   "execution_count": null,
   "metadata": {
    "deletable": false,
    "editable": false,
    "nbgrader": {
     "checksum": "3f1052c671c3ab1e84c025bdd73d7b6f",
     "grade": false,
     "grade_id": "cell-d47219e64575717c",
     "locked": true,
     "schema_version": 1,
     "solution": false
    }
   },
   "outputs": [],
   "source": [
    "t.size()"
   ]
  },
  {
   "cell_type": "markdown",
   "metadata": {
    "deletable": false,
    "editable": false,
    "nbgrader": {
     "checksum": "3658cb9e28ae8d4f42eb5c8e0b71ec10",
     "grade": false,
     "grade_id": "cell-b2ad1967e86c68c7",
     "locked": true,
     "schema_version": 1,
     "solution": false
    }
   },
   "source": [
    "- On alloue `t` pour qu'il ait trois lignes:"
   ]
  },
  {
   "cell_type": "code",
   "execution_count": null,
   "metadata": {
    "deletable": false,
    "editable": false,
    "nbgrader": {
     "checksum": "89cf5a8db78609d1af70e5d14604281d",
     "grade": false,
     "grade_id": "cell-0c5961ebe84ab65d",
     "locked": true,
     "schema_version": 1,
     "solution": false
    }
   },
   "outputs": [],
   "source": [
    "t = vector<vector<int>>(3);"
   ]
  },
  {
   "cell_type": "markdown",
   "metadata": {
    "deletable": false,
    "editable": false,
    "nbgrader": {
     "checksum": "495cc86c033b37f19fac67cf6040398c",
     "grade": false,
     "grade_id": "cell-78c8cbf17b8f2706",
     "locked": true,
     "schema_version": 1,
     "solution": false
    }
   },
   "source": [
    "- Vérifions que `t` a trois lignes vides:"
   ]
  },
  {
   "cell_type": "code",
   "execution_count": null,
   "metadata": {
    "deletable": false,
    "editable": false,
    "nbgrader": {
     "checksum": "edda7b81c2e4b87a56d5fde4b5a581e3",
     "grade": false,
     "grade_id": "cell-83759e626a55d7b4",
     "locked": true,
     "schema_version": 1,
     "solution": false
    }
   },
   "outputs": [],
   "source": [
    "t"
   ]
  },
  {
   "cell_type": "markdown",
   "metadata": {
    "deletable": false,
    "editable": false,
    "nbgrader": {
     "checksum": "f5be09a3034ed7db1896cb84733b86c8",
     "grade": false,
     "grade_id": "cell-b3ed557f6d73677a",
     "locked": true,
     "schema_version": 1,
     "solution": false
    }
   },
   "source": [
    "- On alloue la première ligne pour qu'elle ait deux éléments"
   ]
  },
  {
   "cell_type": "code",
   "execution_count": null,
   "metadata": {
    "deletable": false,
    "editable": false,
    "nbgrader": {
     "checksum": "a6c346beb70dc128035355607db86467",
     "grade": false,
     "grade_id": "cell-c1fe4796c0b0b6e2",
     "locked": true,
     "schema_version": 1,
     "solution": false
    }
   },
   "outputs": [],
   "source": [
    "t[0] = vector<int>(2);"
   ]
  },
  {
   "cell_type": "markdown",
   "metadata": {
    "deletable": false,
    "editable": false,
    "nbgrader": {
     "checksum": "ebce5a1e30fefb2c820fe8bade8202fa",
     "grade": false,
     "grade_id": "cell-94417f9d100f7816",
     "locked": true,
     "schema_version": 1,
     "solution": false
    }
   },
   "source": [
    "- Allouer de même les deux autres lignes:"
   ]
  },
  {
   "cell_type": "code",
   "execution_count": null,
   "metadata": {
    "deletable": false,
    "nbgrader": {
     "checksum": "6e0d195fc954663ae453ace15db7485d",
     "grade": false,
     "grade_id": "cell-d5059f8ea79f333d",
     "locked": false,
     "schema_version": 1,
     "solution": true
    }
   },
   "outputs": [],
   "source": [
    "// VOTRE CODE ICI"
   ]
  },
  {
   "cell_type": "markdown",
   "metadata": {
    "deletable": false,
    "editable": false,
    "nbgrader": {
     "checksum": "3394f27546d5ddbdfe85320baa79138b",
     "grade": false,
     "grade_id": "cell-4b45129d51f9a85d",
     "locked": true,
     "schema_version": 1,
     "solution": false
    }
   },
   "source": [
    "- La valeur de quelle ligne et quelle colonne est elle changée par l'affectation suivante?"
   ]
  },
  {
   "cell_type": "code",
   "execution_count": null,
   "metadata": {
    "deletable": false,
    "editable": false,
    "nbgrader": {
     "checksum": "a76f8d9f59f7055445f047fb2a4323b1",
     "grade": false,
     "grade_id": "cell-a1b30da86e24ccdc",
     "locked": true,
     "schema_version": 1,
     "solution": false
    }
   },
   "outputs": [],
   "source": [
    "t[0][1] = 1"
   ]
  },
  {
   "cell_type": "markdown",
   "metadata": {
    "deletable": false,
    "editable": false,
    "nbgrader": {
     "checksum": "ba86b04a51c24f09906f10fff34c1db8",
     "grade": false,
     "grade_id": "cell-d67aac31a057050c",
     "locked": true,
     "schema_version": 1,
     "solution": false
    }
   },
   "source": [
    "- Vérifier:"
   ]
  },
  {
   "cell_type": "code",
   "execution_count": null,
   "metadata": {
    "deletable": false,
    "editable": false,
    "nbgrader": {
     "checksum": "01847eb8b7e9acfadd405663e79d1edc",
     "grade": false,
     "grade_id": "cell-a440b46422e51895",
     "locked": true,
     "schema_version": 1,
     "solution": false
    }
   },
   "outputs": [],
   "source": [
    "t"
   ]
  },
  {
   "cell_type": "markdown",
   "metadata": {
    "deletable": false,
    "editable": false,
    "nbgrader": {
     "checksum": "fae1377d731e163e1d645329a71cf1b2",
     "grade": false,
     "grade_id": "cell-3bc487275e9c04f1",
     "locked": true,
     "schema_version": 1,
     "solution": false
    }
   },
   "source": [
    "- Mettre la valeur 42 en troisième ligne et première colonne"
   ]
  },
  {
   "cell_type": "code",
   "execution_count": null,
   "metadata": {
    "deletable": false,
    "nbgrader": {
     "checksum": "4cbb3496a29b2ff008ebea64bf0aadb3",
     "grade": false,
     "grade_id": "cell-108edeafacf3bf2a",
     "locked": false,
     "schema_version": 1,
     "solution": true
    }
   },
   "outputs": [],
   "source": [
    "// VOTRE CODE ICI"
   ]
  },
  {
   "cell_type": "markdown",
   "metadata": {
    "deletable": false,
    "editable": false,
    "nbgrader": {
     "checksum": "ca2d862c42886c3618c2ed85e5a3dc6a",
     "grade": false,
     "grade_id": "cell-21f981b08a878c4d",
     "locked": true,
     "schema_version": 1,
     "solution": false
    }
   },
   "source": [
    "- Vérifier:"
   ]
  },
  {
   "cell_type": "code",
   "execution_count": null,
   "metadata": {
    "deletable": false,
    "editable": false,
    "nbgrader": {
     "checksum": "04169172b4f3ea600f6ebec4b835c49c",
     "grade": false,
     "grade_id": "cell-f454609688f512a1",
     "locked": true,
     "schema_version": 1,
     "solution": false
    }
   },
   "outputs": [],
   "source": [
    "t"
   ]
  },
  {
   "cell_type": "markdown",
   "metadata": {
    "deletable": false,
    "editable": false,
    "nbgrader": {
     "checksum": "c8e731a022827515b8bdf1e971f0c5f7",
     "grade": false,
     "grade_id": "cell-7f2fc097b15e0c27",
     "locked": true,
     "schema_version": 1,
     "solution": false
    }
   },
   "source": [
    "## Exemple de construction et d'affichage d'un plus gros tableau 2D\n",
    "\n",
    "- Pour afficher joliment un tableau, on doit gérer l'allignement vertical. Cela peut se faire en `C++` avec `setw`. Exécuter plusieurs fois le code suivant en variant le paramètre de `setw`:"
   ]
  },
  {
   "cell_type": "code",
   "execution_count": null,
   "metadata": {},
   "outputs": [],
   "source": [
    "for ( int i = 0; i < 10; i++ ) {\n",
    "    for ( int j = 0; j < 10; j++ )\n",
    "        cout << setw(3) << i + j << \" \";\n",
    "    cout << endl;\n",
    "}"
   ]
  },
  {
   "cell_type": "markdown",
   "metadata": {
    "deletable": false,
    "editable": false,
    "nbgrader": {
     "checksum": "43a80f6818f5944b811f0853cfb63d38",
     "grade": false,
     "grade_id": "cell-888210490a59804e",
     "locked": true,
     "schema_version": 1,
     "solution": false
    }
   },
   "source": [
    "- Les cellules suivantes construisent un tableau à deux dimensions et l'affichent. Annoter chaque cellule avec un commentaire précisant quelle étape de la construction elle effectue (initialisation, allocation des lignes, déclaration, allocation; dans quel ordre?)"
   ]
  },
  {
   "cell_type": "code",
   "execution_count": null,
   "metadata": {
    "deletable": false,
    "editable": false,
    "nbgrader": {
     "checksum": "01f38e63c00962743a44610c944ca52a",
     "grade": false,
     "grade_id": "cell-4e524db141414a9d",
     "locked": true,
     "schema_version": 1,
     "solution": false
    }
   },
   "outputs": [],
   "source": [
    "int L = 10;\n",
    "int C = 10;"
   ]
  },
  {
   "cell_type": "markdown",
   "metadata": {
    "deletable": false,
    "nbgrader": {
     "checksum": "282f18f01f037e02b1456cadfc619c1d",
     "grade": true,
     "grade_id": "cell-98119b3d30ed0540",
     "locked": false,
     "points": 0,
     "schema_version": 1,
     "solution": true
    }
   },
   "source": [
    "VOTRE RÉPONSE ICI"
   ]
  },
  {
   "cell_type": "code",
   "execution_count": null,
   "metadata": {
    "deletable": false,
    "editable": false,
    "nbgrader": {
     "checksum": "e7d165eeb949a9caf6965615f88cc269",
     "grade": false,
     "grade_id": "cell-a648420d522a3b1c",
     "locked": true,
     "schema_version": 1,
     "solution": false
    }
   },
   "outputs": [],
   "source": [
    "vector<vector<int>> tableMultiplication;"
   ]
  },
  {
   "cell_type": "markdown",
   "metadata": {
    "deletable": false,
    "nbgrader": {
     "checksum": "304649f610db6a45dde3680e24422064",
     "grade": true,
     "grade_id": "cell-e9f33dc1f3766dee",
     "locked": false,
     "points": 0,
     "schema_version": 1,
     "solution": true
    }
   },
   "source": [
    "VOTRE RÉPONSE ICI"
   ]
  },
  {
   "cell_type": "code",
   "execution_count": null,
   "metadata": {
    "deletable": false,
    "editable": false,
    "nbgrader": {
     "checksum": "55b8a2c286bc0c46893985e99b36997d",
     "grade": false,
     "grade_id": "cell-1d0b9b36a23d8904",
     "locked": true,
     "schema_version": 1,
     "solution": false
    }
   },
   "outputs": [],
   "source": [
    "tableMultiplication = vector<vector<int>>(L);"
   ]
  },
  {
   "cell_type": "markdown",
   "metadata": {
    "deletable": false,
    "nbgrader": {
     "checksum": "bc05f37eb0ae394876c87171e3ef41ea",
     "grade": true,
     "grade_id": "cell-85e2f72b41250dda",
     "locked": false,
     "points": 0,
     "schema_version": 1,
     "solution": true
    }
   },
   "source": [
    "VOTRE RÉPONSE ICI"
   ]
  },
  {
   "cell_type": "code",
   "execution_count": null,
   "metadata": {
    "deletable": false,
    "editable": false,
    "nbgrader": {
     "checksum": "f3f88883d553c60ccdfdf66a93373f5a",
     "grade": false,
     "grade_id": "cell-4dd6126bbf0db299",
     "locked": true,
     "schema_version": 1,
     "solution": false
    }
   },
   "outputs": [],
   "source": [
    "for ( int i = 0; i < L; i++ ) {\n",
    "    tableMultiplication[i] = vector<int>(C);\n",
    "}"
   ]
  },
  {
   "cell_type": "markdown",
   "metadata": {
    "deletable": false,
    "nbgrader": {
     "checksum": "c6656a09f8011c40d8283a1fab369e19",
     "grade": true,
     "grade_id": "cell-55d9f39f6158d87b",
     "locked": false,
     "points": 0,
     "schema_version": 1,
     "solution": true
    }
   },
   "source": [
    "VOTRE RÉPONSE ICI"
   ]
  },
  {
   "cell_type": "code",
   "execution_count": null,
   "metadata": {
    "deletable": false,
    "editable": false,
    "nbgrader": {
     "checksum": "844ac8de35727754bcddebfacd1dc8d8",
     "grade": false,
     "grade_id": "cell-b3d7a3efc7008ad7",
     "locked": true,
     "schema_version": 1,
     "solution": false
    }
   },
   "outputs": [],
   "source": [
    "for ( int i = 0; i < L; i++ ) {\n",
    "    for ( int j = 0; j < C; j++ ) {\n",
    "        tableMultiplication[i][j] = i * j;\n",
    "    }\n",
    "}"
   ]
  },
  {
   "cell_type": "code",
   "execution_count": null,
   "metadata": {
    "deletable": false,
    "editable": false,
    "nbgrader": {
     "checksum": "4b06ac74aa29a3c9b315102ee1c83fc5",
     "grade": false,
     "grade_id": "cell-fbee56c85ea3fae9",
     "locked": true,
     "schema_version": 1,
     "solution": false
    }
   },
   "outputs": [],
   "source": [
    "tableMultiplication[6][9]"
   ]
  },
  {
   "cell_type": "markdown",
   "metadata": {
    "deletable": false,
    "editable": false,
    "nbgrader": {
     "checksum": "880baf8b1a070bf7d8ce229e8ef1b2ba",
     "grade": false,
     "grade_id": "cell-529023907bf92556",
     "locked": true,
     "schema_version": 1,
     "solution": false
    }
   },
   "source": [
    "Affichage:"
   ]
  },
  {
   "cell_type": "code",
   "execution_count": null,
   "metadata": {
    "deletable": false,
    "editable": false,
    "nbgrader": {
     "checksum": "2349a8a57965980229c32691ffa56d89",
     "grade": false,
     "grade_id": "cell-527ef708f4aa8be7",
     "locked": true,
     "schema_version": 1,
     "solution": false
    }
   },
   "outputs": [],
   "source": [
    "tableMultiplication"
   ]
  },
  {
   "cell_type": "markdown",
   "metadata": {
    "deletable": false,
    "editable": false,
    "nbgrader": {
     "checksum": "014a3ed8824b9bc3c0a8f9f23c9df2bf",
     "grade": false,
     "grade_id": "cell-fd97830ca86da056",
     "locked": true,
     "schema_version": 1,
     "solution": false
    }
   },
   "source": [
    "Joli affichage:"
   ]
  },
  {
   "cell_type": "code",
   "execution_count": null,
   "metadata": {
    "deletable": false,
    "editable": false,
    "nbgrader": {
     "checksum": "4bde63a50106c50ddb6edc17d70a5a34",
     "grade": false,
     "grade_id": "cell-93b82e487af3eb2b",
     "locked": true,
     "schema_version": 1,
     "solution": false
    }
   },
   "outputs": [],
   "source": [
    "for ( int i = 0; i < L; i++ ) {\n",
    "    for ( int j = 0; j < C; j++ ) {\n",
    "        cout << setw(2) << tableMultiplication[i][j] << \" \";\n",
    "    }\n",
    "    cout << endl;\n",
    "}"
   ]
  }
 ],
 "metadata": {
  "kernelspec": {
   "display_name": "C++11",
   "language": "C++11",
   "name": "xcpp11"
  },
  "language_info": {
   "codemirror_mode": "text/x-c++src",
   "file_extension": ".cpp",
   "mimetype": "text/x-c++src",
   "name": "c++",
   "version": "-std=c++11"
  }
 },
 "nbformat": 4,
 "nbformat_minor": 2
}
