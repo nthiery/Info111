{
 "cells": [
  {
   "cell_type": "markdown",
   "metadata": {
    "deletable": false,
    "editable": false,
    "nbgrader": {
     "checksum": "6e5dbc477447644f93416cba679263ec",
     "grade": false,
     "grade_id": "cell-bf82401e988f816e",
     "locked": true,
     "schema_version": 1,
     "solution": false
    }
   },
   "source": [
    "Avant de terminer cette feuille, assurez-vous que tout fonctionne comme voulu. Tout d'abord, **redémarrez le noyau** (dans le menu, sélectionner `Kernel -> Restart`) puis **exécutez toutes les cellules** (dans le menu, sélectionner `Cell -> Run All`).\n",
    "\n",
    "Vérifiez que vous avez édité la cellule ci-dessous, ainsi que toutes les cellules marquées avec `VOTRE CODE ICI` ou `VOTRE RÉPONSE ICI`."
   ]
  },
  {
   "cell_type": "markdown",
   "metadata": {},
   "source": [
    "- Nom: \n",
    "- Prénom: \n",
    "- Groupe: "
   ]
  },
  {
   "cell_type": "markdown",
   "metadata": {
    "deletable": false,
    "editable": false,
    "nbgrader": {
     "checksum": "993e3cfc362c57fc3809a818ac2b70c5",
     "grade": false,
     "grade_id": "cell-de476e0d8337c0db",
     "locked": true,
     "schema_version": 1,
     "solution": false
    }
   },
   "source": [
    "# TP2 feuille 2 : conditions et premières fonctions"
   ]
  },
  {
   "cell_type": "markdown",
   "metadata": {
    "deletable": false,
    "editable": false,
    "nbgrader": {
     "checksum": "fdd1740046149c33b94b86f6d3b71050",
     "grade": false,
     "grade_id": "cell-71cc9182de965b41",
     "locked": true,
     "schema_version": 1,
     "solution": false
    }
   },
   "source": [
    "**Exercice**\n",
    "\n",
    "- Que fait le code suivant (les trois cellules) ?"
   ]
  },
  {
   "cell_type": "code",
   "execution_count": null,
   "metadata": {
    "deletable": false,
    "editable": false,
    "nbgrader": {
     "checksum": "cea9661da089f7afebaf8ebec4a38624",
     "grade": false,
     "grade_id": "cell-b9e1d24aed7658a4",
     "locked": true,
     "schema_version": 1,
     "solution": false
    }
   },
   "outputs": [],
   "source": [
    "int a, b;\n",
    "a = 5;\n",
    "b = 10;"
   ]
  },
  {
   "cell_type": "code",
   "execution_count": null,
   "metadata": {
    "deletable": false,
    "editable": false,
    "nbgrader": {
     "checksum": "9dc551fa6592c8801d633fe7255ec892",
     "grade": false,
     "grade_id": "cell-972f8e6180e008b9",
     "locked": true,
     "schema_version": 1,
     "solution": false
    }
   },
   "outputs": [],
   "source": [
    "int c;\n",
    "if ( a < b ) {\n",
    "    c = b;\n",
    "} else {\n",
    "    c = a;\n",
    "}"
   ]
  },
  {
   "cell_type": "code",
   "execution_count": null,
   "metadata": {
    "deletable": false,
    "editable": false,
    "nbgrader": {
     "checksum": "a91a2c6707c349f864202ddd44e923cd",
     "grade": false,
     "grade_id": "cell-ff3c107d4a62380f",
     "locked": true,
     "schema_version": 1,
     "solution": false
    }
   },
   "outputs": [],
   "source": [
    "c"
   ]
  },
  {
   "cell_type": "markdown",
   "metadata": {
    "deletable": false,
    "nbgrader": {
     "checksum": "75d283457fdd29e034a8e50059cdfa7e",
     "grade": true,
     "grade_id": "cell-4c14fdec1b05b316",
     "locked": false,
     "points": 0,
     "schema_version": 1,
     "solution": true
    }
   },
   "source": [
    "VOTRE RÉPONSE ICI"
   ]
  },
  {
   "cell_type": "markdown",
   "metadata": {
    "deletable": false,
    "editable": false,
    "nbgrader": {
     "checksum": "e6e41c38440a173ee00db100d85a72f9",
     "grade": false,
     "grade_id": "cell-1b21180343eef5af",
     "locked": true,
     "schema_version": 1,
     "solution": false
    }
   },
   "source": [
    "- Écrivez un code similaire tel qu'une nouvelle variable `d` prenne la valeur minimale entre `b` et `a`."
   ]
  },
  {
   "cell_type": "code",
   "execution_count": null,
   "metadata": {
    "deletable": false,
    "nbgrader": {
     "checksum": "20146c6e1ba5f634191658f17f18f58b",
     "grade": false,
     "grade_id": "cell-9f01d2d5f5a65db2",
     "locked": false,
     "schema_version": 1,
     "solution": true
    }
   },
   "outputs": [],
   "source": [
    "// VOTRE CODE ICI"
   ]
  },
  {
   "cell_type": "code",
   "execution_count": null,
   "metadata": {
    "deletable": false,
    "nbgrader": {
     "checksum": "0ae71839d38900e8a8860c72c838b75f",
     "grade": false,
     "grade_id": "cell-d24f3749b7709d50",
     "locked": false,
     "schema_version": 1,
     "solution": true
    }
   },
   "outputs": [],
   "source": [
    "// VOTRE CODE ICI"
   ]
  },
  {
   "cell_type": "markdown",
   "metadata": {
    "deletable": false,
    "editable": false,
    "nbgrader": {
     "checksum": "8d2275d4599c90908279e538308d7fe3",
     "grade": false,
     "grade_id": "cell-53017ddafd267e8e",
     "locked": true,
     "schema_version": 1,
     "solution": false
    }
   },
   "source": [
    "- Exécutez les cellules suivantes.<br>\n",
    "\n",
    "  Vous remarquerez que l'on a réutilisé le même code mais en lui donnant un *nom* et en précisant le type de ses   **entrées** et **sorties**. C'est ce qu'on appelle une *fonction* (nous reviendrons sur cette notion en cours). Ici la fonction `max` renvoie en sortie un type `int` (ce qui est précisé par le premier mot) et prend deux variables `int` en entrée (ce qui est précisé dans la parenthèse). \n",
    "\n",
    "  **Attention:** Tout comme pour la déclaration de variables, vous ne pouvez exécuter la cellule contenant la fonction **qu'une seule fois**. Pour l'exécuter à nouveau, il faut **redémarrer le noyau** (Menu `Kernel > Restart`)."
   ]
  },
  {
   "cell_type": "code",
   "execution_count": null,
   "metadata": {
    "deletable": false,
    "editable": false,
    "nbgrader": {
     "checksum": "f683b7167cfaa4759c70b6a542e36ce6",
     "grade": false,
     "grade_id": "cell-da4b804e4c504f3b",
     "locked": true,
     "schema_version": 1,
     "solution": false
    }
   },
   "outputs": [],
   "source": [
    "int max(int a, int b) {\n",
    "    if ( a < b ) {\n",
    "        return b; \n",
    "    } else {\n",
    "        return a;\n",
    "    }\n",
    "}"
   ]
  },
  {
   "cell_type": "code",
   "execution_count": null,
   "metadata": {
    "deletable": false,
    "editable": false,
    "nbgrader": {
     "checksum": "1bb920df18ef4b27cabe495bab5dc26a",
     "grade": false,
     "grade_id": "cell-061b2450140c8d2b",
     "locked": true,
     "schema_version": 1,
     "solution": false
    }
   },
   "outputs": [],
   "source": [
    "max(5, 10)"
   ]
  },
  {
   "cell_type": "code",
   "execution_count": null,
   "metadata": {
    "deletable": false,
    "editable": false,
    "nbgrader": {
     "checksum": "61e0333071f3741ecc6a8bd1d1a8dd17",
     "grade": false,
     "grade_id": "cell-864163c71609cc37",
     "locked": true,
     "schema_version": 1,
     "solution": false
    }
   },
   "outputs": [],
   "source": [
    "max(6, -2)"
   ]
  },
  {
   "cell_type": "code",
   "execution_count": null,
   "metadata": {
    "deletable": false,
    "editable": false,
    "nbgrader": {
     "checksum": "1d9ca7e7475aca7a78d29da966e449ea",
     "grade": false,
     "grade_id": "cell-2d29f0e326a60e99",
     "locked": true,
     "schema_version": 1,
     "solution": false
    }
   },
   "outputs": [],
   "source": [
    "max(-3, -4)"
   ]
  },
  {
   "cell_type": "code",
   "execution_count": null,
   "metadata": {
    "deletable": false,
    "editable": false,
    "nbgrader": {
     "checksum": "a71f0ceecaf1649599055d3dcbde1bec",
     "grade": false,
     "grade_id": "cell-2de41b75efa47469",
     "locked": true,
     "schema_version": 1,
     "solution": false
    }
   },
   "outputs": [],
   "source": [
    "max(5, max(-3, 8))"
   ]
  },
  {
   "cell_type": "markdown",
   "metadata": {
    "deletable": false,
    "editable": false,
    "nbgrader": {
     "checksum": "8d6476a23a7ecf4710f0ab2ac3819305",
     "grade": false,
     "grade_id": "cell-c3c70549ea20c619",
     "locked": true,
     "schema_version": 1,
     "solution": false
    }
   },
   "source": [
    "**Exercice**\n",
    "\n",
    "Dans cet exercice, vous allez **utiliser** la fonction `max` pour calculer le maximum de deux nombres, trois nombres et quatre nombres."
   ]
  },
  {
   "cell_type": "code",
   "execution_count": null,
   "metadata": {},
   "outputs": [],
   "source": [
    "int n1 = -2;\n",
    "int n2 = 6;\n",
    "int n3 = 0;\n",
    "int n4 = 7;"
   ]
  },
  {
   "cell_type": "markdown",
   "metadata": {
    "deletable": false,
    "editable": false,
    "nbgrader": {
     "checksum": "59bf7d2328849c0cb61cf94d1d426c9b",
     "grade": false,
     "grade_id": "cell-e529e7d0d77620ae",
     "locked": true,
     "schema_version": 1,
     "solution": false
    }
   },
   "source": [
    "* Calculez le max de n1 et n2 (en utilisant la fonction `max`)"
   ]
  },
  {
   "cell_type": "code",
   "execution_count": null,
   "metadata": {
    "deletable": false,
    "nbgrader": {
     "checksum": "5f814350ac5549481ff6158e997c2c9e",
     "grade": false,
     "grade_id": "cell-c4a618042a781fed",
     "locked": false,
     "schema_version": 1,
     "solution": true
    }
   },
   "outputs": [],
   "source": [
    "// VOTRE CODE ICI"
   ]
  },
  {
   "cell_type": "markdown",
   "metadata": {
    "deletable": false,
    "editable": false,
    "nbgrader": {
     "checksum": "cfe5c3be2111e03b307f0aae6692bc30",
     "grade": false,
     "grade_id": "cell-5c05a59c77ec8231",
     "locked": true,
     "schema_version": 1,
     "solution": false
    }
   },
   "source": [
    "* Calculez le max de n1, n2 et n3.<br>\n",
    "  **Indication:** utilisez plusieurs fois la fonction comme dans le dernier exemple de l'exercice précédent."
   ]
  },
  {
   "cell_type": "code",
   "execution_count": null,
   "metadata": {
    "deletable": false,
    "nbgrader": {
     "checksum": "c9453b31ec0f98da640cc6513d1b23e9",
     "grade": false,
     "grade_id": "cell-d40620294a7adbf1",
     "locked": false,
     "schema_version": 1,
     "solution": true
    }
   },
   "outputs": [],
   "source": [
    "// VOTRE CODE ICI"
   ]
  },
  {
   "cell_type": "markdown",
   "metadata": {
    "deletable": false,
    "editable": false,
    "nbgrader": {
     "checksum": "ca714b110bd8cb21e4ca06f8f8083a96",
     "grade": false,
     "grade_id": "cell-4305307abaff6133",
     "locked": true,
     "schema_version": 1,
     "solution": false
    }
   },
   "source": [
    "* Calculez le max de n1, n2, n3 et n4 (toujours en utilisant la fonction `max`)"
   ]
  },
  {
   "cell_type": "code",
   "execution_count": null,
   "metadata": {
    "deletable": false,
    "nbgrader": {
     "checksum": "0572cada6eab58ce451d66814801ac25",
     "grade": false,
     "grade_id": "cell-cf566142f5e7376f",
     "locked": false,
     "schema_version": 1,
     "solution": true
    }
   },
   "outputs": [],
   "source": [
    "// VOTRE CODE ICI"
   ]
  },
  {
   "cell_type": "markdown",
   "metadata": {},
   "source": [
    "* Changer les valeurs de n1, n2, n3 et n4 ci-dessus et vérifiez les résultats."
   ]
  },
  {
   "cell_type": "markdown",
   "metadata": {
    "deletable": false,
    "editable": false,
    "nbgrader": {
     "checksum": "4cabdc1376adb525e342f73420ae2dcc",
     "grade": false,
     "grade_id": "cell-d42d794979b056e3",
     "locked": true,
     "schema_version": 1,
     "solution": false
    }
   },
   "source": [
    "* $\\clubsuit$ Écrivez une fonction `max4` prenant quatre entiers et calculant leur max"
   ]
  },
  {
   "cell_type": "code",
   "execution_count": null,
   "metadata": {
    "deletable": false,
    "nbgrader": {
     "checksum": "7d168cd158520b324efd03084cc877c6",
     "grade": false,
     "grade_id": "cell-d06ab9fcabc0bdd7",
     "locked": false,
     "schema_version": 1,
     "solution": true
    }
   },
   "outputs": [],
   "source": [
    "// VOTRE CODE ICI"
   ]
  },
  {
   "cell_type": "code",
   "execution_count": null,
   "metadata": {
    "deletable": false,
    "nbgrader": {
     "checksum": "1f1e1a8f5af0e65b132deb41e21a1021",
     "grade": false,
     "grade_id": "cell-935d42263c50bd62",
     "locked": false,
     "schema_version": 1,
     "solution": true
    }
   },
   "outputs": [],
   "source": [
    "// VOTRE CODE ICI"
   ]
  },
  {
   "cell_type": "markdown",
   "metadata": {
    "deletable": false,
    "editable": false,
    "nbgrader": {
     "checksum": "cefa1a40e238db7b12c4d8cb6617ed85",
     "grade": false,
     "grade_id": "cell-88fe335b6a80af8d",
     "locked": true,
     "schema_version": 1,
     "solution": false
    }
   },
   "source": [
    "**Exercice**\n",
    "\n",
    "Complétez la fonction `min` ci-dessous:"
   ]
  },
  {
   "cell_type": "code",
   "execution_count": null,
   "metadata": {
    "deletable": false,
    "nbgrader": {
     "checksum": "27a212f755ea8263c7f7fe617262e51c",
     "grade": false,
     "grade_id": "cell-d05c19054e863b1c",
     "locked": false,
     "schema_version": 1,
     "solution": true
    }
   },
   "outputs": [],
   "source": [
    "int min(int a, int b) {\n",
    "    // VOTRE CODE ICI\n",
    "}"
   ]
  },
  {
   "cell_type": "markdown",
   "metadata": {
    "deletable": false,
    "editable": false,
    "nbgrader": {
     "checksum": "a9962b22efc2622872fdff8a93f6bbf8",
     "grade": false,
     "grade_id": "cell-335ba529033a10a5",
     "locked": true,
     "schema_version": 1,
     "solution": false
    }
   },
   "source": [
    "Essayez-la sur l'exemple suivant:"
   ]
  },
  {
   "cell_type": "code",
   "execution_count": null,
   "metadata": {
    "deletable": false,
    "editable": false,
    "nbgrader": {
     "checksum": "6eae8b5c9d5b71ad9850284084cce7ef",
     "grade": false,
     "grade_id": "cell-10d050d483c93cd7",
     "locked": true,
     "schema_version": 1,
     "solution": false
    }
   },
   "outputs": [],
   "source": [
    "min(2,3)"
   ]
  },
  {
   "cell_type": "markdown",
   "metadata": {},
   "source": [
    "Essayez-la sur un exemple de votre choix:"
   ]
  },
  {
   "cell_type": "code",
   "execution_count": null,
   "metadata": {
    "deletable": false,
    "nbgrader": {
     "checksum": "79c81a8c97f2f417ea1261024b3787b0",
     "grade": true,
     "grade_id": "cell-808d44894a51f3f4",
     "locked": false,
     "points": 0,
     "schema_version": 1,
     "solution": true
    }
   },
   "outputs": [],
   "source": [
    "// VOTRE CODE ICI"
   ]
  },
  {
   "cell_type": "markdown",
   "metadata": {
    "deletable": false,
    "editable": false,
    "nbgrader": {
     "checksum": "7b48128a31d3ab9ad34e5be526533755",
     "grade": false,
     "grade_id": "cell-3be968dce7d1c332",
     "locked": true,
     "schema_version": 1,
     "solution": false
    }
   },
   "source": [
    "Vérifiez que tous les tests qui suivent affichent bien `true`:"
   ]
  },
  {
   "cell_type": "code",
   "execution_count": null,
   "metadata": {
    "deletable": false,
    "editable": false,
    "nbgrader": {
     "checksum": "3161ae409b9766d84a219cfbc6b84305",
     "grade": false,
     "grade_id": "cell-864715e989ece636",
     "locked": true,
     "schema_version": 1,
     "solution": false
    }
   },
   "outputs": [],
   "source": [
    "min(5, 10) == 5"
   ]
  },
  {
   "cell_type": "code",
   "execution_count": null,
   "metadata": {
    "deletable": false,
    "editable": false,
    "nbgrader": {
     "checksum": "2f1665623d0f2f7ba9df868b614567c2",
     "grade": false,
     "grade_id": "cell-a17b42a9df6d167b",
     "locked": true,
     "schema_version": 1,
     "solution": false
    }
   },
   "outputs": [],
   "source": [
    "min(6, -2) == -2"
   ]
  },
  {
   "cell_type": "code",
   "execution_count": null,
   "metadata": {
    "deletable": false,
    "editable": false,
    "nbgrader": {
     "checksum": "70ddffc20f84d3079b194b4de945780c",
     "grade": false,
     "grade_id": "cell-136fb2ebf376c119",
     "locked": true,
     "schema_version": 1,
     "solution": false
    }
   },
   "outputs": [],
   "source": [
    "min(-3, -4) == -4"
   ]
  },
  {
   "cell_type": "code",
   "execution_count": null,
   "metadata": {
    "deletable": false,
    "editable": false,
    "nbgrader": {
     "checksum": "658e35f29cf208284efbb83bd1f1a9df",
     "grade": false,
     "grade_id": "cell-ef7513acc702c796",
     "locked": true,
     "schema_version": 1,
     "solution": false
    }
   },
   "outputs": [],
   "source": [
    "min(5, min(-3, 8)) == -3"
   ]
  },
  {
   "cell_type": "markdown",
   "metadata": {},
   "source": [
    "La cellule suivante contient des tests automatisés; nous reviendrons dessus plus en détails par la suite; pour le moment, vous pouvez juste exécuter la cellule et vérifier qu'il n'y a pas de message d'erreur."
   ]
  },
  {
   "cell_type": "code",
   "execution_count": null,
   "metadata": {
    "deletable": false,
    "editable": false,
    "nbgrader": {
     "checksum": "a4dbf5fe5663af19311269cd9767743e",
     "grade": true,
     "grade_id": "cell-38e9d387004e6252",
     "locked": true,
     "points": 1,
     "schema_version": 1,
     "solution": false
    }
   },
   "outputs": [],
   "source": [
    "ASSERT( min(5, 10) ==  5 );\n",
    "ASSERT( min(6, -2) == -2 );\n",
    "ASSERT( min(2,  2) ==  2 );"
   ]
  },
  {
   "cell_type": "markdown",
   "metadata": {
    "deletable": false,
    "editable": false,
    "nbgrader": {
     "checksum": "d216f44c1fc1bc1121d757bd10cdd58c",
     "grade": false,
     "grade_id": "cell-3191c619f079e667",
     "locked": true,
     "schema_version": 1,
     "solution": false
    }
   },
   "source": [
    "**Exercice**\n",
    "\n",
    "Complétez la fonction `abs` ci-dessous qui calcule la valeur absolue d'un nombre:"
   ]
  },
  {
   "cell_type": "code",
   "execution_count": null,
   "metadata": {
    "deletable": false,
    "nbgrader": {
     "checksum": "e5a5d4b3203b1a3ea5553afcfd302899",
     "grade": false,
     "grade_id": "cell-095f41446daefada",
     "locked": false,
     "schema_version": 1,
     "solution": true
    }
   },
   "outputs": [],
   "source": [
    "double abs(double a) {\n",
    "    // VOTRE CODE ICI\n",
    "}"
   ]
  },
  {
   "cell_type": "markdown",
   "metadata": {
    "deletable": false,
    "editable": false,
    "nbgrader": {
     "checksum": "00ad04b21147afa890c8009ccd77f732",
     "grade": false,
     "grade_id": "cell-cfc4aa59131634f8",
     "locked": true,
     "schema_version": 1,
     "solution": false
    }
   },
   "source": [
    "Utilisez cette fonction pour calculer la valeur absolue de `-2` et vérifiez le résultat:"
   ]
  },
  {
   "cell_type": "code",
   "execution_count": null,
   "metadata": {
    "deletable": false,
    "nbgrader": {
     "checksum": "da617e8de0ba70f4bf45b2fa5c2503f0",
     "grade": false,
     "grade_id": "cell-9ac842906e6ff3ee",
     "locked": false,
     "schema_version": 1,
     "solution": true
    }
   },
   "outputs": [],
   "source": [
    "// VOTRE CODE ICI"
   ]
  },
  {
   "cell_type": "markdown",
   "metadata": {
    "deletable": false,
    "editable": false,
    "nbgrader": {
     "checksum": "c9202d83acd6042d98efe699608cb3f3",
     "grade": false,
     "grade_id": "cell-a740aa7154cadb16",
     "locked": true,
     "schema_version": 1,
     "solution": false
    }
   },
   "source": [
    "Vérifiez que les tests qui suivent affichent bien `true`:"
   ]
  },
  {
   "cell_type": "code",
   "execution_count": null,
   "metadata": {
    "deletable": false,
    "editable": false,
    "nbgrader": {
     "checksum": "194456cbd6e73b777439b7fa7d0981cf",
     "grade": false,
     "grade_id": "cell-4303deeab7d5a1fc",
     "locked": true,
     "schema_version": 1,
     "solution": false
    }
   },
   "outputs": [],
   "source": [
    "abs(-5) == 5"
   ]
  },
  {
   "cell_type": "code",
   "execution_count": null,
   "metadata": {
    "deletable": false,
    "editable": false,
    "nbgrader": {
     "checksum": "f81c7b4564d6ba23a7878ec5a0451759",
     "grade": false,
     "grade_id": "cell-49c5c14d2f7bfe22",
     "locked": true,
     "schema_version": 1,
     "solution": false
    }
   },
   "outputs": [],
   "source": [
    "abs(2.3) == 2.3"
   ]
  },
  {
   "cell_type": "code",
   "execution_count": null,
   "metadata": {
    "deletable": false,
    "editable": false,
    "nbgrader": {
     "checksum": "d1a03c8e7868eddbee2544011283e73f",
     "grade": false,
     "grade_id": "cell-85c826da5978f5a7",
     "locked": true,
     "schema_version": 1,
     "solution": false
    }
   },
   "outputs": [],
   "source": [
    "abs(-3.4) == 3.4"
   ]
  },
  {
   "cell_type": "markdown",
   "metadata": {
    "deletable": false,
    "editable": false,
    "nbgrader": {
     "checksum": "696a82edeb1d122dd6bc21f1be5e7b5d",
     "grade": false,
     "grade_id": "cell-403dc8b8bb8d58c4",
     "locked": true,
     "schema_version": 1,
     "solution": false
    }
   },
   "source": [
    "**Exercice**\n",
    "\n",
    "Complétez la fonction ci-dessous qui calcule et renvoie le périmètre d'un cercle. Vous remarquez que la constante `pi` n'est pas passée en paramètre car c'est une variable de calcul interne à la fonction (une variable *locale*)."
   ]
  },
  {
   "cell_type": "code",
   "execution_count": null,
   "metadata": {
    "deletable": false,
    "nbgrader": {
     "checksum": "71fc73a159a8501a80a207bd7520bc9c",
     "grade": false,
     "grade_id": "cell-292a7f3566822daf",
     "locked": false,
     "schema_version": 1,
     "solution": true
    }
   },
   "outputs": [],
   "source": [
    "double perimetre(double r) {\n",
    "    double pi = 3.1415;\n",
    "    // VOTRE CODE ICI\n",
    "}"
   ]
  },
  {
   "cell_type": "code",
   "execution_count": null,
   "metadata": {
    "deletable": false,
    "nbgrader": {
     "checksum": "505579c338f44983fbdd052c52e3bf25",
     "grade": false,
     "grade_id": "cell-1e5f403ea97f610b",
     "locked": false,
     "schema_version": 1,
     "solution": true
    }
   },
   "outputs": [],
   "source": [
    "// VOTRE CODE ICI"
   ]
  },
  {
   "cell_type": "code",
   "execution_count": null,
   "metadata": {
    "deletable": false,
    "nbgrader": {
     "checksum": "623536535527f1c2c43e7ca12c369723",
     "grade": false,
     "grade_id": "cell-f97479572d518e78",
     "locked": false,
     "schema_version": 1,
     "solution": true
    }
   },
   "outputs": [],
   "source": [
    "// VOTRE CODE ICI"
   ]
  },
  {
   "cell_type": "markdown",
   "metadata": {
    "deletable": false,
    "editable": false,
    "nbgrader": {
     "checksum": "3bb9428e40410290378824a0c51f6ec8",
     "grade": false,
     "grade_id": "cell-e8cb8fec41aa1460",
     "locked": true,
     "schema_version": 1,
     "solution": false
    }
   },
   "source": [
    "Calculez le périmètre d'un disque de rayon 10"
   ]
  },
  {
   "cell_type": "code",
   "execution_count": null,
   "metadata": {
    "deletable": false,
    "nbgrader": {
     "checksum": "95c470b4ff7f93004252b1536fc99b10",
     "grade": false,
     "grade_id": "cell-9c8c427308e28a15",
     "locked": false,
     "schema_version": 1,
     "solution": true
    }
   },
   "outputs": [],
   "source": [
    "// VOTRE CODE ICI"
   ]
  },
  {
   "cell_type": "markdown",
   "metadata": {
    "deletable": false,
    "editable": false,
    "nbgrader": {
     "checksum": "2af9a2d92f24a28ba727b4fcce175d9d",
     "grade": false,
     "grade_id": "cell-95680906d451aa5b",
     "locked": true,
     "schema_version": 1,
     "solution": false
    }
   },
   "source": [
    "**Exercice**\n",
    "\n",
    "Sur le même modèle, écrivez une fonction `aire` qui renvoie l'aire d'un cercle dont on donne le rayon. Testez-la."
   ]
  },
  {
   "cell_type": "code",
   "execution_count": null,
   "metadata": {
    "deletable": false,
    "nbgrader": {
     "checksum": "e6a7c15cbf12a03f2929ca8db3459b60",
     "grade": false,
     "grade_id": "cell-a8996942ad9ba66b",
     "locked": false,
     "schema_version": 1,
     "solution": true
    }
   },
   "outputs": [],
   "source": [
    "// VOTRE CODE ICI"
   ]
  },
  {
   "cell_type": "code",
   "execution_count": null,
   "metadata": {
    "deletable": false,
    "nbgrader": {
     "checksum": "e321117b3abb0a9b8f4ed3d374008477",
     "grade": false,
     "grade_id": "cell-067f95bd179cf29d",
     "locked": false,
     "schema_version": 1,
     "solution": true
    }
   },
   "outputs": [],
   "source": [
    "// VOTRE CODE ICI"
   ]
  },
  {
   "cell_type": "code",
   "execution_count": null,
   "metadata": {
    "deletable": false,
    "nbgrader": {
     "checksum": "a9a5b76cb5bbf9f304e75ef37671bb78",
     "grade": false,
     "grade_id": "cell-7d7ab6ff354eb484",
     "locked": false,
     "schema_version": 1,
     "solution": true
    }
   },
   "outputs": [],
   "source": [
    "// VOTRE CODE ICI"
   ]
  },
  {
   "cell_type": "markdown",
   "metadata": {
    "deletable": false,
    "editable": false,
    "nbgrader": {
     "checksum": "c65ce516306a54b878251348e26eb3ca",
     "grade": false,
     "grade_id": "cell-72500357fd98d2d3",
     "locked": true,
     "schema_version": 1,
     "solution": false
    }
   },
   "source": [
    "Bravo, vous avez fini la deuxième feuille de l'exercice 2.\n",
    "\n",
    "Vous pouvez maintenant passer à l'exercice 3 de la feuille de TP."
   ]
  }
 ],
 "metadata": {
  "kernelspec": {
   "display_name": "C++11",
   "language": "C++11",
   "name": "xcpp11"
  },
  "language_info": {
   "codemirror_mode": "text/x-c++src",
   "file_extension": ".cpp",
   "mimetype": "text/x-c++src",
   "name": "c++",
   "version": "-std=c++11"
  }
 },
 "nbformat": 4,
 "nbformat_minor": 2
}
