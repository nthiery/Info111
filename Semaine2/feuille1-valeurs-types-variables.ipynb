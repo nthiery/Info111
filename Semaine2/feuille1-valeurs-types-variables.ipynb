{
 "cells": [
  {
   "cell_type": "markdown",
   "metadata": {
    "deletable": false,
    "editable": false,
    "nbgrader": {
     "cell_type": "markdown",
     "checksum": "6e5dbc477447644f93416cba679263ec",
     "grade": false,
     "grade_id": "cell-bf82401e988f816e",
     "locked": true,
     "schema_version": 3,
     "solution": false
    }
   },
   "source": [
    "Avant de terminer cette feuille, assurez-vous que tout fonctionne comme voulu. Tout d'abord, **redémarrez le noyau** (dans le menu, sélectionner `Kernel -> Restart`) puis **exécutez toutes les cellules** (dans le menu, sélectionner `Cell -> Run All`).\n",
    "\n",
    "Vérifiez que vous avez édité la cellule ci-dessous, ainsi que toutes les cellules marquées avec `VOTRE CODE ICI` ou `VOTRE RÉPONSE ICI`."
   ]
  },
  {
   "cell_type": "markdown",
   "metadata": {},
   "source": [
    "- Nom: \n",
    "- Prénom: \n",
    "- Groupe: "
   ]
  },
  {
   "cell_type": "markdown",
   "metadata": {
    "deletable": false,
    "editable": false,
    "nbgrader": {
     "cell_type": "markdown",
     "checksum": "0bc8f5b451833f0c8f12a57730708157",
     "grade": false,
     "grade_id": "cell-b78562ee2ff6d72c",
     "locked": true,
     "schema_version": 3,
     "solution": false
    }
   },
   "source": [
    "# TP 2, Feuille 1 : valeurs, types et variables\n",
    "\n",
    "## Introduction à Jupyter et premiers calculs\n",
    "\n",
    "Lors de ces premières semaines de cours, nous allons travailler dans l'application web *Jupyter* qui permet d'exécuter du code `C++` interactivement, un peu comme une super calculatrice. Plus tard, nous verrons comment créer un programme `C++` indépendant en dehors de *Jupyter*."
   ]
  },
  {
   "cell_type": "markdown",
   "metadata": {
    "deletable": false,
    "editable": false,
    "nbgrader": {
     "cell_type": "markdown",
     "checksum": "1e7e6caa9f0556130928a6a3284edc91",
     "grade": false,
     "grade_id": "cell-550b782f06b0f884",
     "locked": true,
     "schema_version": 3,
     "solution": false
    }
   },
   "source": [
    "**Exercice**\n",
    "\n",
    "Ce document est une *feuille de travail*, composée d'une successions de *cellules*; chaque cellule peut contenir du texte, un calcul à effectuer, ou le résultat de ce calcul.\n",
    "- Saisissez votre nom, prénom et groupe ci-dessus.<br>\n",
    "  Indication: double cliquez sur la cellule de texte; quand vous avez terminé, appuyez sur les touches `Maj-Enter`.\n",
    "- Lancez la visite guidée de l'interface Jupyter.<br>\n",
    "  Indication: Menu `Help` -> `User Interface Tour`.\n",
    "- Consultez les raccourcis claviers.<br>\n",
    "  Indication: Menu `Help` -> `Keyboard Shortcuts`."
   ]
  },
  {
   "cell_type": "markdown",
   "metadata": {
    "deletable": false,
    "editable": false,
    "nbgrader": {
     "cell_type": "markdown",
     "checksum": "21c422f612f1f08c9e64cdbb4e2def27",
     "grade": false,
     "grade_id": "cell-33660fa4ef5903e4",
     "locked": true,
     "schema_version": 3,
     "solution": false
    }
   },
   "source": [
    "**Exercice**\n",
    "\n",
    "- Cliquez sur la cellule suivante puis appuyez sur les touches `Maj+Entr`\n"
   ]
  },
  {
   "cell_type": "code",
   "execution_count": null,
   "metadata": {},
   "outputs": [],
   "source": [
    "1 + 1"
   ]
  },
  {
   "cell_type": "markdown",
   "metadata": {
    "deletable": false,
    "editable": false,
    "nbgrader": {
     "cell_type": "markdown",
     "checksum": "2ae3ce1d83a565f46da2b561cc55d30d",
     "grade": false,
     "grade_id": "cell-291a3535b726abef",
     "locked": true,
     "schema_version": 3,
     "solution": false
    }
   },
   "source": [
    "La première ligne donne le résultat du calcul. La deuxième ligne indique que ce résultat est de type *entier* (`int`).\n",
    "\n",
    "Techniquement parlant, le navigateur web a envoyé le contenu `1+1` de la cellule à un *noyau* (kernel en anglais) qui l'a *compilé* et *exécuté*, avant de renvoyer le résultat à afficher. Le noyau que nous utilisons (`C++11`) permet de travailler en `C++`. Il existe des noyaux pour beaucoup d'autres langages de programmation."
   ]
  },
  {
   "cell_type": "markdown",
   "metadata": {
    "deletable": false,
    "editable": false,
    "nbgrader": {
     "cell_type": "markdown",
     "checksum": "417dca5f86e9e3c42e937827320b8921",
     "grade": false,
     "grade_id": "cell-c7495bbedb1de8c7",
     "locked": true,
     "schema_version": 3,
     "solution": false
    }
   },
   "source": [
    "- Modifiez l'expression dans la cellule précédente et exécutez de nouveau."
   ]
  },
  {
   "cell_type": "markdown",
   "metadata": {
    "deletable": false,
    "editable": false,
    "nbgrader": {
     "cell_type": "markdown",
     "checksum": "268fb44487d223bfae33e1dbcf7e0b29",
     "grade": false,
     "grade_id": "cell-12b1679926b1768d",
     "locked": true,
     "schema_version": 3,
     "solution": false
    }
   },
   "source": [
    "**Exercice**\n",
    "\n",
    "* Utilisez la cellule suivante pour calculer la surface d'un rectangle de largeur 25 et de longueur 37."
   ]
  },
  {
   "cell_type": "code",
   "execution_count": null,
   "metadata": {
    "deletable": false,
    "nbgrader": {
     "cell_type": "code",
     "checksum": "5a844ab147a2f6ba85923671f196e85d",
     "grade": false,
     "grade_id": "cell-b645bc465bd310ae",
     "locked": false,
     "schema_version": 3,
     "solution": true
    },
    "ordo_failure": "Réponse incorrecte; essayes encore!",
    "ordo_solution": {
     "text/plain": "925\ntype: int"
    },
    "ordo_success": "Bonne réponse!"
   },
   "outputs": [],
   "source": [
    "// VOTRE CODE ICI"
   ]
  },
  {
   "cell_type": "markdown",
   "metadata": {
    "deletable": false,
    "editable": false,
    "nbgrader": {
     "cell_type": "markdown",
     "checksum": "56abe3f5c82cd602f8b0a2fd1446dc48",
     "grade": false,
     "grade_id": "cell-30c68bc6103bcacf",
     "locked": true,
     "schema_version": 3,
     "solution": false
    }
   },
   "source": [
    "* Quels autres types de variables avez-vous vus en cours ?\n",
    "* Refaites le calcul précédent de sorte que son type soit `double`:"
   ]
  },
  {
   "cell_type": "code",
   "execution_count": null,
   "metadata": {
    "deletable": false,
    "nbgrader": {
     "cell_type": "code",
     "checksum": "a0b1e710683aafa0ee948c25879f1696",
     "grade": false,
     "grade_id": "cell-7db7adf07618a111",
     "locked": false,
     "schema_version": 3,
     "solution": true
    },
    "ordo_failure": "Réponse incorrecte; essayes encore!",
    "ordo_solution": {
     "text/plain": "925\ntype: double"
    },
    "ordo_success": "Bonne réponse!"
   },
   "outputs": [],
   "source": [
    "// VOTRE CODE ICI"
   ]
  },
  {
   "cell_type": "markdown",
   "metadata": {
    "deletable": false,
    "editable": false,
    "nbgrader": {
     "cell_type": "markdown",
     "checksum": "98fc56b8a08c3997f1c1b2b5286c5a8f",
     "grade": false,
     "grade_id": "cell-7c72028bf998c9e5",
     "locked": true,
     "schema_version": 3,
     "solution": false
    }
   },
   "source": [
    "**Exercice**\n",
    "\n",
    "Les lignes suivantes vous présentent des exemples de calculs. Exécutez-les en observant bien la valeur du résultat et son type."
   ]
  },
  {
   "cell_type": "code",
   "execution_count": null,
   "metadata": {},
   "outputs": [],
   "source": [
    "3*(1+3) + (1+4)*(2+4)"
   ]
  },
  {
   "cell_type": "code",
   "execution_count": null,
   "metadata": {},
   "outputs": [],
   "source": [
    "42 / 2"
   ]
  },
  {
   "cell_type": "code",
   "execution_count": null,
   "metadata": {},
   "outputs": [],
   "source": [
    "42 / 5"
   ]
  },
  {
   "cell_type": "code",
   "execution_count": null,
   "metadata": {},
   "outputs": [],
   "source": [
    "42. / 5"
   ]
  },
  {
   "cell_type": "code",
   "execution_count": null,
   "metadata": {},
   "outputs": [],
   "source": [
    "42 % 5"
   ]
  },
  {
   "cell_type": "code",
   "execution_count": null,
   "metadata": {},
   "outputs": [],
   "source": [
    "1 + 1."
   ]
  },
  {
   "cell_type": "code",
   "execution_count": null,
   "metadata": {},
   "outputs": [],
   "source": [
    "42 == 6*7"
   ]
  },
  {
   "cell_type": "code",
   "execution_count": null,
   "metadata": {},
   "outputs": [],
   "source": [
    "41 == 2*21"
   ]
  },
  {
   "cell_type": "markdown",
   "metadata": {
    "deletable": false,
    "editable": false,
    "nbgrader": {
     "cell_type": "markdown",
     "checksum": "60ba4d2ff75acaa820d33009b21b7679",
     "grade": false,
     "grade_id": "cell-cf97d7e3ffc985a0",
     "locked": true,
     "schema_version": 3,
     "solution": false
    }
   },
   "source": [
    "Remarque: dans les deux cellules précédentes, nous avons utilisé un **double égal** `==` qui sert à **tester** une égalité. Nous reverrons bientôt la signification du **simple égal** `=`."
   ]
  },
  {
   "cell_type": "code",
   "execution_count": null,
   "metadata": {},
   "outputs": [],
   "source": [
    "1 < 2"
   ]
  },
  {
   "cell_type": "code",
   "execution_count": null,
   "metadata": {},
   "outputs": [],
   "source": [
    "2 > 3"
   ]
  },
  {
   "cell_type": "code",
   "execution_count": null,
   "metadata": {},
   "outputs": [],
   "source": [
    "1 < 2 and 2 > 3"
   ]
  },
  {
   "cell_type": "code",
   "execution_count": null,
   "metadata": {},
   "outputs": [],
   "source": [
    "1 < 2 or 2 > 3"
   ]
  },
  {
   "cell_type": "markdown",
   "metadata": {
    "deletable": false,
    "editable": false,
    "nbgrader": {
     "cell_type": "markdown",
     "checksum": "b5cb9ead75f6ec588e99ab1c29144611",
     "grade": false,
     "grade_id": "cell-884721498ad284a1",
     "locked": true,
     "schema_version": 3,
     "solution": false
    }
   },
   "source": [
    "**Exercice**\n",
    "\n",
    "Pour chacune des expressions suivantes, déterminez **de tête** le type et le résultat, et donnez votre réponse à l'endroit indiqué sous la forme `type`, `résultat`; puis vérifiez en exécutant la cellule."
   ]
  },
  {
   "cell_type": "markdown",
   "metadata": {
    "deletable": false,
    "nbgrader": {
     "cell_type": "markdown",
     "checksum": "99905bc41020bdeb4e6c871e5c2200e0",
     "grade": true,
     "grade_id": "cell-a8d152d15809265f",
     "locked": false,
     "points": 0,
     "schema_version": 3,
     "solution": true
    }
   },
   "source": [
    " ---\n",
    " * Type : int, bool, double ?\n",
    " * Résultat : 7, 9, 11 ?\n",
    "\n",
    "VOTRE RÉPONSE ICI"
   ]
  },
  {
   "cell_type": "code",
   "execution_count": null,
   "metadata": {
    "deletable": false,
    "editable": false,
    "nbgrader": {
     "cell_type": "code",
     "checksum": "9840644faef379bb8b4308a434ba3ffe",
     "grade": false,
     "grade_id": "cell-0f3ff9e9e4c33f41",
     "locked": true,
     "schema_version": 3,
     "solution": false
    }
   },
   "outputs": [],
   "source": [
    "3*2 + 5"
   ]
  },
  {
   "cell_type": "markdown",
   "metadata": {
    "deletable": false,
    "nbgrader": {
     "cell_type": "markdown",
     "checksum": "367c496011e4bb0725177ba1438437dc",
     "grade": true,
     "grade_id": "cell-b866905e681f44cb",
     "locked": false,
     "points": 0,
     "schema_version": 3,
     "solution": true
    }
   },
   "source": [
    " ---\n",
    " * Type : int, bool, double ?\n",
    " * Résultat : 12 ou 12.5 ?\n",
    " \n",
    " VOTRE RÉPONSE ICI"
   ]
  },
  {
   "cell_type": "code",
   "execution_count": null,
   "metadata": {
    "deletable": false,
    "editable": false,
    "nbgrader": {
     "cell_type": "code",
     "checksum": "962d88d6809f73496c72662e2f1a341d",
     "grade": false,
     "grade_id": "cell-127febc577edfc08",
     "locked": true,
     "schema_version": 3,
     "solution": false
    }
   },
   "outputs": [],
   "source": [
    "25 / 2"
   ]
  },
  {
   "cell_type": "markdown",
   "metadata": {
    "deletable": false,
    "nbgrader": {
     "cell_type": "markdown",
     "checksum": "21e8598f89d6fbfced4fec030827a665",
     "grade": true,
     "grade_id": "cell-899fabbcd7ecd371",
     "locked": false,
     "points": 0,
     "schema_version": 3,
     "solution": true
    }
   },
   "source": [
    "---\n",
    " * Type : int, bool, double ?\n",
    " * Résultat : 7 ou 6 ?\n",
    " \n",
    " VOTRE RÉPONSE ICI"
   ]
  },
  {
   "cell_type": "code",
   "execution_count": null,
   "metadata": {
    "deletable": false,
    "editable": false,
    "nbgrader": {
     "cell_type": "code",
     "checksum": "dfc73c6565beb9718da57a04d56a539a",
     "grade": false,
     "grade_id": "cell-286c54ae7e34701d",
     "locked": true,
     "schema_version": 3,
     "solution": false
    }
   },
   "outputs": [],
   "source": [
    "3.5*2"
   ]
  },
  {
   "cell_type": "markdown",
   "metadata": {
    "deletable": false,
    "nbgrader": {
     "cell_type": "markdown",
     "checksum": "b393a03dc73bade65e0591d88daab20a",
     "grade": true,
     "grade_id": "cell-fe0c64ef514d2b0f",
     "locked": false,
     "points": 0,
     "schema_version": 3,
     "solution": true
    }
   },
   "source": [
    "---\n",
    " * Type: int, bool, double ?\n",
    " * Résultat : 5, 4, 4.66667 ?\n",
    " \n",
    " VOTRE RÉPONSE ICI"
   ]
  },
  {
   "cell_type": "code",
   "execution_count": null,
   "metadata": {},
   "outputs": [],
   "source": [
    "14. / 3"
   ]
  },
  {
   "cell_type": "markdown",
   "metadata": {
    "deletable": false,
    "nbgrader": {
     "cell_type": "markdown",
     "checksum": "e8ffdf74c97d1e18fe8a50e7e8afe15a",
     "grade": true,
     "grade_id": "cell-b1b2d0d4b7baa06e",
     "locked": false,
     "points": 0,
     "schema_version": 3,
     "solution": true
    }
   },
   "source": [
    "---\n",
    " * Type : int, bool, double ?\n",
    " * Résultat : 3,7,21, true, false ?\n",
    " \n",
    " VOTRE RÉPONSE ICI"
   ]
  },
  {
   "cell_type": "code",
   "execution_count": null,
   "metadata": {},
   "outputs": [],
   "source": [
    "3*7 == 21"
   ]
  },
  {
   "cell_type": "markdown",
   "metadata": {
    "deletable": false,
    "nbgrader": {
     "cell_type": "markdown",
     "checksum": "f7974cb301ec3c26a1e2a5944c7b5528",
     "grade": true,
     "grade_id": "cell-59ff90739ae5b7b2",
     "locked": false,
     "points": 0,
     "schema_version": 3,
     "solution": true
    }
   },
   "source": [
    "---\n",
    " * Type : int, bool, double ?\n",
    " * Résultat : 21, 25, true, false ?\n",
    " \n",
    " VOTRE RÉPONSE ICI"
   ]
  },
  {
   "cell_type": "code",
   "execution_count": null,
   "metadata": {},
   "outputs": [],
   "source": [
    "(3*7 == 21) and (4.2 > 5.3 or 4*4 == 8*2)"
   ]
  },
  {
   "cell_type": "markdown",
   "metadata": {
    "deletable": false,
    "nbgrader": {
     "cell_type": "markdown",
     "checksum": "d29d429b555d5254a33cddf5ce0b4a3e",
     "grade": true,
     "grade_id": "cell-2bf659cbac5d597a",
     "locked": false,
     "points": 0,
     "schema_version": 3,
     "solution": true
    }
   },
   "source": [
    "---\n",
    " * Type : int, bool, double ?\n",
    " * Résultat : 1, 0, true, false ?\n",
    " \n",
    " VOTRE RÉPONSE ICI"
   ]
  },
  {
   "cell_type": "code",
   "execution_count": null,
   "metadata": {},
   "outputs": [],
   "source": [
    "true and false"
   ]
  },
  {
   "cell_type": "markdown",
   "metadata": {
    "deletable": false,
    "nbgrader": {
     "cell_type": "markdown",
     "checksum": "8a6bb53f9aef0f0cc780d9b730b00f66",
     "grade": true,
     "grade_id": "cell-e5856c338c095691",
     "locked": false,
     "points": 0,
     "schema_version": 3,
     "solution": true
    }
   },
   "source": [
    "---\n",
    " * Type : int, bool, double ?\n",
    " * Résultat : 1, 0, true, false ?\n",
    " \n",
    " VOTRE RÉPONSE ICI"
   ]
  },
  {
   "cell_type": "code",
   "execution_count": null,
   "metadata": {},
   "outputs": [],
   "source": [
    "true or false"
   ]
  },
  {
   "cell_type": "markdown",
   "metadata": {
    "deletable": false,
    "nbgrader": {
     "cell_type": "markdown",
     "checksum": "d4db7087a33bfc21506f165933d8777f",
     "grade": true,
     "grade_id": "cell-89f6e927581416a9",
     "locked": false,
     "points": 0,
     "schema_version": 3,
     "solution": true
    }
   },
   "source": [
    "---\n",
    " * Type : int, bool, double ?\n",
    " * Résultat : 1, 0, true, false ?\n",
    " \n",
    " VOTRE RÉPONSE ICI"
   ]
  },
  {
   "cell_type": "code",
   "execution_count": null,
   "metadata": {},
   "outputs": [],
   "source": [
    "(false and false) or true"
   ]
  },
  {
   "cell_type": "markdown",
   "metadata": {
    "deletable": false,
    "nbgrader": {
     "cell_type": "markdown",
     "checksum": "97ab314a6f53e67135dd53fcd733ddb3",
     "grade": true,
     "grade_id": "cell-447af0863372964d",
     "locked": false,
     "points": 0,
     "schema_version": 3,
     "solution": true
    }
   },
   "source": [
    "---\n",
    " * Type : int, bool, double ?\n",
    " * Résultat : 1, 0, true, false ?\n",
    " \n",
    " VOTRE RÉPONSE ICI"
   ]
  },
  {
   "cell_type": "code",
   "execution_count": null,
   "metadata": {},
   "outputs": [],
   "source": [
    "false and (false or true)"
   ]
  },
  {
   "cell_type": "markdown",
   "metadata": {
    "deletable": false,
    "editable": false,
    "nbgrader": {
     "cell_type": "markdown",
     "checksum": "cc2d4827a669ef403b1d41fdbd1eadc1",
     "grade": false,
     "grade_id": "cell-d0fd0aed7c0e6f00",
     "locked": true,
     "schema_version": 3,
     "solution": false
    }
   },
   "source": [
    "## Variables\n",
    "\n",
    "Jusqu'à présent, nous avons effectué des calculs et observé le résultat. Pour écrire des programmes, nous aurons besoin de **stocker le résultat dans une variable**. Exécutez la cellule suivante."
   ]
  },
  {
   "cell_type": "code",
   "execution_count": null,
   "metadata": {},
   "outputs": [],
   "source": [
    "int a = 3;"
   ]
  },
  {
   "cell_type": "markdown",
   "metadata": {
    "deletable": false,
    "editable": false,
    "nbgrader": {
     "cell_type": "markdown",
     "checksum": "5524da3499c8c11757b620ae816b2c0b",
     "grade": false,
     "grade_id": "cell-77b23801c7675aeb",
     "locked": true,
     "schema_version": 3,
     "solution": false
    }
   },
   "source": [
    "**Remarque:** essayez d'exécuter à nouveau la cellule. \n",
    "\n",
    "Vous remarquez qu'une erreur apparaît : **`error: redefinition of 'a'`**.\n",
    "\n",
    "**Explication:** L'instruction \"`int a`\" *déclare* la variable nommée `a`; on ne peut déclarer une variable qu'une seule fois. En exécutant plusieurs fois la cellule, vous déclarez la variable *plusieurs fois* ce qui cause l'erreur. Cependant, il est possible de remettre le programme à 0 (sans aucune variable déclarée) en *redémarrant le noyau*. **Pour cela, aller dans le menu \"Noyau\" et cliquer sur \"Redémarrer\"**.\n",
    "\n",
    "Une fois que la variable `a` a été déclarée et qu'on lui a assigné une valeur, on peut afficher ou réutiliser cette valeur:"
   ]
  },
  {
   "cell_type": "code",
   "execution_count": null,
   "metadata": {
    "deletable": false,
    "editable": false,
    "nbgrader": {
     "cell_type": "code",
     "checksum": "fee5830b8aede03bdf41f0db12f9fc19",
     "grade": false,
     "grade_id": "cell-cb019a2142f5c180",
     "locked": true,
     "schema_version": 3,
     "solution": false,
     "task": false
    }
   },
   "outputs": [],
   "source": [
    "a"
   ]
  },
  {
   "cell_type": "code",
   "execution_count": null,
   "metadata": {
    "deletable": false,
    "editable": false,
    "nbgrader": {
     "cell_type": "code",
     "checksum": "0a7b5f91e93c4c924efdde3a9c0ea28e",
     "grade": false,
     "grade_id": "cell-001bb0d2577daa8b",
     "locked": true,
     "schema_version": 3,
     "solution": false,
     "task": false
    }
   },
   "outputs": [],
   "source": [
    "a + 1"
   ]
  },
  {
   "cell_type": "code",
   "execution_count": null,
   "metadata": {
    "deletable": false,
    "editable": false,
    "nbgrader": {
     "cell_type": "code",
     "checksum": "614b58ab1299f4d79e8ddcd5ad514017",
     "grade": false,
     "grade_id": "cell-8830572316055e34",
     "locked": true,
     "schema_version": 3,
     "solution": false,
     "task": false
    }
   },
   "outputs": [],
   "source": [
    "a + a + a"
   ]
  },
  {
   "cell_type": "markdown",
   "metadata": {
    "deletable": false,
    "editable": false,
    "nbgrader": {
     "cell_type": "markdown",
     "checksum": "a1b5c819a57670f7c20ef7cc3272fe1f",
     "grade": false,
     "grade_id": "cell-69cecfe5105b306d",
     "locked": true,
     "schema_version": 3,
     "solution": false,
     "task": false
    }
   },
   "source": [
    "On peut aussi modifier la valeur de `a`:"
   ]
  },
  {
   "cell_type": "code",
   "execution_count": null,
   "metadata": {
    "deletable": false,
    "editable": false,
    "nbgrader": {
     "cell_type": "code",
     "checksum": "fdff95e0a32bac31d137441fae8be11d",
     "grade": false,
     "grade_id": "cell-feb1fac9b27cedcf",
     "locked": true,
     "schema_version": 3,
     "solution": false,
     "task": false
    }
   },
   "outputs": [],
   "source": [
    "a = 5;"
   ]
  },
  {
   "cell_type": "code",
   "execution_count": null,
   "metadata": {
    "deletable": false,
    "editable": false,
    "nbgrader": {
     "cell_type": "code",
     "checksum": "d74c1bb7fc965c0b5c1c8009638608f3",
     "grade": false,
     "grade_id": "cell-17a1af4fbfa578ce",
     "locked": true,
     "schema_version": 3,
     "solution": false,
     "task": false
    }
   },
   "outputs": [],
   "source": [
    "a"
   ]
  },
  {
   "cell_type": "code",
   "execution_count": null,
   "metadata": {
    "deletable": false,
    "editable": false,
    "nbgrader": {
     "cell_type": "code",
     "checksum": "5a93e22553675b75564e9e456d740448",
     "grade": false,
     "grade_id": "cell-66c91df51588842e",
     "locked": true,
     "schema_version": 3,
     "solution": false,
     "task": false
    }
   },
   "outputs": [],
   "source": [
    "a = a + 1;"
   ]
  },
  {
   "cell_type": "code",
   "execution_count": null,
   "metadata": {
    "deletable": false,
    "editable": false,
    "nbgrader": {
     "cell_type": "code",
     "checksum": "215bcd1733f78d667ea804052a5fce82",
     "grade": false,
     "grade_id": "cell-f93c662745eac3cc",
     "locked": true,
     "schema_version": 3,
     "solution": false,
     "task": false
    }
   },
   "outputs": [],
   "source": [
    "a"
   ]
  },
  {
   "cell_type": "markdown",
   "metadata": {
    "deletable": false,
    "editable": false,
    "nbgrader": {
     "cell_type": "markdown",
     "checksum": "5f423707ad31a5fbdf64c0186e3d178f",
     "grade": false,
     "grade_id": "cell-67887572028175dc",
     "locked": true,
     "schema_version": 3,
     "solution": false,
     "task": false
    }
   },
   "source": [
    "Que se passe-t-il si l'on exécute à nouveau la dernière cellule? Si on exécute alternativement les deux dernières cellules?"
   ]
  },
  {
   "cell_type": "markdown",
   "metadata": {
    "deletable": false,
    "editable": false,
    "nbgrader": {
     "cell_type": "markdown",
     "checksum": "a80ab6c338f8ee24f98ca54fc08d9e15",
     "grade": false,
     "grade_id": "cell-11418469192f043e",
     "locked": true,
     "schema_version": 3,
     "solution": false
    }
   },
   "source": [
    "## Quelques remarques sur Jupyter\n",
    "L'ordre dans lequel vous exécutez les cellules est important, la variable contient la **dernière valeur que vous lui avez attribuée**. L'ordre d'exécution des cellules est indiqué entre crochets dans la marge de gauche."
   ]
  },
  {
   "cell_type": "markdown",
   "metadata": {
    "deletable": false,
    "editable": false,
    "nbgrader": {
     "cell_type": "markdown",
     "checksum": "4d5c4823c359ed7dd77e0cdd027931a3",
     "grade": false,
     "grade_id": "cell-11418469192f043f",
     "locked": true,
     "schema_version": 3,
     "solution": false
    }
   },
   "source": [
    "Vous aurez noté que certaines cellules finissaient par «;», d'autres non. Exécutez les cellules suivantes et observez le résultat:"
   ]
  },
  {
   "cell_type": "code",
   "execution_count": null,
   "metadata": {
    "deletable": false,
    "editable": false,
    "nbgrader": {
     "cell_type": "code",
     "checksum": "dd0aa0094b5e584ca8a31ef372270dfc",
     "grade": false,
     "grade_id": "cell-3c981205fdf5c2ad",
     "locked": true,
     "schema_version": 3,
     "solution": false,
     "task": false
    }
   },
   "outputs": [],
   "source": [
    "1 + 1"
   ]
  },
  {
   "cell_type": "code",
   "execution_count": null,
   "metadata": {
    "deletable": false,
    "editable": false,
    "nbgrader": {
     "cell_type": "code",
     "checksum": "8c5186bab6e5dea35f1c042c728da4a7",
     "grade": false,
     "grade_id": "cell-1ca515e4663fceff",
     "locked": true,
     "schema_version": 3,
     "solution": false,
     "task": false
    }
   },
   "outputs": [],
   "source": [
    "1 + 1;"
   ]
  },
  {
   "cell_type": "code",
   "execution_count": null,
   "metadata": {
    "deletable": false,
    "editable": false,
    "nbgrader": {
     "cell_type": "code",
     "checksum": "a8da5cfabb98bfff0cacb60780a1bce9",
     "grade": false,
     "grade_id": "cell-14ff22d2652ac945",
     "locked": true,
     "schema_version": 3,
     "solution": false,
     "task": false
    }
   },
   "outputs": [],
   "source": [
    "1 + 1;\n",
    "2 + 2"
   ]
  },
  {
   "cell_type": "markdown",
   "metadata": {
    "deletable": false,
    "editable": false,
    "nbgrader": {
     "cell_type": "markdown",
     "checksum": "5606f87cf23f5fa1c93a367e5c086bc7",
     "grade": false,
     "grade_id": "cell-11418469192f043g",
     "locked": true,
     "schema_version": 3,
     "solution": false
    }
   },
   "source": [
    "En général, toute *instruction* C++ doit se terminer par un «;». Par convention dans C++ dans Jupyter, si la dernière instruction d'une cellule est une *expression* (elle a une valeur), et si l'on omets le «;», alors cette valeur est affichée."
   ]
  },
  {
   "cell_type": "markdown",
   "metadata": {
    "deletable": false,
    "editable": false,
    "nbgrader": {
     "cell_type": "markdown",
     "checksum": "1b10baba9e56f1d65b5987d2fceb2b75",
     "grade": false,
     "grade_id": "cell-51cce273e81a7bb6",
     "locked": true,
     "schema_version": 3,
     "solution": false,
     "task": false
    }
   },
   "source": [
    "## Retour sur les variables"
   ]
  },
  {
   "cell_type": "markdown",
   "metadata": {
    "deletable": false,
    "editable": false,
    "nbgrader": {
     "cell_type": "markdown",
     "checksum": "78362ae80e0828ac017122ba921c4698",
     "grade": false,
     "grade_id": "cell-36f8f65940be42e9",
     "locked": true,
     "schema_version": 3,
     "solution": false
    }
   },
   "source": [
    "**Exercice**\n",
    "\n",
    "Les cellules suivantes définissent deux variables `r` et `pi`. Utilisez ces variables pour calculer l'aire et le périmètre d'un disque de rayon `r` pour les différentes valeurs données (considérer que `pi` contient la valeur exacte du nombre bien connu). Utilisez les cellules vides pour faire vos calculs. N'oubliez pas d'exécuter aussi les cellules qui changent la valeur de `r`."
   ]
  },
  {
   "cell_type": "code",
   "execution_count": null,
   "metadata": {
    "deletable": false,
    "editable": false,
    "nbgrader": {
     "cell_type": "code",
     "checksum": "21ab90495a9e1454b6f8d02225c1e49b",
     "grade": false,
     "grade_id": "cell-6d21b67b8f0160bc",
     "locked": true,
     "schema_version": 3,
     "solution": false
    }
   },
   "outputs": [],
   "source": [
    "double pi = 3.1415;\n",
    "double r;"
   ]
  },
  {
   "cell_type": "code",
   "execution_count": null,
   "metadata": {
    "deletable": false,
    "editable": false,
    "nbgrader": {
     "cell_type": "code",
     "checksum": "4b56524e61ead946e966a61bfe137c13",
     "grade": false,
     "grade_id": "cell-36b8bae3af9f71aa",
     "locked": true,
     "schema_version": 3,
     "solution": false
    }
   },
   "outputs": [],
   "source": [
    "r = 5;"
   ]
  },
  {
   "cell_type": "markdown",
   "metadata": {
    "deletable": false,
    "editable": false,
    "nbgrader": {
     "cell_type": "markdown",
     "checksum": "2f07c8d1e1e0042444606a3019c68d34",
     "grade": false,
     "grade_id": "cell-ac377dc636c17e35",
     "locked": true,
     "schema_version": 3,
     "solution": false
    }
   },
   "source": [
    "Aire:"
   ]
  },
  {
   "cell_type": "code",
   "execution_count": null,
   "metadata": {
    "deletable": false,
    "nbgrader": {
     "cell_type": "code",
     "checksum": "44151c83912672b956f0ba11ebec2f4f",
     "grade": false,
     "grade_id": "cell-c99afbf62e837109",
     "locked": false,
     "schema_version": 3,
     "solution": true
    },
    "ordo_solution": {
     "text/plain": "78.5375\ntype: double"
    }
   },
   "outputs": [],
   "source": [
    "// VOTRE CODE ICI"
   ]
  },
  {
   "cell_type": "markdown",
   "metadata": {
    "deletable": false,
    "editable": false,
    "nbgrader": {
     "cell_type": "markdown",
     "checksum": "fee30a6f5d59e9d17fd1933e53df1100",
     "grade": false,
     "grade_id": "cell-ecae8424fb68b04b",
     "locked": true,
     "schema_version": 3,
     "solution": false
    }
   },
   "source": [
    "Périmètre:"
   ]
  },
  {
   "cell_type": "code",
   "execution_count": null,
   "metadata": {
    "deletable": false,
    "nbgrader": {
     "cell_type": "code",
     "checksum": "e296b1ddeeda0c40fa6559e7d773b09a",
     "grade": false,
     "grade_id": "cell-d382e01e1d7d9147",
     "locked": false,
     "schema_version": 3,
     "solution": true
    },
    "ordo_solution": {
     "text/plain": "31.415\ntype: double"
    }
   },
   "outputs": [],
   "source": [
    "// VOTRE CODE ICI"
   ]
  },
  {
   "cell_type": "code",
   "execution_count": null,
   "metadata": {
    "deletable": false,
    "editable": false,
    "nbgrader": {
     "cell_type": "code",
     "checksum": "8306dbab487059781a611cb5951e0ca3",
     "grade": false,
     "grade_id": "cell-9a35ab21a5662c0e",
     "locked": true,
     "schema_version": 3,
     "solution": false
    }
   },
   "outputs": [],
   "source": [
    "r = 2.5;"
   ]
  },
  {
   "cell_type": "markdown",
   "metadata": {
    "deletable": false,
    "editable": false,
    "nbgrader": {
     "cell_type": "markdown",
     "checksum": "0b16f0cbe19fb796de65e6d7f64ef5d8",
     "grade": false,
     "grade_id": "cell-9bcdb6ed085c381b",
     "locked": true,
     "schema_version": 3,
     "solution": false
    }
   },
   "source": [
    "Aire:"
   ]
  },
  {
   "cell_type": "code",
   "execution_count": null,
   "metadata": {
    "deletable": false,
    "nbgrader": {
     "cell_type": "code",
     "checksum": "a16a5faa1f789ae282c12008a2cd7afa",
     "grade": false,
     "grade_id": "cell-6af902a046062f5f",
     "locked": false,
     "schema_version": 3,
     "solution": true
    },
    "ordo_solution": {
     "text/plain": "19.6344\ntype: double"
    }
   },
   "outputs": [],
   "source": [
    "// VOTRE CODE ICI"
   ]
  },
  {
   "cell_type": "markdown",
   "metadata": {
    "deletable": false,
    "editable": false,
    "nbgrader": {
     "cell_type": "markdown",
     "checksum": "c3e92ae6923158adc07bc2d680a25590",
     "grade": false,
     "grade_id": "cell-801dfeea6ca8176e",
     "locked": true,
     "schema_version": 3,
     "solution": false
    }
   },
   "source": [
    "Périmètre:"
   ]
  },
  {
   "cell_type": "code",
   "execution_count": null,
   "metadata": {
    "deletable": false,
    "nbgrader": {
     "cell_type": "code",
     "checksum": "6f9050e3ddc8e8297e25fdc6b219b56d",
     "grade": false,
     "grade_id": "cell-d525fdb0f7f4a3f6",
     "locked": false,
     "schema_version": 3,
     "solution": true
    },
    "ordo_solution": {
     "text/plain": "15.7075\ntype: double"
    }
   },
   "outputs": [],
   "source": [
    "// VOTRE CODE ICI"
   ]
  },
  {
   "cell_type": "code",
   "execution_count": null,
   "metadata": {
    "deletable": false,
    "editable": false,
    "nbgrader": {
     "cell_type": "code",
     "checksum": "d63d00ab1644881330eece81b82690c7",
     "grade": false,
     "grade_id": "cell-be5d7b2e92bbc466",
     "locked": true,
     "schema_version": 3,
     "solution": false
    }
   },
   "outputs": [],
   "source": [
    "r = 10;"
   ]
  },
  {
   "cell_type": "markdown",
   "metadata": {
    "deletable": false,
    "editable": false,
    "nbgrader": {
     "cell_type": "markdown",
     "checksum": "5ecf916ca2ca2b515154925d8de7ec41",
     "grade": false,
     "grade_id": "cell-5c2043feb2b5ee9a",
     "locked": true,
     "schema_version": 3,
     "solution": false
    }
   },
   "source": [
    "Aire:"
   ]
  },
  {
   "cell_type": "code",
   "execution_count": null,
   "metadata": {
    "deletable": false,
    "nbgrader": {
     "cell_type": "code",
     "checksum": "426ae5794e3e4383ca663e07d30f7915",
     "grade": false,
     "grade_id": "cell-3b07ae4aadece3b1",
     "locked": false,
     "schema_version": 3,
     "solution": true
    },
    "ordo_solution": {
     "text/plain": "314.15\ntype: double"
    }
   },
   "outputs": [],
   "source": [
    "// VOTRE CODE ICI"
   ]
  },
  {
   "cell_type": "markdown",
   "metadata": {
    "deletable": false,
    "editable": false,
    "nbgrader": {
     "cell_type": "markdown",
     "checksum": "a21bc742d81ff078ce718d264a7941ee",
     "grade": false,
     "grade_id": "cell-7a1dfca8d4b36e75",
     "locked": true,
     "schema_version": 3,
     "solution": false
    }
   },
   "source": [
    "Périmètre:"
   ]
  },
  {
   "cell_type": "code",
   "execution_count": null,
   "metadata": {
    "deletable": false,
    "nbgrader": {
     "cell_type": "code",
     "checksum": "3a354a340c853d64276da2ca648e8cf7",
     "grade": false,
     "grade_id": "cell-43dcdfdaac13d375",
     "locked": false,
     "schema_version": 3,
     "solution": true
    },
    "ordo_solution": {
     "text/plain": "62.83\ntype: double"
    }
   },
   "outputs": [],
   "source": [
    "// VOTRE CODE ICI"
   ]
  },
  {
   "cell_type": "markdown",
   "metadata": {
    "deletable": false,
    "editable": false,
    "nbgrader": {
     "cell_type": "markdown",
     "checksum": "971ae7f1a783bdd700e3b6c79dd8a1e8",
     "grade": false,
     "grade_id": "cell-2b028b9f5cbf1a95",
     "locked": true,
     "schema_version": 3,
     "solution": false
    }
   },
   "source": [
    "**Exercice**\n",
    "\n",
    "Les cellules suivantes définissent deux variables `b` et `c` :"
   ]
  },
  {
   "cell_type": "code",
   "execution_count": null,
   "metadata": {
    "deletable": false,
    "editable": false,
    "nbgrader": {
     "cell_type": "code",
     "checksum": "7f89aca42a78ecf5618433b0949f3234",
     "grade": false,
     "grade_id": "cell-5f25dd0c5b2575d2",
     "locked": true,
     "schema_version": 3,
     "solution": false
    }
   },
   "outputs": [],
   "source": [
    "int b, c;"
   ]
  },
  {
   "cell_type": "code",
   "execution_count": null,
   "metadata": {
    "deletable": false,
    "editable": false,
    "nbgrader": {
     "cell_type": "code",
     "checksum": "25f4bd23b50ecc22b1f51f4947e60349",
     "grade": false,
     "grade_id": "cell-c60f20281517629f",
     "locked": true,
     "schema_version": 3,
     "solution": false
    }
   },
   "outputs": [],
   "source": [
    "b = 5;\n",
    "c = 8;"
   ]
  },
  {
   "cell_type": "markdown",
   "metadata": {
    "deletable": false,
    "editable": false,
    "nbgrader": {
     "cell_type": "markdown",
     "checksum": "c39ec28140e40d7e41586526feb2c6aa",
     "grade": false,
     "grade_id": "cell-e9b1884cc2aaecf1",
     "locked": true,
     "schema_version": 3,
     "solution": false
    }
   },
   "source": [
    "Dans les cellules vides ci-dessous, écrivez un programme qui *échange les valeurs* des deux variables, comme dans le TD 1. Votre programme pourra déclarer de nouvelles variables et utiliser des affectations, mais sans écrire les nombres à la main bien sûr, ce serait tricher.\n",
    "\n",
    "**Indication:**\n",
    "- Une cellule peut contenir plusieurs instructions (comme ci-dessus) séparées par des points-virgules \";\"."
   ]
  },
  {
   "cell_type": "code",
   "execution_count": null,
   "metadata": {
    "deletable": false,
    "nbgrader": {
     "cell_type": "code",
     "checksum": "445568ca8ef283bd08359a90f01ee70b",
     "grade": false,
     "grade_id": "cell-054289e2e6184e6c",
     "locked": false,
     "schema_version": 3,
     "solution": true
    }
   },
   "outputs": [],
   "source": [
    "// VOTRE CODE ICI"
   ]
  },
  {
   "cell_type": "code",
   "execution_count": null,
   "metadata": {
    "deletable": false,
    "nbgrader": {
     "cell_type": "code",
     "checksum": "5ec1990800f1f5382d47bda057d64f64",
     "grade": false,
     "grade_id": "cell-0c01da91c9e5a5d1",
     "locked": false,
     "schema_version": 3,
     "solution": true
    }
   },
   "outputs": [],
   "source": [
    "// VOTRE CODE ICI"
   ]
  },
  {
   "cell_type": "code",
   "execution_count": null,
   "metadata": {
    "deletable": false,
    "editable": false,
    "nbgrader": {
     "cell_type": "code",
     "checksum": "5d6bae96fb9a0fe077804994844c2dd7",
     "grade": false,
     "grade_id": "cell-84a2a3a6c8bc8087",
     "locked": true,
     "schema_version": 3,
     "solution": false
    },
    "ordo_solution": {
     "text/plain": "8\ntype: int"
    }
   },
   "outputs": [],
   "source": [
    "b // doit afficher 8"
   ]
  },
  {
   "cell_type": "code",
   "execution_count": null,
   "metadata": {
    "deletable": false,
    "editable": false,
    "nbgrader": {
     "cell_type": "code",
     "checksum": "ce9423ef97e4caa65de8113f55ca26d5",
     "grade": false,
     "grade_id": "cell-033b5743ea66933d",
     "locked": true,
     "schema_version": 3,
     "solution": false
    },
    "ordo_solution": {
     "text/plain": "5\ntype: int"
    }
   },
   "outputs": [],
   "source": [
    "c // doit afficher 5"
   ]
  },
  {
   "cell_type": "code",
   "execution_count": null,
   "metadata": {
    "deletable": false,
    "editable": false,
    "nbgrader": {
     "cell_type": "code",
     "checksum": "a0b5ed5ec73ecf70248ac66b538a1a67",
     "grade": true,
     "grade_id": "cell-1bd7d603649344f2",
     "locked": true,
     "points": 0,
     "schema_version": 3,
     "solution": false
    }
   },
   "outputs": [],
   "source": []
  },
  {
   "cell_type": "markdown",
   "metadata": {
    "deletable": false,
    "editable": false,
    "nbgrader": {
     "cell_type": "markdown",
     "checksum": "1de275ff7eb694be4c9736afc26a43bc",
     "grade": false,
     "grade_id": "cell-34adf2e9f2f58483",
     "locked": true,
     "schema_version": 3,
     "solution": false
    }
   },
   "source": [
    "## Affectations et types\n",
    "\n",
    "Tout à l'heure, nous avons exploré différents types de valeurs et nous venons de voir comment déclarer une variable pouvant contenir un certain type. Mais que se passe-t-il lorsque l'on assigne une valeur du mauvais type à une variable ?"
   ]
  },
  {
   "cell_type": "markdown",
   "metadata": {
    "deletable": false,
    "editable": false,
    "nbgrader": {
     "cell_type": "markdown",
     "checksum": "e0a3fc3b240c1993f35740a83ad30327",
     "grade": false,
     "grade_id": "cell-f81a9bffcf2e6811",
     "locked": true,
     "schema_version": 3,
     "solution": false
    }
   },
   "source": [
    "**Exercice**\n",
    "\n",
    "Faites-vous une opinion en observant le résultat des affectations suivantes."
   ]
  },
  {
   "cell_type": "code",
   "execution_count": null,
   "metadata": {},
   "outputs": [],
   "source": [
    "int v1;"
   ]
  },
  {
   "cell_type": "code",
   "execution_count": null,
   "metadata": {},
   "outputs": [],
   "source": [
    "v1 = 2"
   ]
  },
  {
   "cell_type": "code",
   "execution_count": null,
   "metadata": {},
   "outputs": [],
   "source": [
    "v1 = 2.5"
   ]
  },
  {
   "cell_type": "code",
   "execution_count": null,
   "metadata": {},
   "outputs": [],
   "source": [
    "v1 = false"
   ]
  },
  {
   "cell_type": "code",
   "execution_count": null,
   "metadata": {},
   "outputs": [],
   "source": [
    "double v2;"
   ]
  },
  {
   "cell_type": "code",
   "execution_count": null,
   "metadata": {},
   "outputs": [],
   "source": [
    "v2 = 5"
   ]
  },
  {
   "cell_type": "code",
   "execution_count": null,
   "metadata": {},
   "outputs": [],
   "source": [
    "v2 = 5.3"
   ]
  },
  {
   "cell_type": "code",
   "execution_count": null,
   "metadata": {},
   "outputs": [],
   "source": [
    "v2 = true"
   ]
  },
  {
   "cell_type": "code",
   "execution_count": null,
   "metadata": {},
   "outputs": [],
   "source": [
    "bool v3;"
   ]
  },
  {
   "cell_type": "code",
   "execution_count": null,
   "metadata": {},
   "outputs": [],
   "source": [
    "v3 = 2"
   ]
  },
  {
   "cell_type": "code",
   "execution_count": null,
   "metadata": {},
   "outputs": [],
   "source": [
    "v3 = 0"
   ]
  },
  {
   "cell_type": "code",
   "execution_count": null,
   "metadata": {},
   "outputs": [],
   "source": [
    "v3 = 1.5"
   ]
  },
  {
   "cell_type": "code",
   "execution_count": null,
   "metadata": {},
   "outputs": [],
   "source": [
    "v3 = false"
   ]
  },
  {
   "cell_type": "markdown",
   "metadata": {
    "deletable": false,
    "editable": false,
    "nbgrader": {
     "cell_type": "markdown",
     "checksum": "90a79f756bb222d04e6de588fc94606d",
     "grade": false,
     "grade_id": "cell-a5106c0a703afcee",
     "locked": true,
     "schema_version": 3,
     "solution": false
    }
   },
   "source": [
    "Vous remarquez que, lorsque les types sont suffisament proches, les valeurs sont converties automatiquement au moment de l'affectation. Dans les autres cas, l'affectation déclenche une erreur."
   ]
  },
  {
   "cell_type": "markdown",
   "metadata": {
    "deletable": false,
    "editable": false,
    "nbgrader": {
     "cell_type": "markdown",
     "checksum": "a6c219cb06ebb45f0767e0496f6c884f",
     "grade": false,
     "grade_id": "cell-4edc9c17698dd130",
     "locked": true,
     "schema_version": 3,
     "solution": false
    }
   },
   "source": [
    "**Exercice**\n",
    "\n",
    "Pour chaque expression ci-dessous, déclarez une variable **du bon type** et assignez-lui le résultat, puis affichez le contenu de la variable pour le vérifier\n",
    "\n",
    "**Exemple :**"
   ]
  },
  {
   "cell_type": "code",
   "execution_count": null,
   "metadata": {
    "deletable": false,
    "editable": false,
    "nbgrader": {
     "cell_type": "code",
     "checksum": "25eafdd02a1ad64b706211bd130d4a8e",
     "grade": false,
     "grade_id": "cell-015c0695f0c9e26c",
     "locked": true,
     "schema_version": 3,
     "solution": false
    }
   },
   "outputs": [],
   "source": [
    "1 + 2"
   ]
  },
  {
   "cell_type": "code",
   "execution_count": null,
   "metadata": {
    "deletable": false,
    "editable": false,
    "nbgrader": {
     "cell_type": "code",
     "checksum": "ad7a74816b419c51dcd355ece119422d",
     "grade": false,
     "grade_id": "cell-06a91ae7c8417a4c",
     "locked": true,
     "schema_version": 3,
     "solution": false
    }
   },
   "outputs": [],
   "source": [
    "int i = 1 + 2;\n",
    "i"
   ]
  },
  {
   "cell_type": "markdown",
   "metadata": {
    "deletable": false,
    "editable": false,
    "nbgrader": {
     "cell_type": "markdown",
     "checksum": "12d9f7914e6c18f3e53e0ecb7f0ddbcd",
     "grade": false,
     "grade_id": "cell-4dbcd55e901230ff",
     "locked": true,
     "schema_version": 3,
     "solution": false
    }
   },
   "source": [
    "A vous de faire comme dans l'exemple avec les expressions ci-dessous:"
   ]
  },
  {
   "cell_type": "code",
   "execution_count": null,
   "metadata": {
    "deletable": false,
    "editable": false,
    "nbgrader": {
     "cell_type": "code",
     "checksum": "adc648f4fcd2a577cc05d0be2ec0bda5",
     "grade": false,
     "grade_id": "cell-51887552dc9d6af2",
     "locked": true,
     "schema_version": 3,
     "solution": false
    }
   },
   "outputs": [],
   "source": [
    "2.3*9 + 5"
   ]
  },
  {
   "cell_type": "code",
   "execution_count": null,
   "metadata": {
    "deletable": false,
    "nbgrader": {
     "cell_type": "code",
     "checksum": "b4d041b2052985f3637790c5520401b9",
     "grade": false,
     "grade_id": "cell-cc56a59bc6dcf4c2",
     "locked": false,
     "schema_version": 3,
     "solution": true
    }
   },
   "outputs": [],
   "source": [
    "// VOTRE CODE ICI"
   ]
  },
  {
   "cell_type": "code",
   "execution_count": null,
   "metadata": {
    "deletable": false,
    "editable": false,
    "nbgrader": {
     "cell_type": "code",
     "checksum": "d46a5e4f1dea31ff2408ae0dff3bd74e",
     "grade": false,
     "grade_id": "cell-d20289b033bf354b",
     "locked": true,
     "schema_version": 3,
     "solution": false
    }
   },
   "outputs": [],
   "source": [
    "45/2 + 8 + 6"
   ]
  },
  {
   "cell_type": "code",
   "execution_count": null,
   "metadata": {
    "deletable": false,
    "nbgrader": {
     "cell_type": "code",
     "checksum": "e6bc8d10f91991232a24cd1dd2f7ff10",
     "grade": false,
     "grade_id": "cell-7a9392df96472f0b",
     "locked": false,
     "schema_version": 3,
     "solution": true
    }
   },
   "outputs": [],
   "source": [
    "// VOTRE CODE ICI"
   ]
  },
  {
   "cell_type": "code",
   "execution_count": null,
   "metadata": {
    "deletable": false,
    "editable": false,
    "nbgrader": {
     "cell_type": "code",
     "checksum": "52823a6ea04871547296b080b77843e9",
     "grade": false,
     "grade_id": "cell-b5d8285e37ecdd1c",
     "locked": true,
     "schema_version": 3,
     "solution": false
    }
   },
   "outputs": [],
   "source": [
    "9 == 3*3"
   ]
  },
  {
   "cell_type": "code",
   "execution_count": null,
   "metadata": {
    "deletable": false,
    "nbgrader": {
     "cell_type": "code",
     "checksum": "a4cf14e599f4d71c4dca0bc1ff2c3a77",
     "grade": false,
     "grade_id": "cell-cb28c000ca6f75bd",
     "locked": false,
     "schema_version": 3,
     "solution": true
    }
   },
   "outputs": [],
   "source": [
    "// VOTRE CODE ICI"
   ]
  },
  {
   "cell_type": "code",
   "execution_count": null,
   "metadata": {
    "deletable": false,
    "editable": false,
    "nbgrader": {
     "cell_type": "code",
     "checksum": "cf9482805dca18bdaec39c3069fd2028",
     "grade": false,
     "grade_id": "cell-4269879c75c2237f",
     "locked": true,
     "schema_version": 3,
     "solution": false
    }
   },
   "outputs": [],
   "source": [
    "true and 8 > 10"
   ]
  },
  {
   "cell_type": "code",
   "execution_count": null,
   "metadata": {
    "deletable": false,
    "nbgrader": {
     "cell_type": "code",
     "checksum": "26f43165faa74ca0b85cdf69de7fc4b0",
     "grade": false,
     "grade_id": "cell-2e94206797747f78",
     "locked": false,
     "schema_version": 3,
     "solution": true
    }
   },
   "outputs": [],
   "source": [
    "// VOTRE CODE ICI"
   ]
  },
  {
   "cell_type": "markdown",
   "metadata": {
    "deletable": false,
    "editable": false,
    "nbgrader": {
     "cell_type": "markdown",
     "checksum": "55fe60faab26afe65aa7020e635fec2c",
     "grade": false,
     "grade_id": "cell-6e834cd22ecc144b",
     "locked": true,
     "schema_version": 3,
     "solution": false
    }
   },
   "source": [
    "Bravo, vous avez terminé la première feuille de l'exercice 2.\n",
    "\n",
    "Vous pouvez maintenant passer à la deuxième feuille!"
   ]
  }
 ],
 "metadata": {
  "kernelspec": {
   "display_name": "C++11",
   "language": "C++11",
   "name": "xcpp11"
  },
  "language_info": {
   "codemirror_mode": "text/x-c++src",
   "file_extension": ".cpp",
   "mimetype": "text/x-c++src",
   "name": "c++",
   "version": "-std=c++11"
  },
  "ordo_success": "Très bonne réponse"
 },
 "nbformat": 4,
 "nbformat_minor": 2
}
