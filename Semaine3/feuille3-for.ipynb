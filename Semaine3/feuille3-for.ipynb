{
 "cells": [
  {
   "cell_type": "markdown",
   "metadata": {
    "deletable": false,
    "editable": false,
    "nbgrader": {
     "cell_type": "markdown",
     "checksum": "6e5dbc477447644f93416cba679263ec",
     "grade": false,
     "grade_id": "cell-bf82401e988f816e",
     "locked": true,
     "schema_version": 3,
     "solution": false
    }
   },
   "source": [
    "Avant de terminer cette feuille, assurez-vous que tout fonctionne comme voulu. Tout d'abord, **redémarrez le noyau** (dans le menu, sélectionner `Kernel -> Restart`) puis **exécutez toutes les cellules** (dans le menu, sélectionner `Cell -> Run All`).\n",
    "\n",
    "Vérifiez que vous avez édité la cellule ci-dessous, ainsi que toutes les cellules marquées avec `VOTRE CODE ICI` ou `VOTRE RÉPONSE ICI`."
   ]
  },
  {
   "cell_type": "markdown",
   "metadata": {},
   "source": [
    "- Nom: \n",
    "- Prénom: \n",
    "- Groupe: "
   ]
  },
  {
   "cell_type": "markdown",
   "metadata": {
    "deletable": false,
    "editable": false,
    "nbgrader": {
     "cell_type": "markdown",
     "checksum": "56ba53ad470e12c484f72e0f42473b27",
     "grade": false,
     "grade_id": "cell-6b385bea40435793",
     "locked": true,
     "schema_version": 3,
     "solution": false
    }
   },
   "source": [
    "# Instructions intératives: boucles `for`"
   ]
  },
  {
   "cell_type": "markdown",
   "metadata": {
    "collapsed": true,
    "deletable": false,
    "editable": false,
    "nbgrader": {
     "cell_type": "markdown",
     "checksum": "9d70b87df572b02dc63d81b609997e5e",
     "grade": false,
     "grade_id": "cell-013e3488802326ac",
     "locked": true,
     "schema_version": 3,
     "solution": false
    }
   },
   "source": [
    "## Exercice: comptons!\n",
    "\n",
    "- Exécuter les cellules suivantes et observer l'affichage produit."
   ]
  },
  {
   "cell_type": "code",
   "execution_count": null,
   "metadata": {
    "deletable": false,
    "editable": false,
    "nbgrader": {
     "cell_type": "code",
     "checksum": "be1ba868c2cabb1408d65197c355a654",
     "grade": false,
     "grade_id": "cell-d3c2a1007784aad7",
     "locked": true,
     "schema_version": 3,
     "solution": false
    }
   },
   "outputs": [],
   "source": [
    "#include <iostream>\n",
    "using namespace std;"
   ]
  },
  {
   "cell_type": "code",
   "execution_count": null,
   "metadata": {
    "deletable": false,
    "editable": false,
    "nbgrader": {
     "cell_type": "code",
     "checksum": "572662649933b2253b0deab4f69e46e6",
     "grade": false,
     "grade_id": "cell-d1f65b41ee196d6e",
     "locked": true,
     "schema_version": 3,
     "solution": false,
     "task": false
    }
   },
   "outputs": [],
   "source": [
    "for ( int i = 0; i < 10; i++ ) {\n",
    "    cout << i << endl;\n",
    "}"
   ]
  },
  {
   "cell_type": "markdown",
   "metadata": {
    "deletable": false,
    "editable": false,
    "nbgrader": {
     "cell_type": "markdown",
     "checksum": "62184c2ff26cb0a0489bbd4e185f031e",
     "grade": false,
     "grade_id": "cell-b85bc1dcbd057af3",
     "locked": true,
     "schema_version": 3,
     "solution": false,
     "task": false
    }
   },
   "source": [
    " * Remplacer `int i = 0` par `int i = 5` ci-dessous et exécuter; qu'est-ce qui change ?"
   ]
  },
  {
   "cell_type": "code",
   "execution_count": null,
   "metadata": {
    "deletable": false,
    "nbgrader": {
     "cell_type": "code",
     "checksum": "bff9bb9ee24c1f056bf703e2ad1cd0c1",
     "grade": true,
     "grade_id": "cell-d1f65b41ee196d6h",
     "locked": false,
     "points": 1,
     "schema_version": 3,
     "solution": true,
     "task": false
    }
   },
   "outputs": [],
   "source": [
    "// VOTRE CODE ICI"
   ]
  },
  {
   "cell_type": "markdown",
   "metadata": {
    "deletable": false,
    "editable": false,
    "nbgrader": {
     "cell_type": "markdown",
     "checksum": "aeef96a99617130f85d4a4789cf8aca5",
     "grade": false,
     "grade_id": "cell-b85bc1dcbd057af4",
     "locked": true,
     "schema_version": 3,
     "solution": false,
     "task": false
    }
   },
   "source": [
    " * Remplacer `i < 10` par `i <= 10` ci-dessous et exécuter; qu'est-ce qui change ?"
   ]
  },
  {
   "cell_type": "code",
   "execution_count": null,
   "metadata": {
    "deletable": false,
    "nbgrader": {
     "cell_type": "code",
     "checksum": "fa257f80dad4c2d898c93f9b3a0ed2b2",
     "grade": true,
     "grade_id": "cell-d1f65b41ee196d6z",
     "locked": false,
     "points": 1,
     "schema_version": 3,
     "solution": true,
     "task": false
    }
   },
   "outputs": [],
   "source": [
    "// VOTRE CODE ICI"
   ]
  },
  {
   "cell_type": "markdown",
   "metadata": {
    "deletable": false,
    "editable": false,
    "nbgrader": {
     "cell_type": "markdown",
     "checksum": "108937b65443eb7b4cf707ffb595e6b8",
     "grade": false,
     "grade_id": "cell-b85bc1dcbd057af2",
     "locked": true,
     "schema_version": 3,
     "solution": false,
     "task": false
    }
   },
   "source": [
    " * Remplacer `i++` par `i = i + 2` ci-dessous et exécuter; qu'est-ce qui change ?"
   ]
  },
  {
   "cell_type": "code",
   "execution_count": null,
   "metadata": {
    "deletable": false,
    "nbgrader": {
     "cell_type": "code",
     "checksum": "3c45c5816a8c90fe8417607438148e35",
     "grade": true,
     "grade_id": "cell-d1f65b41ee196d6y",
     "locked": false,
     "points": 1,
     "schema_version": 3,
     "solution": true,
     "task": false
    }
   },
   "outputs": [],
   "source": [
    "// VOTRE CODE ICI"
   ]
  },
  {
   "cell_type": "markdown",
   "metadata": {
    "deletable": false,
    "editable": false,
    "nbgrader": {
     "cell_type": "markdown",
     "checksum": "88fb2df1cb7b1b74f4828e1fbe9fd5f0",
     "grade": false,
     "grade_id": "cell-497b9571a6608f4d",
     "locked": true,
     "schema_version": 3,
     "solution": false,
     "task": false
    }
   },
   "source": [
    "**Rappel :** l'instruction `i++` est une écriture simplifiée pour `i = i + 1`."
   ]
  },
  {
   "cell_type": "markdown",
   "metadata": {
    "deletable": false,
    "editable": false,
    "nbgrader": {
     "cell_type": "markdown",
     "checksum": "6247b4d7868b5f6b9f0eec5a91a9bec5",
     "grade": false,
     "grade_id": "cell-64e23e96bac664e7",
     "locked": true,
     "schema_version": 3,
     "solution": false,
     "task": false
    }
   },
   "source": [
    "- Copier l'instruction `for` ci-dessous dans la cellule suivante, et remplacer les trois \"?\" par les valeurs appropriées pour afficher les entiers pairs entre 0 et 20 (0,2,4,...,20):\n",
    "\n",
    "  ```\n",
    "    for (int i = ?; i <= ?; i = ? ) {\n",
    "        cout << i << endl;\n",
    "    }\n",
    "  ```"
   ]
  },
  {
   "cell_type": "code",
   "execution_count": null,
   "metadata": {
    "deletable": false,
    "nbgrader": {
     "cell_type": "code",
     "checksum": "ffcfcc7f71ab2a8f61a50a312bb1cd8c",
     "grade": false,
     "grade_id": "cell-197e8a13ab933d54",
     "locked": false,
     "schema_version": 3,
     "solution": true
    }
   },
   "outputs": [],
   "source": [
    "// VOTRE CODE ICI"
   ]
  },
  {
   "cell_type": "markdown",
   "metadata": {
    "deletable": false,
    "editable": false,
    "nbgrader": {
     "cell_type": "markdown",
     "checksum": "5101bb474eaa0172f2da71bf3be90a97",
     "grade": false,
     "grade_id": "cell-8f27451dcf8a9962",
     "locked": true,
     "schema_version": 3,
     "solution": false,
     "task": false
    }
   },
   "source": [
    "- Écrire des boucles `for` qui affichent les nombres suivants dans l'ordre donné :"
   ]
  },
  {
   "cell_type": "markdown",
   "metadata": {
    "deletable": false,
    "editable": false,
    "nbgrader": {
     "cell_type": "markdown",
     "checksum": "12749c4135f14d0a58cec8e9f2014463",
     "grade": false,
     "grade_id": "cell-dc66ba064648240a",
     "locked": true,
     "schema_version": 3,
     "solution": false,
     "task": false
    }
   },
   "source": [
    "`0, 3, 6, 9, 12` :"
   ]
  },
  {
   "cell_type": "code",
   "execution_count": null,
   "metadata": {
    "deletable": false,
    "nbgrader": {
     "cell_type": "code",
     "checksum": "ac2c9e0e6bc8e4b4b1dca6eb65b5f73e",
     "grade": true,
     "grade_id": "cell-0403b0717ee75f12",
     "locked": false,
     "points": 1,
     "schema_version": 3,
     "solution": true,
     "task": false
    }
   },
   "outputs": [],
   "source": [
    "// VOTRE CODE ICI"
   ]
  },
  {
   "cell_type": "markdown",
   "metadata": {
    "deletable": false,
    "editable": false,
    "nbgrader": {
     "cell_type": "markdown",
     "checksum": "e79ff3567b1705ba85ae2140bb51144a",
     "grade": false,
     "grade_id": "cell-d467a5322af6c861",
     "locked": true,
     "schema_version": 3,
     "solution": false,
     "task": false
    }
   },
   "source": [
    "`20, 21, 22, 23, 24, 25` :"
   ]
  },
  {
   "cell_type": "code",
   "execution_count": null,
   "metadata": {
    "deletable": false,
    "nbgrader": {
     "cell_type": "code",
     "checksum": "499fdbe838e711df3506b2df6b8c48b3",
     "grade": true,
     "grade_id": "cell-bb29f7c60e0890ef",
     "locked": false,
     "points": 1,
     "schema_version": 3,
     "solution": true,
     "task": false
    }
   },
   "outputs": [],
   "source": [
    "// VOTRE CODE ICI"
   ]
  },
  {
   "cell_type": "markdown",
   "metadata": {
    "deletable": false,
    "editable": false,
    "nbgrader": {
     "cell_type": "markdown",
     "checksum": "8b2f12c0951af7afedc32d4e8e273eae",
     "grade": false,
     "grade_id": "cell-27a6a431fe02596d",
     "locked": true,
     "schema_version": 3,
     "solution": false,
     "task": false
    }
   },
   "source": [
    "`10, 9, 8, 7, 6, 5, 4, 3, 2, 1` :"
   ]
  },
  {
   "cell_type": "code",
   "execution_count": null,
   "metadata": {
    "deletable": false,
    "nbgrader": {
     "cell_type": "code",
     "checksum": "87f4c006c6546b10829a91c73c7e93b7",
     "grade": true,
     "grade_id": "cell-01de16c794abf858",
     "locked": false,
     "points": 1,
     "schema_version": 3,
     "solution": true,
     "task": false
    }
   },
   "outputs": [],
   "source": [
    "// VOTRE CODE ICI"
   ]
  },
  {
   "cell_type": "markdown",
   "metadata": {
    "deletable": false,
    "editable": false,
    "nbgrader": {
     "cell_type": "markdown",
     "checksum": "ac247378e8cd06ffdc7cea3f16d858c7",
     "grade": false,
     "grade_id": "cell-117a4ab9b881f533",
     "locked": true,
     "schema_version": 3,
     "solution": false,
     "task": false
    }
   },
   "source": [
    "`2, 4, 8, 16, 32` :"
   ]
  },
  {
   "cell_type": "code",
   "execution_count": null,
   "metadata": {
    "deletable": false,
    "nbgrader": {
     "cell_type": "code",
     "checksum": "a2ca76d852be34538d53da5c0bd55856",
     "grade": true,
     "grade_id": "cell-82fe8beb79812aba",
     "locked": false,
     "points": 1,
     "schema_version": 3,
     "solution": true,
     "task": false
    }
   },
   "outputs": [],
   "source": [
    "// VOTRE CODE ICI"
   ]
  },
  {
   "cell_type": "markdown",
   "metadata": {
    "deletable": false,
    "editable": false,
    "nbgrader": {
     "cell_type": "markdown",
     "checksum": "1898e1be264c3f2d31312927984ef1a5",
     "grade": false,
     "grade_id": "cell-ed97db4d86ee7080",
     "locked": true,
     "schema_version": 3,
     "solution": false,
     "task": false
    }
   },
   "source": [
    "## Exercice: accumulons !"
   ]
  },
  {
   "cell_type": "markdown",
   "metadata": {
    "deletable": false,
    "editable": false,
    "nbgrader": {
     "cell_type": "markdown",
     "checksum": "204186c487acf2f317a28a3c3a77d6d3",
     "grade": false,
     "grade_id": "cell-560788172824cc61",
     "locked": true,
     "schema_version": 3,
     "solution": false,
     "task": false
    }
   },
   "source": [
    "- Observer les cellules suivantes et deviner la valeur finale de la variable `c`; puis exécuter pour vérifier."
   ]
  },
  {
   "cell_type": "code",
   "execution_count": null,
   "metadata": {
    "deletable": false,
    "editable": false,
    "nbgrader": {
     "cell_type": "code",
     "checksum": "7fbc7a1574f74a3e89cc4cfa150ee01c",
     "grade": false,
     "grade_id": "cell-6ec70e1f713f63db",
     "locked": true,
     "schema_version": 3,
     "solution": false,
     "task": false
    }
   },
   "outputs": [],
   "source": [
    "int c;"
   ]
  },
  {
   "cell_type": "code",
   "execution_count": null,
   "metadata": {
    "deletable": false,
    "editable": false,
    "nbgrader": {
     "cell_type": "code",
     "checksum": "828ff3b4a6842134c95d11706bd21805",
     "grade": false,
     "grade_id": "cell-fda4a5905295a758",
     "locked": true,
     "schema_version": 3,
     "solution": false,
     "task": false
    }
   },
   "outputs": [],
   "source": [
    "c = 0;\n",
    "for (int i = 0; i < 6; i++) {\n",
    "    c = i + c;\n",
    "}"
   ]
  },
  {
   "cell_type": "code",
   "execution_count": null,
   "metadata": {
    "deletable": false,
    "editable": false,
    "nbgrader": {
     "cell_type": "code",
     "checksum": "fe13effafcc7c010151961c567e3b488",
     "grade": false,
     "grade_id": "cell-f75c84eb6d116fc4",
     "locked": true,
     "schema_version": 3,
     "solution": false,
     "task": false
    }
   },
   "outputs": [],
   "source": [
    "c"
   ]
  },
  {
   "cell_type": "markdown",
   "metadata": {
    "deletable": false,
    "editable": false,
    "nbgrader": {
     "cell_type": "markdown",
     "checksum": "f6989f8d7f6a1d470ff47a66f4b690b9",
     "grade": false,
     "grade_id": "cell-742f622bc7056e10",
     "locked": true,
     "schema_version": 3,
     "solution": false,
     "task": false
    }
   },
   "source": [
    "- Recopier la boucle ci-dessous puis modifier la condition d'arrêt pour que la variable `c` soit égale à $36$ après l'exécution."
   ]
  },
  {
   "cell_type": "code",
   "execution_count": null,
   "metadata": {
    "deletable": false,
    "nbgrader": {
     "cell_type": "code",
     "checksum": "0ee7b441da16e6fd02f79b5e3ee3f0c0",
     "grade": true,
     "grade_id": "cell-9c0385060494fe0c",
     "locked": false,
     "points": 1,
     "schema_version": 3,
     "solution": true,
     "task": false
    }
   },
   "outputs": [],
   "source": [
    "c = 0;\n",
    "// VOTRE CODE ICI\n",
    "    c = i + c;\n",
    "}"
   ]
  },
  {
   "cell_type": "code",
   "execution_count": null,
   "metadata": {
    "deletable": false,
    "editable": false,
    "nbgrader": {
     "cell_type": "code",
     "checksum": "b9c2f4f87fca9eca5cf1636822202f13",
     "grade": false,
     "grade_id": "cell-27c0da7d14f62d91",
     "locked": true,
     "schema_version": 3,
     "solution": false,
     "task": false
    }
   },
   "outputs": [],
   "source": [
    "c   // doit valoir 36"
   ]
  },
  {
   "cell_type": "markdown",
   "metadata": {
    "deletable": false,
    "editable": false,
    "nbgrader": {
     "cell_type": "markdown",
     "checksum": "276569e175cdaa7ede3fa67ba9c5c4c7",
     "grade": false,
     "grade_id": "cell-a92593ec6373f39d",
     "locked": true,
     "schema_version": 3,
     "solution": false,
     "task": false
    }
   },
   "source": [
    "La cellule suivante contient des tests automatisés; nous reviendrons dessus plus en détails par la suite; pour le moment, vous pouvez juste exécuter la cellule et vérifier qu'il n'y a pas de message d'erreur.\n"
   ]
  },
  {
   "cell_type": "code",
   "execution_count": null,
   "metadata": {
    "deletable": false,
    "editable": false,
    "nbgrader": {
     "cell_type": "code",
     "checksum": "f9548c37a71631dfd18922b5487eea1f",
     "grade": true,
     "grade_id": "cell-bf26103d9c19d6f5",
     "locked": true,
     "points": 0,
     "schema_version": 3,
     "solution": false,
     "task": false
    }
   },
   "outputs": [],
   "source": [
    "ASSERT( c == 36 )"
   ]
  },
  {
   "cell_type": "markdown",
   "metadata": {
    "deletable": false,
    "editable": false,
    "nbgrader": {
     "cell_type": "markdown",
     "checksum": "4a1755d539775a2f8727c1cbb8ed5a2f",
     "grade": false,
     "grade_id": "cell-4e242b4c7dd64021",
     "locked": true,
     "schema_version": 3,
     "solution": false,
     "task": false
    }
   },
   "source": [
    "- Écrire ci-dessous un programme qui calcule la valeur de $n! = 1\\times 2 \\times \\cdots \\times n$ dans la variable `f`:"
   ]
  },
  {
   "cell_type": "code",
   "execution_count": null,
   "metadata": {
    "deletable": false,
    "editable": false,
    "nbgrader": {
     "cell_type": "code",
     "checksum": "237f6892b54a0ebe372af59b82b172ed",
     "grade": false,
     "grade_id": "cell-b3947d8539dfc764",
     "locked": true,
     "schema_version": 3,
     "solution": false,
     "task": false
    }
   },
   "outputs": [],
   "source": [
    "int f,n;"
   ]
  },
  {
   "cell_type": "code",
   "execution_count": null,
   "metadata": {},
   "outputs": [],
   "source": [
    "n = 5"
   ]
  },
  {
   "cell_type": "code",
   "execution_count": null,
   "metadata": {
    "deletable": false,
    "nbgrader": {
     "cell_type": "code",
     "checksum": "fb2edb66d6f0eed34580e07a1927df9e",
     "grade": false,
     "grade_id": "cell-c0739002bc408396",
     "locked": false,
     "schema_version": 3,
     "solution": true,
     "task": false
    }
   },
   "outputs": [],
   "source": [
    "// VOTRE CODE ICI"
   ]
  },
  {
   "cell_type": "code",
   "execution_count": null,
   "metadata": {
    "deletable": false,
    "editable": false,
    "nbgrader": {
     "cell_type": "code",
     "checksum": "a4c08a39cdafca60b0c93e44e39d29bb",
     "grade": false,
     "grade_id": "cell-a7fa6c68f7a8f078",
     "locked": true,
     "schema_version": 3,
     "solution": false,
     "task": false
    }
   },
   "outputs": [],
   "source": [
    "f // 120 pour n = 5"
   ]
  },
  {
   "cell_type": "code",
   "execution_count": null,
   "metadata": {
    "deletable": false,
    "editable": false,
    "nbgrader": {
     "cell_type": "code",
     "checksum": "a39a18e5c43e354910455ddbf71cd886",
     "grade": true,
     "grade_id": "cell-70156efdecd752af",
     "locked": true,
     "points": 2,
     "schema_version": 3,
     "solution": false,
     "task": false
    }
   },
   "outputs": [],
   "source": [
    "ASSERT( f == 120 )"
   ]
  },
  {
   "cell_type": "markdown",
   "metadata": {
    "deletable": false,
    "editable": false,
    "nbgrader": {
     "cell_type": "markdown",
     "checksum": "4775fef4d202b7f409baedc6a872710b",
     "grade": false,
     "grade_id": "cell-262927f9eba5a9ae",
     "locked": true,
     "schema_version": 3,
     "solution": false,
     "task": false
    }
   },
   "source": [
    "- Reprendre votre programme pour le mettre sous la forme d'une *fonction* qui calcule $n!$:"
   ]
  },
  {
   "cell_type": "code",
   "execution_count": null,
   "metadata": {
    "deletable": false,
    "nbgrader": {
     "cell_type": "code",
     "checksum": "d3b96f90f7c7ff5b31a41eb208495fea",
     "grade": false,
     "grade_id": "cell-59d27e7e46c6be00",
     "locked": false,
     "schema_version": 3,
     "solution": true
    }
   },
   "outputs": [],
   "source": [
    "int factorielle(int n) {\n",
    "    // VOTRE CODE ICI\n",
    "    return f;\n",
    "}"
   ]
  },
  {
   "cell_type": "code",
   "execution_count": null,
   "metadata": {},
   "outputs": [],
   "source": [
    "factorielle(5) // 120"
   ]
  },
  {
   "cell_type": "markdown",
   "metadata": {
    "deletable": false,
    "editable": false,
    "nbgrader": {
     "cell_type": "markdown",
     "checksum": "8c3777bdb01476ceb8ed3ef7a1e6bbf7",
     "grade": false,
     "grade_id": "cell-57835c5482344135",
     "locked": true,
     "schema_version": 3,
     "solution": false,
     "task": false
    }
   },
   "source": [
    "Vérifiez votre fonction grâce aux tests suivants (ils doivent tous afficher `true`) :"
   ]
  },
  {
   "cell_type": "code",
   "execution_count": null,
   "metadata": {
    "deletable": false,
    "editable": false,
    "nbgrader": {
     "cell_type": "code",
     "checksum": "73cb9df6f9be087c9cb68d068d7e2472",
     "grade": false,
     "grade_id": "cell-e8bde338e8e91293",
     "locked": true,
     "schema_version": 3,
     "solution": false,
     "task": false
    }
   },
   "outputs": [],
   "source": [
    "factorielle(5) == 120"
   ]
  },
  {
   "cell_type": "code",
   "execution_count": null,
   "metadata": {
    "deletable": false,
    "editable": false,
    "nbgrader": {
     "cell_type": "code",
     "checksum": "428ca5eb393e8b981498cd1dee91e3c0",
     "grade": false,
     "grade_id": "cell-0f480f455c001cb4",
     "locked": true,
     "schema_version": 3,
     "solution": false,
     "task": false
    }
   },
   "outputs": [],
   "source": [
    "factorielle(6) == 720"
   ]
  },
  {
   "cell_type": "code",
   "execution_count": null,
   "metadata": {
    "deletable": false,
    "editable": false,
    "nbgrader": {
     "cell_type": "code",
     "checksum": "fad43258d645e4c30365b17a0325e8c2",
     "grade": false,
     "grade_id": "cell-c0e7b253d4de674e",
     "locked": true,
     "schema_version": 3,
     "solution": false,
     "task": false
    }
   },
   "outputs": [],
   "source": [
    "factorielle(10) == 3628800"
   ]
  },
  {
   "cell_type": "code",
   "execution_count": null,
   "metadata": {
    "deletable": false,
    "editable": false,
    "nbgrader": {
     "cell_type": "code",
     "checksum": "85affde691cbc8e7b5c4ef7ef7e3ff15",
     "grade": false,
     "grade_id": "cell-1ee3df1dc7a458a7",
     "locked": true,
     "schema_version": 3,
     "solution": false,
     "task": false
    }
   },
   "outputs": [],
   "source": [
    "factorielle(1) == 1"
   ]
  },
  {
   "cell_type": "code",
   "execution_count": null,
   "metadata": {
    "deletable": false,
    "editable": false,
    "nbgrader": {
     "cell_type": "code",
     "checksum": "55b8cb46f885312bfcba1d860c798184",
     "grade": false,
     "grade_id": "cell-142a1c4939f30f88",
     "locked": true,
     "schema_version": 3,
     "solution": false,
     "task": false
    }
   },
   "outputs": [],
   "source": [
    "factorielle(0) == 1 // convention mathématique"
   ]
  },
  {
   "cell_type": "markdown",
   "metadata": {},
   "source": [
    "La cellule suivante contient des tests automatisés; nous reviendrons dessus plus en détails par la suite; pour le moment, vous pouvez juste exécuter la cellule et vérifier qu'il n'y a pas de message d'erreur."
   ]
  },
  {
   "cell_type": "code",
   "execution_count": null,
   "metadata": {
    "deletable": false,
    "editable": false,
    "nbgrader": {
     "cell_type": "code",
     "checksum": "25eec2c495b8b951ddc0bc0f3fa1edd8",
     "grade": true,
     "grade_id": "cell-a5be78a5a5a25142",
     "locked": true,
     "points": 2,
     "schema_version": 3,
     "solution": false,
     "task": false
    }
   },
   "outputs": [],
   "source": [
    "ASSERT( factorielle(0) ==   1 );\n",
    "ASSERT( factorielle(1) ==   1 );\n",
    "ASSERT( factorielle(2) ==   2 );\n",
    "ASSERT( factorielle(3) ==   6 );\n",
    "ASSERT( factorielle(4) ==  24 );\n",
    "ASSERT( factorielle(5) == 120 );"
   ]
  },
  {
   "cell_type": "markdown",
   "metadata": {
    "deletable": false,
    "editable": false,
    "nbgrader": {
     "cell_type": "markdown",
     "checksum": "4fdf2b0acc36925f3aa694ed91580c06",
     "grade": false,
     "grade_id": "cell-1fe179818c6002ac",
     "locked": true,
     "schema_version": 3,
     "solution": false,
     "task": false
    }
   },
   "source": [
    "## $\\clubsuit$ Utilisation de boucles dans Laby"
   ]
  },
  {
   "cell_type": "markdown",
   "metadata": {
    "deletable": false,
    "editable": false,
    "nbgrader": {
     "cell_type": "markdown",
     "checksum": "1974dfdfdd09ce80ea2f898e648032ad",
     "grade": false,
     "grade_id": "cell-ab340bdd7cc479b6",
     "locked": true,
     "schema_version": 3,
     "solution": false,
     "task": false
    }
   },
   "source": [
    "1. $\\clubsuit$ Déplacer la fourmi aléatoirement jusqu'à ce qu'elle trouve la porte. Pour cela, vous pouvez stocker un nombre aléatoire dans une variable avec la fonction `rand()`. Vérifier si le nombre aléatoire est pair ou impair pour avoir une chance sur deux d'aller à droite ou à gauche."
   ]
  },
  {
   "cell_type": "code",
   "execution_count": null,
   "metadata": {
    "deletable": false,
    "editable": false,
    "nbgrader": {
     "cell_type": "code",
     "checksum": "fba48e86ff8fa15be79718cd46381614",
     "grade": false,
     "grade_id": "cell-951ce92e5df5b935",
     "locked": true,
     "schema_version": 3,
     "solution": false,
     "task": false
    }
   },
   "outputs": [],
   "source": [
    "#include <laby/global_fr.hpp>\n",
    "#include <cstdlib>"
   ]
  },
  {
   "cell_type": "code",
   "execution_count": null,
   "metadata": {
    "deletable": false,
    "editable": false,
    "nbgrader": {
     "cell_type": "code",
     "checksum": "746030541bb1cabbc883c3b4b088ac43",
     "grade": false,
     "grade_id": "cell-5549ab74f3cd7726",
     "locked": true,
     "schema_version": 3,
     "solution": false,
     "task": false
    }
   },
   "outputs": [],
   "source": [
    "LABY_BAR(u8\"o o o o o o o\\n\"\n",
    "         u8\"o → . . . . o\\n\"\n",
    "         u8\"o . . . . . o\\n\"\n",
    "         u8\"o . . . . . o\\n\"\n",
    "         u8\"o . . . x . o\\n\"\n",
    "         u8\"o . . . . . o\\n\"\n",
    "         u8\"o o o o o o o\\n\")"
   ]
  },
  {
   "cell_type": "code",
   "execution_count": null,
   "metadata": {
    "deletable": false,
    "editable": false,
    "nbgrader": {
     "cell_type": "code",
     "checksum": "3418de9f9a1bce93e207e7f128742ff9",
     "grade": false,
     "grade_id": "cell-0c05095d160a0fa9",
     "locked": true,
     "schema_version": 3,
     "solution": false,
     "task": false
    }
   },
   "outputs": [],
   "source": [
    "int nb_aleatoire;"
   ]
  },
  {
   "cell_type": "code",
   "execution_count": null,
   "metadata": {
    "deletable": false,
    "nbgrader": {
     "cell_type": "code",
     "checksum": "ba9bf9a0e9258604ce5f5f24483d96ca",
     "grade": false,
     "grade_id": "cell-a115889482748a42",
     "locked": false,
     "schema_version": 3,
     "solution": true,
     "task": false
    }
   },
   "outputs": [],
   "source": [
    "debut();\n",
    "// VOTRE CODE ICI"
   ]
  },
  {
   "cell_type": "code",
   "execution_count": null,
   "metadata": {
    "deletable": false,
    "editable": false,
    "nbgrader": {
     "cell_type": "code",
     "checksum": "9d60c93171f799b1df643cecb2befc9d",
     "grade": true,
     "grade_id": "cell-1cab8e6b4d47b86f",
     "locked": true,
     "points": 1,
     "schema_version": 3,
     "solution": false,
     "task": false
    }
   },
   "outputs": [],
   "source": [
    "ASSERT ( a_gagne() );"
   ]
  },
  {
   "cell_type": "markdown",
   "metadata": {
    "deletable": false,
    "editable": false,
    "nbgrader": {
     "cell_type": "markdown",
     "checksum": "db8b9a2ca105d9fb3be52ab377f75194",
     "grade": false,
     "grade_id": "cell-fd0933aaa600036b",
     "locked": true,
     "schema_version": 3,
     "solution": false,
     "task": false
    }
   },
   "source": [
    "2. $\\clubsuit$ Écrivez une fonction `carre(int L)` qui prends en paramètre un entier L, et qui fait faire à la fourmi une trajectoire carrée de côté L cases. La fourmi doit revenir à la case de départ à la fin de la fonction."
   ]
  },
  {
   "cell_type": "code",
   "execution_count": null,
   "metadata": {
    "deletable": false,
    "editable": false,
    "nbgrader": {
     "cell_type": "code",
     "checksum": "2db9fdc306b7fd954c59e1b871598990",
     "grade": false,
     "grade_id": "cell-b0d580c556865d95",
     "locked": true,
     "schema_version": 3,
     "solution": false,
     "task": false
    }
   },
   "outputs": [],
   "source": [
    "LABY_BAR(\n",
    "u8\"o o o o o o o o o o o o\\n\"\n",
    "u8\"o . . . . . . . . . . o\\n\"\n",
    "u8\"o . . . . . . . . . . o\\n\"\n",
    "u8\"o . . . . . . . . . . o\\n\"\n",
    "u8\"o . . . . . . . . . . o\\n\"\n",
    "u8\"o . . . . . . . . . . o\\n\"\n",
    "u8\"o . . . . . . . . . . o\\n\"\n",
    "u8\"o . . . . . . . . . . o\\n\"\n",
    "u8\"o . . . . . . . . . . o\\n\"\n",
    "u8\"o . . . . . . . . . . o\\n\"\n",
    "u8\"o ↑ . . . . . . . . . o\\n\"\n",
    "u8\"o o o o o o o o o o o o\\n\"\n",
    ")"
   ]
  },
  {
   "cell_type": "code",
   "execution_count": null,
   "metadata": {
    "deletable": false,
    "nbgrader": {
     "cell_type": "code",
     "checksum": "3227282d162d920e726429192b3854df",
     "grade": true,
     "grade_id": "cell-bf212efeb0472746",
     "locked": false,
     "points": 0,
     "schema_version": 3,
     "solution": true,
     "task": false
    }
   },
   "outputs": [],
   "source": [
    "// Entrée : un entier L, correspondant à la longeur d'un côté de la trajectoire.\n",
    "// Sortie : aucune, déplace la fourmi selon un carré de longueur L\n",
    "// VOTRE CODE ICI"
   ]
  },
  {
   "cell_type": "code",
   "execution_count": null,
   "metadata": {
    "deletable": false,
    "editable": false,
    "nbgrader": {
     "cell_type": "code",
     "checksum": "790c74491a9f86127655787f4a78934b",
     "grade": false,
     "grade_id": "cell-b7280173f444a974",
     "locked": true,
     "schema_version": 3,
     "solution": false,
     "task": false
    }
   },
   "outputs": [],
   "source": [
    "carre(0) // La fourmi ne fait rien"
   ]
  },
  {
   "cell_type": "code",
   "execution_count": null,
   "metadata": {
    "deletable": false,
    "editable": false,
    "nbgrader": {
     "cell_type": "code",
     "checksum": "0bbeaf630faf439145525022b5d4520c",
     "grade": false,
     "grade_id": "cell-61f6cbe5090c44f7",
     "locked": true,
     "schema_version": 3,
     "solution": false,
     "task": false
    }
   },
   "outputs": [],
   "source": [
    "carre(1) // La fourmi doit faire un tour sur elle-même"
   ]
  },
  {
   "cell_type": "code",
   "execution_count": null,
   "metadata": {
    "deletable": false,
    "editable": false,
    "nbgrader": {
     "cell_type": "code",
     "checksum": "956fc6d14423e1e6c6df21014b12c6ff",
     "grade": false,
     "grade_id": "cell-cd855fcd1a51f005",
     "locked": true,
     "schema_version": 3,
     "solution": false,
     "task": false
    }
   },
   "outputs": [],
   "source": [
    "carre(5) // Parcourt un carré de longueur 5 cases"
   ]
  },
  {
   "cell_type": "markdown",
   "metadata": {
    "deletable": false,
    "editable": false,
    "nbgrader": {
     "cell_type": "markdown",
     "checksum": "02eb336e1a85b1d28174acb2cd542776",
     "grade": false,
     "grade_id": "cell-49a7205ebd424a67",
     "locked": true,
     "schema_version": 3,
     "solution": false,
     "task": false
    }
   },
   "source": [
    "## Fin de cette feuille\n",
    "\n",
    "Dans cette feuille, vous avez mis en pratique la boucle `for` pour *compter* et *accumuler*. Vous avez maintenant les outils pour passer à la suite de la [fiche de TP](TP.pdf)."
   ]
  }
 ],
 "metadata": {
  "kernelspec": {
   "display_name": "C++17",
   "language": "C++17",
   "name": "xcpp17"
  },
  "language_info": {
   "codemirror_mode": "text/x-c++src",
   "file_extension": ".cpp",
   "mimetype": "text/x-c++src",
   "name": "c++",
   "version": "-std=c++17"
  }
 },
 "nbformat": 4,
 "nbformat_minor": 2
}
