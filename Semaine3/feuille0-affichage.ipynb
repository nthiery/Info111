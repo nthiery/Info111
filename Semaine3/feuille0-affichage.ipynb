{
 "cells": [
  {
   "cell_type": "markdown",
   "metadata": {
    "deletable": false,
    "editable": false,
    "nbgrader": {
     "cell_type": "markdown",
     "checksum": "6e5dbc477447644f93416cba679263ec",
     "grade": false,
     "grade_id": "cell-bf82401e988f816e",
     "locked": true,
     "schema_version": 3,
     "solution": false
    }
   },
   "source": [
    "Avant de terminer cette feuille, assurez-vous que tout fonctionne comme voulu. Tout d'abord, **redémarrez le noyau** (dans le menu, sélectionner `Kernel -> Restart`) puis **exécutez toutes les cellules** (dans le menu, sélectionner `Cell -> Run All`).\n",
    "\n",
    "Vérifiez que vous avez édité la cellule ci-dessous, ainsi que toutes les cellules marquées avec `VOTRE CODE ICI` ou `VOTRE RÉPONSE ICI`."
   ]
  },
  {
   "cell_type": "markdown",
   "metadata": {},
   "source": [
    "- Nom: \n",
    "- Prénom: \n",
    "- Groupe: "
   ]
  },
  {
   "cell_type": "markdown",
   "metadata": {
    "deletable": false,
    "editable": false,
    "nbgrader": {
     "cell_type": "markdown",
     "checksum": "5109584ea226d15ce21ac1b38271de0a",
     "grade": false,
     "grade_id": "cell-5c4b0b2f0931e30a",
     "locked": true,
     "schema_version": 3,
     "solution": false,
     "task": false
    }
   },
   "source": [
    "# Prélude: affichages\n",
    "\n",
    "Comme dans le dernier amphi, nous aurons besoin dans ce TP d'afficher des informations pour tracer pas à pas l'exécution d'un programme. Nous vous donnons ici le minimum nécessaire pour cela. Nous reviendrons dessus plus en détail ultérieurement.\n",
    "\n",
    "L'affichage à l'écran est une des façons de communiquer entre le programme et l'utilisateur. On a vu la semaine dernière que, lorsque l'on exécute une cellule dans Jupyter, la valeur de la *dernière expression* d'une cellule est affichée, avec son type, et précédée de `Out[...]`:"
   ]
  },
  {
   "cell_type": "code",
   "execution_count": null,
   "metadata": {},
   "outputs": [],
   "source": [
    "1+2;\n",
    "3+4;\n",
    "5+6"
   ]
  },
  {
   "cell_type": "markdown",
   "metadata": {
    "deletable": false,
    "editable": false,
    "nbgrader": {
     "cell_type": "markdown",
     "checksum": "0c4f2764034a3030b6f8d2c8b18d6be8",
     "grade": false,
     "grade_id": "cell-367e4b99458161a3",
     "locked": true,
     "schema_version": 3,
     "solution": false,
     "task": false
    }
   },
   "source": [
    "Les autres calculs ont bien été effectués par la machine, mais sans montrer les valeurs obtenues."
   ]
  },
  {
   "cell_type": "markdown",
   "metadata": {
    "deletable": false,
    "editable": false,
    "nbgrader": {
     "cell_type": "markdown",
     "checksum": "df1bc2629f40adbee535e52817118e16",
     "grade": false,
     "grade_id": "cell-367e4b99458161a4",
     "locked": true,
     "schema_version": 3,
     "solution": false,
     "task": false
    }
   },
   "source": [
    "Nous allons maintenant voir comment afficher des informations.\n",
    "Tout d'abord, nous avons besoin d'exécuter la ligne suivante qui charge la bibliothèque `C++` d'*entrées / sorties* (nous reviendrons sur cette notion en cours)."
   ]
  },
  {
   "cell_type": "code",
   "execution_count": null,
   "metadata": {
    "deletable": false,
    "editable": false,
    "nbgrader": {
     "cell_type": "code",
     "checksum": "055187c3467d7a5f823ee14d3ec0b7be",
     "grade": false,
     "grade_id": "cell-7625170582ccbac3",
     "locked": true,
     "schema_version": 3,
     "solution": false,
     "task": false
    }
   },
   "outputs": [],
   "source": [
    "#include <iostream>\n",
    "using namespace std;"
   ]
  },
  {
   "cell_type": "markdown",
   "metadata": {
    "deletable": false,
    "editable": false,
    "nbgrader": {
     "cell_type": "markdown",
     "checksum": "11d3dc617436f2340215e4438ab9e449",
     "grade": false,
     "grade_id": "cell-c94dd426cd30fc59",
     "locked": true,
     "schema_version": 3,
     "solution": false,
     "task": false
    }
   },
   "source": [
    "La ligne suivante affiche le résultat du calcul, suivi d'un retour à la ligne:"
   ]
  },
  {
   "cell_type": "code",
   "execution_count": null,
   "metadata": {
    "deletable": false,
    "editable": false,
    "nbgrader": {
     "cell_type": "code",
     "checksum": "4b0fa1652ae6607442bf881e67e3018e",
     "grade": false,
     "grade_id": "cell-026cd32f310cdcf6",
     "locked": true,
     "schema_version": 3,
     "solution": false,
     "task": false
    }
   },
   "outputs": [],
   "source": [
    "cout << 1+2 << endl;"
   ]
  },
  {
   "cell_type": "markdown",
   "metadata": {
    "deletable": false,
    "editable": false,
    "nbgrader": {
     "cell_type": "markdown",
     "checksum": "7bd73f8b71b96c7f29d96b42387ba632",
     "grade": false,
     "grade_id": "cell-8213e311891544b5",
     "locked": true,
     "schema_version": 3,
     "solution": false,
     "task": false
    }
   },
   "source": [
    "Remarquez que, cette fois, ni le *type* ni `Out[...]` n'apparaissent."
   ]
  },
  {
   "cell_type": "markdown",
   "metadata": {
    "deletable": false,
    "editable": false,
    "nbgrader": {
     "cell_type": "markdown",
     "checksum": "adb24c37f62b9ae155f0aa821bffc82d",
     "grade": false,
     "grade_id": "cell-8213e311891544b6",
     "locked": true,
     "schema_version": 3,
     "solution": false,
     "task": false
    }
   },
   "source": [
    "On peut afficher plusieurs valeurs à la suite."
   ]
  },
  {
   "cell_type": "code",
   "execution_count": null,
   "metadata": {
    "deletable": false,
    "editable": false,
    "nbgrader": {
     "cell_type": "code",
     "checksum": "d55fab22ee6473ae152b90e4f5d86480",
     "grade": false,
     "grade_id": "cell-3c6a9159f8402f5e",
     "locked": true,
     "schema_version": 3,
     "solution": false,
     "task": false
    }
   },
   "outputs": [],
   "source": [
    "cout << 1+2 << endl;\n",
    "cout << 3+4 << endl;\n",
    "cout << 5+6 << endl;"
   ]
  },
  {
   "cell_type": "markdown",
   "metadata": {
    "deletable": false,
    "editable": false,
    "nbgrader": {
     "cell_type": "markdown",
     "checksum": "40e496acb7e9efc4e5d7b5f991f97e7b",
     "grade": false,
     "grade_id": "cell-b86b795dcc6ef7ba",
     "locked": true,
     "schema_version": 3,
     "solution": false,
     "task": false
    }
   },
   "source": [
    "On peut aussi afficher du texte (chaînes de caractères) en utilisant les guillemets:"
   ]
  },
  {
   "cell_type": "code",
   "execution_count": null,
   "metadata": {
    "deletable": false,
    "editable": false,
    "nbgrader": {
     "cell_type": "code",
     "checksum": "2aa11d0f9907b8c3cc60fc9586afa19c",
     "grade": false,
     "grade_id": "cell-6758df96fcdc4ca4",
     "locked": true,
     "schema_version": 3,
     "solution": false,
     "task": false
    }
   },
   "outputs": [],
   "source": [
    "cout << \"Bonjour, comment allez-vous ?\" << endl;"
   ]
  },
  {
   "cell_type": "markdown",
   "metadata": {
    "deletable": false,
    "editable": false,
    "nbgrader": {
     "cell_type": "markdown",
     "checksum": "4a156718330966498a0ceb03fb8ed721",
     "grade": false,
     "grade_id": "cell-992882d71d4cf502",
     "locked": true,
     "schema_version": 3,
     "solution": false,
     "task": false
    }
   },
   "source": [
    "$\\clubsuit$ On peut mélanger texte et valeurs comme ci-dessous:"
   ]
  },
  {
   "cell_type": "code",
   "execution_count": null,
   "metadata": {
    "deletable": false,
    "editable": false,
    "nbgrader": {
     "cell_type": "code",
     "checksum": "80013d2679d7b0311783fc6b6e5f2891",
     "grade": false,
     "grade_id": "cell-68e9d8e21f072ecf",
     "locked": true,
     "schema_version": 3,
     "solution": false,
     "task": false
    }
   },
   "outputs": [],
   "source": [
    "int age;"
   ]
  },
  {
   "cell_type": "code",
   "execution_count": null,
   "metadata": {
    "deletable": false,
    "editable": false,
    "nbgrader": {
     "cell_type": "code",
     "checksum": "deec6aca39365c83a4be40c965836cbf",
     "grade": false,
     "grade_id": "cell-5642d7e1a8103e36",
     "locked": true,
     "schema_version": 3,
     "solution": false,
     "task": false
    }
   },
   "outputs": [],
   "source": [
    "age = 32;\n",
    "cout << \"J'ai \" << age << \" ans.\" << endl;"
   ]
  },
  {
   "cell_type": "markdown",
   "metadata": {
    "deletable": false,
    "editable": false,
    "nbgrader": {
     "cell_type": "markdown",
     "checksum": "446f1815bdbce4e3808b476b314e6053",
     "grade": false,
     "grade_id": "cell-63ee395ef8395a98",
     "locked": true,
     "schema_version": 3,
     "solution": false,
     "task": false
    }
   },
   "source": [
    "**Exercice $\\clubsuit$**\n",
    "1. Adaptez l'exemple précédent pour afficher votre age:"
   ]
  },
  {
   "cell_type": "code",
   "execution_count": null,
   "metadata": {
    "deletable": false,
    "nbgrader": {
     "cell_type": "code",
     "checksum": "d2f514ad6f10a3f4780d8817ac9119e7",
     "grade": true,
     "grade_id": "cell-9314857feab44e21",
     "locked": false,
     "points": 1,
     "schema_version": 3,
     "solution": true,
     "task": false
    }
   },
   "outputs": [],
   "source": [
    "// VOTRE CODE ICI"
   ]
  },
  {
   "cell_type": "markdown",
   "metadata": {
    "deletable": false,
    "editable": false,
    "nbgrader": {
     "cell_type": "markdown",
     "checksum": "dba85bc0ec21e0fab16532b14645fb92",
     "grade": false,
     "grade_id": "cell-63ee395ef8395a99",
     "locked": true,
     "schema_version": 3,
     "solution": false,
     "task": false
    }
   },
   "source": [
    "2. **Utilisez la variable `annee` ci-dessous pour afficher \"Je suis né(e) en ****\" où les **** sont votre année de naissance:"
   ]
  },
  {
   "cell_type": "code",
   "execution_count": null,
   "metadata": {
    "deletable": false,
    "editable": false,
    "nbgrader": {
     "cell_type": "code",
     "checksum": "8f8fbc109383a5de2f7196a151bb95db",
     "grade": false,
     "grade_id": "cell-a83264f8ccc04d6b",
     "locked": true,
     "schema_version": 3,
     "solution": false,
     "task": false
    }
   },
   "outputs": [],
   "source": [
    "int annee;"
   ]
  },
  {
   "cell_type": "code",
   "execution_count": null,
   "metadata": {
    "deletable": false,
    "nbgrader": {
     "cell_type": "code",
     "checksum": "449317a87c62c900d0b1a72cf78bf80a",
     "grade": true,
     "grade_id": "cell-c5e44d0cc9300b2c",
     "locked": false,
     "points": 0,
     "schema_version": 3,
     "solution": true,
     "task": false
    }
   },
   "outputs": [],
   "source": [
    "// VOTRE CODE ICI"
   ]
  }
 ],
 "metadata": {
  "kernelspec": {
   "display_name": "C++17",
   "language": "C++17",
   "name": "xcpp17"
  },
  "language_info": {
   "codemirror_mode": "text/x-c++src",
   "file_extension": ".cpp",
   "mimetype": "text/x-c++src",
   "name": "c++",
   "version": "-std=c++17"
  }
 },
 "nbformat": 4,
 "nbformat_minor": 2
}
