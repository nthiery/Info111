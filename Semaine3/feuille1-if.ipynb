{
 "cells": [
  {
   "cell_type": "markdown",
   "metadata": {
    "deletable": false,
    "editable": false,
    "nbgrader": {
     "checksum": "6e5dbc477447644f93416cba679263ec",
     "grade": false,
     "grade_id": "cell-bf82401e988f816e",
     "locked": true,
     "schema_version": 1,
     "solution": false
    }
   },
   "source": [
    "Avant de terminer cette feuille, assurez-vous que tout fonctionne comme voulu. Tout d'abord, **redémarrez le noyau** (dans le menu, sélectionner `Kernel -> Restart`) puis **exécutez toutes les cellules** (dans le menu, sélectionner `Cell -> Run All`).\n",
    "\n",
    "Vérifiez que vous avez édité la cellule ci-dessous, ainsi que toutes les cellules marquées avec `VOTRE CODE ICI` ou `VOTRE RÉPONSE ICI`."
   ]
  },
  {
   "cell_type": "markdown",
   "metadata": {},
   "source": [
    "- Nom: \n",
    "- Prénom: \n",
    "- Groupe: "
   ]
  },
  {
   "cell_type": "markdown",
   "metadata": {},
   "source": [
    "# Instructions conditionnelles: `if ... else if ... else`\n",
    "Lors des séances précédentes, vous avez manipulé des conditionnelles simples. Vous allez maintenant les enchaîner."
   ]
  },
  {
   "cell_type": "markdown",
   "metadata": {},
   "source": [
    "**Exercice:**\n",
    "\n",
    "- Observer le programme suivant, que fait-il?\n",
    "- Le tester avec plusieurs valeurs de `note`."
   ]
  },
  {
   "cell_type": "code",
   "execution_count": null,
   "metadata": {},
   "outputs": [],
   "source": [
    "int note;\n",
    "std::string resultat;"
   ]
  },
  {
   "cell_type": "code",
   "execution_count": null,
   "metadata": {
    "deletable": false,
    "nbgrader": {
     "checksum": "b0f307da169ec8888afe6b07c5ed5b4a",
     "grade": false,
     "grade_id": "cell-54742e5fe0249161",
     "locked": false,
     "schema_version": 1,
     "solution": true
    }
   },
   "outputs": [],
   "source": [
    "note = 14;\n",
    "if (note < 0  or note > 20) {\n",
    "    resultat = \"La note n'est pas correcte.\";\n",
    "} else if (note < 10) {\n",
    "    resultat = \"Vous avez raté l'examen!\";\n",
    "} else {\n",
    "    resultat = \"Vous avez réussi l'examen!\";\n",
    "}\n",
    "\n",
    "// VOTRE CODE ICI\n",
    "resultat"
   ]
  },
  {
   "cell_type": "markdown",
   "metadata": {},
   "source": [
    "- Modifier le programme précédent pour qu'il affiche la mention (de 12 à 14, mention *assez bien*, de 14 à 16 mention *bien* et au dessus de 16, mention *très bien*)."
   ]
  },
  {
   "cell_type": "markdown",
   "metadata": {},
   "source": [
    "## Bilan\n",
    "\n",
    "Bravo, vous maîtrisez maintenant les conditionnelles avec plusieurs clauses. Vous allez maintenant vous entraîner aux instructions itératives avec la [feuille sur les boucles `while`](feuille2-while.ipynb)."
   ]
  }
 ],
 "metadata": {
  "kernelspec": {
   "display_name": "C++11",
   "language": "C++11",
   "name": "xcpp11"
  },
  "language_info": {
   "codemirror_mode": "text/x-c++src",
   "file_extension": ".cpp",
   "mimetype": "text/x-c++src",
   "name": "c++",
   "version": "-std=c++11"
  }
 },
 "nbformat": 4,
 "nbformat_minor": 2
}
