{
 "cells": [
  {
   "cell_type": "markdown",
   "metadata": {
    "deletable": false,
    "editable": false,
    "nbgrader": {
     "cell_type": "markdown",
     "checksum": "6e5dbc477447644f93416cba679263ec",
     "grade": false,
     "grade_id": "cell-bf82401e988f816e",
     "locked": true,
     "schema_version": 3,
     "solution": false
    }
   },
   "source": [
    "Avant de terminer cette feuille, assurez-vous que tout fonctionne comme voulu. Tout d'abord, **redémarrez le noyau** (dans le menu, sélectionner `Kernel -> Restart`) puis **exécutez toutes les cellules** (dans le menu, sélectionner `Cell -> Run All`).\n",
    "\n",
    "Vérifiez que vous avez édité la cellule ci-dessous, ainsi que toutes les cellules marquées avec `VOTRE CODE ICI` ou `VOTRE RÉPONSE ICI`."
   ]
  },
  {
   "cell_type": "markdown",
   "metadata": {},
   "source": [
    "- Nom: \n",
    "- Prénom: \n",
    "- Groupe: "
   ]
  },
  {
   "cell_type": "markdown",
   "metadata": {
    "deletable": false,
    "editable": false,
    "nbgrader": {
     "cell_type": "markdown",
     "checksum": "54211508abdf90e01aff3e91f4d548d6",
     "grade": false,
     "grade_id": "cell-53166fdd3d08082a",
     "locked": true,
     "schema_version": 3,
     "solution": false,
     "task": false
    }
   },
   "source": [
    "# Instructions conditionnelles: `if ... else if ... else`\n",
    "Lors des séances précédentes, vous avez manipulé des conditionnelles simples. Vous allez maintenant les enchaîner."
   ]
  },
  {
   "cell_type": "markdown",
   "metadata": {
    "deletable": false,
    "editable": false,
    "nbgrader": {
     "cell_type": "markdown",
     "checksum": "be5f2fc6245d7d9a685d85cfc80b88fa",
     "grade": false,
     "grade_id": "cell-eb41e6cbf60996cc",
     "locked": true,
     "schema_version": 3,
     "solution": false,
     "task": false
    }
   },
   "source": [
    "**Exercice:**\n",
    "\n",
    "- Observer le programme suivant, que fait-il?\n",
    "- Le tester avec plusieurs valeurs de `note`."
   ]
  },
  {
   "cell_type": "code",
   "execution_count": null,
   "metadata": {
    "deletable": false,
    "editable": false,
    "nbgrader": {
     "cell_type": "code",
     "checksum": "5059b097294985842591c91656de6b5f",
     "grade": false,
     "grade_id": "cell-d23302d998d62a57",
     "locked": true,
     "schema_version": 3,
     "solution": false,
     "task": false
    }
   },
   "outputs": [],
   "source": [
    "int note;\n",
    "std::string resultat;"
   ]
  },
  {
   "cell_type": "code",
   "execution_count": null,
   "metadata": {
    "deletable": false,
    "nbgrader": {
     "cell_type": "code",
     "checksum": "451c6ab7d46dbca45c673486ba38f58a",
     "grade": true,
     "grade_id": "cell-54742e5fe0249161",
     "locked": false,
     "points": 0,
     "schema_version": 3,
     "solution": true,
     "task": false
    }
   },
   "outputs": [],
   "source": [
    "note = 14;\n",
    "if (note < 0  or note > 20) {\n",
    "    resultat = \"La note n'est pas correcte.\";\n",
    "} else if (note < 10) {\n",
    "    resultat = \"Vous avez raté l'examen!\";\n",
    "} else {\n",
    "    resultat = \"Vous avez réussi l'examen!\";\n",
    "}\n",
    "\n",
    "// VOTRE CODE ICI\n",
    "resultat"
   ]
  },
  {
   "cell_type": "markdown",
   "metadata": {
    "deletable": false,
    "editable": false,
    "nbgrader": {
     "cell_type": "markdown",
     "checksum": "a08bb7ecaa9e6bc2737928486b4061e2",
     "grade": false,
     "grade_id": "cell-82cd1e741648a440",
     "locked": true,
     "schema_version": 3,
     "solution": false,
     "task": false
    }
   },
   "source": [
    "- Modifier le programme précédent pour qu'il affiche la mention (de 12 à 14, mention *assez bien*, de 14 à 16 mention *bien* et au dessus de 16, mention *très bien*)."
   ]
  },
  {
   "cell_type": "markdown",
   "metadata": {
    "deletable": false,
    "editable": false,
    "nbgrader": {
     "cell_type": "markdown",
     "checksum": "2104884199f18637664500d98327f387",
     "grade": false,
     "grade_id": "cell-4619918197722582",
     "locked": true,
     "schema_version": 3,
     "solution": false,
     "task": false
    }
   },
   "source": [
    "## Bilan\n",
    "\n",
    "Bravo, vous maîtrisez maintenant les conditionnelles avec plusieurs clauses. Vous allez maintenant vous entraîner aux instructions itératives avec la [feuille sur les boucles `while`](feuille2-while.ipynb)."
   ]
  }
 ],
 "metadata": {
  "kernelspec": {
   "display_name": "C++17",
   "language": "C++17",
   "name": "xcpp17"
  },
  "language_info": {
   "codemirror_mode": "text/x-c++src",
   "file_extension": ".cpp",
   "mimetype": "text/x-c++src",
   "name": "c++",
   "version": "-std=c++17"
  }
 },
 "nbformat": 4,
 "nbformat_minor": 2
}
