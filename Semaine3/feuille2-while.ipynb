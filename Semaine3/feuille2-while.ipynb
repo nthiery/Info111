{
 "cells": [
  {
   "cell_type": "markdown",
   "metadata": {
    "deletable": false,
    "editable": false,
    "nbgrader": {
     "cell_type": "markdown",
     "checksum": "6e5dbc477447644f93416cba679263ec",
     "grade": false,
     "grade_id": "cell-bf82401e988f816e",
     "locked": true,
     "schema_version": 3,
     "solution": false
    }
   },
   "source": [
    "Avant de terminer cette feuille, assurez-vous que tout fonctionne comme voulu. Tout d'abord, **redémarrez le noyau** (dans le menu, sélectionner `Kernel -> Restart`) puis **exécutez toutes les cellules** (dans le menu, sélectionner `Cell -> Run All`).\n",
    "\n",
    "Vérifiez que vous avez édité la cellule ci-dessous, ainsi que toutes les cellules marquées avec `VOTRE CODE ICI` ou `VOTRE RÉPONSE ICI`."
   ]
  },
  {
   "cell_type": "markdown",
   "metadata": {},
   "source": [
    "- Nom: \n",
    "- Prénom: \n",
    "- Groupe: "
   ]
  },
  {
   "cell_type": "markdown",
   "metadata": {
    "deletable": false,
    "editable": false,
    "nbgrader": {
     "cell_type": "markdown",
     "checksum": "1bbfc8a9ed769f1b0322738c5a2a7399",
     "grade": false,
     "grade_id": "cell-fb970bd64e60242c",
     "locked": true,
     "schema_version": 3,
     "solution": false,
     "task": false
    }
   },
   "source": [
    "# Instructions itératives: boucles `while`"
   ]
  },
  {
   "cell_type": "markdown",
   "metadata": {
    "deletable": false,
    "editable": false,
    "nbgrader": {
     "cell_type": "markdown",
     "checksum": "c3a36f6de89f06a297adac3c079cef50",
     "grade": false,
     "grade_id": "cell-5878847ca43abeac",
     "locked": true,
     "schema_version": 3,
     "solution": false,
     "task": false
    }
   },
   "source": [
    "Dans cette feuille, vous allez mettre en pratique la boucle `while`."
   ]
  },
  {
   "cell_type": "markdown",
   "metadata": {
    "collapsed": true,
    "deletable": false,
    "editable": false,
    "nbgrader": {
     "cell_type": "markdown",
     "checksum": "bf24a3ce7e2a50012af4b384321b16fa",
     "grade": false,
     "grade_id": "cell-846152f36fa6d1b5",
     "locked": true,
     "schema_version": 3,
     "solution": false,
     "task": false
    }
   },
   "source": [
    "## Exercice: première boucle while\n",
    "\n",
    "- Exécuter les cellules suivantes :"
   ]
  },
  {
   "cell_type": "code",
   "execution_count": null,
   "metadata": {
    "deletable": false,
    "editable": false,
    "nbgrader": {
     "cell_type": "code",
     "checksum": "3a487892e8a1f743a8533b895f2728bf",
     "grade": false,
     "grade_id": "cell-1880f11656147b47",
     "locked": true,
     "schema_version": 3,
     "solution": false,
     "task": false
    }
   },
   "outputs": [],
   "source": [
    "#include <iostream>\n",
    "using namespace std;"
   ]
  },
  {
   "cell_type": "code",
   "execution_count": null,
   "metadata": {
    "deletable": false,
    "editable": false,
    "nbgrader": {
     "cell_type": "code",
     "checksum": "7115d54d63ae4c5ddc8c44b02a63f891",
     "grade": false,
     "grade_id": "cell-e39d736d09f14238",
     "locked": true,
     "schema_version": 3,
     "solution": false,
     "task": false
    }
   },
   "outputs": [],
   "source": [
    "int a,i;"
   ]
  },
  {
   "cell_type": "code",
   "execution_count": null,
   "metadata": {},
   "outputs": [],
   "source": [
    "a = 35;"
   ]
  },
  {
   "cell_type": "code",
   "execution_count": null,
   "metadata": {
    "deletable": false,
    "editable": false,
    "nbgrader": {
     "cell_type": "code",
     "checksum": "a698003883efc6c36f5eea7b6b47f90e",
     "grade": false,
     "grade_id": "cell-1fb1753a1b1cdb1a",
     "locked": true,
     "schema_version": 3,
     "solution": false,
     "task": false
    }
   },
   "outputs": [],
   "source": [
    "i = 1;\n",
    "while ( i < a ) {\n",
    "    cout << i << endl;\n",
    "    i = i*2;\n",
    "}"
   ]
  },
  {
   "cell_type": "markdown",
   "metadata": {
    "deletable": false,
    "editable": false,
    "nbgrader": {
     "cell_type": "markdown",
     "checksum": "09c3096865fcf08a68407a7fbdec6570",
     "grade": false,
     "grade_id": "cell-12d88166a3fd3c9b",
     "locked": true,
     "schema_version": 3,
     "solution": false,
     "task": false
    }
   },
   "source": [
    "- Modifiez la valeur de $a$ ci-dessus pour obtenir :\n",
    " * Exactement 1 affichage\n",
    " * Exactement 0 affichage\n",
    " * Exactement 4 affichages"
   ]
  },
  {
   "cell_type": "markdown",
   "metadata": {
    "deletable": false,
    "editable": false,
    "nbgrader": {
     "cell_type": "markdown",
     "checksum": "c889bc66e8eeb1487b8f03f4c8e7106a",
     "grade": false,
     "grade_id": "cell-dfe882b2f3d4d4fd",
     "locked": true,
     "schema_version": 3,
     "solution": false,
     "task": false
    }
   },
   "source": [
    "## Exercice: division euclidienne par soustraction\n",
    "\n",
    "- Observer les cellules suivantes et **donner des valeurs à $b$ et $c$ avec $b > c$ telles que, à la fin de la boucle, on ait $b=3$**:"
   ]
  },
  {
   "cell_type": "code",
   "execution_count": null,
   "metadata": {
    "deletable": false,
    "editable": false,
    "nbgrader": {
     "cell_type": "code",
     "checksum": "a8a8a6e86127c3ab2edca5dd5870435a",
     "grade": false,
     "grade_id": "cell-8fe0bd78375ff270",
     "locked": true,
     "schema_version": 3,
     "solution": false,
     "task": false
    }
   },
   "outputs": [],
   "source": [
    "int b,c;"
   ]
  },
  {
   "cell_type": "code",
   "execution_count": null,
   "metadata": {
    "deletable": false,
    "nbgrader": {
     "cell_type": "code",
     "checksum": "1e8404c3e5fbac99f8996735ded0a6b1",
     "grade": true,
     "grade_id": "cell-66fc1e139a8a5e29",
     "locked": false,
     "points": 1,
     "schema_version": 3,
     "solution": true,
     "task": false
    }
   },
   "outputs": [],
   "source": [
    "// VOTRE CODE ICI"
   ]
  },
  {
   "cell_type": "code",
   "execution_count": null,
   "metadata": {
    "deletable": false,
    "editable": false,
    "nbgrader": {
     "cell_type": "code",
     "checksum": "b3c8e412964907e7368dce973cda2708",
     "grade": false,
     "grade_id": "cell-53c2eeeab2fe5530",
     "locked": true,
     "schema_version": 3,
     "solution": false,
     "task": false
    }
   },
   "outputs": [],
   "source": [
    "while ( b > c ) {\n",
    "    b = b - c;\n",
    "}"
   ]
  },
  {
   "cell_type": "code",
   "execution_count": null,
   "metadata": {
    "deletable": false,
    "editable": false,
    "nbgrader": {
     "cell_type": "code",
     "checksum": "dd172c95c536db0cc5d3fd5d9bbd4636",
     "grade": false,
     "grade_id": "cell-92488e51123a90d6",
     "locked": true,
     "schema_version": 3,
     "solution": false,
     "task": false
    }
   },
   "outputs": [],
   "source": [
    "b"
   ]
  },
  {
   "cell_type": "markdown",
   "metadata": {
    "deletable": false,
    "editable": false,
    "nbgrader": {
     "cell_type": "markdown",
     "checksum": "d578a20379b9ea3c14fba2579aec9e78",
     "grade": false,
     "grade_id": "cell-c0b607a1647b25f7",
     "locked": true,
     "schema_version": 3,
     "solution": false,
     "task": false
    }
   },
   "source": [
    "- Modifier la cellule ci-dessous pour que la variable $k$ compte le nombre d'exécutions de la boucle;\n",
    "- Donner des valeurs à $b$ et $c$ telles que l'on ait $b=3$ et $k=5$ à la fin de la boucle."
   ]
  },
  {
   "cell_type": "code",
   "execution_count": null,
   "metadata": {
    "deletable": false,
    "editable": false,
    "nbgrader": {
     "cell_type": "code",
     "checksum": "9596cd287205a7734fb8cd0eac758afa",
     "grade": false,
     "grade_id": "cell-59f25e846a1dc7ca",
     "locked": true,
     "schema_version": 3,
     "solution": false,
     "task": false
    }
   },
   "outputs": [],
   "source": [
    "int k;"
   ]
  },
  {
   "cell_type": "code",
   "execution_count": null,
   "metadata": {
    "deletable": false,
    "nbgrader": {
     "cell_type": "code",
     "checksum": "70637046b19805bb13ee0f86fb3d5cd9",
     "grade": true,
     "grade_id": "cell-9df75cb01e7efbf3",
     "locked": false,
     "points": 1,
     "schema_version": 3,
     "solution": true,
     "task": false
    }
   },
   "outputs": [],
   "source": [
    "// VOTRE CODE ICI\n",
    "while ( b > c ) {\n",
    "    b = b - c;\n",
    "    // VOTRE CODE ICI\n",
    "}"
   ]
  },
  {
   "cell_type": "code",
   "execution_count": null,
   "metadata": {
    "deletable": false,
    "editable": false,
    "nbgrader": {
     "cell_type": "code",
     "checksum": "774ff7faa8a493cb789267f2a95100ec",
     "grade": false,
     "grade_id": "cell-95b7aee0b39f4c13",
     "locked": true,
     "schema_version": 3,
     "solution": false,
     "task": false
    }
   },
   "outputs": [],
   "source": [
    "b     // doit afficher 3"
   ]
  },
  {
   "cell_type": "code",
   "execution_count": null,
   "metadata": {
    "deletable": false,
    "editable": false,
    "nbgrader": {
     "cell_type": "code",
     "checksum": "9e3a47790361920c8f53b91ceff4db5b",
     "grade": false,
     "grade_id": "cell-ba01ba70e0237af3",
     "locked": true,
     "schema_version": 3,
     "solution": false,
     "task": false
    }
   },
   "outputs": [],
   "source": [
    "k     // doit afficher 5"
   ]
  },
  {
   "cell_type": "markdown",
   "metadata": {
    "deletable": false,
    "editable": false,
    "nbgrader": {
     "cell_type": "markdown",
     "checksum": "604ad8880f8af089b89d29b5ae94f936",
     "grade": false,
     "grade_id": "cell-c30e45ce73de8c5f",
     "locked": true,
     "schema_version": 3,
     "solution": false,
     "task": false
    }
   },
   "source": [
    "## Exercice: suite de Syracuse\n",
    "\n",
    "- Exécuter les cellules ci-dessous."
   ]
  },
  {
   "cell_type": "code",
   "execution_count": null,
   "metadata": {
    "deletable": false,
    "editable": false,
    "nbgrader": {
     "cell_type": "code",
     "checksum": "79ef295eee2ad7246fe0db3bd12ef7a1",
     "grade": false,
     "grade_id": "cell-37930a4a3f765bc0",
     "locked": true,
     "schema_version": 3,
     "solution": false,
     "task": false
    }
   },
   "outputs": [],
   "source": [
    "#include <iostream>\n",
    "using namespace std;\n",
    "int d;"
   ]
  },
  {
   "cell_type": "code",
   "execution_count": null,
   "metadata": {
    "deletable": false,
    "editable": false,
    "nbgrader": {
     "cell_type": "code",
     "checksum": "b4b0993f8781bad673e10969dda4e512",
     "grade": false,
     "grade_id": "cell-673069e18045ce2f",
     "locked": true,
     "schema_version": 3,
     "solution": false,
     "task": false
    }
   },
   "outputs": [],
   "source": [
    "d = 5;"
   ]
  },
  {
   "cell_type": "code",
   "execution_count": null,
   "metadata": {
    "deletable": false,
    "nbgrader": {
     "cell_type": "code",
     "checksum": "7cdaea784dd1aded49a3781768c057bb",
     "grade": true,
     "grade_id": "cell-1a8c990096f29a33",
     "locked": false,
     "points": 1,
     "schema_version": 3,
     "solution": true,
     "task": false
    }
   },
   "outputs": [],
   "source": [
    "// VOTRE CODE ICI\n",
    "    if ( d%2 == 0) {\n",
    "        d = d/2;\n",
    "    } else {\n",
    "        d = 3*d+1;\n",
    "    }\n",
    "    cout << d << endl;\n",
    "// VOTRE CODE ICI"
   ]
  },
  {
   "cell_type": "markdown",
   "metadata": {
    "deletable": false,
    "editable": false,
    "nbgrader": {
     "cell_type": "markdown",
     "checksum": "7f697477639b8179e09b914274f12fa5",
     "grade": false,
     "grade_id": "cell-84f1ecf621ccd00b",
     "locked": true,
     "schema_version": 3,
     "solution": false,
     "task": false
    }
   },
   "source": [
    "  Vous noterez que lorsque le nombre $d$ est pair, on le divise par 2. Lorsqu'il est impair, on le multiplie par 3 et on ajoute 1. \n",
    "\n",
    "- Modifier la cellule pour que l'on répète cette action tant que le nombre $d$ est supérieur à 1. On veut afficher la valeur de $d$ à chaque fois. Si votre code est correct, il doit afficher 16 8 4 2 1 (en partant de d=5)."
   ]
  },
  {
   "cell_type": "markdown",
   "metadata": {
    "deletable": false,
    "editable": false,
    "nbgrader": {
     "cell_type": "markdown",
     "checksum": "f9f0a9d38f99dba355b322c3bd9bf735",
     "grade": false,
     "grade_id": "cell-615fbe353a6d1b8c",
     "locked": true,
     "schema_version": 3,
     "solution": false,
     "task": false
    }
   },
   "source": [
    "## Exercice\n",
    "\n",
    "- Oberver la fonction suivante et essayer de comprendre ce qu'elle calcule en lisant le code et en essayant plusieurs valeurs d'appel."
   ]
  },
  {
   "cell_type": "code",
   "execution_count": null,
   "metadata": {
    "deletable": false,
    "editable": false,
    "nbgrader": {
     "cell_type": "code",
     "checksum": "c54dbcf8aa8957f2002363da54671620",
     "grade": false,
     "grade_id": "cell-a51788cc6416fa31",
     "locked": true,
     "schema_version": 3,
     "solution": false,
     "task": false
    }
   },
   "outputs": [],
   "source": [
    "int mystere(int n) {\n",
    "    int k = 1;\n",
    "    while ( k*k < n ) {\n",
    "        k = k + 1;\n",
    "    }\n",
    "    return k;\n",
    "}"
   ]
  },
  {
   "cell_type": "code",
   "execution_count": null,
   "metadata": {
    "deletable": false,
    "editable": false,
    "nbgrader": {
     "cell_type": "code",
     "checksum": "ec25272108adf74b8dd72b5afdb38ef4",
     "grade": false,
     "grade_id": "cell-7b9003dc6876c16b",
     "locked": true,
     "schema_version": 3,
     "solution": false,
     "task": false
    }
   },
   "outputs": [],
   "source": [
    "mystere(5)"
   ]
  },
  {
   "cell_type": "markdown",
   "metadata": {
    "deletable": false,
    "editable": false,
    "nbgrader": {
     "cell_type": "markdown",
     "checksum": "9691e308fd01f982f40da80681c8e71f",
     "grade": false,
     "grade_id": "cell-10317126f8f312ef",
     "locked": true,
     "schema_version": 3,
     "solution": false,
     "task": false
    }
   },
   "source": [
    "- Donner un exemple tel que la valeur renvoyée soit 6:"
   ]
  },
  {
   "cell_type": "code",
   "execution_count": null,
   "metadata": {
    "deletable": false,
    "nbgrader": {
     "cell_type": "code",
     "checksum": "06ecf29262dcdbcbd014686c1b1de882",
     "grade": true,
     "grade_id": "cell-9cb5ab15e3094248",
     "locked": false,
     "points": 1,
     "schema_version": 3,
     "solution": true,
     "task": false
    }
   },
   "outputs": [],
   "source": [
    "// VOTRE CODE ICI"
   ]
  },
  {
   "cell_type": "markdown",
   "metadata": {
    "deletable": false,
    "editable": false,
    "nbgrader": {
     "cell_type": "markdown",
     "checksum": "09729907658420286d88627f583ee1f2",
     "grade": false,
     "grade_id": "cell-1da5f39e2279ad35",
     "locked": true,
     "schema_version": 3,
     "solution": false,
     "task": false
    }
   },
   "source": [
    "## Bilan"
   ]
  },
  {
   "cell_type": "markdown",
   "metadata": {
    "deletable": false,
    "editable": false,
    "nbgrader": {
     "cell_type": "markdown",
     "checksum": "ce98cbb1b09406f4321c24936bb19e10",
     "grade": false,
     "grade_id": "cell-fe36a3aa0aa7120f",
     "locked": true,
     "schema_version": 3,
     "solution": false,
     "task": false
    }
   },
   "source": [
    "Vous pouvez maintenant passer à la [feuille d'exercices sur les boucles `for`](feuille3-for.ipynb). Vous pourrez, par la suite, aborder les exercices plus avancés ci-dessous."
   ]
  },
  {
   "cell_type": "markdown",
   "metadata": {
    "deletable": false,
    "editable": false,
    "nbgrader": {
     "cell_type": "markdown",
     "checksum": "6a53b5be7dcbeb92ffecc50dc32eae2f",
     "grade": false,
     "grade_id": "cell-74d2f63d4e5fb7e7",
     "locked": true,
     "schema_version": 3,
     "solution": false,
     "task": false
    }
   },
   "source": [
    "## Exercice &clubsuit;\n",
    "\n",
    "- Compléter le code de la fonction suivante pour qu'elle détermine si $n$ est un carré parfait. Dans ce cas, elle doit renvoyer `true`; sinon elle doit renvoyer `false`.\n",
    "\n",
    "  **Rappel**: un *carré parfait* est un nombre qui peut s'écrire $k\\times k$ avec $k$ un entier. Par exemple $16$ est un carré parfait car $16 = 4 \\times 4$, mais $20$ n'est pas un carré parfait. \n",
    "\n"
   ]
  },
  {
   "cell_type": "code",
   "execution_count": null,
   "metadata": {
    "deletable": false,
    "nbgrader": {
     "cell_type": "code",
     "checksum": "39031662228d656deb5e8aecbbec626f",
     "grade": true,
     "grade_id": "cell-adfbc5fdcab735d4",
     "locked": false,
     "points": 1,
     "schema_version": 3,
     "solution": true,
     "task": false
    }
   },
   "outputs": [],
   "source": [
    "bool carreParfait(int n) {\n",
    "    // Votre code\n",
    "    // VOTRE CODE ICI\n",
    "}"
   ]
  },
  {
   "cell_type": "markdown",
   "metadata": {
    "deletable": false,
    "editable": false,
    "nbgrader": {
     "cell_type": "markdown",
     "checksum": "1769f88a480b183862847ca4da2d86aa",
     "grade": false,
     "grade_id": "cell-db645b450cb57c41",
     "locked": true,
     "schema_version": 3,
     "solution": false,
     "task": false
    }
   },
   "source": [
    "- Essayer votre fonction sur les exemples suivants:"
   ]
  },
  {
   "cell_type": "code",
   "execution_count": null,
   "metadata": {
    "deletable": false,
    "editable": false,
    "nbgrader": {
     "cell_type": "code",
     "checksum": "714077d82835c9f8fc2aeaf5daf989c1",
     "grade": false,
     "grade_id": "cell-0360eb6fa7a5c845",
     "locked": true,
     "schema_version": 3,
     "solution": false,
     "task": false
    }
   },
   "outputs": [],
   "source": [
    "carreParfait(16)  // doit renvoyer true"
   ]
  },
  {
   "cell_type": "code",
   "execution_count": null,
   "metadata": {
    "deletable": false,
    "editable": false,
    "nbgrader": {
     "cell_type": "code",
     "checksum": "d9dcf97f1d749d3a4fc8c358da9bcecf",
     "grade": false,
     "grade_id": "cell-e18681ca4661fd4d",
     "locked": true,
     "schema_version": 3,
     "solution": false,
     "task": false
    }
   },
   "outputs": [],
   "source": [
    "carreParfait(20)  // doit renvoyer false"
   ]
  },
  {
   "cell_type": "markdown",
   "metadata": {
    "deletable": false,
    "editable": false,
    "nbgrader": {
     "cell_type": "markdown",
     "checksum": "5b09a4bc61a91b585d5a9545d03be4cc",
     "grade": false,
     "grade_id": "cell-2010b81e2fd4b599",
     "locked": true,
     "schema_version": 3,
     "solution": false,
     "task": false
    }
   },
   "source": [
    "- Vérifier que votre fonction passe les tests suivants (chaque cellule doit afficher `true`):"
   ]
  },
  {
   "cell_type": "code",
   "execution_count": null,
   "metadata": {
    "deletable": false,
    "editable": false,
    "nbgrader": {
     "cell_type": "code",
     "checksum": "bc591cf09788028947afc929d932f2a4",
     "grade": false,
     "grade_id": "cell-435a1b0f1a805763",
     "locked": true,
     "schema_version": 3,
     "solution": false,
     "task": false
    }
   },
   "outputs": [],
   "source": [
    "carreParfait(0) == true"
   ]
  },
  {
   "cell_type": "code",
   "execution_count": null,
   "metadata": {
    "deletable": false,
    "editable": false,
    "nbgrader": {
     "cell_type": "code",
     "checksum": "6c346163541e8ac9e9541bd3187bad97",
     "grade": false,
     "grade_id": "cell-f1c85fa7da97ff02",
     "locked": true,
     "schema_version": 3,
     "solution": false,
     "task": false
    }
   },
   "outputs": [],
   "source": [
    "carreParfait(1) == true"
   ]
  },
  {
   "cell_type": "code",
   "execution_count": null,
   "metadata": {
    "deletable": false,
    "editable": false,
    "nbgrader": {
     "cell_type": "code",
     "checksum": "4ae4bac73c6ee8227cfc83c36de7fd26",
     "grade": false,
     "grade_id": "cell-2b191e3f531757eb",
     "locked": true,
     "schema_version": 3,
     "solution": false,
     "task": false
    }
   },
   "outputs": [],
   "source": [
    "carreParfait(2) == false"
   ]
  },
  {
   "cell_type": "code",
   "execution_count": null,
   "metadata": {
    "deletable": false,
    "editable": false,
    "nbgrader": {
     "cell_type": "code",
     "checksum": "aa860552807c0cc487556d7315ef5fdc",
     "grade": false,
     "grade_id": "cell-d369a0197eb69f3c",
     "locked": true,
     "schema_version": 3,
     "solution": false,
     "task": false
    }
   },
   "outputs": [],
   "source": [
    "carreParfait(50) == false"
   ]
  },
  {
   "cell_type": "code",
   "execution_count": null,
   "metadata": {
    "deletable": false,
    "editable": false,
    "nbgrader": {
     "cell_type": "code",
     "checksum": "4d49456141ad1d468311c7fe7a8624d3",
     "grade": false,
     "grade_id": "cell-b1d952c96e75e285",
     "locked": true,
     "schema_version": 3,
     "solution": false,
     "task": false
    }
   },
   "outputs": [],
   "source": [
    "carreParfait(100) == true"
   ]
  },
  {
   "cell_type": "code",
   "execution_count": null,
   "metadata": {
    "deletable": false,
    "editable": false,
    "nbgrader": {
     "cell_type": "code",
     "checksum": "16b06a359688de013d164e90f9b5a736",
     "grade": false,
     "grade_id": "cell-8c0f568c5e6f303a",
     "locked": true,
     "schema_version": 3,
     "solution": false,
     "task": false
    }
   },
   "outputs": [],
   "source": [
    "carreParfait(250) == false"
   ]
  }
 ],
 "metadata": {
  "kernelspec": {
   "display_name": "C++17",
   "language": "C++17",
   "name": "xcpp17"
  },
  "language_info": {
   "codemirror_mode": "text/x-c++src",
   "file_extension": ".cpp",
   "mimetype": "text/x-c++src",
   "name": "c++",
   "version": "-std=c++17"
  }
 },
 "nbformat": 4,
 "nbformat_minor": 2
}
