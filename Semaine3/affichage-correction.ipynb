{
 "cells": [
  {
   "cell_type": "markdown",
   "metadata": {
    "deletable": false,
    "editable": false,
    "nbgrader": {
     "checksum": "6e5dbc477447644f93416cba679263ec",
     "grade": false,
     "grade_id": "cell-bf82401e988f816e",
     "locked": true,
     "schema_version": 1,
     "solution": false
    }
   },
   "source": [
    "Avant de terminer cette feuille, assurez-vous que tout fonctionne comme voulu. Tout d'abord, **redémarrez le noyau** (dans le menu, sélectionner `Kernel -> Restart`) puis **exécutez toutes les cellules** (dans le menu, sélectionner `Cell -> Run All`).\n",
    "\n",
    "Vérifiez que vous avez édité la cellule ci-dessous, ainsi que toutes les cellules marquées avec `VOTRE CODE ICI` ou `VOTRE RÉPONSE ICI`."
   ]
  },
  {
   "cell_type": "markdown",
   "metadata": {},
   "source": [
    "- Nom: \n",
    "- Prénom: \n",
    "- Groupe: "
   ]
  },
  {
   "cell_type": "markdown",
   "metadata": {},
   "source": [
    "# Affichage\n",
    "\n",
    "Jusqu'à présent, nous n'avons que l'affichage par défaut proposé par le notebook, nous allons voir comment obtenir l'affichage d'une valeur en cours de programme.\n",
    "\n",
    "L'affichage à l'écran est une des façons de communiquer entre le programme et l'utilisateur. Le notebook que nous utilisons affiche par défaut la valeur de la *dernière expression*. **Observez les exemples ci-dessous**."
   ]
  },
  {
   "cell_type": "code",
   "execution_count": null,
   "metadata": {},
   "outputs": [],
   "source": [
    "1+2"
   ]
  },
  {
   "cell_type": "code",
   "execution_count": null,
   "metadata": {},
   "outputs": [],
   "source": [
    "1+2;\n",
    "3+4"
   ]
  },
  {
   "cell_type": "code",
   "execution_count": null,
   "metadata": {},
   "outputs": [],
   "source": [
    "1+2;\n",
    "3+4;\n",
    "5+6"
   ]
  },
  {
   "cell_type": "markdown",
   "metadata": {},
   "source": [
    "Les autres calculs ont été effectués par la machine mais le résultat n'a pas été affiché. Pour utiliser la commande d'affichage, nous avons besoin d'exécuter la ligne suivante qui permet de charger le module `C++` en charge des *entrées / sorties* (nous reviendrons sur cette notion en cours)."
   ]
  },
  {
   "cell_type": "code",
   "execution_count": null,
   "metadata": {},
   "outputs": [],
   "source": [
    "#include <iostream>\n",
    "using namespace std;"
   ]
  },
  {
   "cell_type": "markdown",
   "metadata": {},
   "source": [
    "La ligne suivante permet d'afficher le calcul suivi d'un retour à la ligne."
   ]
  },
  {
   "cell_type": "code",
   "execution_count": null,
   "metadata": {},
   "outputs": [],
   "source": [
    "cout << 1+2 << endl;"
   ]
  },
  {
   "cell_type": "markdown",
   "metadata": {},
   "source": [
    "Remarquez que, dans ce cas, le *type* de la valeur n'apparait plus : on est bien dans l'affichage `C++` et plus dans celui du notebook.\n",
    "\n",
    "On peut afficher plusieurs valeurs à la suite."
   ]
  },
  {
   "cell_type": "code",
   "execution_count": null,
   "metadata": {},
   "outputs": [],
   "source": [
    "cout << 1+2 << endl;\n",
    "cout << 3+4 << endl;\n",
    "cout << 5+6 << endl;"
   ]
  },
  {
   "cell_type": "markdown",
   "metadata": {},
   "source": [
    "On peut aussi afficher des chaînes de caractères en utilisant les guillemets."
   ]
  },
  {
   "cell_type": "code",
   "execution_count": null,
   "metadata": {},
   "outputs": [],
   "source": [
    "cout << \"Bonjour, comment allez-vous ?\" << endl;"
   ]
  },
  {
   "cell_type": "markdown",
   "metadata": {},
   "source": [
    "Et même mélanger les chaînes de caractères et les variables comme ci-dessous."
   ]
  },
  {
   "cell_type": "code",
   "execution_count": null,
   "metadata": {},
   "outputs": [],
   "source": [
    "int age;"
   ]
  },
  {
   "cell_type": "code",
   "execution_count": null,
   "metadata": {},
   "outputs": [],
   "source": [
    "age = 32;\n",
    "cout << \"J'ai \" << age << \" ans.\" << endl;"
   ]
  },
  {
   "cell_type": "markdown",
   "metadata": {},
   "source": [
    "**Modifiez la cellule précédente en remplaçant la variable `age` par votre age et exécutez de nouveau.**\n",
    "\n",
    "**Utilisez la variable `annee` ci-dessous pour afficher \"Je suis né(e) en ****\" où les **** sont votre année de naissance."
   ]
  },
  {
   "cell_type": "code",
   "execution_count": null,
   "metadata": {},
   "outputs": [],
   "source": [
    "int annee;"
   ]
  },
  {
   "cell_type": "code",
   "execution_count": null,
   "metadata": {
    "deletable": false,
    "nbgrader": {
     "checksum": "bda769648dfacc20a83b600d260f13f5",
     "grade": false,
     "grade_id": "cell-c5e44d0cc9300b2c",
     "locked": false,
     "schema_version": 1,
     "solution": true
    }
   },
   "outputs": [],
   "source": [
    "// votre code\n",
    "// VOTRE CODE ICI"
   ]
  },
  {
   "cell_type": "markdown",
   "metadata": {},
   "source": [
    "**Observez le programme suivant, que fait-il ? Testez-le avec plusieurs valeurs de `note`.**"
   ]
  },
  {
   "cell_type": "code",
   "execution_count": null,
   "metadata": {},
   "outputs": [],
   "source": [
    "int note;"
   ]
  },
  {
   "cell_type": "code",
   "execution_count": null,
   "metadata": {
    "deletable": false,
    "nbgrader": {
     "checksum": "13e09173d07dfd78e0f0143022f97737",
     "grade": false,
     "grade_id": "cell-7bb6c2c030ad61b1",
     "locked": false,
     "schema_version": 1,
     "solution": true
    }
   },
   "outputs": [],
   "source": [
    "note = 14;\n",
    "if (note < 0  or note > 20) {\n",
    "    cout << \"La note n'est pas correcte.\" << endl;\n",
    "} else if (note < 10) {\n",
    "    cout << \"Vous avez raté l'examen !\" << endl;\n",
    "} else {\n",
    "    cout << \"Vous avez réussi l'examen !\" << endl;\n",
    "}\n",
    "\n",
    "// VOTRE CODE ICI"
   ]
  },
  {
   "cell_type": "markdown",
   "metadata": {},
   "source": [
    "**Modifiez le programme précédent pour qu'il affiche la mention** (de 12 à 14, mention *assez bien*, de 14 à 16 mention *bien* et au dessus de 16, mention *très bien*."
   ]
  }
 ],
 "metadata": {
  "kernelspec": {
   "display_name": "C++11",
   "language": "C++11",
   "name": "xcpp11"
  },
  "language_info": {
   "codemirror_mode": "text/x-c++src",
   "file_extension": ".cpp",
   "mimetype": "text/x-c++src",
   "name": "c++",
   "version": "-std=c++11"
  }
 },
 "nbformat": 4,
 "nbformat_minor": 2
}
