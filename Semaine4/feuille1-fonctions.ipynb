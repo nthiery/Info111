{
 "cells": [
  {
   "cell_type": "markdown",
   "metadata": {
    "deletable": false,
    "editable": false,
    "nbgrader": {
     "checksum": "6e5dbc477447644f93416cba679263ec",
     "grade": false,
     "grade_id": "cell-bf82401e988f816e",
     "locked": true,
     "schema_version": 1,
     "solution": false
    }
   },
   "source": [
    "Avant de terminer cette feuille, assurez-vous que tout fonctionne comme voulu. Tout d'abord, **redémarrez le noyau** (dans le menu, sélectionner `Kernel -> Restart`) puis **exécutez toutes les cellules** (dans le menu, sélectionner `Cell -> Run All`).\n",
    "\n",
    "Vérifiez que vous avez édité la cellule ci-dessous, ainsi que toutes les cellules marquées avec `VOTRE CODE ICI` ou `VOTRE RÉPONSE ICI`."
   ]
  },
  {
   "cell_type": "markdown",
   "metadata": {},
   "source": [
    "- Nom: \n",
    "- Prénom: \n",
    "- Groupe: "
   ]
  },
  {
   "cell_type": "markdown",
   "metadata": {
    "deletable": false,
    "editable": false,
    "nbgrader": {
     "checksum": "69395d8a3658d80561d687e5dc5d88a2",
     "grade": false,
     "grade_id": "cell-a741e2baae8a5295",
     "locked": true,
     "schema_version": 1,
     "solution": false
    }
   },
   "source": [
    "# TP 4 - Premières fonctions"
   ]
  },
  {
   "cell_type": "markdown",
   "metadata": {
    "deletable": false,
    "editable": false,
    "nbgrader": {
     "checksum": "239c18d20ea105075c4d540b35cccca0",
     "grade": false,
     "grade_id": "cell-8b56bb2323e686a8",
     "locked": true,
     "schema_version": 1,
     "solution": false
    }
   },
   "source": [
    "## Exercice 1 : renvoyer versus afficher\n",
    "\n",
    "Exécuter les cellules suivantes qui définissent deux fonctions."
   ]
  },
  {
   "cell_type": "code",
   "execution_count": null,
   "metadata": {
    "deletable": false,
    "editable": false,
    "nbgrader": {
     "checksum": "0309a270ad04fb5aa24f938960bea063",
     "grade": false,
     "grade_id": "cell-7d3032978c91517b",
     "locked": true,
     "schema_version": 1,
     "solution": false
    }
   },
   "outputs": [],
   "source": [
    "#include <iostream>\n",
    "using namespace std;"
   ]
  },
  {
   "cell_type": "code",
   "execution_count": null,
   "metadata": {
    "deletable": false,
    "editable": false,
    "nbgrader": {
     "checksum": "94d972927d024b043ba4bc8ff7e7d88d",
     "grade": false,
     "grade_id": "cell-adbf3ea334252de8",
     "locked": true,
     "schema_version": 1,
     "solution": false
    }
   },
   "outputs": [],
   "source": [
    "/** Une fonction qui calcule la valeur absolue\n",
    " * @param a, un entier\n",
    " * @return la valeur absolue de a\n",
    " **/\n",
    "int abs(int a) {\n",
    "    if (a > 0) {\n",
    "        return a;\n",
    "    } else {\n",
    "        return -a;\n",
    "    }\n",
    "}"
   ]
  },
  {
   "cell_type": "code",
   "execution_count": null,
   "metadata": {
    "deletable": false,
    "editable": false,
    "nbgrader": {
     "checksum": "cb884979fd90eee42e816e70e5d0a33f",
     "grade": false,
     "grade_id": "cell-7d7a9fa58c13128d",
     "locked": true,
     "schema_version": 1,
     "solution": false
    }
   },
   "outputs": [],
   "source": [
    "/** Une fonction qui affiche la valeur absolue\n",
    " * @param a, un entier\n",
    " **/\n",
    "void afficheAbs(int a) {\n",
    "    if (a > 0) {\n",
    "        cout << a << endl;\n",
    "    } else {\n",
    "        cout << -a << endl;\n",
    "    }\n",
    "}"
   ]
  },
  {
   "cell_type": "markdown",
   "metadata": {
    "deletable": false,
    "nbgrader": {
     "checksum": "226b1a4b4dbac92991374134d2599226",
     "grade": true,
     "grade_id": "cell-ebbfec0d5cb0e626",
     "locked": false,
     "points": 1,
     "schema_version": 1,
     "solution": true
    }
   },
   "source": [
    "Observer les appels suivants; y a-t-il une différence entre `abs` et `afficheAbs`?\n",
    "\n",
    "VOTRE RÉPONSE ICI"
   ]
  },
  {
   "cell_type": "code",
   "execution_count": null,
   "metadata": {
    "deletable": false,
    "editable": false,
    "nbgrader": {
     "checksum": "a28eb5d255622fc26af61b14060dca58",
     "grade": false,
     "grade_id": "cell-96a8003bde332ef4",
     "locked": true,
     "schema_version": 1,
     "solution": false
    }
   },
   "outputs": [],
   "source": [
    "abs(3)"
   ]
  },
  {
   "cell_type": "code",
   "execution_count": null,
   "metadata": {
    "deletable": false,
    "editable": false,
    "nbgrader": {
     "checksum": "a068be036af21e0b105725f9a3e73a77",
     "grade": false,
     "grade_id": "cell-525744fbd9aca5dc",
     "locked": true,
     "schema_version": 1,
     "solution": false
    }
   },
   "outputs": [],
   "source": [
    "afficheAbs(3)"
   ]
  },
  {
   "cell_type": "code",
   "execution_count": null,
   "metadata": {
    "deletable": false,
    "editable": false,
    "nbgrader": {
     "checksum": "a57cae26e65637dd8ee9ee166d1e7005",
     "grade": false,
     "grade_id": "cell-97390c5a9ca620b1",
     "locked": true,
     "schema_version": 1,
     "solution": false
    }
   },
   "outputs": [],
   "source": [
    "abs(-5)"
   ]
  },
  {
   "cell_type": "code",
   "execution_count": null,
   "metadata": {
    "deletable": false,
    "editable": false,
    "nbgrader": {
     "checksum": "fe254356af26af97efd849e7b795da0a",
     "grade": false,
     "grade_id": "cell-5fca3285f14ba38a",
     "locked": true,
     "schema_version": 1,
     "solution": false
    }
   },
   "outputs": [],
   "source": [
    "afficheAbs(-5)"
   ]
  },
  {
   "cell_type": "markdown",
   "metadata": {
    "deletable": false,
    "editable": false,
    "nbgrader": {
     "checksum": "9e0a261766c8e14145719945a1a6b29a",
     "grade": false,
     "grade_id": "cell-d95a34f5ac81eb33",
     "locked": true,
     "schema_version": 1,
     "solution": false
    }
   },
   "source": [
    "Essayer de deviner le résultat des appels suivants puis exécuter pour vérifier:"
   ]
  },
  {
   "cell_type": "code",
   "execution_count": null,
   "metadata": {
    "deletable": false,
    "editable": false,
    "nbgrader": {
     "checksum": "fef171ff6f17fe7d68c30130ba3fcca3",
     "grade": false,
     "grade_id": "cell-6a55898a16557a96",
     "locked": true,
     "schema_version": 1,
     "solution": false
    }
   },
   "outputs": [],
   "source": [
    "abs(-5) + abs(3)"
   ]
  },
  {
   "cell_type": "code",
   "execution_count": null,
   "metadata": {
    "deletable": false,
    "editable": false,
    "nbgrader": {
     "checksum": "c2c79916db3967079effc25e0978340a",
     "grade": false,
     "grade_id": "cell-866c4a0c9a4a6ab8",
     "locked": true,
     "schema_version": 1,
     "solution": false
    }
   },
   "outputs": [],
   "source": [
    "afficheAbs(-5) + afficheAbs(3)"
   ]
  },
  {
   "cell_type": "markdown",
   "metadata": {
    "deletable": false,
    "nbgrader": {
     "checksum": "88426bc01b00850d687ded1e671a66a7",
     "grade": true,
     "grade_id": "cell-6c7a39b6a3ef0358",
     "locked": false,
     "points": 1,
     "schema_version": 1,
     "solution": true
    }
   },
   "source": [
    "La seconde cellule vous donne une **erreur**, comprenez-vous pourquoi ?\n",
    "\n",
    "VOTRE RÉPONSE ICI"
   ]
  },
  {
   "cell_type": "markdown",
   "metadata": {
    "deletable": false,
    "editable": false,
    "nbgrader": {
     "checksum": "858b6716957c6dde85695a02e8f9b718",
     "grade": false,
     "grade_id": "cell-5699e6d9d0f3d16a",
     "locked": true,
     "schema_version": 1,
     "solution": false
    }
   },
   "source": [
    "## Exercice: une fonction utilisant une fonction"
   ]
  },
  {
   "cell_type": "markdown",
   "metadata": {
    "deletable": false,
    "editable": false,
    "nbgrader": {
     "checksum": "cb3b091d8f91ac406730ec19d6d26aba",
     "grade": false,
     "grade_id": "cell-b9cda32e468d6d8b",
     "locked": true,
     "schema_version": 1,
     "solution": false
    }
   },
   "source": [
    "Compléter la fonction ci-dessous dont on donne la *documentation*. Vous **devez** utiliser un **appel** à l'une des deux fonctions de l'exercice précédent."
   ]
  },
  {
   "cell_type": "code",
   "execution_count": null,
   "metadata": {
    "deletable": false,
    "nbgrader": {
     "checksum": "f71c3d29d940ec65638f9a66928eb753",
     "grade": false,
     "grade_id": "cell-ef47de23dc65918c",
     "locked": false,
     "schema_version": 1,
     "solution": true
    }
   },
   "outputs": [],
   "source": [
    "/** Distance de deux points sur une droite\n",
    " * @param a un entier: la coordonnée du premier point\n",
    " * @param b un entier: la coordonnée du deuxième point\n",
    " * @return la valeur absolue de la différence entre a et b\n",
    " **/\n",
    "int distance(int a, int b) {\n",
    "    // VOTRE CODE ICI\n",
    "}"
   ]
  },
  {
   "cell_type": "markdown",
   "metadata": {
    "deletable": false,
    "editable": false,
    "nbgrader": {
     "checksum": "71747a97363fbfde8a82d7d5f7602023",
     "grade": false,
     "grade_id": "cell-cf373e1ce7210f3a",
     "locked": true,
     "schema_version": 1,
     "solution": false
    }
   },
   "source": [
    "Vérifier son fonctionnement sur l'exemple ci-dessous et les tests qui le suivent. Comme d'habitude, ces tests doivent tous renvoyer `true`, si ce n'est pas le cas il y a une erreur dans votre code."
   ]
  },
  {
   "cell_type": "code",
   "execution_count": null,
   "metadata": {},
   "outputs": [],
   "source": [
    "distance(5,3)"
   ]
  },
  {
   "cell_type": "code",
   "execution_count": null,
   "metadata": {
    "deletable": false,
    "editable": false,
    "nbgrader": {
     "checksum": "01bf41a5374fd85045dc1ecac10625bb",
     "grade": false,
     "grade_id": "cell-1468d3b77d12dfbb",
     "locked": true,
     "schema_version": 1,
     "solution": false
    }
   },
   "outputs": [],
   "source": [
    "distance(5,3) == 2"
   ]
  },
  {
   "cell_type": "code",
   "execution_count": null,
   "metadata": {
    "deletable": false,
    "editable": false,
    "nbgrader": {
     "checksum": "e1a95f5a8a681bd97cdec030b4f599b2",
     "grade": false,
     "grade_id": "cell-fb7ffc1acf3cf457",
     "locked": true,
     "schema_version": 1,
     "solution": false
    }
   },
   "outputs": [],
   "source": [
    "distance(-4,2) == 6"
   ]
  },
  {
   "cell_type": "code",
   "execution_count": null,
   "metadata": {
    "deletable": false,
    "editable": false,
    "nbgrader": {
     "checksum": "eb0feb62d6805cce13956c83fb65cade",
     "grade": false,
     "grade_id": "cell-973b66f0d812df05",
     "locked": true,
     "schema_version": 1,
     "solution": false
    }
   },
   "outputs": [],
   "source": [
    "distance(2,-5) == 7"
   ]
  },
  {
   "cell_type": "markdown",
   "metadata": {
    "deletable": false,
    "editable": false,
    "nbgrader": {
     "checksum": "5e459f1f44b7fcaa7a753d4a8b044ead",
     "grade": false,
     "grade_id": "cell-d27b0a203d050706",
     "locked": true,
     "schema_version": 1,
     "solution": false
    }
   },
   "source": [
    "## Exercice (à la maison)\n",
    "Même exercice que précédemment:"
   ]
  },
  {
   "cell_type": "code",
   "execution_count": null,
   "metadata": {
    "deletable": false,
    "nbgrader": {
     "checksum": "dbcd8fc2cd51fd641e7410ec32b1524b",
     "grade": false,
     "grade_id": "cell-a3cf80e3952bdd34",
     "locked": false,
     "schema_version": 1,
     "solution": true
    }
   },
   "outputs": [],
   "source": [
    "/** somme des valeurs absolues (aussi appelée norme L1)\n",
    " * @param a un entier\n",
    " * @param b un entier\n",
    " * @return la somme des valeurs absolues de a et b\n",
    " **/\n",
    "int sommeAbs(int a, int b) {\n",
    "    // VOTRE CODE ICI\n",
    "}"
   ]
  },
  {
   "cell_type": "code",
   "execution_count": null,
   "metadata": {},
   "outputs": [],
   "source": [
    "sommeAbs(5,-3)"
   ]
  },
  {
   "cell_type": "code",
   "execution_count": null,
   "metadata": {
    "deletable": false,
    "editable": false,
    "nbgrader": {
     "checksum": "b932adcb116bc5d1b788b63a371b40e5",
     "grade": false,
     "grade_id": "cell-6d67d87937dbe617",
     "locked": true,
     "schema_version": 1,
     "solution": false
    }
   },
   "outputs": [],
   "source": [
    "sommeAbs(5,-3)  == 8"
   ]
  },
  {
   "cell_type": "code",
   "execution_count": null,
   "metadata": {
    "deletable": false,
    "editable": false,
    "nbgrader": {
     "checksum": "8fdc77fae0f04f969ee5bc5fadb70753",
     "grade": false,
     "grade_id": "cell-1cf910256b7ba798",
     "locked": true,
     "schema_version": 1,
     "solution": false
    }
   },
   "outputs": [],
   "source": [
    "sommeAbs(-4,-2) == 6"
   ]
  },
  {
   "cell_type": "code",
   "execution_count": null,
   "metadata": {
    "deletable": false,
    "editable": false,
    "nbgrader": {
     "checksum": "985de6994cc90979fd7380dc7b744023",
     "grade": false,
     "grade_id": "cell-b0072c6876feea78",
     "locked": true,
     "schema_version": 1,
     "solution": false
    }
   },
   "outputs": [],
   "source": [
    "sommeAbs(2,5) == 7"
   ]
  },
  {
   "cell_type": "markdown",
   "metadata": {
    "deletable": false,
    "editable": false,
    "nbgrader": {
     "checksum": "bbce1a47c62473de24295688e0c0a193",
     "grade": false,
     "grade_id": "cell-f389d530bfbe35e0",
     "locked": true,
     "schema_version": 1,
     "solution": false
    }
   },
   "source": [
    "## Exercice: tests automatiques\n",
    "Essayer les exemples suivants qui illustrent l'utilisation de l'infrastructure vue en cours pour automatiser les tests. Si vous avez une erreur du type `no member named 'cerr'`, vous avez probablement redémarré le noyau en oubliant d'exécuter la première cellule de cette fiche contenant `#include <iostream>`.\n",
    " **Astuce** : A chaque fois que vous redémarrez le noyau, allez ensuite dans `Cellule` -> `Exécuter toutes les précédentes`. Cela exécute toutes les cellules qui sont avant celle où vous vous trouvez. Vous éviterez ainsi de perdre du temps à chercher où sont les cellules qu'il faut ré-exécuter."
   ]
  },
  {
   "cell_type": "code",
   "execution_count": null,
   "metadata": {
    "deletable": false,
    "editable": false,
    "nbgrader": {
     "checksum": "235c6f995be822af5598e5d5488245c4",
     "grade": false,
     "grade_id": "cell-409ed522d0d7ce28",
     "locked": true,
     "schema_version": 1,
     "solution": false
    }
   },
   "outputs": [],
   "source": [
    "ASSERT ( 1 < 2 );\n",
    "ASSERT ( 1 > 2 );"
   ]
  },
  {
   "cell_type": "markdown",
   "metadata": {
    "deletable": false,
    "editable": false,
    "nbgrader": {
     "checksum": "0940081dc16ea6664bf5ab1eb38f702d",
     "grade": false,
     "grade_id": "cell-4f9b5f26274b8d47",
     "locked": true,
     "schema_version": 1,
     "solution": false
    }
   },
   "source": [
    "On remarque que si la condition en paramètre de `ASSERT` est vraie, il n'y a aucun affichage. Par contre si la condition est fausse, un message d'erreur indiquant la condition fausse est affiché."
   ]
  },
  {
   "cell_type": "markdown",
   "metadata": {
    "deletable": false,
    "editable": false,
    "nbgrader": {
     "checksum": "05bdd4bdaf2ce7a3d485657ff9395cf2",
     "grade": false,
     "grade_id": "cell-c7c30794bfe3d639",
     "locked": true,
     "schema_version": 1,
     "solution": false
    }
   },
   "source": [
    "Avec ASSERT, les tests de la fonction `distance` se mettent sous la forme:"
   ]
  },
  {
   "cell_type": "code",
   "execution_count": null,
   "metadata": {
    "deletable": false,
    "editable": false,
    "nbgrader": {
     "checksum": "283807b75ea428dda7fd30e69e771be9",
     "grade": true,
     "grade_id": "cell-30fde9ec08937b80",
     "locked": true,
     "points": 1,
     "schema_version": 1,
     "solution": false
    }
   },
   "outputs": [],
   "source": [
    "ASSERT ( distance(5,3)  == 2 );\n",
    "ASSERT ( distance(-4,2) == 6 );\n",
    "ASSERT ( distance(2,-5) == 7 );"
   ]
  },
  {
   "cell_type": "markdown",
   "metadata": {
    "deletable": false,
    "editable": false,
    "nbgrader": {
     "checksum": "c788fd6a4f717ce6887900a95e1517c5",
     "grade": false,
     "grade_id": "cell-5a60b1893097e9fd",
     "locked": true,
     "schema_version": 1,
     "solution": false
    }
   },
   "source": [
    "Leur exécution ne devrait rien afficher."
   ]
  },
  {
   "cell_type": "markdown",
   "metadata": {
    "deletable": false,
    "editable": false,
    "nbgrader": {
     "checksum": "025eb45998a230202a32638042a8f327",
     "grade": false,
     "grade_id": "cell-6501a3f1941bd272",
     "locked": true,
     "schema_version": 1,
     "solution": false
    }
   },
   "source": [
    "## Exercice: suivre la documentation et les tests\n",
    "\n",
    "Implanter la fonction `nombreSecondes` dont la documentation est donnée ci-dessous:"
   ]
  },
  {
   "cell_type": "code",
   "execution_count": null,
   "metadata": {
    "deletable": false,
    "nbgrader": {
     "checksum": "71615e369c96786395e056025549262d",
     "grade": false,
     "grade_id": "cell-0d59febaf9233496",
     "locked": false,
     "schema_version": 1,
     "solution": true
    }
   },
   "outputs": [],
   "source": [
    "/** Renvoie en secondes la durée décrite en jours, heures, minutes, secondes\n",
    " * @param j un entier représentant le nombre de jours\n",
    " * @param h un entier représentant le nombre d heures\n",
    " * @param m un entier représentant le nombre de minutes\n",
    " * @param s un entier représentant le nombre de secondes\n",
    " * @return la durée en secondes\n",
    "**/\n",
    "// VOTRE CODE ICI"
   ]
  },
  {
   "cell_type": "markdown",
   "metadata": {
    "deletable": false,
    "editable": false,
    "nbgrader": {
     "checksum": "f71fb93ccc143da269efb92bc1f000cf",
     "grade": false,
     "grade_id": "cell-e103b2353b1c2e15",
     "locked": true,
     "schema_version": 1,
     "solution": false
    }
   },
   "source": [
    "Vérifier son fonctionnement sur les exemples et tests ci-dessous:"
   ]
  },
  {
   "cell_type": "code",
   "execution_count": null,
   "metadata": {},
   "outputs": [],
   "source": [
    "nombreSecondes(1,1,1,1)"
   ]
  },
  {
   "cell_type": "code",
   "execution_count": null,
   "metadata": {
    "deletable": false,
    "editable": false,
    "nbgrader": {
     "checksum": "ca67ecf1f9d2575747e45bfc4f91111c",
     "grade": true,
     "grade_id": "cell-babf9ae1f3f02491",
     "locked": true,
     "points": 1,
     "schema_version": 1,
     "solution": false
    }
   },
   "outputs": [],
   "source": [
    "ASSERT( nombreSecondes(0,0,0,1)  == 1      );\n",
    "ASSERT( nombreSecondes(0,0,1,0)  == 60     );\n",
    "ASSERT( nombreSecondes(0,1,0,0)  == 3600   );\n",
    "ASSERT( nombreSecondes(1,0,0,0)  == 86400  );\n",
    "ASSERT( nombreSecondes(3,2,5,25) == 266725 );"
   ]
  }
 ],
 "metadata": {
  "kernelspec": {
   "display_name": "C++11",
   "language": "C++11",
   "name": "xcpp11"
  },
  "language_info": {
   "codemirror_mode": "text/x-c++src",
   "file_extension": ".cpp",
   "mimetype": "text/x-c++src",
   "name": "c++",
   "version": "-std=c++11"
  }
 },
 "nbformat": 4,
 "nbformat_minor": 2
}
