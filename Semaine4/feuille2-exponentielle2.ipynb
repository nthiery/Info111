{
 "cells": [
  {
   "cell_type": "markdown",
   "metadata": {
    "deletable": false,
    "editable": false,
    "nbgrader": {
     "checksum": "6e5dbc477447644f93416cba679263ec",
     "grade": false,
     "grade_id": "cell-bf82401e988f816e",
     "locked": true,
     "schema_version": 1,
     "solution": false
    }
   },
   "source": [
    "Avant de terminer cette feuille, assurez-vous que tout fonctionne comme voulu. Tout d'abord, **redémarrez le noyau** (dans le menu, sélectionner `Kernel -> Restart`) puis **exécutez toutes les cellules** (dans le menu, sélectionner `Cell -> Run All`).\n",
    "\n",
    "Vérifiez que vous avez édité la cellule ci-dessous, ainsi que toutes les cellules marquées avec `VOTRE CODE ICI` ou `VOTRE RÉPONSE ICI`."
   ]
  },
  {
   "cell_type": "markdown",
   "metadata": {},
   "source": [
    "- Nom: \n",
    "- Prénom: \n",
    "- Groupe: "
   ]
  },
  {
   "cell_type": "markdown",
   "metadata": {
    "deletable": false,
    "editable": false,
    "nbgrader": {
     "checksum": "2df2c3a675dceee6c55546cc73837446",
     "grade": false,
     "grade_id": "cell-a7cb2ec64ca805b6",
     "locked": true,
     "schema_version": 1,
     "solution": false
    }
   },
   "source": [
    "# TP 4 - Implanter la fonction exponentielle"
   ]
  },
  {
   "cell_type": "markdown",
   "metadata": {
    "deletable": false,
    "editable": false,
    "nbgrader": {
     "checksum": "920b11f41a6e3ece076f4ec3d0bb9acb",
     "grade": false,
     "grade_id": "cell-dfc454aa3b53f790",
     "locked": true,
     "schema_version": 1,
     "solution": false
    }
   },
   "source": [
    "## Partie 2 : Calculer une somme infinie ?\n",
    "\n",
    "La définition mathématique de l'exponentielle suppose de calculer une *somme infinie*. Ce n'est pas possible en pratique ! On propose donc d'implanter la fonction suivante qui calcule une *approximation* de la fonction exponentielle obtenue en tronquant la somme à un certain rang $r$:\n",
    "$$e^x \\approx \\sum_{n=0}^r \\frac{x^n}{n!}$$"
   ]
  },
  {
   "cell_type": "markdown",
   "metadata": {
    "deletable": false,
    "editable": false,
    "nbgrader": {
     "checksum": "6aab4f723cc7fa473b2687a6051bf565",
     "grade": false,
     "grade_id": "cell-b916e98c49f6f97c",
     "locked": true,
     "schema_version": 1,
     "solution": false
    }
   },
   "source": [
    "Copier-coller dans les deux cellules suivantes vos fonctions `puissance` et `factorielle` de la [partie 1](feuille2-exponentielle1.ipynb), puis compléter l'implantation de la fonction `exponentielle`."
   ]
  },
  {
   "cell_type": "code",
   "execution_count": null,
   "metadata": {
    "deletable": false,
    "nbgrader": {
     "checksum": "c917e34a852afa3dc1b961e1c37dfcd5",
     "grade": false,
     "grade_id": "cell-ed4b87cdbd09b4b1",
     "locked": false,
     "schema_version": 1,
     "solution": true
    }
   },
   "outputs": [],
   "source": [
    "// VOTRE CODE ICI"
   ]
  },
  {
   "cell_type": "code",
   "execution_count": null,
   "metadata": {
    "deletable": false,
    "nbgrader": {
     "checksum": "6e7e77bc9e5e17aabfe2ee4462210aac",
     "grade": false,
     "grade_id": "cell-40704048f0f43a58",
     "locked": false,
     "schema_version": 1,
     "solution": true
    }
   },
   "outputs": [],
   "source": [
    "// VOTRE CODE ICI"
   ]
  },
  {
   "cell_type": "code",
   "execution_count": null,
   "metadata": {
    "deletable": false,
    "nbgrader": {
     "checksum": "4f9f4aede0d4087edcc370166372f8de",
     "grade": false,
     "grade_id": "cell-583ab182274bf121",
     "locked": false,
     "schema_version": 1,
     "solution": true
    }
   },
   "outputs": [],
   "source": [
    "/** Exponentielle tronquée à un certain rang r\n",
    " * @param x un nombre à virgule flottante en double précision\n",
    " * @param r un nombre entier positif\n",
    " * @return 1 + x  + x^2/2 + x^3/3! + ...  + x^r/r!\n",
    "**/\n",
    "double expRang(double x, int r) {\n",
    "    // VOTRE CODE ICI\n",
    "}"
   ]
  },
  {
   "cell_type": "code",
   "execution_count": null,
   "metadata": {},
   "outputs": [],
   "source": [
    "expRang(5,1)"
   ]
  },
  {
   "cell_type": "code",
   "execution_count": null,
   "metadata": {
    "deletable": false,
    "editable": false,
    "nbgrader": {
     "checksum": "29177bd269233d2278baefd962a9b646",
     "grade": true,
     "grade_id": "cell-0841e8afc22ba740",
     "locked": true,
     "points": 1,
     "schema_version": 1,
     "solution": false
    }
   },
   "outputs": [],
   "source": [
    "ASSERT( expRang(6, 0) == 1  ) // 6^0/1\n",
    "ASSERT( expRang(6, 1) == 7  ) // 6^0/1 + 6/1\n",
    "ASSERT( expRang(6, 2) == 25 ) // 6^0/1 + 6/1 + 36/2\n",
    "ASSERT( expRang(6, 3) == 61 );//  6^0/1 + 6/1 + 36/2 + 36*6/6"
   ]
  },
  {
   "cell_type": "markdown",
   "metadata": {
    "deletable": false,
    "editable": false,
    "nbgrader": {
     "checksum": "411ea0bfd3fd774c161cf8c9baf05a74",
     "grade": false,
     "grade_id": "cell-162792f03bec12d9",
     "locked": true,
     "schema_version": 1,
     "solution": false
    }
   },
   "source": [
    "Plus on augmente le rang, plus on se rapproche de la valeur de $e^5=148.413\\cdots$.\n",
    "\n",
    "Dans la cellule ci-dessous, **augmenter le rang jusqu'à ce que la valeur affichée ne change plus** (la valeur ajoutée est trop petite pour changer l'affichage)"
   ]
  },
  {
   "cell_type": "code",
   "execution_count": null,
   "metadata": {
    "deletable": false,
    "nbgrader": {
     "checksum": "90021c39c0f43bcd4b1ce30f1a5aa7a7",
     "grade": false,
     "grade_id": "cell-c845f3c8812b2ff5",
     "locked": false,
     "schema_version": 1,
     "solution": true
    }
   },
   "outputs": [],
   "source": [
    "// VOTRE CODE ICI"
   ]
  },
  {
   "cell_type": "markdown",
   "metadata": {
    "deletable": false,
    "editable": false,
    "nbgrader": {
     "checksum": "9792769c4848270c6fe5834d4182d45d",
     "grade": false,
     "grade_id": "cell-b586c5b168fc5914",
     "locked": true,
     "schema_version": 1,
     "solution": false
    }
   },
   "source": [
    "Calculer maintenant une approximation de la valeur de $e^{10}=22026.46\\cdots$ avec le même rang:"
   ]
  },
  {
   "cell_type": "code",
   "execution_count": null,
   "metadata": {
    "deletable": false,
    "nbgrader": {
     "checksum": "b8af63250912e653fb242674c633fdd9",
     "grade": false,
     "grade_id": "cell-586d52cbad6530df",
     "locked": false,
     "schema_version": 1,
     "solution": true
    }
   },
   "outputs": [],
   "source": [
    "// VOTRE CODE ICI"
   ]
  },
  {
   "cell_type": "markdown",
   "metadata": {
    "deletable": false,
    "nbgrader": {
     "checksum": "31ea878d280ea08ef3464b5f1fcb635d",
     "grade": true,
     "grade_id": "cell-6e01d081ee0b9bd2",
     "locked": false,
     "points": 1,
     "schema_version": 1,
     "solution": true
    }
   },
   "source": [
    "Que constatez vous?\n",
    "\n",
    "VOTRE RÉPONSE ICI"
   ]
  },
  {
   "cell_type": "markdown",
   "metadata": {
    "deletable": false,
    "editable": false,
    "nbgrader": {
     "checksum": "e139dda03bd165648ca6aea4318903b5",
     "grade": false,
     "grade_id": "cell-e1f369de58992c8b",
     "locked": true,
     "schema_version": 1,
     "solution": false
    }
   },
   "source": [
    "Augmenter le rang jusqu'à ce que la valeur affichée ne change plus:"
   ]
  },
  {
   "cell_type": "code",
   "execution_count": null,
   "metadata": {
    "deletable": false,
    "nbgrader": {
     "checksum": "c064a7b740dbd68953a93396d018ec89",
     "grade": false,
     "grade_id": "cell-9ab12e4a0fe9cddb",
     "locked": false,
     "schema_version": 1,
     "solution": true
    }
   },
   "outputs": [],
   "source": [
    "// VOTRE CODE ICI"
   ]
  },
  {
   "cell_type": "markdown",
   "metadata": {
    "deletable": false,
    "editable": false,
    "nbgrader": {
     "checksum": "5449a5ec7b8c19ef070c77a8f99820b5",
     "grade": false,
     "grade_id": "cell-c9a5001fba7bb1a4",
     "locked": true,
     "schema_version": 1,
     "solution": false
    }
   },
   "source": [
    "## Bilan de la partie 2\n",
    "Bravo, vous avez implanté une approximation de la fonction exponnentielle en tronquant sa formule à un certain rang. Cependant, au vu des exemples ci-dessus, l'utilisateur souhaiterait spécifier non pas le *rang*, mais la *précision* qu'il souhaite obtenir. Pour cela il faut d'abord formaliser cette idée de précision. C'est l'objet de la [partie 3](feuille2-exponentielle3.ipynb)."
   ]
  }
 ],
 "metadata": {
  "kernelspec": {
   "display_name": "C++11",
   "language": "C++11",
   "name": "xcpp11"
  },
  "language_info": {
   "codemirror_mode": "text/x-c++src",
   "file_extension": ".cpp",
   "mimetype": "text/x-c++src",
   "name": "c++",
   "version": "-std=c++11"
  }
 },
 "nbformat": 4,
 "nbformat_minor": 2
}
