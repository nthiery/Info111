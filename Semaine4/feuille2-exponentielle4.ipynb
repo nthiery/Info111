{
 "cells": [
  {
   "cell_type": "markdown",
   "metadata": {
    "deletable": false,
    "editable": false,
    "nbgrader": {
     "cell_type": "markdown",
     "checksum": "6e5dbc477447644f93416cba679263ec",
     "grade": false,
     "grade_id": "cell-bf82401e988f816e",
     "locked": true,
     "schema_version": 3,
     "solution": false
    }
   },
   "source": [
    "Avant de terminer cette feuille, assurez-vous que tout fonctionne comme voulu. Tout d'abord, **redémarrez le noyau** (dans le menu, sélectionner `Kernel -> Restart`) puis **exécutez toutes les cellules** (dans le menu, sélectionner `Cell -> Run All`).\n",
    "\n",
    "Vérifiez que vous avez édité la cellule ci-dessous, ainsi que toutes les cellules marquées avec `VOTRE CODE ICI` ou `VOTRE RÉPONSE ICI`."
   ]
  },
  {
   "cell_type": "markdown",
   "metadata": {},
   "source": [
    "- Nom: \n",
    "- Prénom: \n",
    "- Groupe: "
   ]
  },
  {
   "cell_type": "markdown",
   "metadata": {
    "deletable": false,
    "editable": false,
    "nbgrader": {
     "cell_type": "markdown",
     "checksum": "7dedc1faea795791862b6950ec000f0f",
     "grade": false,
     "grade_id": "cell-9aacd071eecda33d",
     "locked": true,
     "schema_version": 3,
     "solution": false
    }
   },
   "source": [
    "\n",
    "# TP4 - Implanter la fonction exponentielle"
   ]
  },
  {
   "cell_type": "markdown",
   "metadata": {
    "deletable": false,
    "editable": false,
    "nbgrader": {
     "cell_type": "markdown",
     "checksum": "cd1088303778f1b867cc8e8662024736",
     "grade": false,
     "grade_id": "cell-fd5a373907e22622",
     "locked": true,
     "schema_version": 3,
     "solution": false
    }
   },
   "source": [
    "## Partie 4  : Calcul de l'exponentielle avec une précision relative fixée $\\clubsuit$"
   ]
  },
  {
   "cell_type": "markdown",
   "metadata": {
    "deletable": false,
    "editable": false,
    "nbgrader": {
     "cell_type": "markdown",
     "checksum": "6cf4853f318a9bde68b1a865ddefe91e",
     "grade": false,
     "grade_id": "cell-0749edc234488c4e",
     "locked": true,
     "schema_version": 3,
     "solution": false
    }
   },
   "source": [
    "On cherche maintenant à calculer une approximation de l'exponentielle en fixant la *précision* et non plus le rang."
   ]
  },
  {
   "cell_type": "markdown",
   "metadata": {
    "deletable": false,
    "editable": false,
    "nbgrader": {
     "cell_type": "markdown",
     "checksum": "f0e5c3134b9038981506ef48361a63ac",
     "grade": false,
     "grade_id": "cell-3e4cb5925b030399",
     "locked": true,
     "schema_version": 3,
     "solution": false
    }
   },
   "source": [
    "Commencer par copier-coller dans les quatre cellules suivantes vos fonctions `puissance` et `factorielle` de la [partie 1](feuille2-exponentielle1.ipynb) ainsi que `abs` et `egal` de la [partie 3](feuille3-exponentielle.ipynb):"
   ]
  },
  {
   "cell_type": "code",
   "execution_count": null,
   "metadata": {
    "deletable": false,
    "nbgrader": {
     "cell_type": "code",
     "checksum": "6164c09ae19d35cada09bfe47f2d2885",
     "grade": false,
     "grade_id": "cell-26c2f80b0554f206",
     "locked": false,
     "schema_version": 3,
     "solution": true
    }
   },
   "outputs": [],
   "source": [
    "// VOTRE CODE ICI"
   ]
  },
  {
   "cell_type": "code",
   "execution_count": null,
   "metadata": {
    "deletable": false,
    "nbgrader": {
     "cell_type": "code",
     "checksum": "83e1148ea96c3a4f01d968121397cb4b",
     "grade": false,
     "grade_id": "cell-7e5ba48349f32c00",
     "locked": false,
     "schema_version": 3,
     "solution": true
    }
   },
   "outputs": [],
   "source": [
    "// VOTRE CODE ICI"
   ]
  },
  {
   "cell_type": "code",
   "execution_count": null,
   "metadata": {
    "deletable": false,
    "nbgrader": {
     "cell_type": "code",
     "checksum": "449d66382045a52a7718ce52c81a3d61",
     "grade": false,
     "grade_id": "cell-40ce2ba5515a4b3f",
     "locked": false,
     "schema_version": 3,
     "solution": true
    }
   },
   "outputs": [],
   "source": [
    "// VOTRE CODE ICI"
   ]
  },
  {
   "cell_type": "code",
   "execution_count": null,
   "metadata": {
    "deletable": false,
    "nbgrader": {
     "cell_type": "code",
     "checksum": "fbe0949f6693e012a0462dbdd4d748a6",
     "grade": false,
     "grade_id": "cell-5658ebbda24de111",
     "locked": false,
     "schema_version": 3,
     "solution": true
    }
   },
   "outputs": [],
   "source": [
    "// VOTRE CODE ICI"
   ]
  },
  {
   "cell_type": "markdown",
   "metadata": {
    "deletable": false,
    "editable": false,
    "nbgrader": {
     "cell_type": "markdown",
     "checksum": "82a5f4ed52f6c844d36a06ddea9541a5",
     "grade": false,
     "grade_id": "cell-d6b02ebdc5e27637",
     "locked": true,
     "schema_version": 3,
     "solution": false
    }
   },
   "source": [
    "Implanter la fonction suivante qui somme les valeurs $\\frac{x^i}{i!}$ jusqu'à ce que le résultat soit égal au précédent par rapport à la précision donnée."
   ]
  },
  {
   "cell_type": "code",
   "execution_count": null,
   "metadata": {
    "deletable": false,
    "nbgrader": {
     "cell_type": "code",
     "checksum": "d45da285fab73ed31030894f6761b6e4",
     "grade": false,
     "grade_id": "cell-5b6857150b2f0d95",
     "locked": false,
     "schema_version": 3,
     "solution": true
    }
   },
   "outputs": [],
   "source": [
    "/** Calcul de la fonction exponentielle à precision fixée\n",
    " * @param x un nombre de type double\n",
    " * @param epsilon un nombre de type double\n",
    " * @return e^x avec précision epsilon\n",
    "**/\n",
    "double expPrecision(double x, double epsilon) {\n",
    "    // VOTRE CODE ICI\n",
    "}"
   ]
  },
  {
   "cell_type": "code",
   "execution_count": null,
   "metadata": {
    "deletable": false,
    "editable": false,
    "nbgrader": {
     "cell_type": "code",
     "checksum": "c181420de39a3d84a7aa9da1c4024f6a",
     "grade": false,
     "grade_id": "cell-acdedc110ac3a389",
     "locked": true,
     "schema_version": 3,
     "solution": false,
     "task": false
    }
   },
   "outputs": [],
   "source": [
    "double epsilon = 0.000000001"
   ]
  },
  {
   "cell_type": "markdown",
   "metadata": {
    "deletable": false,
    "editable": false,
    "nbgrader": {
     "cell_type": "markdown",
     "checksum": "38da090f7192cb2e83c2d7dd41903d74",
     "grade": false,
     "grade_id": "cell-83bc9f0ce83996e3",
     "locked": true,
     "schema_version": 3,
     "solution": false,
     "task": false
    }
   },
   "source": [
    "Le calcul suivant devrait renvoyer 2.718282:"
   ]
  },
  {
   "cell_type": "code",
   "execution_count": null,
   "metadata": {
    "deletable": false,
    "editable": false,
    "nbgrader": {
     "cell_type": "code",
     "checksum": "14805f291bc97cc06f4686c02635b0e1",
     "grade": false,
     "grade_id": "cell-7c1f3a734b045e42",
     "locked": true,
     "schema_version": 3,
     "solution": false
    }
   },
   "outputs": [],
   "source": [
    "expPrecision(1, epsilon)"
   ]
  },
  {
   "cell_type": "markdown",
   "metadata": {
    "deletable": false,
    "editable": false,
    "nbgrader": {
     "cell_type": "markdown",
     "checksum": "ec09cd9bea4a91e0e82a42084a7a2314",
     "grade": false,
     "grade_id": "cell-76536f0d66f087bc",
     "locked": true,
     "schema_version": 3,
     "solution": false,
     "task": false
    }
   },
   "source": [
    "Il n'y a pas forcément suffisament de chiffres significatifs d'afficher pour le vérifier. Faisons à la place un test:"
   ]
  },
  {
   "cell_type": "code",
   "execution_count": null,
   "metadata": {
    "deletable": false,
    "editable": false,
    "nbgrader": {
     "cell_type": "code",
     "checksum": "2b9b692a6c8b830d8bb5b82b6097c578",
     "grade": true,
     "grade_id": "cell-f21a4cde086edd2b",
     "locked": true,
     "points": 1,
     "schema_version": 3,
     "solution": false,
     "task": false
    }
   },
   "outputs": [],
   "source": [
    "ASSERT( abs( expPrecision(1, epsilon) - 2.718282 ) < 1e-6 )"
   ]
  },
  {
   "cell_type": "code",
   "execution_count": null,
   "metadata": {
    "deletable": false,
    "editable": false,
    "nbgrader": {
     "cell_type": "code",
     "checksum": "35da8f4a349b7cb5d6d5d972d9b1ae80",
     "grade": true,
     "grade_id": "cell-4fb64a4278d2ce62",
     "locked": true,
     "points": 1,
     "schema_version": 3,
     "solution": false,
     "task": false
    }
   },
   "outputs": [],
   "source": [
    "ASSERT( abs( expPrecision(5, epsilon) - 148.413159 ) < 1e-6 )"
   ]
  },
  {
   "cell_type": "code",
   "execution_count": null,
   "metadata": {
    "deletable": false,
    "editable": false,
    "nbgrader": {
     "cell_type": "code",
     "checksum": "46d3e37093cddf5f4fd87c2eb6d52266",
     "grade": true,
     "grade_id": "cell-9841d2b60ca74549",
     "locked": true,
     "points": 1,
     "schema_version": 3,
     "solution": false,
     "task": false
    }
   },
   "outputs": [],
   "source": [
    "ASSERT( abs(expPrecision(3, epsilon) - 20.085537 ) < 1e-6 )"
   ]
  },
  {
   "cell_type": "markdown",
   "metadata": {
    "deletable": false,
    "editable": false,
    "nbgrader": {
     "cell_type": "markdown",
     "checksum": "b738d9b918e7ce9c5368d4baa51f02a7",
     "grade": false,
     "grade_id": "cell-f14c9177d33e54ce",
     "locked": true,
     "points": 1,
     "schema_version": 3,
     "solution": false,
     "task": true
    }
   },
   "source": [
    "Comparez vos résultat avec la fonction `exp` de C++ définie dans `cmath`"
   ]
  },
  {
   "cell_type": "code",
   "execution_count": null,
   "metadata": {
    "deletable": false,
    "editable": false,
    "nbgrader": {
     "cell_type": "code",
     "checksum": "2537f1aeb98505f096c75097b9b62f85",
     "grade": false,
     "grade_id": "cell-2586899de62aebf4",
     "locked": true,
     "schema_version": 3,
     "solution": false
    }
   },
   "outputs": [],
   "source": [
    "#include <cmath>"
   ]
  },
  {
   "cell_type": "code",
   "execution_count": null,
   "metadata": {},
   "outputs": [],
   "source": [
    "exp(5)"
   ]
  },
  {
   "cell_type": "code",
   "execution_count": null,
   "metadata": {},
   "outputs": [],
   "source": [
    "exp(3)"
   ]
  },
  {
   "cell_type": "markdown",
   "metadata": {
    "deletable": false,
    "editable": false,
    "nbgrader": {
     "cell_type": "markdown",
     "checksum": "9c41f6e79d5b8a3a288214ba74592b17",
     "grade": false,
     "grade_id": "cell-9b25311fb953a3d7",
     "locked": true,
     "schema_version": 3,
     "solution": false
    }
   },
   "source": [
    "## Bilan de la partie 4\n",
    "Très bien, vous avez implanté le calcul de la fonction exponentielle à précision fixée. Maintenant étudions sa performance en calculant son temps d'exécution:"
   ]
  },
  {
   "cell_type": "code",
   "execution_count": null,
   "metadata": {},
   "outputs": [],
   "source": [
    "%timeit expPrecision(10, 0.00000001);"
   ]
  },
  {
   "cell_type": "markdown",
   "metadata": {
    "deletable": false,
    "editable": false,
    "nbgrader": {
     "cell_type": "markdown",
     "checksum": "73a1f24f603082b4c28c4cb8645e480d",
     "grade": false,
     "grade_id": "cell-44bb7d35a9655256",
     "locked": true,
     "schema_version": 3,
     "solution": false
    }
   },
   "source": [
    " Dans la [partie 5](feuille2-exponentielle5.ipynb), vous tenterez d'optimiser cette implantation."
   ]
  }
 ],
 "metadata": {
  "kernelspec": {
   "display_name": "C++11",
   "language": "C++11",
   "name": "xcpp11"
  },
  "language_info": {
   "codemirror_mode": "text/x-c++src",
   "file_extension": ".cpp",
   "mimetype": "text/x-c++src",
   "name": "c++",
   "version": "-std=c++11"
  }
 },
 "nbformat": 4,
 "nbformat_minor": 2
}
