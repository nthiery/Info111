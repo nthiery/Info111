{
 "cells": [
  {
   "cell_type": "markdown",
   "metadata": {
    "deletable": false,
    "editable": false,
    "nbgrader": {
     "checksum": "6e5dbc477447644f93416cba679263ec",
     "grade": false,
     "grade_id": "cell-bf82401e988f816e",
     "locked": true,
     "schema_version": 1,
     "solution": false
    }
   },
   "source": [
    "Avant de terminer cette feuille, assurez-vous que tout fonctionne comme voulu. Tout d'abord, **redémarrez le noyau** (dans le menu, sélectionner `Kernel -> Restart`) puis **exécutez toutes les cellules** (dans le menu, sélectionner `Cell -> Run All`).\n",
    "\n",
    "Vérifiez que vous avez édité la cellule ci-dessous, ainsi que toutes les cellules marquées avec `VOTRE CODE ICI` ou `VOTRE RÉPONSE ICI`."
   ]
  },
  {
   "cell_type": "markdown",
   "metadata": {},
   "source": [
    "- Nom: \n",
    "- Prénom: \n",
    "- Groupe: "
   ]
  },
  {
   "cell_type": "markdown",
   "metadata": {
    "deletable": false,
    "editable": false,
    "nbgrader": {
     "checksum": "7dedc1faea795791862b6950ec000f0f",
     "grade": false,
     "grade_id": "cell-9aacd071eecda33d",
     "locked": true,
     "schema_version": 1,
     "solution": false
    }
   },
   "source": [
    "\n",
    "# TP4 - Implanter la fonction exponentielle"
   ]
  },
  {
   "cell_type": "markdown",
   "metadata": {
    "deletable": false,
    "editable": false,
    "nbgrader": {
     "checksum": "cd1088303778f1b867cc8e8662024736",
     "grade": false,
     "grade_id": "cell-fd5a373907e22622",
     "locked": true,
     "schema_version": 1,
     "solution": false
    }
   },
   "source": [
    "## Partie 4  : Calcul de l'exponentielle avec une précision relative fixée $\\clubsuit$"
   ]
  },
  {
   "cell_type": "markdown",
   "metadata": {
    "deletable": false,
    "editable": false,
    "nbgrader": {
     "checksum": "ec248c19eb32a88cc712d6998e495a46",
     "grade": false,
     "grade_id": "cell-0749edc234488c4e",
     "locked": true,
     "schema_version": 1,
     "solution": false
    }
   },
   "source": [
    "On cherche maintenant à calculer l'exponentielle en fixant la *précision* et non plus le rang."
   ]
  },
  {
   "cell_type": "markdown",
   "metadata": {
    "deletable": false,
    "editable": false,
    "nbgrader": {
     "checksum": "f0e5c3134b9038981506ef48361a63ac",
     "grade": false,
     "grade_id": "cell-3e4cb5925b030399",
     "locked": true,
     "schema_version": 1,
     "solution": false
    }
   },
   "source": [
    "Commencer par copier-coller dans les quatre cellules suivantes vos fonctions `puissance` et `factorielle` de la [partie 1](feuille2-exponentielle1.ipynb) ainsi que `abs` et `egal` de la [partie 3](feuille3-exponentielle.ipynb):"
   ]
  },
  {
   "cell_type": "code",
   "execution_count": null,
   "metadata": {
    "deletable": false,
    "nbgrader": {
     "checksum": "6164c09ae19d35cada09bfe47f2d2885",
     "grade": false,
     "grade_id": "cell-26c2f80b0554f206",
     "locked": false,
     "schema_version": 1,
     "solution": true
    }
   },
   "outputs": [],
   "source": [
    "// VOTRE CODE ICI"
   ]
  },
  {
   "cell_type": "code",
   "execution_count": null,
   "metadata": {
    "deletable": false,
    "nbgrader": {
     "checksum": "83e1148ea96c3a4f01d968121397cb4b",
     "grade": false,
     "grade_id": "cell-7e5ba48349f32c00",
     "locked": false,
     "schema_version": 1,
     "solution": true
    }
   },
   "outputs": [],
   "source": [
    "// VOTRE CODE ICI"
   ]
  },
  {
   "cell_type": "code",
   "execution_count": null,
   "metadata": {
    "deletable": false,
    "nbgrader": {
     "checksum": "449d66382045a52a7718ce52c81a3d61",
     "grade": false,
     "grade_id": "cell-40ce2ba5515a4b3f",
     "locked": false,
     "schema_version": 1,
     "solution": true
    }
   },
   "outputs": [],
   "source": [
    "// VOTRE CODE ICI"
   ]
  },
  {
   "cell_type": "code",
   "execution_count": null,
   "metadata": {
    "deletable": false,
    "nbgrader": {
     "checksum": "fbe0949f6693e012a0462dbdd4d748a6",
     "grade": false,
     "grade_id": "cell-5658ebbda24de111",
     "locked": false,
     "schema_version": 1,
     "solution": true
    }
   },
   "outputs": [],
   "source": [
    "// VOTRE CODE ICI"
   ]
  },
  {
   "cell_type": "markdown",
   "metadata": {
    "deletable": false,
    "editable": false,
    "nbgrader": {
     "checksum": "82a5f4ed52f6c844d36a06ddea9541a5",
     "grade": false,
     "grade_id": "cell-d6b02ebdc5e27637",
     "locked": true,
     "schema_version": 1,
     "solution": false
    }
   },
   "source": [
    "Implanter la fonction suivante qui somme les valeurs $\\frac{x^i}{i!}$ jusqu'à ce que le résultat soit égal au précédent par rapport à la précision donnée."
   ]
  },
  {
   "cell_type": "code",
   "execution_count": null,
   "metadata": {
    "deletable": false,
    "nbgrader": {
     "checksum": "d45da285fab73ed31030894f6761b6e4",
     "grade": false,
     "grade_id": "cell-5b6857150b2f0d95",
     "locked": false,
     "schema_version": 1,
     "solution": true
    }
   },
   "outputs": [],
   "source": [
    "/** Calcul de la fonction exponentielle à precision fixée\n",
    " * @param x un nombre de type double\n",
    " * @param epsilon un nombre de type double\n",
    " * @return e^x avec précision epsilon\n",
    "**/\n",
    "double expPrecision(double x, double epsilon) {\n",
    "    // VOTRE CODE ICI\n",
    "}"
   ]
  },
  {
   "cell_type": "code",
   "execution_count": null,
   "metadata": {
    "deletable": false,
    "editable": false,
    "nbgrader": {
     "checksum": "408e23b7b20c6258c2a880cf37c39744",
     "grade": false,
     "grade_id": "cell-4fb64a4278d2ce62",
     "locked": true,
     "schema_version": 1,
     "solution": false
    }
   },
   "outputs": [],
   "source": [
    "expPrecision(5,0.000000001) // doit valoir 148.413159"
   ]
  },
  {
   "cell_type": "code",
   "execution_count": null,
   "metadata": {
    "deletable": false,
    "editable": false,
    "nbgrader": {
     "checksum": "18fd67727f50386a3b042153c53db516",
     "grade": false,
     "grade_id": "cell-9841d2b60ca74549",
     "locked": true,
     "schema_version": 1,
     "solution": false
    }
   },
   "outputs": [],
   "source": [
    "expPrecision(3,0.000000001) // doit valoir 20.085537"
   ]
  },
  {
   "cell_type": "code",
   "execution_count": null,
   "metadata": {
    "deletable": false,
    "editable": false,
    "nbgrader": {
     "checksum": "908b1d3af7a5d627fc9cee59bf07cb25",
     "grade": false,
     "grade_id": "cell-7c1f3a734b045e41",
     "locked": true,
     "schema_version": 1,
     "solution": false
    }
   },
   "outputs": [],
   "source": [
    "expPrecision(1,0.000000001) // doit valoir 2.718282"
   ]
  },
  {
   "cell_type": "markdown",
   "metadata": {
    "deletable": false,
    "editable": false,
    "nbgrader": {
     "checksum": "b738d9b918e7ce9c5368d4baa51f02a7",
     "grade": false,
     "grade_id": "cell-f14c9177d33e54ce",
     "locked": true,
     "schema_version": 1,
     "solution": false
    }
   },
   "source": [
    "Comparez vos résultat avec la fonction `exp` de C++ définie dans `cmath`"
   ]
  },
  {
   "cell_type": "code",
   "execution_count": null,
   "metadata": {
    "deletable": false,
    "editable": false,
    "nbgrader": {
     "checksum": "2537f1aeb98505f096c75097b9b62f85",
     "grade": false,
     "grade_id": "cell-2586899de62aebf4",
     "locked": true,
     "schema_version": 1,
     "solution": false
    }
   },
   "outputs": [],
   "source": [
    "#include <cmath>"
   ]
  },
  {
   "cell_type": "code",
   "execution_count": null,
   "metadata": {},
   "outputs": [],
   "source": [
    "exp(5)"
   ]
  },
  {
   "cell_type": "code",
   "execution_count": null,
   "metadata": {},
   "outputs": [],
   "source": [
    "exp(3)"
   ]
  },
  {
   "cell_type": "markdown",
   "metadata": {
    "deletable": false,
    "editable": false,
    "nbgrader": {
     "checksum": "b7d0c6c46b9748ab497dffd3925d6360",
     "grade": false,
     "grade_id": "cell-9b25311fb953a3d7",
     "locked": true,
     "schema_version": 1,
     "solution": false
    }
   },
   "source": [
    "## Bilan de la partie 4\n",
    "Très bien, vous avez implanté le calcul de la fonction exponentielle à précision fixée. Maintenant étudions sa performance:"
   ]
  },
  {
   "cell_type": "code",
   "execution_count": null,
   "metadata": {},
   "outputs": [],
   "source": [
    "%timeit expPrecision(10, 0.00000001);"
   ]
  },
  {
   "cell_type": "markdown",
   "metadata": {
    "deletable": false,
    "editable": false,
    "nbgrader": {
     "checksum": "73a1f24f603082b4c28c4cb8645e480d",
     "grade": false,
     "grade_id": "cell-44bb7d35a9655256",
     "locked": true,
     "schema_version": 1,
     "solution": false
    }
   },
   "source": [
    " Dans la [partie 5](feuille2-exponentielle5.ipynb), vous tenterez d'optimiser cette implantation."
   ]
  }
 ],
 "metadata": {
  "kernelspec": {
   "display_name": "C++11",
   "language": "C++11",
   "name": "xcpp11"
  },
  "language_info": {
   "codemirror_mode": "text/x-c++src",
   "file_extension": ".cpp",
   "mimetype": "text/x-c++src",
   "name": "c++",
   "version": ""
  }
 },
 "nbformat": 4,
 "nbformat_minor": 2
}
