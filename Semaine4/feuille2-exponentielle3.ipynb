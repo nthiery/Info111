{
 "cells": [
  {
   "cell_type": "markdown",
   "metadata": {
    "deletable": false,
    "editable": false,
    "nbgrader": {
     "cell_type": "markdown",
     "checksum": "6e5dbc477447644f93416cba679263ec",
     "grade": false,
     "grade_id": "cell-bf82401e988f816e",
     "locked": true,
     "schema_version": 3,
     "solution": false
    }
   },
   "source": [
    "Avant de terminer cette feuille, assurez-vous que tout fonctionne comme voulu. Tout d'abord, **redémarrez le noyau** (dans le menu, sélectionner `Kernel -> Restart`) puis **exécutez toutes les cellules** (dans le menu, sélectionner `Cell -> Run All`).\n",
    "\n",
    "Vérifiez que vous avez édité la cellule ci-dessous, ainsi que toutes les cellules marquées avec `VOTRE CODE ICI` ou `VOTRE RÉPONSE ICI`."
   ]
  },
  {
   "cell_type": "markdown",
   "metadata": {},
   "source": [
    "- Nom: \n",
    "- Prénom: \n",
    "- Groupe: "
   ]
  },
  {
   "cell_type": "markdown",
   "metadata": {
    "deletable": false,
    "editable": false,
    "nbgrader": {
     "cell_type": "markdown",
     "checksum": "b4fcb01c7bfc365cc1b3b17b01e9f00c",
     "grade": false,
     "grade_id": "cell-ffce5d69407bd085",
     "locked": true,
     "schema_version": 3,
     "solution": false
    }
   },
   "source": [
    "# TP4 - Implanter la fonction exponentielle"
   ]
  },
  {
   "cell_type": "markdown",
   "metadata": {
    "deletable": false,
    "editable": false,
    "nbgrader": {
     "cell_type": "markdown",
     "checksum": "a64f39a6b2890335f3eb64637915060d",
     "grade": false,
     "grade_id": "cell-ba70cc528a726649",
     "locked": true,
     "schema_version": 3,
     "solution": false
    }
   },
   "source": [
    "## Partie 3 : Comparaison de nombres flottants et précision relative\n",
    "\n",
    "Sur les nombres flottants (`float` ou `double`) l'opérateur `==` n'est pas toujours très fiable à cause des erreurs d'arrondis:"
   ]
  },
  {
   "cell_type": "code",
   "execution_count": null,
   "metadata": {
    "deletable": false,
    "editable": false,
    "nbgrader": {
     "cell_type": "code",
     "checksum": "1e636b99e82d325870440aed2894f08c",
     "grade": false,
     "grade_id": "cell-357388e8811e8887",
     "locked": true,
     "schema_version": 3,
     "solution": false
    }
   },
   "outputs": [],
   "source": [
    "1.0 + 1e20 - 1e20 == 1e20 - 1e20 + 1.0"
   ]
  },
  {
   "cell_type": "markdown",
   "metadata": {
    "deletable": false,
    "nbgrader": {
     "cell_type": "markdown",
     "checksum": "6d63a15e4288192f852cd08a31a0aeaf",
     "grade": true,
     "grade_id": "cell-2ba595671ff56d54",
     "locked": false,
     "points": 1,
     "schema_version": 3,
     "solution": true
    }
   },
   "source": [
    "Exécutez les 5 cellules suivantes. Que constatez-vous ?\n",
    "\n",
    "VOTRE RÉPONSE ICI"
   ]
  },
  {
   "cell_type": "code",
   "execution_count": null,
   "metadata": {
    "deletable": false,
    "editable": false,
    "nbgrader": {
     "cell_type": "code",
     "checksum": "0aa154808a718050f75784ffd1e85186",
     "grade": false,
     "grade_id": "cell-9822d857d4e81d79",
     "locked": true,
     "schema_version": 3,
     "solution": false
    }
   },
   "outputs": [],
   "source": [
    "double a,b;"
   ]
  },
  {
   "cell_type": "code",
   "execution_count": null,
   "metadata": {
    "deletable": false,
    "editable": false,
    "nbgrader": {
     "cell_type": "code",
     "checksum": "c20e8d87557a1145821afa8bdbd569fa",
     "grade": false,
     "grade_id": "cell-d98a79aa643b191e",
     "locked": true,
     "schema_version": 3,
     "solution": false
    }
   },
   "outputs": [],
   "source": [
    "a = 16;\n",
    "b = 15.99999999999;"
   ]
  },
  {
   "cell_type": "code",
   "execution_count": null,
   "metadata": {
    "deletable": false,
    "editable": false,
    "nbgrader": {
     "cell_type": "code",
     "checksum": "e91e01eba95383e91c63ae2b9fbf812d",
     "grade": false,
     "grade_id": "cell-14c516a6791b2309",
     "locked": true,
     "schema_version": 3,
     "solution": false
    }
   },
   "outputs": [],
   "source": [
    "a"
   ]
  },
  {
   "cell_type": "code",
   "execution_count": null,
   "metadata": {
    "deletable": false,
    "editable": false,
    "nbgrader": {
     "cell_type": "code",
     "checksum": "b80af210b01b89dea73d35fcd75ac953",
     "grade": false,
     "grade_id": "cell-e1b28a8439e86689",
     "locked": true,
     "schema_version": 3,
     "solution": false
    }
   },
   "outputs": [],
   "source": [
    "b"
   ]
  },
  {
   "cell_type": "code",
   "execution_count": null,
   "metadata": {
    "deletable": false,
    "editable": false,
    "nbgrader": {
     "cell_type": "code",
     "checksum": "eb4acdc9ae85cfdafcb2d462375eccbb",
     "grade": false,
     "grade_id": "cell-659691632843cfcb",
     "locked": true,
     "schema_version": 3,
     "solution": false
    }
   },
   "outputs": [],
   "source": [
    "(a == b)"
   ]
  },
  {
   "cell_type": "markdown",
   "metadata": {
    "deletable": false,
    "editable": false,
    "nbgrader": {
     "cell_type": "markdown",
     "checksum": "1c31a8c5672c6ea5caf32df267a34d53",
     "grade": false,
     "grade_id": "cell-5017bdc388a2f6c4",
     "locked": true,
     "schema_version": 3,
     "solution": false
    }
   },
   "source": [
    "### Définition: *précision relative*\n",
    "Aussi, chaque fois que l'on veut comparer deux nombres flottants, il faut spécifier avec quelle **précision** on veut les comparer. Comme on manipule certaines fois des nombres très grands et d'autres fois des nombres très petits, ce qui compte c'est la précision relative: le nombre de chiffres significatifs en communs.\n",
    "\n",
    "Par exemple, si on veut comparer $x$ et $y$ avec une précision relative de cinq chiffres significatifs, on prendra $\\varepsilon=10^{-5}=0.00001$, et on dira que $x$ est égal à $y$ à $\\varepsilon$ près si:\n",
    "$$ |x - y| < \\varepsilon|x| \\qquad \\text{et} \\qquad |x - y| < \\varepsilon |y|$$\n",
    "Moralement: la différence entre $x$ et $y$ est négligeable devant $x$ et devant $y$."
   ]
  },
  {
   "cell_type": "markdown",
   "metadata": {
    "deletable": false,
    "editable": false,
    "nbgrader": {
     "cell_type": "markdown",
     "checksum": "6a94bb9748b79f3249f2feffceb062a2",
     "grade": false,
     "grade_id": "cell-55c9c5c79654d21b",
     "locked": true,
     "schema_version": 3,
     "solution": false
    }
   },
   "source": [
    "### Implantation\n",
    "Implanter les deux fonctions suivantes dont on vous donne la documentation :\n",
    " * `abs` mais qui prend cette fois en paramètre un `double` et retourne un `double`\n",
    " * `egal` qui prend en paramètre les nombres $x$, $y$ et $\\varepsilon$."
   ]
  },
  {
   "cell_type": "code",
   "execution_count": null,
   "metadata": {
    "deletable": false,
    "nbgrader": {
     "cell_type": "code",
     "checksum": "7ad58ca1f06adf262b7fc77d33e2e7f7",
     "grade": false,
     "grade_id": "cell-aa46c278f72ba400",
     "locked": false,
     "schema_version": 3,
     "solution": true
    }
   },
   "outputs": [],
   "source": [
    "/** Valeur absolue pour type double\n",
    " * @param x un nombre de type double\n",
    " * @return la valeur absolue de x\n",
    "**/\n",
    "// VOTRE CODE ICI"
   ]
  },
  {
   "cell_type": "code",
   "execution_count": null,
   "metadata": {},
   "outputs": [],
   "source": [
    "abs(-1.5)"
   ]
  },
  {
   "cell_type": "code",
   "execution_count": null,
   "metadata": {
    "deletable": false,
    "editable": false,
    "nbgrader": {
     "cell_type": "code",
     "checksum": "3dac961174cf9219e3017cacf44d8b1b",
     "grade": true,
     "grade_id": "cell-abf252519d9a3950",
     "locked": true,
     "points": 1,
     "schema_version": 3,
     "solution": false
    }
   },
   "outputs": [],
   "source": [
    "ASSERT( abs(-1.5) == 1.5 );\n",
    "ASSERT( abs( 2.2) == 2.2 );"
   ]
  },
  {
   "cell_type": "code",
   "execution_count": null,
   "metadata": {
    "deletable": false,
    "nbgrader": {
     "cell_type": "code",
     "checksum": "1a8ce3571e39cfe79ea449331138c6c9",
     "grade": false,
     "grade_id": "cell-f6efe81b76dfe516",
     "locked": false,
     "schema_version": 3,
     "solution": true
    }
   },
   "outputs": [],
   "source": [
    "/** Égalité entre deux flottants avec précision relative\n",
    " * @param x un nombre de type double\n",
    " * @param y un nombre de type double\n",
    " * @param epsilon un nombre de type double\n",
    " * @return true si la valeur absolue de x - y est plus petite que epsilon * |x| et que epsilon * |y|\n",
    "**/\n",
    "// VOTRE CODE ICI"
   ]
  },
  {
   "cell_type": "code",
   "execution_count": null,
   "metadata": {},
   "outputs": [],
   "source": [
    "egal(15.999999, 16,0.00001)"
   ]
  },
  {
   "cell_type": "code",
   "execution_count": null,
   "metadata": {
    "deletable": false,
    "editable": false,
    "nbgrader": {
     "cell_type": "code",
     "checksum": "4a0b6cd7e28c36b490bf95464877346a",
     "grade": true,
     "grade_id": "cell-da8592649f3234ef",
     "locked": true,
     "points": 1,
     "schema_version": 3,
     "solution": false
    }
   },
   "outputs": [],
   "source": [
    "ASSERT( egal(15.999999, 16, 0.00001) == true  );\n",
    "ASSERT( egal(15.99, 16, 0.00001)     == false );"
   ]
  },
  {
   "cell_type": "markdown",
   "metadata": {
    "deletable": false,
    "editable": false,
    "nbgrader": {
     "cell_type": "markdown",
     "checksum": "f2c09f893d6f2b7430172790de220806",
     "grade": false,
     "grade_id": "cell-29e58e1837c86ada",
     "locked": true,
     "schema_version": 3,
     "solution": false
    }
   },
   "source": [
    "Trouver des valeurs de `epsilon` telles que les nombres ci-dessous soient considérés comme égaux par `egal`:"
   ]
  },
  {
   "cell_type": "code",
   "execution_count": null,
   "metadata": {},
   "outputs": [],
   "source": [
    "egal(15, 16, 0.001)"
   ]
  },
  {
   "cell_type": "code",
   "execution_count": null,
   "metadata": {},
   "outputs": [],
   "source": [
    "egal(0.0001, 0.002, 0.00001)"
   ]
  },
  {
   "cell_type": "markdown",
   "metadata": {
    "deletable": false,
    "nbgrader": {
     "cell_type": "markdown",
     "checksum": "a1a220b4380b467735d1926fd32fdf4c",
     "grade": true,
     "grade_id": "cell-fd99a546db74023d",
     "locked": false,
     "points": 1,
     "schema_version": 3,
     "solution": true
    }
   },
   "source": [
    "Que se passe-t-il lorsque $x$ ou $y$ valent 0 ?\n",
    "\n",
    "VOTRE RÉPONSE ICI"
   ]
  },
  {
   "cell_type": "code",
   "execution_count": null,
   "metadata": {},
   "outputs": [],
   "source": [
    "egal(0.00001, 0, 0.0000001)"
   ]
  },
  {
   "cell_type": "markdown",
   "metadata": {},
   "source": [
    "## Bilan de la partie 3\n",
    "Maintenant que la notion de précision relative est bien définie, et que vous avez implanté la comparaison de nombres flottants avec une précision relative fixée, vous pouvez passer à la [partie 4](feuille2-exponentielle4.ipynb)."
   ]
  }
 ],
 "metadata": {
  "kernelspec": {
   "display_name": "C++11",
   "language": "C++11",
   "name": "xcpp11"
  },
  "language_info": {
   "codemirror_mode": "text/x-c++src",
   "file_extension": ".cpp",
   "mimetype": "text/x-c++src",
   "name": "c++",
   "version": "-std=c++11"
  }
 },
 "nbformat": 4,
 "nbformat_minor": 2
}
