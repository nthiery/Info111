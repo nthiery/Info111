{
 "cells": [
  {
   "cell_type": "markdown",
   "metadata": {
    "deletable": false,
    "editable": false,
    "nbgrader": {
     "checksum": "6e5dbc477447644f93416cba679263ec",
     "grade": false,
     "grade_id": "cell-bf82401e988f816e",
     "locked": true,
     "schema_version": 1,
     "solution": false
    }
   },
   "source": [
    "Avant de terminer cette feuille, assurez-vous que tout fonctionne comme voulu. Tout d'abord, **redémarrez le noyau** (dans le menu, sélectionner `Kernel -> Restart`) puis **exécutez toutes les cellules** (dans le menu, sélectionner `Cell -> Run All`).\n",
    "\n",
    "Vérifiez que vous avez édité la cellule ci-dessous, ainsi que toutes les cellules marquées avec `VOTRE CODE ICI` ou `VOTRE RÉPONSE ICI`."
   ]
  },
  {
   "cell_type": "markdown",
   "metadata": {},
   "source": [
    "- Nom: \n",
    "- Prénom: \n",
    "- Groupe: "
   ]
  },
  {
   "cell_type": "markdown",
   "metadata": {
    "deletable": false,
    "editable": false,
    "nbgrader": {
     "checksum": "88cfbb718f4785a3c7884b3e85400a86",
     "grade": false,
     "grade_id": "cell-a5a96caf0e3314b2",
     "locked": true,
     "schema_version": 1,
     "solution": false
    }
   },
   "source": [
    "\n",
    "# TP 4 - Implanter la fonction exponentielle"
   ]
  },
  {
   "cell_type": "markdown",
   "metadata": {
    "deletable": false,
    "editable": false,
    "nbgrader": {
     "checksum": "61922b78a00b8013f252351713851c2f",
     "grade": false,
     "grade_id": "cell-bc097d26c9102dde",
     "locked": true,
     "schema_version": 1,
     "solution": false
    }
   },
   "source": [
    "## Partie 5 : Optimisation $\\clubsuit$\n",
    "\n",
    "Dans ce cas précis, il n'est pas très efficace de réutiliser les fonctions `puissance` et `factorielle` : on effectue les calculs plusieurs fois ! En effet pour calculer $x^{r+1}$ on doit à nouveau calculer $x^r$. "
   ]
  },
  {
   "cell_type": "markdown",
   "metadata": {
    "deletable": false,
    "editable": false,
    "nbgrader": {
     "checksum": "230b2c370e08cc69b1d5266f128d7712",
     "grade": false,
     "grade_id": "cell-6d56e4530ad5eb9d",
     "locked": true,
     "schema_version": 1,
     "solution": false
    }
   },
   "source": [
    "Copier-coller ici les fonctions `abs` et `egal` de la [partie 3](feuille2-exponentielle3.ipynb):"
   ]
  },
  {
   "cell_type": "code",
   "execution_count": null,
   "metadata": {
    "deletable": false,
    "nbgrader": {
     "checksum": "6de14db33a845deb5500f878f62f6ecb",
     "grade": false,
     "grade_id": "cell-11c71a2c606e0da6",
     "locked": false,
     "schema_version": 1,
     "solution": true
    }
   },
   "outputs": [],
   "source": [
    "// VOTRE CODE ICI"
   ]
  },
  {
   "cell_type": "code",
   "execution_count": null,
   "metadata": {
    "deletable": false,
    "nbgrader": {
     "checksum": "39ab74184fd198fa1490c9bb74504ee3",
     "grade": false,
     "grade_id": "cell-f8b3f1f99b27afb6",
     "locked": false,
     "schema_version": 1,
     "solution": true
    }
   },
   "outputs": [],
   "source": [
    "// VOTRE CODE ICI"
   ]
  },
  {
   "cell_type": "markdown",
   "metadata": {},
   "source": [
    "Compléter la fonction ci-dessous qui calcule l'exponentielle à précision donnée **sans** utiliser de fonction annexe (sauf `egal`), et en procédant de façon plus efficace. Pour cela, vous aurez besoin de trois variables d'accumulations : celle de la puissance, celle de la factorielle et celle de l'exponentielle."
   ]
  },
  {
   "cell_type": "code",
   "execution_count": null,
   "metadata": {
    "deletable": false,
    "nbgrader": {
     "checksum": "9a4c8e16ee219529f794597c072cb244",
     "grade": false,
     "grade_id": "cell-303a8716a80dcc32",
     "locked": false,
     "schema_version": 1,
     "solution": true
    }
   },
   "outputs": [],
   "source": [
    "/** Calcul rapide de la fonction exponentielle à précision donnée\n",
    " * @param x un nombre de type double\n",
    " * @param epsilon un nombre de type double\n",
    " * @return e^x avec précision epsilon\n",
    "**/\n",
    "double expRapide(double x, double epsilon) {\n",
    "    // VOTRE CODE ICI\n",
    "}"
   ]
  },
  {
   "cell_type": "code",
   "execution_count": null,
   "metadata": {
    "deletable": false,
    "editable": false,
    "nbgrader": {
     "checksum": "7411e87f385b8f8b237d2f53a23824b9",
     "grade": false,
     "grade_id": "cell-c96d4c17c02ce941",
     "locked": true,
     "schema_version": 1,
     "solution": false
    }
   },
   "outputs": [],
   "source": [
    "expRapide(5,0.000000001) // 148.413159"
   ]
  },
  {
   "cell_type": "code",
   "execution_count": null,
   "metadata": {
    "deletable": false,
    "editable": false,
    "nbgrader": {
     "checksum": "65cd6b5a81c9e8afc91c5e263025691d",
     "grade": false,
     "grade_id": "cell-733b09f1d02a12cf",
     "locked": true,
     "schema_version": 1,
     "solution": false
    }
   },
   "outputs": [],
   "source": [
    "expRapide(3,0.000000001) // 20.085537"
   ]
  },
  {
   "cell_type": "code",
   "execution_count": null,
   "metadata": {
    "deletable": false,
    "editable": false,
    "nbgrader": {
     "checksum": "97579d2c7037ada2ce18d21aa4f61fba",
     "grade": false,
     "grade_id": "cell-54872c873b619fe1",
     "locked": true,
     "schema_version": 1,
     "solution": false
    }
   },
   "outputs": [],
   "source": [
    "expRapide(1,0.000000001) // 2.718282"
   ]
  },
  {
   "cell_type": "markdown",
   "metadata": {
    "deletable": false,
    "editable": false,
    "nbgrader": {
     "checksum": "e86a82ebe4582bd5bb453c69c21e7fca",
     "grade": false,
     "grade_id": "cell-765bea92acc94ff3",
     "locked": true,
     "schema_version": 1,
     "solution": false
    }
   },
   "source": [
    "Est-ce vraiment plus rapide? Utilisons à nouveau `timeit`:"
   ]
  },
  {
   "cell_type": "code",
   "execution_count": null,
   "metadata": {},
   "outputs": [],
   "source": [
    "%timeit expRapide(10, 0.00000001);"
   ]
  },
  {
   "cell_type": "markdown",
   "metadata": {
    "deletable": false,
    "editable": false,
    "nbgrader": {
     "checksum": "f224c1ab2610f9c4894d3eaeca73c35b",
     "grade": false,
     "grade_id": "cell-54073acf05987882",
     "locked": true,
     "schema_version": 1,
     "solution": false
    }
   },
   "source": [
    "## Bilan\n",
    "\n",
    "Vous avez maintenant une implantation nettement plus rapide de la fonction exponentielle.\n",
    "Faut il pour autant toujours tout réimplanter plutôt que de réutiliser? Non, surtout pas:\n",
    "\n",
    "*«Early optimisation is the root of all evil»* (Donald Knuth)\n",
    "\n",
    "Ici, on pourrait par exemple obtenir les même performances sans duplication de code par *mémoisation* (conserver les valeurs déjà calculées de $n!$ et $x^n$ pour éviter de les recalculer). En général, c'est à traiter au cas par cas, en tenant compte du compromis entre temps de dévelopement et performances requises, des questions de complexité (cf cours à venir), etc."
   ]
  },
  {
   "cell_type": "markdown",
   "metadata": {
    "deletable": false,
    "editable": false,
    "nbgrader": {
     "checksum": "cefaa97225a8534afe00c17bcfdd9c9d",
     "grade": false,
     "grade_id": "cell-c367cfa1df22e874",
     "locked": true,
     "schema_version": 1,
     "solution": false
    }
   },
   "source": [
    "Vous pouvez maintenant passer à la suite du TP."
   ]
  }
 ],
 "metadata": {
  "kernelspec": {
   "display_name": "C++11",
   "language": "C++11",
   "name": "xcpp11"
  },
  "language_info": {
   "codemirror_mode": "text/x-c++src",
   "file_extension": ".cpp",
   "mimetype": "text/x-c++src",
   "name": "c++",
   "version": ""
  }
 },
 "nbformat": 4,
 "nbformat_minor": 2
}
